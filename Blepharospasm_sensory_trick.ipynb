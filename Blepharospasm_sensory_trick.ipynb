{
  "nbformat": 4,
  "nbformat_minor": 0,
  "metadata": {
    "colab": {
      "provenance": [],
      "authorship_tag": "ABX9TyP5m8PgRnWFA9WfneF0Yb32",
      "include_colab_link": true
    },
    "kernelspec": {
      "name": "python3",
      "display_name": "Python 3"
    },
    "language_info": {
      "name": "python"
    }
  },
  "cells": [
    {
      "cell_type": "markdown",
      "metadata": {
        "id": "view-in-github",
        "colab_type": "text"
      },
      "source": [
        "<a href=\"https://colab.research.google.com/github/ykitaguchi77/statistics_for_articles/blob/main/Blepharospasm_sensory_trick.ipynb\" target=\"_parent\"><img src=\"https://colab.research.google.com/assets/colab-badge.svg\" alt=\"Open In Colab\"/></a>"
      ]
    },
    {
      "cell_type": "markdown",
      "source": [
        "#**Blepharospasm_sensory_trick**"
      ],
      "metadata": {
        "id": "S4dO3kQu7fYE"
      }
    },
    {
      "cell_type": "code",
      "execution_count": 2,
      "metadata": {
        "colab": {
          "base_uri": "https://localhost:8080/"
        },
        "id": "llT-b5mc6qD7",
        "outputId": "293403a6-5674-4b4f-e513-de99ecb3d403"
      },
      "outputs": [
        {
          "output_type": "stream",
          "name": "stdout",
          "text": [
            "Drive already mounted at /content/drive; to attempt to forcibly remount, call drive.mount(\"/content/drive\", force_remount=True).\n"
          ]
        }
      ],
      "source": [
        "# prompt: gdriveをマウント\n",
        "\n",
        "from google.colab import drive\n",
        "drive.mount('/content/drive')"
      ]
    },
    {
      "cell_type": "code",
      "source": [
        "import pandas as pd\n",
        "import scipy.stats as stats\n",
        "import matplotlib.pyplot as plt\n",
        "import re\n",
        "\n",
        "# Load the dataset\n",
        "file_path = \"/content/drive/MyDrive/発表/2025神経眼科学会/知覚トリックの頻度調査.xlsx\"\n",
        "df = pd.read_excel(file_path, sheet_name='Data')\n",
        "\n",
        "# Filter Type 0 & 1 and ensure required columns\n",
        "df_filtered = df[['Type', 'Age', 'Sex']].dropna(subset=['Type', 'Age', 'Sex'])\n",
        "df_filtered = df_filtered[df_filtered['Type'].isin([0, 1])]\n",
        "\n",
        "# Map to condition and sex labels\n",
        "condition_map = {0: 'Hemifacial spasm', 1: 'Blepharospasm'}\n",
        "sex_map = {0: 'Male', 1: 'Female'}\n",
        "df_filtered['Condition'] = df_filtered['Type'].map(condition_map)\n",
        "df_filtered['Sex_label'] = df_filtered['Sex'].map(sex_map)\n",
        "\n",
        "# ------------------------------\n",
        "# Sex distribution table\n",
        "# ------------------------------\n",
        "sex_counts = pd.crosstab(df_filtered['Condition'], df_filtered['Sex_label'])\n",
        "sex_pct = (sex_counts.div(sex_counts.sum(axis=1), axis=0) * 100).round(1)\n",
        "sex_table = pd.concat([sex_counts, sex_pct.add_suffix(' (%)')], axis=1)\n",
        "\n",
        "print(sex_table)\n",
        "\n",
        "# ------------------------------\n",
        "# Statistical tests\n",
        "# ------------------------------\n",
        "# Age: Mann-Whitney U\n",
        "ages_hfs = df_filtered[df_filtered['Condition'] == 'Hemifacial spasm']['Age']\n",
        "ages_bep = df_filtered[df_filtered['Condition'] == 'Blepharospasm']['Age']\n",
        "u_stat, p_age = stats.mannwhitneyu(ages_hfs, ages_bep, alternative='two-sided')\n",
        "\n",
        "# Sex: Chi-square test\n",
        "chi2_stat, chi2_p, _, _ = stats.chi2_contingency(sex_counts)\n",
        "\n",
        "print(f\"Age (Mann–Whitney U): U = {u_stat:.1f}, p = {p_age:.4f}\")\n",
        "print(f\"Sex (Chi‑square): χ² = {chi2_stat:.2f}, p = {chi2_p:.4f}\")\n",
        "\n",
        "# Boxplot\n",
        "plt.figure()\n",
        "conditions_order = ['Hemifacial spasm', 'Blepharospasm']\n",
        "box_data = [df_filtered[df_filtered['Condition'] == c]['Age'] for c in conditions_order]\n",
        "plt.boxplot(box_data, labels=conditions_order, showfliers=True)\n",
        "plt.ylabel('Age')\n",
        "plt.title('Age Distribution by Condition (Boxplot)')\n",
        "plt.tight_layout()\n",
        "plt.show()\n"
      ],
      "metadata": {
        "colab": {
          "base_uri": "https://localhost:8080/",
          "height": 654
        },
        "id": "Ch3Co0giMVSc",
        "outputId": "b3941031-e17c-4b34-d984-4fec5f749a0f"
      },
      "execution_count": 12,
      "outputs": [
        {
          "output_type": "stream",
          "name": "stdout",
          "text": [
            "Sex_label         Female  Male  Female (%)  Male (%)\n",
            "Condition                                           \n",
            "Blepharospasm         23     9        71.9      28.1\n",
            "Hemifacial spasm      11     6        64.7      35.3\n",
            "Age (Mann–Whitney U): U = 422.0, p = 0.0017\n",
            "Sex (Chi‑square): χ² = 0.04, p = 0.8472\n"
          ]
        },
        {
          "output_type": "stream",
          "name": "stderr",
          "text": [
            "/tmp/ipython-input-12-1973009975.py:47: MatplotlibDeprecationWarning: The 'labels' parameter of boxplot() has been renamed 'tick_labels' since Matplotlib 3.9; support for the old name will be dropped in 3.11.\n",
            "  plt.boxplot(box_data, labels=conditions_order, showfliers=True)\n"
          ]
        },
        {
          "output_type": "display_data",
          "data": {
            "text/plain": [
              "<Figure size 640x480 with 1 Axes>"
            ],
            "image/png": "[encoded data removed]"
          },
          "metadata": {}
        }
      ]
    },
    {
      "cell_type": "code",
      "source": [
        "# Clean column names (strip leading/trailing spaces)\n",
        "df.columns = df.columns.str.strip()\n",
        "\n",
        "# --- Filter to Type 1 (Blepharospasm) ---\n",
        "bleph = df[df['Type'] == 1].copy()\n",
        "n_total = len(bleph)\n",
        "\n",
        "# --- Age summary ---\n",
        "age_stats = bleph['Age'].describe()\n",
        "age_iqr = age_stats['75%'] - age_stats['25%']\n",
        "age_summary_df = pd.DataFrame({\n",
        "    'Count': [int(age_stats['count'])],\n",
        "    'Mean': [age_stats['mean']],\n",
        "    'Median': [age_stats['50%']],\n",
        "    'Std': [age_stats['std']],\n",
        "    'IQR': [age_iqr]\n",
        "})\n",
        "print(age_summary_df)\n",
        "\n",
        "# --- Sex distribution ---\n",
        "sex_map = {0: 'Male', 1: 'Female'}\n",
        "bleph['Sex_label'] = bleph['Sex'].map(sex_map)\n",
        "sex_counts = bleph['Sex_label'].value_counts(dropna=False)\n",
        "sex_pct = (sex_counts / n_total * 100).round(1)\n",
        "sex_df = pd.DataFrame({'Count': sex_counts, 'Percent': sex_pct})\n",
        "print(sex_df)\n",
        "\n",
        "# --- Numeric variables summary ---\n",
        "num_vars = ['Duration', 'Interval', 'Botox_unit']\n",
        "summary_rows = []\n",
        "for var in num_vars:\n",
        "    s = bleph[var].describe()\n",
        "    summary_rows.append({\n",
        "        'Variable': var,\n",
        "        'Count': int(s['count']),\n",
        "        'Mean': s['mean'],\n",
        "        'Median': s['50%'],\n",
        "        'Std': s['std'],\n",
        "        'IQR': s['75%'] - s['25%']\n",
        "    })\n",
        "num_summary_df = pd.DataFrame(summary_rows)\n",
        "print(num_summary_df)\n",
        "\n",
        "# --- Categorical variables summary ---\n",
        "cat_vars = ['Botox_abovebrow', 'Botox_glabellar']\n",
        "cat_summary_rows = []\n",
        "for var in cat_vars:\n",
        "    counts = bleph[var].value_counts(dropna=False)\n",
        "    pct = (counts / n_total * 100).round(1)\n",
        "    for category, count in counts.items():\n",
        "        cat_summary_rows.append({\n",
        "            'Variable': var,\n",
        "            'Category': category,\n",
        "            'Count': count,\n",
        "            'Percent': pct[category]\n",
        "        })\n",
        "cat_summary_df = pd.DataFrame(cat_summary_rows)\n",
        "print(cat_summary_df)\n",
        "\n",
        "# --- Sensory trick presence ---\n",
        "bleph['Sensory_trick_present'] = (\n",
        "    (bleph['SensoryTrick_temple'] == 1) |\n",
        "    (bleph['SensoryTrick_subbrow'] == 1)\n",
        ").astype(float)\n",
        "\n",
        "sens_counts = bleph['Sensory_trick_present'].value_counts(dropna=False)\n",
        "sens_pct = (sens_counts / n_total * 100).round(1)\n",
        "sense_df = pd.DataFrame({'Count': sens_counts, 'Percent': sens_pct})\n",
        "print(sense_df)\n",
        "\n",
        "# --- Subset Type 1 (Blepharospasm) ---\n",
        "bleph = df[df['Type'] == 1].copy()\n",
        "n_total = len(bleph)\n",
        "\n",
        "# --- Surgery history flag from \"History\" column ---\n",
        "def has_surgery(val):\n",
        "    if pd.isna(val):\n",
        "        return 'No'\n",
        "    # numeric zero (int/float) or string '0'\n",
        "    if isinstance(val, (int, float)) and val == 0:\n",
        "        return 'No'\n",
        "    if isinstance(val, str) and re.fullmatch(r'\\s*0\\s*', val):\n",
        "        return 'No'\n",
        "    return 'Yes'\n",
        "\n",
        "bleph['Surgery_history'] = bleph['History'].apply(has_surgery)\n",
        "\n",
        "# --- Surgery history distribution ---\n",
        "hist_counts = bleph['Surgery_history'].value_counts(dropna=False)\n",
        "hist_pct = (hist_counts / n_total * 100).round(1)\n",
        "hist_df = pd.DataFrame({'Count': hist_counts, 'Percent': hist_pct})\n",
        "print(hist_df)\n",
        "\n",
        "# --- Numeric summaries by surgery history ---\n",
        "num_vars = ['Duration', 'Interval']\n",
        "summary_rows = []\n",
        "for var in num_vars:\n",
        "    for grp, grp_df in bleph.groupby('Surgery_history'):\n",
        "        s = grp_df[var].describe()\n",
        "        summary_rows.append({\n",
        "            'Variable': var,\n",
        "            'Surgery_history': grp,\n",
        "            'Count': int(s['count']),\n",
        "            'Mean': s['mean'],\n",
        "            'Median': s['50%'],\n",
        "            'Std': s['std'],\n",
        "            'IQR': s['75%'] - s['25%']\n",
        "        })\n",
        "summary_df = pd.DataFrame(summary_rows)\n",
        "print(summary_df)\n"
      ],
      "metadata": {
        "colab": {
          "base_uri": "https://localhost:8080/"
        },
        "id": "9i34DZbU8Jya",
        "outputId": "e840037e-6158-46ae-e404-2256d7854854"
      },
      "execution_count": 13,
      "outputs": [
        {
          "output_type": "stream",
          "name": "stdout",
          "text": [
            "   Count      Mean  Median        Std   IQR\n",
            "0     32  68.03125    68.5  10.923441  14.0\n",
            "           Count  Percent\n",
            "Sex_label                \n",
            "Female        23     71.9\n",
            "Male           9     28.1\n",
            "     Variable  Count        Mean  Median        Std      IQR\n",
            "0    Duration     32  107.500000   110.0  58.151637  114.000\n",
            "1    Interval     32    3.375000     3.0   1.047270    0.625\n",
            "2  Botox_unit     32   40.398438    40.0   8.262786   15.000\n",
            "          Variable  Category  Count  Percent\n",
            "0  Botox_abovebrow       1.0     22     68.8\n",
            "1  Botox_abovebrow       0.0     10     31.2\n",
            "2  Botox_glabellar       1.0     17     53.1\n",
            "3  Botox_glabellar       0.0     15     46.9\n",
            "                       Count  Percent\n",
            "Sensory_trick_present                \n",
            "1.0                       21     65.6\n",
            "0.0                       11     34.4\n",
            "                 Count  Percent\n",
            "Surgery_history                \n",
            "No                  20     62.5\n",
            "Yes                 12     37.5\n",
            "   Variable Surgery_history  Count        Mean  Median        Std    IQR\n",
            "0  Duration              No     20   99.800000    96.0  63.334201  121.5\n",
            "1  Duration             Yes     12  120.333333   126.0  48.104684   69.0\n",
            "2  Interval              No     20    3.400000     3.0   1.153941    1.0\n",
            "3  Interval             Yes     12    3.333333     3.0   0.887625    0.0\n"
          ]
        }
      ]
    },
    {
      "cell_type": "code",
      "source": [
        "# Subset to Type 1 (Blepharospasm)\n",
        "bleph = df[df['Type'] == 1].copy()\n",
        "\n",
        "# Parse Botox_dissatisfaction\n",
        "def extract_duration(val):\n",
        "    if pd.isna(val):\n",
        "        return None\n",
        "    # Regex to capture number followed by M/m\n",
        "    match = re.search(r'(\\d+(?:\\.\\d+)?)\\s*[Mm]', str(val))\n",
        "    if match:\n",
        "        return float(match.group(1))\n",
        "    return None\n",
        "\n",
        "bleph['Effect_duration_M'] = bleph['Botox_dissatisfaction'].apply(extract_duration)\n",
        "\n",
        "# Separate complaints (non-duration text)\n",
        "def complaint_or_blank(val):\n",
        "    if pd.isna(val):\n",
        "        return None\n",
        "    if extract_duration(val) is not None:\n",
        "        return None\n",
        "    # Strip and return text\n",
        "    return str(val).strip()\n",
        "\n",
        "bleph['Complaint_text'] = bleph['Botox_dissatisfaction'].apply(complaint_or_blank)\n",
        "\n",
        "# --- Summary of effect duration ---\n",
        "duration_series = bleph['Effect_duration_M'].dropna()\n",
        "duration_stats = duration_series.describe()\n",
        "duration_stats_df = pd.DataFrame(duration_stats).transpose()\n",
        "duration_stats_df['IQR'] = duration_stats_df['75%'] - duration_stats_df['25%']\n",
        "print(duration_stats_df)\n",
        "\n",
        "# --- Distribution of complaints ---\n",
        "complaints = bleph['Complaint_text'].dropna()\n",
        "complaint_counts = complaints.value_counts()\n",
        "complaint_df = complaint_counts.reset_index()\n",
        "complaint_df.columns = ['Complaint', 'Count']\n",
        "print(complaint_df)\n"
      ],
      "metadata": {
        "colab": {
          "base_uri": "https://localhost:8080/"
        },
        "id": "w_NxN02uTkOW",
        "outputId": "1516c247-4809-4072-845a-89ece8f9c64f"
      },
      "execution_count": 14,
      "outputs": [
        {
          "output_type": "stream",
          "name": "stdout",
          "text": [
            "                   count  mean  std  min  25%  50%  75%  max  IQR\n",
            "Effect_duration_M    1.0   3.0  NaN  3.0  3.0  3.0  3.0  3.0  0.0\n",
            "              Complaint  Count\n",
            "0                     0     10\n",
            "1                  ちょうど      3\n",
            "2                   2ヶ月      2\n",
            "3                 1.5ヶ月      1\n",
            "4              2.5ヶ月、流涙      1\n",
            "5           3ヶ月直前に効果切れる      1\n",
            "6         眼は調子良い、口が調子悪い      1\n",
            "7                   2週間      1\n",
            "8              3ヶ月は持たない      1\n",
            "9             効果ないと訴えあり      1\n",
            "10    効果に不満、食事時につむってしまう      1\n",
            "11            あまり効いていない      1\n",
            "12    効果に不満。眉毛が落ちて開きにくい      1\n",
            "13               2ヶ月ぐらい      1\n",
            "14                 2ヶ月強      1\n",
            "15    2ヶ月ぐらい。最近効果落ちてきた。      1\n",
            "16             効果に不満、流涙      1\n",
            "17  2ヶ月ぐらいでまぶしくて開けにくくなる      1\n",
            "18                   なし      1\n"
          ]
        }
      ]
    }
  ]
}