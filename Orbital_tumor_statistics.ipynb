{
  "nbformat": 4,
  "nbformat_minor": 0,
  "metadata": {
    "colab": {
      "provenance": [],
      "authorship_tag": "ABX9TyNvGbUkyzE/vIajyIZbwyLD",
      "include_colab_link": true
    },
    "kernelspec": {
      "name": "python3",
      "display_name": "Python 3"
    },
    "language_info": {
      "name": "python"
    }
  },
  "cells": [
    {
      "cell_type": "markdown",
      "metadata": {
        "id": "view-in-github",
        "colab_type": "text"
      },
      "source": [
        "<a href=\"https://colab.research.google.com/github/ykitaguchi77/statistics_for_articles/blob/main/Orbital_tumor_statistics.ipynb\" target=\"_parent\"><img src=\"https://colab.research.google.com/assets/colab-badge.svg\" alt=\"Open In Colab\"/></a>"
      ]
    },
    {
      "cell_type": "markdown",
      "source": [
        "#**Orbital tumor**"
      ],
      "metadata": {
        "id": "1IBsN0l_CPLs"
      }
    },
    {
      "cell_type": "code",
      "source": [
        "# prompt: gdriveをマウント\n",
        "from google.colab import drive\n",
        "drive.mount('/content/drive')"
      ],
      "metadata": {
        "colab": {
          "base_uri": "https://localhost:8080/"
        },
        "id": "JevaUo8xCI7B",
        "outputId": "1623f6e9-d6b9-4aed-a595-8af2e20313a9"
      },
      "execution_count": 1,
      "outputs": [
        {
          "output_type": "stream",
          "name": "stdout",
          "text": [
            "Mounted at /content/drive\n"
          ]
        }
      ]
    },
    {
      "cell_type": "code",
      "source": [
        "!pip install japanize_matplotlib"
      ],
      "metadata": {
        "colab": {
          "base_uri": "https://localhost:8080/"
        },
        "id": "-2JBBlVANl3-",
        "outputId": "d0e7d521-da47-493a-c4b8-bc10e3b137ad"
      },
      "execution_count": 2,
      "outputs": [
        {
          "output_type": "stream",
          "name": "stdout",
          "text": [
            "Collecting japanize_matplotlib\n",
            "  Downloading japanize-matplotlib-1.1.3.tar.gz (4.1 MB)\n",
            "\u001b[2K     \u001b[90m━━━━━━━━━━━━━━━━━━━━━━━━━━━━━━━━━━━━━━━━\u001b[0m \u001b[32m4.1/4.1 MB\u001b[0m \u001b[31m15.4 MB/s\u001b[0m eta \u001b[36m0:00:00\u001b[0m\n",
            "\u001b[?25h  Preparing metadata (setup.py) ... \u001b[?25l\u001b[?25hdone\n",
            "Requirement already satisfied: matplotlib in /usr/local/lib/python3.10/dist-packages (from japanize_matplotlib) (3.7.1)\n",
            "Requirement already satisfied: contourpy>=1.0.1 in /usr/local/lib/python3.10/dist-packages (from matplotlib->japanize_matplotlib) (1.2.1)\n",
            "Requirement already satisfied: cycler>=0.10 in /usr/local/lib/python3.10/dist-packages (from matplotlib->japanize_matplotlib) (0.12.1)\n",
            "Requirement already satisfied: fonttools>=4.22.0 in /usr/local/lib/python3.10/dist-packages (from matplotlib->japanize_matplotlib) (4.53.0)\n",
            "Requirement already satisfied: kiwisolver>=1.0.1 in /usr/local/lib/python3.10/dist-packages (from matplotlib->japanize_matplotlib) (1.4.5)\n",
            "Requirement already satisfied: numpy>=1.20 in /usr/local/lib/python3.10/dist-packages (from matplotlib->japanize_matplotlib) (1.25.2)\n",
            "Requirement already satisfied: packaging>=20.0 in /usr/local/lib/python3.10/dist-packages (from matplotlib->japanize_matplotlib) (24.1)\n",
            "Requirement already satisfied: pillow>=6.2.0 in /usr/local/lib/python3.10/dist-packages (from matplotlib->japanize_matplotlib) (9.4.0)\n",
            "Requirement already satisfied: pyparsing>=2.3.1 in /usr/local/lib/python3.10/dist-packages (from matplotlib->japanize_matplotlib) (3.1.2)\n",
            "Requirement already satisfied: python-dateutil>=2.7 in /usr/local/lib/python3.10/dist-packages (from matplotlib->japanize_matplotlib) (2.8.2)\n",
            "Requirement already satisfied: six>=1.5 in /usr/local/lib/python3.10/dist-packages (from python-dateutil>=2.7->matplotlib->japanize_matplotlib) (1.16.0)\n",
            "Building wheels for collected packages: japanize_matplotlib\n",
            "  Building wheel for japanize_matplotlib (setup.py) ... \u001b[?25l\u001b[?25hdone\n",
            "  Created wheel for japanize_matplotlib: filename=japanize_matplotlib-1.1.3-py3-none-any.whl size=4120257 sha256=26e991511994c5cfab86ce896aa50a1c315bbb3387de02c262869054d61c685f\n",
            "  Stored in directory: /root/.cache/pip/wheels/61/7a/6b/df1f79be9c59862525070e157e62b08eab8ece27c1b68fbb94\n",
            "Successfully built japanize_matplotlib\n",
            "Installing collected packages: japanize_matplotlib\n",
            "Successfully installed japanize_matplotlib-1.1.3\n"
          ]
        }
      ]
    },
    {
      "cell_type": "code",
      "source": [],
      "metadata": {
        "id": "8_V02QalCgZW"
      },
      "execution_count": null,
      "outputs": []
    },
    {
      "cell_type": "code",
      "execution_count": 3,
      "metadata": {
        "id": "dv5WzZcdNN-x"
      },
      "outputs": [],
      "source": [
        "import pandas as pd\n",
        "\n",
        "# Load the CSV file with shift-jis encoding\n",
        "file_path = \"/content/drive/MyDrive/発表/2024近畿神経眼科セミナー/merged_patient_data.csv\"\n",
        "data = pd.read_csv(file_path, encoding='shift-jis')\n",
        "\n",
        "# Define the categories and their corresponding keywords without numbers in parentheses\n",
        "categories = {\n",
        "    '炎症性疾患': [\n",
        "        'Inflammation', 'myositis', 'GPA', 'Sarcoidosis'\n",
        "    ],\n",
        "    'リンパ性疾患': [\n",
        "        'IgG4-ROD', 'MALT lymphoma', 'Diffuse large B-cell lymphoma',\n",
        "        'Follicular lymphoma', 'Indolent lymphoma', 'Reactive lymphoid hyperplasia',\n",
        "        'NKT lymphoma', 'Malignant lymphoma'\n",
        "    ],\n",
        "    '嚢胞': [\n",
        "        'Dermoid', 'Dacriops', 'Cyst', 'Epidermal cyst'\n",
        "    ],\n",
        "    '上皮性腫瘍': [\n",
        "        'Pleomorphic adenoma', 'Adenoid cystic carcinoma', 'Squamous cell carcinoma',\n",
        "        'Sebaceous gland carcinoma', 'Carcinoma ex pleomorphic adenoma', 'Sebaceous gland carcinomas'\n",
        "    ],\n",
        "    '非上皮性良性腫瘍': [\n",
        "        'Cavenous hemangioma', 'Schwannoma', 'Lipoma', 'Neurofibroma'\n",
        "    ],\n",
        "    '非上皮性悪性腫瘍': [\n",
        "        'Metastatic', 'Malignant melanoma', 'Sarcoma', 'Ewing', 'Clear cell sarcoma',\n",
        "        'well-differentiated liposarcoma', 'Sebaceous gland carcinoma'\n",
        "    ],\n",
        "    '血管性病変': [\n",
        "        'Lymphatic malfomation', 'Venous malformation', 'Infantile hemangioma',\n",
        "        'Lymphatic malformation'\n",
        "    ],\n",
        "    '眼窩外からの進展': [\n",
        "        'Osteoma', 'Paranasal sinus carcinoma', 'Paranasal sinus cyst',\n",
        "        'Paranasal sinus SCC', 'Paranasal sinus adenoid cystic carcinoma',\n",
        "        'Paranasal sinus melanoma', 'Fibrous dysplasia', 'Parasinus sinus carcinoma'\n",
        "    ],\n",
        "    'その他': [\n",
        "        'Orbital abscess', 'Foreign body granuloma', 'Amyloidosis', 'Multiple myeloma',\n",
        "        'Optic meningioma', 'Meningioma', 'Swollen MiraGel', 'Xanthogranuloma', 'CCF',\n",
        "        'Jugular venous reflux syndrome', 'Venous thrombosis', 'Hystiocytosis', 'Hematoma',\n",
        "        'Optic glioma', 'Fibrous lesion'\n",
        "    ]\n",
        "}\n",
        "\n",
        "# Create a function to categorize each row based on the '概要' column\n",
        "def categorize_row(row):\n",
        "    for category, keywords in categories.items():\n",
        "        for keyword in keywords:\n",
        "            if keyword.lower() in row.lower():\n",
        "                return category\n",
        "    return '分類なし'\n",
        "\n",
        "# Apply the function to the '概要' column\n",
        "data['分類'] = data['概要'].apply(categorize_row)\n",
        "\n",
        "# Check for rows that are not categorized\n",
        "uncategorized = data[data['分類'] == '分類なし']\n"
      ]
    },
    {
      "cell_type": "code",
      "source": [
        "# Creating the conditions and assigning categories based on those conditions\n",
        "\n",
        "# Condition 1: 病理診断 == \"なし\"\n",
        "data.loc[data['病理診断'] == 'なし', 'diagnosis'] = '病理検査なし'\n",
        "\n",
        "# Condition 2: 病理診断 != \"あり\" and 診断_x is NaN (equivalent to Nil in your instruction)\n",
        "data.loc[(data['病理診断'] == 'あり') & (data['診断_x'].isna()), 'diagnosis'] = '他科で生検'\n",
        "\n",
        "# Condition 3: 病理診断 != \"あり\" and 診断_x is not NaN\n",
        "data.loc[(data['病理診断'] == 'あり') & (~data['診断_x'].isna()), 'diagnosis'] = '眼科で生検'\n",
        "\n"
      ],
      "metadata": {
        "id": "Yu2GBCO37iEl"
      },
      "execution_count": 4,
      "outputs": []
    },
    {
      "cell_type": "code",
      "source": [
        "import pandas as pd\n",
        "import matplotlib.pyplot as plt\n",
        "\n",
        "# '病名開始日_1_Year'列を年代に変換\n",
        "data['Decade'] = pd.to_datetime(data['病名開始日_1']).dt.year\n",
        "\n",
        "# 年代と診断名でグループ化してカウント\n",
        "diagnosis_counts = data.groupby(['Decade', 'diagnosis']).size().unstack(fill_value=0)\n",
        "\n",
        "# 診断名の順序を指定\n",
        "order = [\"眼科で生検\", \"他科で生検\", \"病理検査なし\"]\n",
        "diagnosis_counts = diagnosis_counts[order]\n",
        "\n",
        "# 積み上げ棒グラフを作成\n",
        "ax = diagnosis_counts.plot(kind='bar', stacked=True, figsize=(12, 6))\n",
        "\n",
        "# 各バーの上に合計値を表示\n",
        "for i, year in enumerate(diagnosis_counts.index):\n",
        "    total = diagnosis_counts.loc[year].sum()\n",
        "    ax.text(i, total, str(total), ha='center', va='bottom')\n",
        "\n",
        "# グラフの設定\n",
        "plt.title('New patients by Year')\n",
        "plt.xlabel('Year')\n",
        "plt.ylabel('Number of New Patients')\n",
        "plt.legend(title='Diagnosis', bbox_to_anchor=(1.05, 1), loc='upper left')\n",
        "plt.tight_layout()\n",
        "\n",
        "# x軸のラベルを回転\n",
        "plt.xticks(rotation=45, ha='right')\n",
        "\n",
        "# y軸の上限を設定（余白を追加）\n",
        "plt.ylim(0, plt.ylim()[1] * 1.1)\n",
        "\n",
        "# グラフを表示\n",
        "plt.show()"
      ],
      "metadata": {
        "id": "aaGpgUpUFKFg"
      },
      "execution_count": null,
      "outputs": []
    },
    {
      "cell_type": "code",
      "source": [],
      "metadata": {
        "id": "eQHuAh-mEVjY"
      },
      "execution_count": null,
      "outputs": []
    },
    {
      "cell_type": "code",
      "source": [
        "import pandas as pd\n",
        "import matplotlib.pyplot as plt\n",
        "import japanize_matplotlib\n",
        "\n",
        "\n",
        "# 病名開始日_1を日付型に変換し、年だけを抽出\n",
        "data['年度'] = pd.to_datetime(data['病名開始日_1']).dt.year\n",
        "\n",
        "# 年度ごとの症例数をカウント\n",
        "yearly_counts = data['年度'].value_counts().sort_index()\n",
        "\n",
        "# グラフの作成\n",
        "plt.figure(figsize=(12, 6))\n",
        "yearly_counts.plot(kind='bar')\n",
        "\n",
        "# グラフの設定\n",
        "plt.title('年度別症例数')\n",
        "plt.xlabel('年度')\n",
        "plt.ylabel('症例数')\n",
        "plt.xticks(rotation=45)\n",
        "\n",
        "# グリッド線の追加\n",
        "plt.grid(axis='y', linestyle='--', alpha=0.7)\n",
        "\n",
        "# 各バーの上に値を表示\n",
        "for i, v in enumerate(yearly_counts):\n",
        "    plt.text(i, v, str(v), ha='center', va='bottom')\n",
        "\n",
        "# グラフの表示\n",
        "plt.tight_layout()\n",
        "plt.show()\n"
      ],
      "metadata": {
        "id": "rdEAu1Qt1NLO"
      },
      "execution_count": null,
      "outputs": []
    },
    {
      "cell_type": "code",
      "source": [
        "import seaborn as sns\n",
        "import matplotlib.pyplot as plt\n",
        "\n",
        "# Extract the year from the '病名開始日_1' column\n",
        "data['年度'] = pd.to_datetime(data['病名開始日_1'], errors='coerce').dt.year\n",
        "\n",
        "# Group by year and count the number of cases\n",
        "yearly_counts = data['年度'].value_counts().sort_index()\n",
        "\n",
        "# Convert the yearly counts to a DataFrame\n",
        "yearly_counts_df = yearly_counts.reset_index()\n",
        "yearly_counts_df.columns = ['年度', '症例数']\n",
        "\n",
        "\n",
        "# Set the font size and other style parameters\n",
        "plt.rcParams.update({'font.size': 14, 'figure.figsize': (12, 8)})\n",
        "\n",
        "# Plot the yearly counts\n",
        "plt.figure(figsize=(12, 8))\n",
        "ax = sns.barplot(x='年度', y='症例数', data=yearly_counts_df)\n",
        "\n",
        "# Add value labels on top of each bar\n",
        "for i, v in enumerate(yearly_counts_df['症例数']):\n",
        "    ax.text(i, v, str(v), ha='center', va='bottom')\n",
        "\n",
        "plt.xticks(rotation=45, ha='right')\n",
        "plt.title('年度別の症例数')\n",
        "plt.xlabel('年度')\n",
        "plt.ylabel('症例数')\n",
        "plt.tight_layout()\n",
        "\n",
        "# Show the plot\n",
        "plt.show()"
      ],
      "metadata": {
        "id": "9V1yhDRQvLca"
      },
      "execution_count": null,
      "outputs": []
    },
    {
      "cell_type": "code",
      "source": [
        "import pandas as pd\n",
        "import matplotlib.pyplot as plt\n",
        "import seaborn as sns\n",
        "\n",
        "# Define the categories and their keywords\n",
        "categories = {\n",
        "    '炎症性疾患': ['Inflammation', 'myositis', 'GPA', 'Sarcoidosis', 'Xanthogranuloma'],\n",
        "    'リンパ性疾患': ['IgG4-ROD', 'MALT lymphoma', 'Diffuse large B-cell lymphoma',\n",
        "                 'Follicular lymphoma', 'Indolent lymphoma', 'Reactive lymphoid hyperplasia',\n",
        "                 'NKT lymphoma', 'Malignant lymphoma'],\n",
        "    '嚢胞': ['Dermoid', 'Dacriops', 'Cyst', 'Epidermal cyst'],\n",
        "    '上皮性良性腫瘍': ['Pleomorphic adenoma'],\n",
        "    '上皮性悪性腫瘍': ['Adenoid cystic carcinoma', 'Squamous cell carcinoma',\n",
        "                'Sebaceous gland carcinoma', 'Carcinoma ex pleomorphic adenoma', 'Sebaceous gland carcinomas'],\n",
        "    '非上皮性良性腫瘍': ['Cavenous hemangioma', 'Schwannoma', 'Lipoma', 'Neurofibroma',\n",
        "            'Optic meningioma', 'Meningioma', 'Optic glioma'],\n",
        "    '非上皮性悪性腫瘍': ['Metastatic', 'Malignant melanoma', 'Sarcoma', 'Ewing', 'Clear cell sarcoma',\n",
        "                     'well-differentiated liposarcoma', 'Sebaceous gland carcinoma'],\n",
        "    '血管性病変': ['Lymphatic malfomation', 'Venous malformation', 'Infantile hemangioma',\n",
        "                'Lymphatic malformation'],\n",
        "    '眼窩外からの進展': ['Osteoma', 'Paranasal sinus carcinoma', 'Paranasal sinus cyst',\n",
        "                    'Paranasal sinus SCC', 'Paranasal sinus adenoid cystic carcinoma',\n",
        "                    'Paranasal sinus melanoma', 'Fibrous dysplasia', 'Parasinus sinus carcinoma'],\n",
        "    'その他': ['Orbital abscess', 'Foreign body granuloma', 'Amyloidosis', 'Multiple myeloma', 'Swollen MiraGel', 'CCF',\n",
        "            'Jugular venous reflux syndrome', 'Venous thrombosis', 'Hystiocytosis', 'Hematoma',\n",
        "             'Fibrous lesion']\n",
        "}\n",
        "\n",
        "# Initialize a dictionary to count the number of cases in each category\n",
        "category_counts = {key: 0 for key in categories.keys()}\n",
        "\n",
        "# Classify each diagnosis and count the occurrences in each category\n",
        "for diagnosis in data['概要'].dropna():\n",
        "    classified = False\n",
        "    for category, keywords in categories.items():\n",
        "        if any(keyword in diagnosis for keyword in keywords):\n",
        "            category_counts[category] += 1\n",
        "            classified = True\n",
        "            break\n",
        "    if not classified:\n",
        "        category_counts['その他'] += 1\n",
        "\n",
        "# Convert the category counts to a DataFrame\n",
        "category_counts_df = pd.DataFrame(list(category_counts.items()), columns=['Category', 'Count'])\n",
        "\n",
        "# Sort the DataFrame by the count and move 'その他' to the end\n",
        "category_counts_df_sorted = category_counts_df[category_counts_df['Category'] != 'その他'].sort_values(by='Count', ascending=False)\n",
        "category_counts_df_sorted = pd.concat([category_counts_df_sorted, category_counts_df[category_counts_df['Category'] == 'その他']])\n",
        "\n",
        "# Set the font size and other style parameters\n",
        "plt.rcParams.update({'font.size': 14, 'figure.figsize': (12, 8)})\n",
        "\n",
        "# Create the bar plot\n",
        "plt.figure(figsize=(12, 8))\n",
        "sns.barplot(x='Category', y='Count', data=category_counts_df_sorted)\n",
        "plt.xticks(rotation=45, ha='right')\n",
        "#plt.title('カテゴリーごとの症例数')\n",
        "plt.xlabel('カテゴリー')\n",
        "plt.ylabel('症例数')\n",
        "plt.tight_layout()\n",
        "\n",
        "# Show the plot\n",
        "plt.show()"
      ],
      "metadata": {
        "id": "KqowYjlUlf5g"
      },
      "execution_count": null,
      "outputs": []
    },
    {
      "cell_type": "code",
      "source": [
        "import pandas as pd\n",
        "import matplotlib.pyplot as plt\n",
        "import seaborn as sns\n",
        "\n",
        "\n",
        "# Define the categories and their keywords\n",
        "categories = {\n",
        "    '炎症性疾患': ['Inflammation', 'myositis', 'GPA', 'Sarcoidosis', 'Xanthogranuloma'],\n",
        "    'リンパ性疾患': ['IgG4-ROD', 'MALT lymphoma', 'Diffuse large B-cell lymphoma',\n",
        "                 'Follicular lymphoma', 'Indolent lymphoma', 'Reactive lymphoid hyperplasia',\n",
        "                 'NKT lymphoma', 'Malignant lymphoma'],\n",
        "    '嚢胞': ['Dermoid', 'Dacriops', 'Cyst', 'Epidermal cyst'],\n",
        "    '上皮性良性腫瘍': ['Pleomorphic adenoma'],\n",
        "    '上皮性悪性腫瘍': ['Adenoid cystic carcinoma', 'Squamous cell carcinoma',\n",
        "                'Sebaceous gland carcinoma', 'Carcinoma ex pleomorphic adenoma', 'Sebaceous gland carcinomas'],\n",
        "    '非上皮性良性腫瘍': ['Cavenous hemangioma', 'Schwannoma', 'Lipoma', 'Neurofibroma',\n",
        "            'Optic meningioma', 'Meningioma', 'Optic glioma'],\n",
        "    '非上皮性悪性腫瘍': ['Metastatic', 'Malignant melanoma', 'Sarcoma', 'Ewing', 'Clear cell sarcoma',\n",
        "                     'well-differentiated liposarcoma', 'Sebaceous gland carcinoma'],\n",
        "    '血管性病変': ['Lymphatic malfomation', 'Venous malformation', 'Infantile hemangioma',\n",
        "                'Lymphatic malformation'],\n",
        "    '眼窩外からの進展': ['Osteoma', 'Paranasal sinus carcinoma', 'Paranasal sinus cyst',\n",
        "                    'Paranasal sinus SCC', 'Paranasal sinus adenoid cystic carcinoma',\n",
        "                    'Paranasal sinus melanoma', 'Fibrous dysplasia', 'Parasinus sinus carcinoma'],\n",
        "    'その他': ['Orbital abscess', 'Foreign body granuloma', 'Amyloidosis', 'Multiple myeloma', 'Swollen MiraGel', 'CCF',\n",
        "            'Jugular venous reflux syndrome', 'Venous thrombosis', 'Hystiocytosis', 'Hematoma',\n",
        "             'Fibrous lesion']\n",
        "}\n",
        "\n",
        "# Create a new column to indicate if there is a pathological diagnosis\n",
        "data['病理診断あり'] = data['病理診断'].apply(lambda x: 'あり' if x == 'あり' else 'なし')\n",
        "\n",
        "# Initialize a dictionary to count the number of cases in each category with subcategories for pathological diagnosis\n",
        "category_counts_detailed = {key: {'あり': 0, 'なし': 0} for key in categories.keys()}\n",
        "\n",
        "# Classify each diagnosis from the '概要' column and count the occurrences in each category with pathological diagnosis subcategories\n",
        "for index, row in data.iterrows():\n",
        "    diagnosis = row['概要']\n",
        "    pathology = row['病理診断あり']\n",
        "    if pd.notna(diagnosis):\n",
        "        classified = False\n",
        "        for category, keywords in categories.items():\n",
        "            if any(keyword in diagnosis for keyword in keywords):\n",
        "                category_counts_detailed[category][pathology] += 1\n",
        "                classified = True\n",
        "                break\n",
        "        if not classified:\n",
        "            category_counts_detailed['その他'][pathology] += 1\n",
        "\n",
        "# Convert the detailed category counts to a DataFrame\n",
        "category_counts_detailed_df = pd.DataFrame(category_counts_detailed).T\n",
        "category_counts_detailed_df.reset_index(inplace=True)\n",
        "category_counts_detailed_df.columns = ['Category', '病理診断あり', '病理診断なし']\n",
        "\n",
        "# Sum the counts for each category to sort by the total count\n",
        "category_counts_detailed_df['Total'] = category_counts_detailed_df['病理診断あり'] + category_counts_detailed_df['病理診断なし']\n",
        "\n",
        "# Sort by total count excluding 'その他'\n",
        "sorted_df = category_counts_detailed_df[category_counts_detailed_df['Category'] != 'その他'].sort_values(by='Total', ascending=False)\n",
        "\n",
        "# Append 'その他' at the end\n",
        "other_df = category_counts_detailed_df[category_counts_detailed_df['Category'] == 'その他']\n",
        "sorted_df = pd.concat([sorted_df, other_df])\n",
        "\n",
        "# Set the font size and other style parameters\n",
        "plt.rcParams.update({'font.size': 14, 'figure.figsize': (12, 8)})\n",
        "\n",
        "# Create the stacked bar plot\n",
        "fig, ax = plt.subplots()\n",
        "bottom_bar = ax.bar(sorted_df['Category'], sorted_df['病理診断あり'], color='blue', label='病理診断あり')\n",
        "top_bar = ax.bar(sorted_df['Category'], sorted_df['病理診断なし'], bottom=sorted_df['病理診断あり'], color='orange', label='病理診断なし')\n",
        "\n",
        "plt.xticks(rotation=45, ha='right')\n",
        "#plt.title('カテゴリーごとの症例数')\n",
        "plt.xlabel('カテゴリー')\n",
        "plt.ylabel('症例数')\n",
        "plt.legend()\n",
        "plt.tight_layout()\n",
        "\n",
        "# Show the plot\n",
        "plt.show()\n"
      ],
      "metadata": {
        "id": "UQAFD6XrqAI_"
      },
      "execution_count": null,
      "outputs": []
    },
    {
      "cell_type": "code",
      "source": [
        "import pandas as pd\n",
        "import matplotlib.pyplot as plt\n",
        "import seaborn as sns\n",
        "import japanize_matplotlib\n",
        "\n",
        "# Sort categories by the median age\n",
        "median_ages = data.groupby('分類')['Age'].median().sort_values()\n",
        "sorted_categories = median_ages.index.tolist()\n",
        "\n",
        "# Set the font size\n",
        "plt.rcParams.update({'font.size': 20})\n",
        "\n",
        "# Create a box plot for Age based on the sorted categories using seaborn\n",
        "plt.figure(figsize=(14, 8))\n",
        "sns.boxplot(x='分類', y='Age', data=data, order=sorted_categories)\n",
        "plt.title('年齢別の統計値', fontsize=18)\n",
        "plt.xlabel('分類', fontsize= 20)\n",
        "plt.ylabel('年齢', fontsize=20)\n",
        "plt.xticks(rotation=45, fontsize=20)\n",
        "plt.yticks(fontsize=20)\n",
        "plt.show()"
      ],
      "metadata": {
        "id": "N-nB_43jNPri"
      },
      "execution_count": null,
      "outputs": []
    },
    {
      "cell_type": "code",
      "source": [],
      "metadata": {
        "id": "N4690_XKDZKR"
      },
      "execution_count": null,
      "outputs": []
    }
  ]
}