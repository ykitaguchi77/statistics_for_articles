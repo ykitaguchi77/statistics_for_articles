{
  "nbformat": 4,
  "nbformat_minor": 0,
  "metadata": {
    "colab": {
      "provenance": [],
      "authorship_tag": "ABX9TyOjtWQykWq5WWFeqk0Wc3zQ",
      "include_colab_link": true
    },
    "kernelspec": {
      "name": "python3",
      "display_name": "Python 3"
    },
    "language_info": {
      "name": "python"
    }
  },
  "cells": [
    {
      "cell_type": "markdown",
      "metadata": {
        "id": "view-in-github",
        "colab_type": "text"
      },
      "source": [
        "<a href=\"https://colab.research.google.com/github/ykitaguchi77/statistics_for_articles/blob/main/Surgically_induced_astigmatism_eyelid_malignant_tumor.ipynb\" target=\"_parent\"><img src=\"https://colab.research.google.com/assets/colab-badge.svg\" alt=\"Open In Colab\"/></a>"
      ]
    },
    {
      "cell_type": "markdown",
      "source": [
        "#**Surgically induced astigmatism and higher order abberation after surgery of the eyelid malignant tumor**"
      ],
      "metadata": {
        "id": "G8De2HxDNQUI"
      }
    },
    {
      "cell_type": "code",
      "execution_count": 1,
      "metadata": {
        "colab": {
          "base_uri": "https://localhost:8080/"
        },
        "id": "KfyWQ4_tNHt6",
        "outputId": "98c398a6-1a97-4640-8807-87a8a89035ea"
      },
      "outputs": [
        {
          "output_type": "stream",
          "name": "stdout",
          "text": [
            "Mounted at /content/drive\n"
          ]
        }
      ],
      "source": [
        "from google.colab import drive\n",
        "drive.mount('/content/drive')"
      ]
    },
    {
      "cell_type": "code",
      "source": [
        "import pandas as pd\n",
        "\n",
        "xlsx_path = \"/content/drive/MyDrive/発表/日本眼形成再建外科学会/202306 HOA after wide excision/眼瞼悪性腫瘍波面_2.xlsx\"\n",
        "excel_data = pd.read_excel(xlsx_path)\n",
        "\n",
        "df = excel_data.drop(['ID', 'Name'], axis=1) #idとnameを削除\n",
        "\n",
        "# Display the first few rows of the dataframe\n",
        "df.head()\n"
      ],
      "metadata": {
        "id": "6asIaNxENxdK"
      },
      "execution_count": null,
      "outputs": []
    },
    {
      "cell_type": "code",
      "source": [
        "from datetime import datetime\n",
        "\n",
        "#年齢の算出\n",
        "def calculate_age_robust(birth_date, surgery_date):\n",
        "    try:\n",
        "        # Handling potential inconsistencies in date formats\n",
        "        birth_str = str(birth_date).split(\"/\")[0]  # Handling dates with slashes\n",
        "        surgery_str = str(surgery_date).split(\"/\")[0]  # Handling dates with slashes\n",
        "\n",
        "        birth = datetime.strptime(birth_str, \"%Y%m%d\")\n",
        "        surgery = datetime.strptime(surgery_str, \"%Y%m%d\")\n",
        "        age = surgery.year - birth.year - ((surgery.month, surgery.day) < (birth.month, birth.day))\n",
        "        return age\n",
        "    except Exception as e:\n",
        "        # Returning a placeholder in case of any errors\n",
        "        return None\n",
        "\n",
        "# Applying the updated function to the dataframe\n",
        "df['age'] = df.apply(lambda x: calculate_age_robust(x['生年月日'], x['手術日']), axis=1)\n",
        "\n",
        "# Calculating statistical values for the Age_at_Surgery column\n",
        "age_statistics = df['age'].describe()\n",
        "\n",
        "age_statistics\n"
      ],
      "metadata": {
        "colab": {
          "base_uri": "https://localhost:8080/"
        },
        "id": "jXxGS47ZOY2I",
        "outputId": "34c6a255-f9e1-441c-81f7-bca19c11f18e"
      },
      "execution_count": 13,
      "outputs": [
        {
          "output_type": "execute_result",
          "data": {
            "text/plain": [
              "count    21.000000\n",
              "mean     70.000000\n",
              "std      13.270268\n",
              "min      38.000000\n",
              "25%      66.000000\n",
              "50%      73.000000\n",
              "75%      78.000000\n",
              "max      87.000000\n",
              "Name: age, dtype: float64"
            ]
          },
          "metadata": {},
          "execution_count": 13
        }
      ]
    },
    {
      "cell_type": "code",
      "source": [],
      "metadata": {
        "id": "MzqiUZfBPnVl"
      },
      "execution_count": null,
      "outputs": []
    }
  ]
}