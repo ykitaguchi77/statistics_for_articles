{
  "nbformat": 4,
  "nbformat_minor": 0,
  "metadata": {
    "colab": {
      "provenance": [],
      "authorship_tag": "ABX9TyPUTn9SAyTjW9DPbmb6mbE2",
      "include_colab_link": true
    },
    "kernelspec": {
      "name": "python3",
      "display_name": "Python 3"
    },
    "language_info": {
      "name": "python"
    }
  },
  "cells": [
    {
      "cell_type": "markdown",
      "metadata": {
        "id": "view-in-github",
        "colab_type": "text"
      },
      "source": [
        "<a href=\"https://colab.research.google.com/github/ykitaguchi77/statistics_for_articles/blob/main/Surgically_induced_astigmatism_eyelid_malignant_tumor.ipynb\" target=\"_parent\"><img src=\"https://colab.research.google.com/assets/colab-badge.svg\" alt=\"Open In Colab\"/></a>"
      ]
    },
    {
      "cell_type": "markdown",
      "source": [
        "#**Surgically induced astigmatism and higher order abberation after surgery of the eyelid malignant tumor**"
      ],
      "metadata": {
        "id": "G8De2HxDNQUI"
      }
    },
    {
      "cell_type": "code",
      "execution_count": 41,
      "metadata": {
        "colab": {
          "base_uri": "https://localhost:8080/"
        },
        "id": "KfyWQ4_tNHt6",
        "outputId": "70030a8a-243a-4519-a2d1-775777260463"
      },
      "outputs": [
        {
          "output_type": "stream",
          "name": "stdout",
          "text": [
            "Drive already mounted at /content/drive; to attempt to forcibly remount, call drive.mount(\"/content/drive\", force_remount=True).\n"
          ]
        }
      ],
      "source": [
        "from google.colab import drive\n",
        "drive.mount('/content/drive')"
      ]
    },
    {
      "cell_type": "code",
      "source": [
        "import pandas as pd\n",
        "\n",
        "xlsx_path = \"/content/drive/MyDrive/発表/日本眼形成再建外科学会/202306 HOA after wide excision/眼瞼悪性腫瘍波面_2.xlsx\"\n",
        "excel_data = pd.read_excel(xlsx_path)\n",
        "\n",
        "df = excel_data.drop(['ID', 'Name'], axis=1) #idとnameを削除\n",
        "\n",
        "# Display the first few rows of the dataframe\n",
        "df.head()\n"
      ],
      "metadata": {
        "id": "6asIaNxENxdK"
      },
      "execution_count": null,
      "outputs": []
    },
    {
      "cell_type": "code",
      "source": [
        "from datetime import datetime\n",
        "\n",
        "#年齢の算出\n",
        "def calculate_age_robust(birth_date, surgery_date):\n",
        "    try:\n",
        "        # Handling potential inconsistencies in date formats\n",
        "        birth_str = str(birth_date).split(\"/\")[0]  # Handling dates with slashes\n",
        "        surgery_str = str(surgery_date).split(\"/\")[0]  # Handling dates with slashes\n",
        "\n",
        "        birth = datetime.strptime(birth_str, \"%Y%m%d\")\n",
        "        surgery = datetime.strptime(surgery_str, \"%Y%m%d\")\n",
        "        age = surgery.year - birth.year - ((surgery.month, surgery.day) < (birth.month, birth.day))\n",
        "        return age\n",
        "    except Exception as e:\n",
        "        # Returning a placeholder in case of any errors\n",
        "        return None\n",
        "\n",
        "# Applying the updated function to the dataframe\n",
        "df['age'] = df.apply(lambda x: calculate_age_robust(x['生年月日'], x['手術日']), axis=1)\n",
        "\n",
        "# Calculating statistical values for the Age_at_Surgery column\n",
        "age_statistics = df['age'].describe()\n",
        "\n",
        "print(age_statistics)"
      ],
      "metadata": {
        "colab": {
          "base_uri": "https://localhost:8080/"
        },
        "id": "jXxGS47ZOY2I",
        "outputId": "c24152c4-6b84-4a07-d57d-24b24f043c3f"
      },
      "execution_count": 43,
      "outputs": [
        {
          "output_type": "stream",
          "name": "stdout",
          "text": [
            "count    21.000000\n",
            "mean     70.000000\n",
            "std      13.270268\n",
            "min      38.000000\n",
            "25%      66.000000\n",
            "50%      73.000000\n",
            "75%      78.000000\n",
            "max      87.000000\n",
            "Name: age, dtype: float64\n"
          ]
        }
      ]
    },
    {
      "cell_type": "code",
      "source": [
        "#その他の統計量\n",
        "# Extracting relevant columns: Gender, Left/Right (Unnamed: 4), and Defect size\n",
        "gender_lr_defect = df[['性別', 'side', 'Defect']]\n",
        "\n",
        "# Renaming columns for clarity\n",
        "gender_lr_defect.columns = ['Gender', 'Left/Right', 'Defect Size']\n",
        "\n",
        "# Calculating statistics for Defect Size\n",
        "defect_stats = gender_lr_defect['Defect Size'].describe()\n",
        "\n",
        "# Counting occurrences for Gender and Left/Right\n",
        "gender_counts = gender_lr_defect['Gender'].value_counts()\n",
        "left_right_counts = gender_lr_defect['Left/Right'].value_counts()\n",
        "\n",
        "print(gender_counts)\n",
        "print(\"\")\n",
        "print(left_right_counts)\n",
        "print(\"\")\n",
        "print(defect_stats)\n",
        "\n",
        "\n"
      ],
      "metadata": {
        "colab": {
          "base_uri": "https://localhost:8080/"
        },
        "id": "bsx93bwshD-e",
        "outputId": "981bd5a8-2429-4d5a-a291-a4325711d730"
      },
      "execution_count": 45,
      "outputs": [
        {
          "output_type": "stream",
          "name": "stdout",
          "text": [
            "F    15\n",
            "M     6\n",
            "Name: Gender, dtype: int64\n",
            "\n",
            "R    11\n",
            "L    10\n",
            "Name: Left/Right, dtype: int64\n",
            "\n",
            "count    21.000000\n",
            "mean     16.142857\n",
            "std       7.220012\n",
            "min       8.000000\n",
            "25%      12.000000\n",
            "50%      14.000000\n",
            "75%      20.000000\n",
            "max      34.000000\n",
            "Name: Defect Size, dtype: float64\n"
          ]
        }
      ]
    },
    {
      "cell_type": "code",
      "source": [
        "#上眼瞼と下眼瞼に分けて解析\n",
        "\n",
        "# Splitting the dataframe based on the 'upper_lower' column values\n",
        "df_lower = df[df[\"lower-upper\"] == 0]\n",
        "df_upper = df[df[\"lower-upper\"] == 1]\n",
        "\n",
        "# Displaying the first few rows of each new dataframe to verify\n",
        "print(f\"上眼瞼: {len(df_upper)}例、下眼瞼: {len(df_lower)}例\")\n",
        "#df_lower.head(), df_upper.head()\n"
      ],
      "metadata": {
        "id": "MzqiUZfBPnVl",
        "colab": {
          "base_uri": "https://localhost:8080/"
        },
        "outputId": "35042f7b-7c22-4a79-f2ae-ea684e928afa"
      },
      "execution_count": 46,
      "outputs": [
        {
          "output_type": "stream",
          "name": "stdout",
          "text": [
            "上眼瞼: 7例、下眼瞼: 14例\n"
          ]
        }
      ]
    },
    {
      "cell_type": "code",
      "source": [
        "from scipy.stats import mannwhitneyu\n",
        "\n",
        "# 上眼瞼と下眼瞼の比較 --> 有意差なし\n",
        "# Function to perform Mann-Whitney U test and return the p-value\n",
        "def perform_mannwhitneyu_test(column):\n",
        "    stat, p_value = mannwhitneyu(df_lower[column].dropna(), df_upper[column].dropna())\n",
        "    return p_value\n",
        "\n",
        "# Performing the test for each column\n",
        "columns_to_compare = [\"SIA_D\", \"Δasg_0\", \"Δasg_45\", \"ΔHOA\"]\n",
        "p_values = {column: perform_mannwhitneyu_test(column) for column in columns_to_compare}\n",
        "\n",
        "p_values"
      ],
      "metadata": {
        "colab": {
          "base_uri": "https://localhost:8080/"
        },
        "id": "vQOiXXnRT6v9",
        "outputId": "75fefe3c-a9f0-4ccd-a340-898c8cf670a0"
      },
      "execution_count": 93,
      "outputs": [
        {
          "output_type": "execute_result",
          "data": {
            "text/plain": [
              "{'SIA_D': 0.3223082215342278,\n",
              " 'Δasg_0': 0.6888200894392846,\n",
              " 'Δasg_45': 0.360061919504644,\n",
              " 'ΔHOA': 0.5352597179222567}"
            ]
          },
          "metadata": {},
          "execution_count": 93
        }
      ]
    },
    {
      "cell_type": "code",
      "source": [
        "#SIA_D, Δasg_0, Δasg_45に関する統計量\n",
        "\n",
        "# Splitting the dataframe again based on the 'lower-upper' column values\n",
        "df_all = df\n",
        "df_lower = df[df[\"lower-upper\"] == 0]\n",
        "df_upper = df[df[\"lower-upper\"] == 1]\n",
        "\n",
        "# Comparing the columns 'SIA_D', 'Δasg_0', 'Δasg_45' in df_upper and df_lower\n",
        "\n",
        "# Selecting the relevant columns for comparison\n",
        "columns_to_compare = ['SIA_D', 'Δasg_0', 'Δasg_45']\n",
        "\n",
        "# Calculating statistical values for these columns in both dataframes\n",
        "stats_df_all = df_all[columns_to_compare].describe()\n",
        "stats_df_lower = df_lower[columns_to_compare].describe()\n",
        "stats_df_upper = df_upper[columns_to_compare].describe()\n",
        "\n",
        "print(stats_df_all)\n",
        "print(\"\")\n",
        "print(stats_df_lower)\n",
        "print(\"\")\n",
        "print(stats_df_upper)\n"
      ],
      "metadata": {
        "colab": {
          "base_uri": "https://localhost:8080/"
        },
        "id": "c7sefLV_dqU8",
        "outputId": "fab7af65-5533-4168-e3f4-fe9b59a43e6f"
      },
      "execution_count": 48,
      "outputs": [
        {
          "output_type": "stream",
          "name": "stdout",
          "text": [
            "           SIA_D     Δasg_0    Δasg_45\n",
            "count  21.000000  21.000000  21.000000\n",
            "mean    0.884828   0.140827   0.061317\n",
            "std     0.569896   0.861801   0.615933\n",
            "min     0.200000  -1.560450  -1.318164\n",
            "25%     0.552330  -0.301631  -0.240736\n",
            "50%     0.731663  -0.010470   0.205561\n",
            "75%     1.063482   0.630383   0.431334\n",
            "max     2.426709   2.101558   0.882085\n",
            "\n",
            "           SIA_D     Δasg_0    Δasg_45\n",
            "count  14.000000  14.000000  14.000000\n",
            "mean    0.741406   0.058397   0.184310\n",
            "std     0.367172   0.655101   0.507314\n",
            "min     0.200000  -0.972569  -0.736869\n",
            "25%     0.517273  -0.286174  -0.202471\n",
            "50%     0.671924  -0.013673   0.323809\n",
            "75%     1.009928   0.447196   0.467991\n",
            "max     1.375730   1.348246   0.882085\n",
            "\n",
            "          SIA_D    Δasg_0   Δasg_45\n",
            "count  7.000000  7.000000  7.000000\n",
            "mean   1.171672  0.305687 -0.184668\n",
            "std    0.804062  1.224037  0.775281\n",
            "min    0.304378 -1.560450 -1.318164\n",
            "25%    0.595550 -0.456905 -0.632861\n",
            "50%    0.873601  0.550848  0.040425\n",
            "75%    1.702957  0.980832  0.303812\n",
            "max    2.426709  2.101558  0.643160\n"
          ]
        }
      ]
    },
    {
      "cell_type": "code",
      "source": [
        "from scipy.stats import ttest_ind, f_oneway\n",
        "import statsmodels.api as sm\n",
        "from scipy.stats import spearmanr\n",
        "\n",
        "\n",
        "# Extracting the relevant columns for SIA_D analysis\n",
        "sia_d_data = df[['性別', 'side', 'Defect', 'SIA_D']]\n",
        "sia_d_data.columns = ['Gender', 'Left/Right', 'Defect Size', 'SIA_D']\n",
        "\n",
        "# Removing rows with missing SIA_D values\n",
        "sia_d_data = sia_d_data.dropna(subset=['SIA_D'])\n",
        "\n",
        "# Univariate Analysis\n",
        "# T-tests for Gender and Left/Right\n",
        "mannwhitneyu_gender = mannwhitneyu(sia_d_data[sia_d_data['Gender'] == 'M']['SIA_D'],\n",
        "                         sia_d_data[sia_d_data['Gender'] == 'F']['SIA_D'])\n",
        "mannwhitneyu_left_right = mannwhitneyu(sia_d_data[sia_d_data['Left/Right'] == 'L']['SIA_D'],\n",
        "                             sia_d_data[sia_d_data['Left/Right'] == 'R']['SIA_D'])\n",
        "\n",
        "# Calculating Spearman correlation and p-value between age and SIA_D\n",
        "spearman_age_result = spearmanr(df['age'], df['SIA_D'])\n",
        "# Spearman correlation result and p-value\n",
        "spearman_age_corr_value, spearman_age_p_value = spearman_age_result\n",
        "\n",
        "\n",
        "# Calculating Spearman correlation and p-value between Defect and SIA_D\n",
        "spearman_defect_result = spearmanr(df['Defect'], df['SIA_D'])\n",
        "# Spearman correlation result and p-value\n",
        "spearman_defect_corr_value, spearman_defect_p_value = spearman_defect_result\n",
        "\n",
        "\n",
        "print(f\"Gender: {mannwhitneyu_gender}\")\n",
        "print(f\"Side: {mannwhitneyu_left_right}\")\n",
        "print(f\"Age: r={spearman_age_corr_value}, p={spearman_age_p_value}\")\n",
        "print(f\"Defect: r={spearman_defect_corr_value}, p={spearman_defect_p_value}\")\n",
        "\n"
      ],
      "metadata": {
        "colab": {
          "base_uri": "https://localhost:8080/"
        },
        "id": "FlAmeE5IfDj0",
        "outputId": "63931d64-7d4a-45f1-a12f-427cb8c483e9"
      },
      "execution_count": 60,
      "outputs": [
        {
          "output_type": "stream",
          "name": "stdout",
          "text": [
            "Gender: MannwhitneyuResult(statistic=63.0, pvalue=0.17805543269939555)\n",
            "Side: MannwhitneyuResult(statistic=43.0, pvalue=0.4180519085356006)\n",
            "Age: r=0.17844427004489263, p=0.4389871964685451\n",
            "Defect: r=-0.005859394868315979, p=0.9798898360235521\n"
          ]
        }
      ]
    },
    {
      "cell_type": "code",
      "source": [
        "from scipy.stats import wilcoxon\n",
        "\n",
        "#preと3Mの高次収差の比較\n",
        "\n",
        "# Performing Wilcoxon Signed-Rank Test for HOA_pre and HOA_3M\n",
        "wilcoxon_test_result = wilcoxon(df['HOA_pre'], df['HOA_3M'])\n",
        "\n",
        "# Wilcoxon test result\n",
        "wilcoxon_test_statistic, wilcoxon_test_pvalue = wilcoxon_test_result\n",
        "print(wilcoxon_test_statistic, wilcoxon_test_pvalue)\n",
        "\n",
        "\n",
        "# Calculating descriptive statistics for HOA_pre and HOA_3M\n",
        "hoa_pre_stats = df['HOA_pre'].describe()\n",
        "hoa_3m_stats = df['HOA_3M'].describe()\n",
        "\n",
        "print(hoa_pre_stats)\n",
        "print(hoa_3m_stats)\n",
        "\n"
      ],
      "metadata": {
        "colab": {
          "base_uri": "https://localhost:8080/"
        },
        "id": "2fOo3O2qjZNi",
        "outputId": "103fc94e-a2f9-44f0-9ea8-8dff9eaf7a34"
      },
      "execution_count": 91,
      "outputs": [
        {
          "output_type": "stream",
          "name": "stdout",
          "text": [
            "35.0 0.0037527084350585938\n",
            "count    21.000000\n",
            "mean      0.180619\n",
            "std       0.077137\n",
            "min       0.082000\n",
            "25%       0.110000\n",
            "50%       0.179000\n",
            "75%       0.214000\n",
            "max       0.353000\n",
            "Name: HOA_pre, dtype: float64\n",
            "count    21.000000\n",
            "mean      0.264667\n",
            "std       0.171358\n",
            "min       0.097000\n",
            "25%       0.153000\n",
            "50%       0.221000\n",
            "75%       0.296000\n",
            "max       0.798000\n",
            "Name: HOA_3M, dtype: float64\n"
          ]
        }
      ]
    },
    {
      "cell_type": "code",
      "source": [
        "import matplotlib.pyplot as plt\n",
        "import seaborn as sns\n",
        "\n",
        "# Plotting a scatter plot of HOA_pre and HOA_3M with equal axis scales\n",
        "plt.figure(figsize=(8, 8))\n",
        "sns.scatterplot(data=df, x='HOA_pre', y='HOA_3M')\n",
        "plt.title('Scatter Plot of HOA_pre vs HOA_3M')\n",
        "plt.xlabel('HOA_pre (Pre-Surgery)')\n",
        "plt.ylabel('HOA_3M (3 Months Post-Surgery)')\n",
        "plt.grid(True)\n",
        "\n",
        "# Setting equal scales for both axes\n",
        "plt.xlim(df[['HOA_pre', 'HOA_3M']].min().min(), df[['HOA_pre', 'HOA_3M']].max().max())\n",
        "plt.ylim(df[['HOA_pre', 'HOA_3M']].min().min(), df[['HOA_pre', 'HOA_3M']].max().max())\n",
        "\n",
        "plt.show()\n",
        "\n",
        "\n",
        "from scipy.stats import pearsonr\n",
        "\n",
        "# Calculating Pearson correlation and p-value between HOA_pre and HOA_3M\n",
        "pearson_corr_hoa_result = pearsonr(df['HOA_pre'], df['HOA_3M'])\n",
        "\n",
        "# Pearson correlation result and p-value for HOA_pre and HOA_3M\n",
        "pearson_corr_hoa_value, pearson_p_value_hoa = pearson_corr_hoa_result\n",
        "print(f\"r={pearson_corr_hoa_value}, p={pearson_p_value_hoa}\")\n",
        "\n",
        "\n",
        "\n",
        "\n",
        "\n",
        "# Plotting a scatter plot with a regression line\n",
        "plt.figure(figsize=(8, 8))\n",
        "sns.regplot(data=df, x='HOA_pre', y='HOA_3M', ci=None)  # ci=None removes the confidence interval\n",
        "plt.title('Scatter Plot of HOA_pre vs HOA_3M with Regression Line')\n",
        "plt.xlabel('HOA_pre (Pre-Surgery)')\n",
        "plt.ylabel('HOA_3M (3 Months Post-Surgery)')\n",
        "plt.grid(True)\n",
        "\n",
        "# Setting equal scales for both axes\n",
        "plt.xlim(df[['HOA_pre', 'HOA_3M']].min().min(), df[['HOA_pre', 'HOA_3M']].max().max())\n",
        "plt.ylim(df[['HOA_pre', 'HOA_3M']].min().min(), df[['HOA_pre', 'HOA_3M']].max().max())\n",
        "\n",
        "plt.show()\n",
        "\n"
      ],
      "metadata": {
        "id": "Bge8r7b1ZaTR"
      },
      "execution_count": null,
      "outputs": []
    },
    {
      "cell_type": "markdown",
      "source": [
        "###術前後の乱視比較"
      ],
      "metadata": {
        "id": "OaxY-I3WbuVj"
      }
    },
    {
      "cell_type": "code",
      "source": [
        "#術前後の乱視の比較\n",
        "# Performing Wilcoxon Signed-Rank Test for CASIA_CYL_pre and CASIA_CYL_3M\n",
        "wilcoxon_test_casia_cyl = wilcoxon(df['CASIA_CYL_pre'], df['CASIA_CYL_3M'])\n",
        "\n",
        "# Wilcoxon test result for CASIA_CYL_pre and CASIA_CYL_3M\n",
        "wilcoxon_test_casia_cyl_statistic, wilcoxon_test_casia_cyl_pvalue = wilcoxon_test_casia_cyl\n",
        "print(wilcoxon_test_casia_cyl_statistic, wilcoxon_test_casia_cyl_pvalue)\n",
        "\n",
        "# Calculating descriptive statistics for CASIA_CYL_pre and CASIA_CYL_3M\n",
        "casia_cyl_pre_stats = df['CASIA_CYL_pre'].describe()\n",
        "casia_cyl_3m_stats = df['CASIA_CYL_3M'].describe()\n",
        "\n",
        "print(casia_cyl_pre_stats)\n",
        "print(casia_cyl_3m_stats)\n",
        "\n"
      ],
      "metadata": {
        "colab": {
          "base_uri": "https://localhost:8080/"
        },
        "id": "215whYRBaVc_",
        "outputId": "b0722036-abbe-4479-b8c5-52a965474c2e"
      },
      "execution_count": 73,
      "outputs": [
        {
          "output_type": "stream",
          "name": "stdout",
          "text": [
            "104.5 0.7334699630737305\n",
            "count    21.000000\n",
            "mean     -1.069524\n",
            "std       0.681839\n",
            "min      -2.400000\n",
            "25%      -1.400000\n",
            "50%      -0.900000\n",
            "75%      -0.700000\n",
            "max      -0.200000\n",
            "Name: CASIA_CYL_pre, dtype: float64\n",
            "count    21.000000\n",
            "mean     -1.185714\n",
            "std       0.699490\n",
            "min      -3.100000\n",
            "25%      -1.500000\n",
            "50%      -1.100000\n",
            "75%      -0.600000\n",
            "max      -0.200000\n",
            "Name: CASIA_CYL_3M, dtype: float64\n"
          ]
        }
      ]
    },
    {
      "cell_type": "code",
      "source": [
        "# Plotting a scatter plot of CASIA_CYL_pre and CASIA_CYL_3M\n",
        "plt.figure(figsize=(8, 8))\n",
        "sns.scatterplot(data=df, x='CASIA_CYL_pre', y='CASIA_CYL_3M')\n",
        "plt.title('Scatter Plot of CASIA_CYL_pre vs CASIA_CYL_3M')\n",
        "plt.xlabel('CASIA_CYL_pre (Pre-Surgery)')\n",
        "plt.ylabel('CASIA_CYL_3M (3 Months Post-Surgery)')\n",
        "plt.grid(True)\n",
        "\n",
        "# Setting equal scales for both axes\n",
        "plt.xlim(df[['CASIA_CYL_pre', 'CASIA_CYL_3M']].min().min(), df[['CASIA_CYL_pre', 'CASIA_CYL_3M']].max().max())\n",
        "plt.ylim(df[['CASIA_CYL_pre', 'CASIA_CYL_3M']].min().min(), df[['CASIA_CYL_pre', 'CASIA_CYL_3M']].max().max())\n",
        "\n",
        "plt.show()\n",
        "\n",
        "\n",
        "from scipy.stats import pearsonr\n",
        "\n",
        "# Calculating Pearson correlation and p-value between CASIA_CYL_pre and CASIA_CYL_3M\n",
        "pearson_corr_casia_cyl_result = pearsonr(df['CASIA_CYL_pre'], df['CASIA_CYL_3M'])\n",
        "\n",
        "# Pearson correlation result and p-value\n",
        "pearson_corr_casia_cyl_value, pearson_p_value_casia_cyl = pearson_corr_casia_cyl_result\n",
        "print(f\"r={pearson_corr_casia_cyl_value}, p={pearson_p_value_casia_cyl}\")\n",
        "\n",
        "\n",
        "# Plotting a scatter plot with a regression line\n",
        "plt.figure(figsize=(8, 8))\n",
        "sns.regplot(data=df, x='CASIA_CYL_pre', y='CASIA_CYL_3M', ci=None)  # ci=None removes the confidence interval\n",
        "plt.title('Scatter Plot of CASIA_CYL_pre vs CASIA_CYL_3M with Regression Line')\n",
        "plt.xlabel('CASIA_CYL_pre (Pre-Surgery)')\n",
        "plt.ylabel('CASIA_CYL_3M (3 Months Post-Surgery)')\n",
        "plt.grid(True)\n",
        "\n",
        "# Setting equal scales for both axes\n",
        "plt.xlim(df[['CASIA_CYL_pre', 'CASIA_CYL_3M']].min().min(), df[['CASIA_CYL_pre', 'CASIA_CYL_3M']].max().max())\n",
        "plt.ylim(df[['CASIA_CYL_pre', 'CASIA_CYL_3M']].min().min(), df[['CASIA_CYL_pre', 'CASIA_CYL_3M']].max().max())\n",
        "\n",
        "plt.show()"
      ],
      "metadata": {
        "id": "omAPSrD1bp64"
      },
      "execution_count": null,
      "outputs": []
    },
    {
      "cell_type": "code",
      "source": [
        "# Performing Wilcoxon Signed-Rank Test for asg_0_pre and asg_0_3M\n",
        "wilcoxon_test_asg_0 = wilcoxon(df['asg_0_pre'], df['asg_0_3M'])\n",
        "\n",
        "# Wilcoxon test result for asg_0_pre and asg_0_3M\n",
        "wilcoxon_test_asg_0_statistic, wilcoxon_test_asg_0_pvalue = wilcoxon_test_asg_0\n",
        "wilcoxon_test_asg_0_statistic, wilcoxon_test_asg_0_pvalue"
      ],
      "metadata": {
        "colab": {
          "base_uri": "https://localhost:8080/"
        },
        "id": "eJyvaf9Dcglb",
        "outputId": "00b40dc6-a2f8-4c80-ad1a-dc189313301c"
      },
      "execution_count": 88,
      "outputs": [
        {
          "output_type": "execute_result",
          "data": {
            "text/plain": [
              "(101.0, 0.6332969665527344)"
            ]
          },
          "metadata": {},
          "execution_count": 88
        }
      ]
    },
    {
      "cell_type": "code",
      "source": [
        "# Performing Wilcoxon Signed-Rank Test for asg_0_pre and asg_0_3M\n",
        "wilcoxon_test_asg_0 = wilcoxon(df['asg_45_pre'], df['asg_45_3M'])\n",
        "\n",
        "# Wilcoxon test result for asg_0_pre and asg_0_3M\n",
        "wilcoxon_test_asg_0_statistic, wilcoxon_test_asg_0_pvalue = wilcoxon_test_asg_0\n",
        "wilcoxon_test_asg_0_statistic, wilcoxon_test_asg_0_pvalue"
      ],
      "metadata": {
        "colab": {
          "base_uri": "https://localhost:8080/"
        },
        "id": "k9Yy4ldafFxS",
        "outputId": "8822eb63-ab95-480c-8e3a-10c4d3e61221"
      },
      "execution_count": 89,
      "outputs": [
        {
          "output_type": "execute_result",
          "data": {
            "text/plain": [
              "(89.0, 0.37372493743896484)"
            ]
          },
          "metadata": {},
          "execution_count": 89
        }
      ]
    },
    {
      "cell_type": "code",
      "source": [],
      "metadata": {
        "id": "0-wC9lkOfGHr"
      },
      "execution_count": null,
      "outputs": []
    }
  ]
}