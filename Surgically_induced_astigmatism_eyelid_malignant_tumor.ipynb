{
  "nbformat": 4,
  "nbformat_minor": 0,
  "metadata": {
    "colab": {
      "provenance": [],
      "authorship_tag": "ABX9TyN2Ih/uegMgg3LcWMwCjUQm",
      "include_colab_link": true
    },
    "kernelspec": {
      "name": "python3",
      "display_name": "Python 3"
    },
    "language_info": {
      "name": "python"
    }
  },
  "cells": [
    {
      "cell_type": "markdown",
      "metadata": {
        "id": "view-in-github",
        "colab_type": "text"
      },
      "source": [
        "<a href=\"https://colab.research.google.com/github/ykitaguchi77/statistics_for_articles/blob/main/Surgically_induced_astigmatism_eyelid_malignant_tumor.ipynb\" target=\"_parent\"><img src=\"https://colab.research.google.com/assets/colab-badge.svg\" alt=\"Open In Colab\"/></a>"
      ]
    },
    {
      "cell_type": "markdown",
      "source": [
        "#**Surgically induced astigmatism and higher order abberation after surgery of the eyelid malignant tumor**"
      ],
      "metadata": {
        "id": "G8De2HxDNQUI"
      }
    },
    {
      "cell_type": "code",
      "execution_count": 1,
      "metadata": {
        "colab": {
          "base_uri": "https://localhost:8080/"
        },
        "id": "KfyWQ4_tNHt6",
        "outputId": "36b00107-35c7-41f3-810e-a2261da53937"
      },
      "outputs": [
        {
          "output_type": "stream",
          "name": "stdout",
          "text": [
            "Mounted at /content/drive\n"
          ]
        }
      ],
      "source": [
        "from google.colab import drive\n",
        "drive.mount('/content/drive')"
      ]
    },
    {
      "cell_type": "code",
      "source": [
        "import pandas as pd\n",
        "\n",
        "xlsx_path = \"/content/drive/MyDrive/発表/日本眼形成再建外科学会/202306 HOA after wide excision/眼瞼悪性腫瘍波面_2.xlsx\"\n",
        "excel_data = pd.read_excel(xlsx_path)\n",
        "\n",
        "df = excel_data.drop(['ID', 'Name'], axis=1) #idとnameを削除\n",
        "\n",
        "# Display the first few rows of the dataframe\n",
        "df.head()\n"
      ],
      "metadata": {
        "id": "6asIaNxENxdK",
        "outputId": "53127a95-1def-4659-ec7b-9710201d6782",
        "colab": {
          "base_uri": "https://localhost:8080/",
          "height": 707
        }
      },
      "execution_count": 2,
      "outputs": [
        {
          "output_type": "execute_result",
          "data": {
            "text/plain": [
              "       生年月日 性別 side       手術日                 Unnamed: 6  lower-upper  \\\n",
              "0  19400122  M    L  20180209       Basal cell carcinoma            0   \n",
              "1  19480423  M    L  20180302  Sebaceous gland carcinoma            1   \n",
              "2  19750121  F    R  20180816  Sebaceous gland carcinoma            0   \n",
              "3  19520519  F    L  20180913  Sebaceous gland carcinoma            1   \n",
              "4  19490417  F    L  20181213  Sebaceous gland carcinoma            0   \n",
              "\n",
              "   Unnamed: 8  Unnamed: 9  Unnamed: 10  \\\n",
              "0  左　下眼瞼基底細胞癌           1            1   \n",
              "1    左　上眼瞼脂腺癌           1            1   \n",
              "2    右　下眼瞼脂腺癌           1            1   \n",
              "3    左　上眼瞼脂腺癌           1            1   \n",
              "4  左　下眼瞼基底細胞癌           1            1   \n",
              "\n",
              "                                         Unnamed: 11  ... HOA_pre  \\\n",
              "0                                      wide excision  ...   0.199   \n",
              "1                                      wide Excision  ...   0.170   \n",
              "2  Wide excision and reconstruction using reverse...  ...   0.099   \n",
              "3  Wide excision and reconstruction using free ta...  ...   0.288   \n",
              "4                      Wide exision + reconstruction  ...   0.190   \n",
              "\n",
              "           HOA_1M HOA_3M   ΔHOA Tumor_size  Margin  Defect  Defect_calc  \\\n",
              "0        0.458(2)  0.221  0.022          5       5      15     5+5+5=15   \n",
              "1  0.254/0.259(2)  0.296  0.126          6       5      16     6+5+5=16   \n",
              "2           0.068  0.097 -0.002          3       3       9      3+3+3=9   \n",
              "3     0.250/0.206  0.164 -0.124          8       5      18     8+5+5=18   \n",
              "4     0.315/0.303  0.178 -0.012          6       4      14     6+4+4=14   \n",
              "\n",
              "                                           Precedure  Complications  \n",
              "0  maximum Hughes flap(内側は骨膜を利用)・皮膚移植(右上眼瞼より)・眼輪筋...         SPK　下側  \n",
              "1                              遊離瞼板結膜弁・上眼瞼皮膚切除・眼輪筋前転        SPK　耳上側  \n",
              "2                                        tenzel flap     角膜上皮びらん　下側  \n",
              "3                                      遊離瞼板弁(右上眼瞼より)            SPK  \n",
              "4                  遊離瞼板弁・皮膚移植(左上眼瞼より)(sandwich flap)             なし  \n",
              "\n",
              "[5 rows x 46 columns]"
            ],
            "text/html": [
              "\n",
              "  <div id=\"df-b0054647-206e-4623-8d4a-059a3860b860\" class=\"colab-df-container\">\n",
              "    <div>\n",
              "<style scoped>\n",
              "    .dataframe tbody tr th:only-of-type {\n",
              "        vertical-align: middle;\n",
              "    }\n",
              "\n",
              "    .dataframe tbody tr th {\n",
              "        vertical-align: top;\n",
              "    }\n",
              "\n",
              "    .dataframe thead th {\n",
              "        text-align: right;\n",
              "    }\n",
              "</style>\n",
              "<table border=\"1\" class=\"dataframe\">\n",
              "  <thead>\n",
              "    <tr style=\"text-align: right;\">\n",
              "      <th></th>\n",
              "      <th>生年月日</th>\n",
              "      <th>性別</th>\n",
              "      <th>side</th>\n",
              "      <th>手術日</th>\n",
              "      <th>Unnamed: 6</th>\n",
              "      <th>lower-upper</th>\n",
              "      <th>Unnamed: 8</th>\n",
              "      <th>Unnamed: 9</th>\n",
              "      <th>Unnamed: 10</th>\n",
              "      <th>Unnamed: 11</th>\n",
              "      <th>...</th>\n",
              "      <th>HOA_pre</th>\n",
              "      <th>HOA_1M</th>\n",
              "      <th>HOA_3M</th>\n",
              "      <th>ΔHOA</th>\n",
              "      <th>Tumor_size</th>\n",
              "      <th>Margin</th>\n",
              "      <th>Defect</th>\n",
              "      <th>Defect_calc</th>\n",
              "      <th>Precedure</th>\n",
              "      <th>Complications</th>\n",
              "    </tr>\n",
              "  </thead>\n",
              "  <tbody>\n",
              "    <tr>\n",
              "      <th>0</th>\n",
              "      <td>19400122</td>\n",
              "      <td>M</td>\n",
              "      <td>L</td>\n",
              "      <td>20180209</td>\n",
              "      <td>Basal cell carcinoma</td>\n",
              "      <td>0</td>\n",
              "      <td>左　下眼瞼基底細胞癌</td>\n",
              "      <td>1</td>\n",
              "      <td>1</td>\n",
              "      <td>wide excision</td>\n",
              "      <td>...</td>\n",
              "      <td>0.199</td>\n",
              "      <td>0.458(2)</td>\n",
              "      <td>0.221</td>\n",
              "      <td>0.022</td>\n",
              "      <td>5</td>\n",
              "      <td>5</td>\n",
              "      <td>15</td>\n",
              "      <td>5+5+5=15</td>\n",
              "      <td>maximum Hughes flap(内側は骨膜を利用)・皮膚移植(右上眼瞼より)・眼輪筋...</td>\n",
              "      <td>SPK　下側</td>\n",
              "    </tr>\n",
              "    <tr>\n",
              "      <th>1</th>\n",
              "      <td>19480423</td>\n",
              "      <td>M</td>\n",
              "      <td>L</td>\n",
              "      <td>20180302</td>\n",
              "      <td>Sebaceous gland carcinoma</td>\n",
              "      <td>1</td>\n",
              "      <td>左　上眼瞼脂腺癌</td>\n",
              "      <td>1</td>\n",
              "      <td>1</td>\n",
              "      <td>wide Excision</td>\n",
              "      <td>...</td>\n",
              "      <td>0.170</td>\n",
              "      <td>0.254/0.259(2)</td>\n",
              "      <td>0.296</td>\n",
              "      <td>0.126</td>\n",
              "      <td>6</td>\n",
              "      <td>5</td>\n",
              "      <td>16</td>\n",
              "      <td>6+5+5=16</td>\n",
              "      <td>遊離瞼板結膜弁・上眼瞼皮膚切除・眼輪筋前転</td>\n",
              "      <td>SPK　耳上側</td>\n",
              "    </tr>\n",
              "    <tr>\n",
              "      <th>2</th>\n",
              "      <td>19750121</td>\n",
              "      <td>F</td>\n",
              "      <td>R</td>\n",
              "      <td>20180816</td>\n",
              "      <td>Sebaceous gland carcinoma</td>\n",
              "      <td>0</td>\n",
              "      <td>右　下眼瞼脂腺癌</td>\n",
              "      <td>1</td>\n",
              "      <td>1</td>\n",
              "      <td>Wide excision and reconstruction using reverse...</td>\n",
              "      <td>...</td>\n",
              "      <td>0.099</td>\n",
              "      <td>0.068</td>\n",
              "      <td>0.097</td>\n",
              "      <td>-0.002</td>\n",
              "      <td>3</td>\n",
              "      <td>3</td>\n",
              "      <td>9</td>\n",
              "      <td>3+3+3=9</td>\n",
              "      <td>tenzel flap</td>\n",
              "      <td>角膜上皮びらん　下側</td>\n",
              "    </tr>\n",
              "    <tr>\n",
              "      <th>3</th>\n",
              "      <td>19520519</td>\n",
              "      <td>F</td>\n",
              "      <td>L</td>\n",
              "      <td>20180913</td>\n",
              "      <td>Sebaceous gland carcinoma</td>\n",
              "      <td>1</td>\n",
              "      <td>左　上眼瞼脂腺癌</td>\n",
              "      <td>1</td>\n",
              "      <td>1</td>\n",
              "      <td>Wide excision and reconstruction using free ta...</td>\n",
              "      <td>...</td>\n",
              "      <td>0.288</td>\n",
              "      <td>0.250/0.206</td>\n",
              "      <td>0.164</td>\n",
              "      <td>-0.124</td>\n",
              "      <td>8</td>\n",
              "      <td>5</td>\n",
              "      <td>18</td>\n",
              "      <td>8+5+5=18</td>\n",
              "      <td>遊離瞼板弁(右上眼瞼より)</td>\n",
              "      <td>SPK</td>\n",
              "    </tr>\n",
              "    <tr>\n",
              "      <th>4</th>\n",
              "      <td>19490417</td>\n",
              "      <td>F</td>\n",
              "      <td>L</td>\n",
              "      <td>20181213</td>\n",
              "      <td>Sebaceous gland carcinoma</td>\n",
              "      <td>0</td>\n",
              "      <td>左　下眼瞼基底細胞癌</td>\n",
              "      <td>1</td>\n",
              "      <td>1</td>\n",
              "      <td>Wide exision + reconstruction</td>\n",
              "      <td>...</td>\n",
              "      <td>0.190</td>\n",
              "      <td>0.315/0.303</td>\n",
              "      <td>0.178</td>\n",
              "      <td>-0.012</td>\n",
              "      <td>6</td>\n",
              "      <td>4</td>\n",
              "      <td>14</td>\n",
              "      <td>6+4+4=14</td>\n",
              "      <td>遊離瞼板弁・皮膚移植(左上眼瞼より)(sandwich flap)</td>\n",
              "      <td>なし</td>\n",
              "    </tr>\n",
              "  </tbody>\n",
              "</table>\n",
              "<p>5 rows × 46 columns</p>\n",
              "</div>\n",
              "    <div class=\"colab-df-buttons\">\n",
              "\n",
              "  <div class=\"colab-df-container\">\n",
              "    <button class=\"colab-df-convert\" onclick=\"convertToInteractive('df-b0054647-206e-4623-8d4a-059a3860b860')\"\n",
              "            title=\"Convert this dataframe to an interactive table.\"\n",
              "            style=\"display:none;\">\n",
              "\n",
              "  <svg xmlns=\"http://www.w3.org/2000/svg\" height=\"24px\" viewBox=\"0 -960 960 960\">\n",
              "    <path d=\"M120-120v-720h720v720H120Zm60-500h600v-160H180v160Zm220 220h160v-160H400v160Zm0 220h160v-160H400v160ZM180-400h160v-160H180v160Zm440 0h160v-160H620v160ZM180-180h160v-160H180v160Zm440 0h160v-160H620v160Z\"/>\n",
              "  </svg>\n",
              "    </button>\n",
              "\n",
              "  <style>\n",
              "    .colab-df-container {\n",
              "      display:flex;\n",
              "      gap: 12px;\n",
              "    }\n",
              "\n",
              "    .colab-df-convert {\n",
              "      background-color: #E8F0FE;\n",
              "      border: none;\n",
              "      border-radius: 50%;\n",
              "      cursor: pointer;\n",
              "      display: none;\n",
              "      fill: #1967D2;\n",
              "      height: 32px;\n",
              "      padding: 0 0 0 0;\n",
              "      width: 32px;\n",
              "    }\n",
              "\n",
              "    .colab-df-convert:hover {\n",
              "      background-color: #E2EBFA;\n",
              "      box-shadow: 0px 1px 2px rgba(60, 64, 67, 0.3), 0px 1px 3px 1px rgba(60, 64, 67, 0.15);\n",
              "      fill: #174EA6;\n",
              "    }\n",
              "\n",
              "    .colab-df-buttons div {\n",
              "      margin-bottom: 4px;\n",
              "    }\n",
              "\n",
              "    [theme=dark] .colab-df-convert {\n",
              "      background-color: #3B4455;\n",
              "      fill: #D2E3FC;\n",
              "    }\n",
              "\n",
              "    [theme=dark] .colab-df-convert:hover {\n",
              "      background-color: #434B5C;\n",
              "      box-shadow: 0px 1px 3px 1px rgba(0, 0, 0, 0.15);\n",
              "      filter: drop-shadow(0px 1px 2px rgba(0, 0, 0, 0.3));\n",
              "      fill: #FFFFFF;\n",
              "    }\n",
              "  </style>\n",
              "\n",
              "    <script>\n",
              "      const buttonEl =\n",
              "        document.querySelector('#df-b0054647-206e-4623-8d4a-059a3860b860 button.colab-df-convert');\n",
              "      buttonEl.style.display =\n",
              "        google.colab.kernel.accessAllowed ? 'block' : 'none';\n",
              "\n",
              "      async function convertToInteractive(key) {\n",
              "        const element = document.querySelector('#df-b0054647-206e-4623-8d4a-059a3860b860');\n",
              "        const dataTable =\n",
              "          await google.colab.kernel.invokeFunction('convertToInteractive',\n",
              "                                                    [key], {});\n",
              "        if (!dataTable) return;\n",
              "\n",
              "        const docLinkHtml = 'Like what you see? Visit the ' +\n",
              "          '<a target=\"_blank\" href=https://colab.research.google.com/notebooks/data_table.ipynb>data table notebook</a>'\n",
              "          + ' to learn more about interactive tables.';\n",
              "        element.innerHTML = '';\n",
              "        dataTable['output_type'] = 'display_data';\n",
              "        await google.colab.output.renderOutput(dataTable, element);\n",
              "        const docLink = document.createElement('div');\n",
              "        docLink.innerHTML = docLinkHtml;\n",
              "        element.appendChild(docLink);\n",
              "      }\n",
              "    </script>\n",
              "  </div>\n",
              "\n",
              "\n",
              "<div id=\"df-a04dbe51-64fc-489b-9861-45c4b07f4a3d\">\n",
              "  <button class=\"colab-df-quickchart\" onclick=\"quickchart('df-a04dbe51-64fc-489b-9861-45c4b07f4a3d')\"\n",
              "            title=\"Suggest charts\"\n",
              "            style=\"display:none;\">\n",
              "\n",
              "<svg xmlns=\"http://www.w3.org/2000/svg\" height=\"24px\"viewBox=\"0 0 24 24\"\n",
              "     width=\"24px\">\n",
              "    <g>\n",
              "        <path d=\"M19 3H5c-1.1 0-2 .9-2 2v14c0 1.1.9 2 2 2h14c1.1 0 2-.9 2-2V5c0-1.1-.9-2-2-2zM9 17H7v-7h2v7zm4 0h-2V7h2v10zm4 0h-2v-4h2v4z\"/>\n",
              "    </g>\n",
              "</svg>\n",
              "  </button>\n",
              "\n",
              "<style>\n",
              "  .colab-df-quickchart {\n",
              "      --bg-color: #E8F0FE;\n",
              "      --fill-color: #1967D2;\n",
              "      --hover-bg-color: #E2EBFA;\n",
              "      --hover-fill-color: #174EA6;\n",
              "      --disabled-fill-color: #AAA;\n",
              "      --disabled-bg-color: #DDD;\n",
              "  }\n",
              "\n",
              "  [theme=dark] .colab-df-quickchart {\n",
              "      --bg-color: #3B4455;\n",
              "      --fill-color: #D2E3FC;\n",
              "      --hover-bg-color: #434B5C;\n",
              "      --hover-fill-color: #FFFFFF;\n",
              "      --disabled-bg-color: #3B4455;\n",
              "      --disabled-fill-color: #666;\n",
              "  }\n",
              "\n",
              "  .colab-df-quickchart {\n",
              "    background-color: var(--bg-color);\n",
              "    border: none;\n",
              "    border-radius: 50%;\n",
              "    cursor: pointer;\n",
              "    display: none;\n",
              "    fill: var(--fill-color);\n",
              "    height: 32px;\n",
              "    padding: 0;\n",
              "    width: 32px;\n",
              "  }\n",
              "\n",
              "  .colab-df-quickchart:hover {\n",
              "    background-color: var(--hover-bg-color);\n",
              "    box-shadow: 0 1px 2px rgba(60, 64, 67, 0.3), 0 1px 3px 1px rgba(60, 64, 67, 0.15);\n",
              "    fill: var(--button-hover-fill-color);\n",
              "  }\n",
              "\n",
              "  .colab-df-quickchart-complete:disabled,\n",
              "  .colab-df-quickchart-complete:disabled:hover {\n",
              "    background-color: var(--disabled-bg-color);\n",
              "    fill: var(--disabled-fill-color);\n",
              "    box-shadow: none;\n",
              "  }\n",
              "\n",
              "  .colab-df-spinner {\n",
              "    border: 2px solid var(--fill-color);\n",
              "    border-color: transparent;\n",
              "    border-bottom-color: var(--fill-color);\n",
              "    animation:\n",
              "      spin 1s steps(1) infinite;\n",
              "  }\n",
              "\n",
              "  @keyframes spin {\n",
              "    0% {\n",
              "      border-color: transparent;\n",
              "      border-bottom-color: var(--fill-color);\n",
              "      border-left-color: var(--fill-color);\n",
              "    }\n",
              "    20% {\n",
              "      border-color: transparent;\n",
              "      border-left-color: var(--fill-color);\n",
              "      border-top-color: var(--fill-color);\n",
              "    }\n",
              "    30% {\n",
              "      border-color: transparent;\n",
              "      border-left-color: var(--fill-color);\n",
              "      border-top-color: var(--fill-color);\n",
              "      border-right-color: var(--fill-color);\n",
              "    }\n",
              "    40% {\n",
              "      border-color: transparent;\n",
              "      border-right-color: var(--fill-color);\n",
              "      border-top-color: var(--fill-color);\n",
              "    }\n",
              "    60% {\n",
              "      border-color: transparent;\n",
              "      border-right-color: var(--fill-color);\n",
              "    }\n",
              "    80% {\n",
              "      border-color: transparent;\n",
              "      border-right-color: var(--fill-color);\n",
              "      border-bottom-color: var(--fill-color);\n",
              "    }\n",
              "    90% {\n",
              "      border-color: transparent;\n",
              "      border-bottom-color: var(--fill-color);\n",
              "    }\n",
              "  }\n",
              "</style>\n",
              "\n",
              "  <script>\n",
              "    async function quickchart(key) {\n",
              "      const quickchartButtonEl =\n",
              "        document.querySelector('#' + key + ' button');\n",
              "      quickchartButtonEl.disabled = true;  // To prevent multiple clicks.\n",
              "      quickchartButtonEl.classList.add('colab-df-spinner');\n",
              "      try {\n",
              "        const charts = await google.colab.kernel.invokeFunction(\n",
              "            'suggestCharts', [key], {});\n",
              "      } catch (error) {\n",
              "        console.error('Error during call to suggestCharts:', error);\n",
              "      }\n",
              "      quickchartButtonEl.classList.remove('colab-df-spinner');\n",
              "      quickchartButtonEl.classList.add('colab-df-quickchart-complete');\n",
              "    }\n",
              "    (() => {\n",
              "      let quickchartButtonEl =\n",
              "        document.querySelector('#df-a04dbe51-64fc-489b-9861-45c4b07f4a3d button');\n",
              "      quickchartButtonEl.style.display =\n",
              "        google.colab.kernel.accessAllowed ? 'block' : 'none';\n",
              "    })();\n",
              "  </script>\n",
              "</div>\n",
              "    </div>\n",
              "  </div>\n"
            ]
          },
          "metadata": {},
          "execution_count": 2
        }
      ]
    },
    {
      "cell_type": "code",
      "source": [
        "from datetime import datetime\n",
        "\n",
        "#年齢の算出\n",
        "def calculate_age_robust(birth_date, surgery_date):\n",
        "    try:\n",
        "        # Handling potential inconsistencies in date formats\n",
        "        birth_str = str(birth_date).split(\"/\")[0]  # Handling dates with slashes\n",
        "        surgery_str = str(surgery_date).split(\"/\")[0]  # Handling dates with slashes\n",
        "\n",
        "        birth = datetime.strptime(birth_str, \"%Y%m%d\")\n",
        "        surgery = datetime.strptime(surgery_str, \"%Y%m%d\")\n",
        "        age = surgery.year - birth.year - ((surgery.month, surgery.day) < (birth.month, birth.day))\n",
        "        return age\n",
        "    except Exception as e:\n",
        "        # Returning a placeholder in case of any errors\n",
        "        return None\n",
        "\n",
        "# Applying the updated function to the dataframe\n",
        "df['age'] = df.apply(lambda x: calculate_age_robust(x['生年月日'], x['手術日']), axis=1)\n",
        "\n",
        "# Calculating statistical values for the Age_at_Surgery column\n",
        "age_statistics = df['age'].describe()\n",
        "\n",
        "print(age_statistics)"
      ],
      "metadata": {
        "colab": {
          "base_uri": "https://localhost:8080/"
        },
        "id": "jXxGS47ZOY2I",
        "outputId": "e7dcd2f5-895f-4c1d-b750-fed96d081d70"
      },
      "execution_count": 3,
      "outputs": [
        {
          "output_type": "stream",
          "name": "stdout",
          "text": [
            "count    21.000000\n",
            "mean     70.000000\n",
            "std      13.270268\n",
            "min      38.000000\n",
            "25%      66.000000\n",
            "50%      73.000000\n",
            "75%      78.000000\n",
            "max      87.000000\n",
            "Name: age, dtype: float64\n"
          ]
        }
      ]
    },
    {
      "cell_type": "code",
      "source": [
        "#Δasg_absの算出\n",
        "def calculate_asg_abs(CASIA_CYL_pre, CASIA_CYL_3M):\n",
        "    delta = CASIA_CYL_3M - CASIA_CYL_pre\n",
        "    return delta\n",
        "\n",
        "# Applying the updated function to the dataframe\n",
        "df['Δasg_abs'] = df.apply(lambda x: calculate_asg_abs(x['CASIA_CYL_pre'], x['CASIA_CYL_3M']), axis=1)"
      ],
      "metadata": {
        "id": "82sBSR5aPfdf"
      },
      "execution_count": 4,
      "outputs": []
    },
    {
      "cell_type": "code",
      "source": [
        "#その他の統計量\n",
        "# Extracting relevant columns: Gender, Left/Right (Unnamed: 4), and Defect size\n",
        "gender_lr_defect = df[['性別', 'side', 'Defect']]\n",
        "\n",
        "# Renaming columns for clarity\n",
        "gender_lr_defect.columns = ['Gender', 'Left/Right', 'Defect Size']\n",
        "\n",
        "# Calculating statistics for Defect Size\n",
        "defect_stats = gender_lr_defect['Defect Size'].describe()\n",
        "\n",
        "# Counting occurrences for Gender and Left/Right\n",
        "gender_counts = gender_lr_defect['Gender'].value_counts()\n",
        "left_right_counts = gender_lr_defect['Left/Right'].value_counts()\n",
        "\n",
        "print(gender_counts)\n",
        "print(\"\")\n",
        "print(left_right_counts)\n",
        "print(\"\")\n",
        "print(defect_stats)\n",
        "\n",
        "\n"
      ],
      "metadata": {
        "colab": {
          "base_uri": "https://localhost:8080/"
        },
        "id": "bsx93bwshD-e",
        "outputId": "95308d78-c7fd-46e0-eadd-eb0aee2d1ac9"
      },
      "execution_count": 5,
      "outputs": [
        {
          "output_type": "stream",
          "name": "stdout",
          "text": [
            "F    15\n",
            "M     6\n",
            "Name: Gender, dtype: int64\n",
            "\n",
            "R    11\n",
            "L    10\n",
            "Name: Left/Right, dtype: int64\n",
            "\n",
            "count    21.000000\n",
            "mean     15.476190\n",
            "std       6.265932\n",
            "min       8.000000\n",
            "25%      12.000000\n",
            "50%      14.000000\n",
            "75%      18.000000\n",
            "max      34.000000\n",
            "Name: Defect Size, dtype: float64\n"
          ]
        }
      ]
    },
    {
      "cell_type": "code",
      "source": [
        "#上眼瞼と下眼瞼に分けて解析\n",
        "\n",
        "# Splitting the dataframe based on the 'upper_lower' column values\n",
        "df_lower = df[df[\"lower-upper\"] == 0]\n",
        "df_upper = df[df[\"lower-upper\"] == 1]\n",
        "\n",
        "# Displaying the first few rows of each new dataframe to verify\n",
        "print(f\"上眼瞼: {len(df_upper)}例、下眼瞼: {len(df_lower)}例\")\n",
        "#df_lower.head(), df_upper.head()\n"
      ],
      "metadata": {
        "id": "MzqiUZfBPnVl",
        "colab": {
          "base_uri": "https://localhost:8080/"
        },
        "outputId": "0893f03b-0980-4fc8-9d93-9e3bea002703"
      },
      "execution_count": 6,
      "outputs": [
        {
          "output_type": "stream",
          "name": "stdout",
          "text": [
            "上眼瞼: 7例、下眼瞼: 14例\n"
          ]
        }
      ]
    },
    {
      "cell_type": "code",
      "source": [
        "from scipy.stats import mannwhitneyu\n",
        "\n",
        "# 上眼瞼と下眼瞼の比較 --> 有意差なし\n",
        "# Function to perform Mann-Whitney U test and return the p-value\n",
        "def perform_mannwhitneyu_test(column):\n",
        "    stat, p_value = mannwhitneyu(df_lower[column].dropna(), df_upper[column].dropna())\n",
        "    return p_value\n",
        "\n",
        "# Performing the test for each column\n",
        "columns_to_compare = [\"SIA_D\", \"Δasg_abs\", \"Δasg_0\", \"Δasg_45\", \"ΔHOA\"]\n",
        "p_values = {column: perform_mannwhitneyu_test(column) for column in columns_to_compare}\n",
        "\n",
        "p_values"
      ],
      "metadata": {
        "colab": {
          "base_uri": "https://localhost:8080/"
        },
        "id": "vQOiXXnRT6v9",
        "outputId": "8dcc42d4-4f05-4e37-c360-2811ebfdbabb"
      },
      "execution_count": 7,
      "outputs": [
        {
          "output_type": "execute_result",
          "data": {
            "text/plain": [
              "{'SIA_D': 0.3223082215342278,\n",
              " 'Δasg_abs': 0.5498374263359715,\n",
              " 'Δasg_0': 0.6888200894392846,\n",
              " 'Δasg_45': 0.360061919504644,\n",
              " 'ΔHOA': 0.5352597179222567}"
            ]
          },
          "metadata": {},
          "execution_count": 7
        }
      ]
    },
    {
      "cell_type": "code",
      "source": [
        "from scipy.stats import wilcoxon\n",
        "\n",
        "#preと3Mの高次収差の比較\n",
        "\n",
        "# Performing Wilcoxon Signed-Rank Test for HOA_pre and HOA_3M\n",
        "wilcoxon_test_result = wilcoxon(df['HOA_pre'], df['HOA_3M'])\n",
        "\n",
        "# Wilcoxon test result\n",
        "wilcoxon_test_statistic, wilcoxon_test_pvalue = wilcoxon_test_result\n",
        "print(wilcoxon_test_statistic, wilcoxon_test_pvalue)\n",
        "\n",
        "\n",
        "# Calculating descriptive statistics for HOA_pre and HOA_3M\n",
        "hoa_pre_stats = df['HOA_pre'].describe()\n",
        "hoa_3m_stats = df['HOA_3M'].describe()\n",
        "\n",
        "print(hoa_pre_stats)\n",
        "print(hoa_3m_stats)\n",
        "\n"
      ],
      "metadata": {
        "colab": {
          "base_uri": "https://localhost:8080/"
        },
        "id": "2fOo3O2qjZNi",
        "outputId": "7176a7a4-73fb-4185-ea46-6f7b32def17a"
      },
      "execution_count": 8,
      "outputs": [
        {
          "output_type": "stream",
          "name": "stdout",
          "text": [
            "35.0 0.0037527084350585938\n",
            "count    21.000000\n",
            "mean      0.180619\n",
            "std       0.077137\n",
            "min       0.082000\n",
            "25%       0.110000\n",
            "50%       0.179000\n",
            "75%       0.214000\n",
            "max       0.353000\n",
            "Name: HOA_pre, dtype: float64\n",
            "count    21.000000\n",
            "mean      0.264667\n",
            "std       0.171358\n",
            "min       0.097000\n",
            "25%       0.153000\n",
            "50%       0.221000\n",
            "75%       0.296000\n",
            "max       0.798000\n",
            "Name: HOA_3M, dtype: float64\n"
          ]
        }
      ]
    },
    {
      "cell_type": "code",
      "source": [
        "# Performing Wilcoxon Signed-Rank Test for HOA_0_pre and HOA_0_3M\n",
        "wilcoxon_test_HOA_0 = wilcoxon(df['HOA_pre'], df['HOA_3M'])\n",
        "\n",
        "# Wilcoxon test result for HOA_0_pre and HOA_0_3M\n",
        "wilcoxon_test_HOA_0_statistic, wilcoxon_test_HOA_0_pvalue = wilcoxon_test_HOA_0\n",
        "wilcoxon_test_HOA_0_statistic, wilcoxon_test_HOA_0_pvalue"
      ],
      "metadata": {
        "id": "C4rot6-a7cQo",
        "outputId": "ffd39975-6dbe-4dfd-c5c4-f43048ba882e",
        "colab": {
          "base_uri": "https://localhost:8080/"
        }
      },
      "execution_count": 9,
      "outputs": [
        {
          "output_type": "execute_result",
          "data": {
            "text/plain": [
              "(35.0, 0.0037527084350585938)"
            ]
          },
          "metadata": {},
          "execution_count": 9
        }
      ]
    },
    {
      "cell_type": "code",
      "source": [
        "import matplotlib.pyplot as plt\n",
        "import seaborn as sns\n",
        "\n",
        "# Plotting a scatter plot of HOA_pre and HOA_3M with equal axis scales\n",
        "plt.figure(figsize=(8, 8))\n",
        "sns.scatterplot(data=df, x='HOA_pre', y='HOA_3M')\n",
        "plt.title('Scatter Plot of HOA_pre vs HOA_3M')\n",
        "plt.xlabel('HOA_pre (Pre-Surgery)')\n",
        "plt.ylabel('HOA_3M (3 Months Post-Surgery)')\n",
        "plt.grid(True)\n",
        "\n",
        "# Setting equal scales for both axes\n",
        "plt.xlim(df[['HOA_pre', 'HOA_3M']].min().min(), df[['HOA_pre', 'HOA_3M']].max().max())\n",
        "plt.ylim(df[['HOA_pre', 'HOA_3M']].min().min(), df[['HOA_pre', 'HOA_3M']].max().max())\n",
        "\n",
        "plt.show()\n",
        "\n",
        "\n",
        "from scipy.stats import pearsonr\n",
        "\n",
        "# Calculating Pearson correlation and p-value between HOA_pre and HOA_3M\n",
        "pearson_corr_hoa_result = pearsonr(df['HOA_pre'], df['HOA_3M'])\n",
        "\n",
        "# Pearson correlation result and p-value for HOA_pre and HOA_3M\n",
        "pearson_corr_hoa_value, pearson_p_value_hoa = pearson_corr_hoa_result\n",
        "print(f\"r={pearson_corr_hoa_value}, p={pearson_p_value_hoa}\")\n",
        "\n",
        "\n",
        "\n",
        "\n",
        "\n",
        "# Plotting a scatter plot with a regression line\n",
        "plt.figure(figsize=(8, 8))\n",
        "sns.regplot(data=df, x='HOA_pre', y='HOA_3M', ci=None)  # ci=None removes the confidence interval\n",
        "plt.title('Scatter Plot of HOA_pre vs HOA_3M with Regression Line')\n",
        "plt.xlabel('HOA_pre (Pre-Surgery)')\n",
        "plt.ylabel('HOA_3M (3 Months Post-Surgery)')\n",
        "plt.grid(True)\n",
        "\n",
        "# Setting equal scales for both axes\n",
        "plt.xlim(df[['HOA_pre', 'HOA_3M']].min().min(), df[['HOA_pre', 'HOA_3M']].max().max())\n",
        "plt.ylim(df[['HOA_pre', 'HOA_3M']].min().min(), df[['HOA_pre', 'HOA_3M']].max().max())\n",
        "\n",
        "plt.show()\n",
        "\n"
      ],
      "metadata": {
        "id": "Bge8r7b1ZaTR",
        "outputId": "2fc94b2b-d871-4174-a288-4350ab7c75c6",
        "colab": {
          "base_uri": "https://localhost:8080/",
          "height": 1000
        }
      },
      "execution_count": 10,
      "outputs": [
        {
          "output_type": "display_data",
          "data": {
            "text/plain": [
              "<Figure size 800x800 with 1 Axes>"
            ],
            "image/png": "[encoded data removed]"
          },
          "metadata": {}
        },
        {
          "output_type": "stream",
          "name": "stdout",
          "text": [
            "r=0.5376412066808074, p=0.011947261388842003\n"
          ]
        },
        {
          "output_type": "display_data",
          "data": {
            "text/plain": [
              "<Figure size 800x800 with 1 Axes>"
            ],
            "image/png": "[encoded data removed]"
          },
          "metadata": {}
        }
      ]
    },
    {
      "cell_type": "code",
      "source": [
        "#乱視変化がどのような要因に関連するか検討\n",
        "from scipy.stats import ttest_ind, f_oneway\n",
        "import statsmodels.api as sm\n",
        "from scipy.stats import spearmanr\n",
        "\n",
        "\n",
        "# Extracting the relevant columns for ΔHOA analysis\n",
        "ΔHOA_data = df[['性別', 'side', 'Defect', 'ΔHOA']]\n",
        "ΔHOA_data.columns = ['Gender', 'Left/Right', 'Defect Size', 'ΔHOA']\n",
        "\n",
        "# Removing rows with missing ΔHOA values\n",
        "ΔHOA_data = ΔHOA_data.dropna(subset=['ΔHOA'])\n",
        "\n",
        "# Univariate Analysis\n",
        "# T-tests for Gender and Left/Right\n",
        "mannwhitneyu_gender = mannwhitneyu(ΔHOA_data[ΔHOA_data['Gender'] == 'M']['ΔHOA'],\n",
        "                         ΔHOA_data[ΔHOA_data['Gender'] == 'F']['ΔHOA'])\n",
        "mannwhitneyu_left_right = mannwhitneyu(ΔHOA_data[ΔHOA_data['Left/Right'] == 'L']['ΔHOA'],\n",
        "                             ΔHOA_data[ΔHOA_data['Left/Right'] == 'R']['ΔHOA'])\n",
        "\n",
        "# Calculating Spearman correlation and p-value between age and ΔHOA\n",
        "spearman_age_result = spearmanr(df['age'], df['ΔHOA'])\n",
        "# Spearman correlation result and p-value\n",
        "spearman_age_corr_value, spearman_age_p_value = spearman_age_result\n",
        "\n",
        "\n",
        "# Calculating Spearman correlation and p-value between Defect and ΔHOA\n",
        "spearman_defect_result = spearmanr(df['Defect'], df['ΔHOA'])\n",
        "# Spearman correlation result and p-value\n",
        "spearman_defect_corr_value, spearman_defect_p_value = spearman_defect_result\n",
        "\n",
        "\n",
        "print(f\"Gender: {mannwhitneyu_gender}\")\n",
        "print(f\"Side: {mannwhitneyu_left_right}\")\n",
        "print(f\"Age: r={spearman_age_corr_value}, p={spearman_age_p_value}\")\n",
        "print(f\"Defect: r={spearman_defect_corr_value}, p={spearman_defect_p_value}\")\n",
        "\n"
      ],
      "metadata": {
        "id": "YSf1ZTo7RwT5",
        "outputId": "aa8c4815-ad16-4a6e-d568-fbd855cfb6cd",
        "colab": {
          "base_uri": "https://localhost:8080/"
        }
      },
      "execution_count": 11,
      "outputs": [
        {
          "output_type": "stream",
          "name": "stdout",
          "text": [
            "Gender: MannwhitneyuResult(statistic=64.0, pvalue=0.15369305616983636)\n",
            "Side: MannwhitneyuResult(statistic=50.0, pvalue=0.7513343125576336)\n",
            "Age: r=0.16020908916439267, p=0.4878601416126871\n",
            "Defect: r=0.46304334307269596, p=0.03452624669904602\n"
          ]
        }
      ]
    },
    {
      "cell_type": "code",
      "source": [
        "import matplotlib.pyplot as plt\n",
        "import seaborn as sns\n",
        "\n",
        "# Assuming 'df' is the dataframe with all the relevant data\n",
        "# Extracting the necessary columns\n",
        "ΔHOA = df['ΔHOA']\n",
        "Defect = df['Defect']\n",
        "\n",
        "# Creating a scatter plot for ΔHOA and Defect\n",
        "plt.figure(figsize=(10, 6))\n",
        "sns.scatterplot(x=Defect, y=ΔHOA)\n",
        "plt.title('Scatter Plot of ΔHOA vs. Defect Size')\n",
        "plt.xlabel('Defect Size')\n",
        "plt.ylabel('ΔHOA')\n",
        "plt.show()\n"
      ],
      "metadata": {
        "id": "5aou5e6-SNBv",
        "outputId": "5f2a86ba-815a-4cc5-f1d4-bb490b14f95c",
        "colab": {
          "base_uri": "https://localhost:8080/",
          "height": 564
        }
      },
      "execution_count": 12,
      "outputs": [
        {
          "output_type": "display_data",
          "data": {
            "text/plain": [
              "<Figure size 1000x600 with 1 Axes>"
            ],
            "image/png": "[encoded data removed]"
          },
          "metadata": {}
        }
      ]
    },
    {
      "cell_type": "markdown",
      "source": [
        "###術前後の乱視比較"
      ],
      "metadata": {
        "id": "OaxY-I3WbuVj"
      }
    },
    {
      "cell_type": "code",
      "source": [
        "#SIA_D, Δasg_0, Δasg_45に関する統計量\n",
        "\n",
        "# Splitting the dataframe again based on the 'lower-upper' column values\n",
        "df_all = df\n",
        "df_lower = df[df[\"lower-upper\"] == 0]\n",
        "df_upper = df[df[\"lower-upper\"] == 1]\n",
        "\n",
        "# Comparing the columns 'SIA_D', 'Δasg_0', 'Δasg_45' in df_upper and df_lower\n",
        "\n",
        "# Selecting the relevant columns for comparison\n",
        "columns_to_compare = ['SIA_D', 'Δasg_0', 'Δasg_45']\n",
        "\n",
        "# Calculating statistical values for these columns in both dataframes\n",
        "stats_df_all = df_all[columns_to_compare].describe()\n",
        "stats_df_lower = df_lower[columns_to_compare].describe()\n",
        "stats_df_upper = df_upper[columns_to_compare].describe()\n",
        "\n",
        "print(stats_df_all)\n",
        "print(\"\")\n",
        "print(stats_df_lower)\n",
        "print(\"\")\n",
        "print(stats_df_upper)\n"
      ],
      "metadata": {
        "colab": {
          "base_uri": "https://localhost:8080/"
        },
        "id": "c7sefLV_dqU8",
        "outputId": "96d244e7-baa5-427e-c9f8-c1def8e23286"
      },
      "execution_count": 13,
      "outputs": [
        {
          "output_type": "stream",
          "name": "stdout",
          "text": [
            "           SIA_D     Δasg_0    Δasg_45\n",
            "count  21.000000  21.000000  21.000000\n",
            "mean    0.884828   0.140827   0.061317\n",
            "std     0.569896   0.861801   0.615933\n",
            "min     0.200000  -1.560450  -1.318164\n",
            "25%     0.552330  -0.301631  -0.240736\n",
            "50%     0.731663  -0.010470   0.205561\n",
            "75%     1.063482   0.630383   0.431334\n",
            "max     2.426709   2.101558   0.882085\n",
            "\n",
            "           SIA_D     Δasg_0    Δasg_45\n",
            "count  14.000000  14.000000  14.000000\n",
            "mean    0.741406   0.058397   0.184310\n",
            "std     0.367172   0.655101   0.507314\n",
            "min     0.200000  -0.972569  -0.736869\n",
            "25%     0.517273  -0.286174  -0.202471\n",
            "50%     0.671924  -0.013673   0.323809\n",
            "75%     1.009928   0.447196   0.467991\n",
            "max     1.375730   1.348246   0.882085\n",
            "\n",
            "          SIA_D    Δasg_0   Δasg_45\n",
            "count  7.000000  7.000000  7.000000\n",
            "mean   1.171672  0.305687 -0.184668\n",
            "std    0.804062  1.224037  0.775281\n",
            "min    0.304378 -1.560450 -1.318164\n",
            "25%    0.595550 -0.456905 -0.632861\n",
            "50%    0.873601  0.550848  0.040425\n",
            "75%    1.702957  0.980832  0.303812\n",
            "max    2.426709  2.101558  0.643160\n"
          ]
        }
      ]
    },
    {
      "cell_type": "code",
      "source": [
        "#術前後の乱視の比較\n",
        "# Performing Wilcoxon Signed-Rank Test for CASIA_CYL_pre and CASIA_CYL_3M\n",
        "wilcoxon_test_casia_cyl = wilcoxon(df['CASIA_CYL_pre'], df['CASIA_CYL_3M'])\n",
        "\n",
        "# Wilcoxon test result for CASIA_CYL_pre and CASIA_CYL_3M\n",
        "wilcoxon_test_casia_cyl_statistic, wilcoxon_test_casia_cyl_pvalue = wilcoxon_test_casia_cyl\n",
        "print(wilcoxon_test_casia_cyl_statistic, wilcoxon_test_casia_cyl_pvalue)\n",
        "\n",
        "# Calculating descriptive statistics for CASIA_CYL_pre and CASIA_CYL_3M\n",
        "casia_cyl_pre_stats = df['CASIA_CYL_pre'].describe()\n",
        "casia_cyl_3m_stats = df['CASIA_CYL_3M'].describe()\n",
        "\n",
        "print(casia_cyl_pre_stats)\n",
        "print(\"\")\n",
        "print(casia_cyl_3m_stats)\n",
        "\n"
      ],
      "metadata": {
        "colab": {
          "base_uri": "https://localhost:8080/"
        },
        "id": "215whYRBaVc_",
        "outputId": "5466239d-3f2d-4f1e-f052-a1b3bec917b0"
      },
      "execution_count": 14,
      "outputs": [
        {
          "output_type": "stream",
          "name": "stdout",
          "text": [
            "104.5 0.7334699630737305\n",
            "count    21.000000\n",
            "mean     -1.069524\n",
            "std       0.681839\n",
            "min      -2.400000\n",
            "25%      -1.400000\n",
            "50%      -0.900000\n",
            "75%      -0.700000\n",
            "max      -0.200000\n",
            "Name: CASIA_CYL_pre, dtype: float64\n",
            "\n",
            "count    21.000000\n",
            "mean     -1.185714\n",
            "std       0.699490\n",
            "min      -3.100000\n",
            "25%      -1.500000\n",
            "50%      -1.100000\n",
            "75%      -0.600000\n",
            "max      -0.200000\n",
            "Name: CASIA_CYL_3M, dtype: float64\n"
          ]
        }
      ]
    },
    {
      "cell_type": "code",
      "source": [
        "# Plotting a scatter plot of CASIA_CYL_pre and CASIA_CYL_3M\n",
        "plt.figure(figsize=(8, 8))\n",
        "sns.scatterplot(data=df, x='CASIA_CYL_pre', y='CASIA_CYL_3M')\n",
        "plt.title('Scatter Plot of CASIA_CYL_pre vs CASIA_CYL_3M')\n",
        "plt.xlabel('CASIA_CYL_pre (Pre-Surgery)')\n",
        "plt.ylabel('CASIA_CYL_3M (3 Months Post-Surgery)')\n",
        "plt.grid(True)\n",
        "\n",
        "# Setting equal scales for both axes\n",
        "plt.xlim(df[['CASIA_CYL_pre', 'CASIA_CYL_3M']].min().min(), df[['CASIA_CYL_pre', 'CASIA_CYL_3M']].max().max())\n",
        "plt.ylim(df[['CASIA_CYL_pre', 'CASIA_CYL_3M']].min().min(), df[['CASIA_CYL_pre', 'CASIA_CYL_3M']].max().max())\n",
        "\n",
        "plt.show()\n",
        "\n",
        "\n",
        "from scipy.stats import pearsonr\n",
        "\n",
        "# Calculating Pearson correlation and p-value between CASIA_CYL_pre and CASIA_CYL_3M\n",
        "pearson_corr_casia_cyl_result = pearsonr(df['CASIA_CYL_pre'], df['CASIA_CYL_3M'])\n",
        "\n",
        "# Pearson correlation result and p-value\n",
        "pearson_corr_casia_cyl_value, pearson_p_value_casia_cyl = pearson_corr_casia_cyl_result\n",
        "print(f\"r={pearson_corr_casia_cyl_value}, p={pearson_p_value_casia_cyl}\")\n",
        "\n",
        "\n",
        "# Plotting a scatter plot with a regression line\n",
        "plt.figure(figsize=(8, 8))\n",
        "sns.regplot(data=df, x='CASIA_CYL_pre', y='CASIA_CYL_3M', ci=None)  # ci=None removes the confidence interval\n",
        "plt.title('Scatter Plot of CASIA_CYL_pre vs CASIA_CYL_3M with Regression Line')\n",
        "plt.xlabel('CASIA_CYL_pre (Pre-Surgery)')\n",
        "plt.ylabel('CASIA_CYL_3M (3 Months Post-Surgery)')\n",
        "plt.grid(True)\n",
        "\n",
        "# Setting equal scales for both axes\n",
        "plt.xlim(df[['CASIA_CYL_pre', 'CASIA_CYL_3M']].min().min(), df[['CASIA_CYL_pre', 'CASIA_CYL_3M']].max().max())\n",
        "plt.ylim(df[['CASIA_CYL_pre', 'CASIA_CYL_3M']].min().min(), df[['CASIA_CYL_pre', 'CASIA_CYL_3M']].max().max())\n",
        "\n",
        "plt.show()"
      ],
      "metadata": {
        "id": "omAPSrD1bp64",
        "outputId": "55519687-0ec0-4b94-8552-9de7816fb9da",
        "colab": {
          "base_uri": "https://localhost:8080/",
          "height": 1000
        }
      },
      "execution_count": 15,
      "outputs": [
        {
          "output_type": "display_data",
          "data": {
            "text/plain": [
              "<Figure size 800x800 with 1 Axes>"
            ],
            "image/png": "[encoded data removed]"
          },
          "metadata": {}
        },
        {
          "output_type": "stream",
          "name": "stdout",
          "text": [
            "r=0.2542101558933552, p=0.2661396097872848\n"
          ]
        },
        {
          "output_type": "display_data",
          "data": {
            "text/plain": [
              "<Figure size 800x800 with 1 Axes>"
            ],
            "image/png": "[encoded data removed]"
          },
          "metadata": {}
        }
      ]
    },
    {
      "cell_type": "code",
      "source": [
        "# Performing Wilcoxon Signed-Rank Test for asg_0_pre and asg_0_3M\n",
        "wilcoxon_test_asg_0 = wilcoxon(df['asg_0_pre'], df['asg_0_3M'])\n",
        "\n",
        "# Wilcoxon test result for asg_0_pre and asg_0_3M\n",
        "wilcoxon_test_asg_0_statistic, wilcoxon_test_asg_0_pvalue = wilcoxon_test_asg_0\n",
        "wilcoxon_test_asg_0_statistic, wilcoxon_test_asg_0_pvalue"
      ],
      "metadata": {
        "colab": {
          "base_uri": "https://localhost:8080/"
        },
        "id": "eJyvaf9Dcglb",
        "outputId": "3a85987c-1e44-4561-8c29-25eb44d1f1c1"
      },
      "execution_count": 16,
      "outputs": [
        {
          "output_type": "execute_result",
          "data": {
            "text/plain": [
              "(101.0, 0.6332969665527344)"
            ]
          },
          "metadata": {},
          "execution_count": 16
        }
      ]
    },
    {
      "cell_type": "code",
      "source": [
        "# Performing Wilcoxon Signed-Rank Test for asg_0_pre and asg_0_3M\n",
        "wilcoxon_test_asg_0 = wilcoxon(df['asg_45_pre'], df['asg_45_3M'])\n",
        "\n",
        "# Wilcoxon test result for asg_0_pre and asg_0_3M\n",
        "wilcoxon_test_asg_0_statistic, wilcoxon_test_asg_0_pvalue = wilcoxon_test_asg_0\n",
        "wilcoxon_test_asg_0_statistic, wilcoxon_test_asg_0_pvalue"
      ],
      "metadata": {
        "colab": {
          "base_uri": "https://localhost:8080/"
        },
        "id": "k9Yy4ldafFxS",
        "outputId": "3aee57af-4db3-4acb-9bad-8bc6446ed301"
      },
      "execution_count": 17,
      "outputs": [
        {
          "output_type": "execute_result",
          "data": {
            "text/plain": [
              "(89.0, 0.37372493743896484)"
            ]
          },
          "metadata": {},
          "execution_count": 17
        }
      ]
    },
    {
      "cell_type": "code",
      "source": [
        "#乱視変化がどのような要因に関連するか検討\n",
        "from scipy.stats import ttest_ind, f_oneway\n",
        "import statsmodels.api as sm\n",
        "from scipy.stats import spearmanr\n",
        "\n",
        "\n",
        "# Extracting the relevant columns for SIA_D analysis\n",
        "sia_d_data = df[['性別', 'side', 'Defect', 'SIA_D']]\n",
        "sia_d_data.columns = ['Gender', 'Left/Right', 'Defect Size', 'SIA_D']\n",
        "\n",
        "# Removing rows with missing SIA_D values\n",
        "sia_d_data = sia_d_data.dropna(subset=['SIA_D'])\n",
        "\n",
        "# Univariate Analysis\n",
        "# T-tests for Gender and Left/Right\n",
        "mannwhitneyu_gender = mannwhitneyu(sia_d_data[sia_d_data['Gender'] == 'M']['SIA_D'],\n",
        "                         sia_d_data[sia_d_data['Gender'] == 'F']['SIA_D'])\n",
        "mannwhitneyu_left_right = mannwhitneyu(sia_d_data[sia_d_data['Left/Right'] == 'L']['SIA_D'],\n",
        "                             sia_d_data[sia_d_data['Left/Right'] == 'R']['SIA_D'])\n",
        "\n",
        "# Calculating Spearman correlation and p-value between age and SIA_D\n",
        "spearman_age_result = spearmanr(df['age'], df['SIA_D'])\n",
        "# Spearman correlation result and p-value\n",
        "spearman_age_corr_value, spearman_age_p_value = spearman_age_result\n",
        "\n",
        "\n",
        "# Calculating Spearman correlation and p-value between Defect and SIA_D\n",
        "spearman_defect_result = spearmanr(df['Defect'], df['SIA_D'])\n",
        "# Spearman correlation result and p-value\n",
        "spearman_defect_corr_value, spearman_defect_p_value = spearman_defect_result\n",
        "\n",
        "\n",
        "print(f\"Gender: {mannwhitneyu_gender}\")\n",
        "print(f\"Side: {mannwhitneyu_left_right}\")\n",
        "print(f\"Age: r={spearman_age_corr_value}, p={spearman_age_p_value}\")\n",
        "print(f\"Defect: r={spearman_defect_corr_value}, p={spearman_defect_p_value}\")\n",
        "\n"
      ],
      "metadata": {
        "colab": {
          "base_uri": "https://localhost:8080/"
        },
        "id": "FlAmeE5IfDj0",
        "outputId": "f0e740e1-ab4b-4945-9abc-67c78d53fffb"
      },
      "execution_count": 18,
      "outputs": [
        {
          "output_type": "stream",
          "name": "stdout",
          "text": [
            "Gender: MannwhitneyuResult(statistic=63.0, pvalue=0.17805543269939555)\n",
            "Side: MannwhitneyuResult(statistic=43.0, pvalue=0.4180519085356006)\n",
            "Age: r=0.17844427004489263, p=0.4389871964685451\n",
            "Defect: r=0.03907538760107138, p=0.8664536748321433\n"
          ]
        }
      ]
    },
    {
      "cell_type": "markdown",
      "source": [
        "###惹起乱視に関する統計量"
      ],
      "metadata": {
        "id": "mDuRWNMwIO-m"
      }
    },
    {
      "cell_type": "code",
      "source": [
        "# Calculating the statistical measures for Δasg_0 and Δasg_45\n",
        "delta_asg_0_stats = df['Δasg_0'].describe()\n",
        "delta_asg_45_stats = df['Δasg_45'].describe()\n",
        "\n",
        "print(delta_asg_0_stats)\n",
        "print(\"\")\n",
        "print(delta_asg_45_stats)\n"
      ],
      "metadata": {
        "id": "0-wC9lkOfGHr",
        "outputId": "39a29cd2-7731-4afa-c8f2-41f10222243b",
        "colab": {
          "base_uri": "https://localhost:8080/"
        }
      },
      "execution_count": 21,
      "outputs": [
        {
          "output_type": "stream",
          "name": "stdout",
          "text": [
            "count    21.000000\n",
            "mean      0.140827\n",
            "std       0.861801\n",
            "min      -1.560450\n",
            "25%      -0.301631\n",
            "50%      -0.010470\n",
            "75%       0.630383\n",
            "max       2.101558\n",
            "Name: Δasg_0, dtype: float64\n",
            "\n",
            "count    21.000000\n",
            "mean      0.061317\n",
            "std       0.615933\n",
            "min      -1.318164\n",
            "25%      -0.240736\n",
            "50%       0.205561\n",
            "75%       0.431334\n",
            "max       0.882085\n",
            "Name: Δasg_45, dtype: float64\n"
          ]
        }
      ]
    },
    {
      "cell_type": "code",
      "source": [
        "import numpy as np\n",
        "\n",
        "# Calculating the mean values for Δasg_0 and Δasg_45\n",
        "mean_delta_asg_0 = delta_asg_0_stats['mean']\n",
        "mean_delta_asg_45 = delta_asg_45_stats['mean']\n",
        "\n",
        "# Calculating SIA_D_average and SIA_ax_average\n",
        "SIA_D_mean = np.sqrt(mean_delta_asg_0**2 + mean_delta_asg_45**2)\n",
        "SIA_ax_mean = np.arctan2(mean_delta_asg_0, mean_delta_asg_45) * (90 / np.pi)\n",
        "\n",
        "# Calculating the mean of the SIA_D column\n",
        "SIA_D_abs_mean = df['SIA_D'].mean()\n",
        "\n",
        "\n",
        "print(f\"平均惹起乱視: {SIA_D_mean}D x ax{SIA_ax_mean}°\")\n",
        "print(f\"惹起乱視度数 絶対値の平均: {SIA_D_abs_mean}D\")"
      ],
      "metadata": {
        "id": "5jbYoAsEJhv6",
        "outputId": "035f87aa-0ebd-4411-977c-6d3b724d94fc",
        "colab": {
          "base_uri": "https://localhost:8080/"
        }
      },
      "execution_count": 27,
      "outputs": [
        {
          "output_type": "stream",
          "name": "stdout",
          "text": [
            "平均惹起乱視: 0.153596944294734D x ax33.23565318193896°\n",
            "惹起乱視度数 絶対値の平均: 0.8848276316033057D\n"
          ]
        }
      ]
    },
    {
      "cell_type": "code",
      "source": [],
      "metadata": {
        "id": "P6TEYuBdLJKM"
      },
      "execution_count": null,
      "outputs": []
    }
  ]
}