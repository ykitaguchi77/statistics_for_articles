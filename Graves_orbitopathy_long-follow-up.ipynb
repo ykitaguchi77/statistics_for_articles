{
  "nbformat": 4,
  "nbformat_minor": 0,
  "metadata": {
    "colab": {
      "provenance": [],
      "authorship_tag": "ABX9TyMMVWaq/M66l4LZ74SAJtg0",
      "include_colab_link": true
    },
    "kernelspec": {
      "name": "python3",
      "display_name": "Python 3"
    },
    "language_info": {
      "name": "python"
    }
  },
  "cells": [
    {
      "cell_type": "markdown",
      "metadata": {
        "id": "view-in-github",
        "colab_type": "text"
      },
      "source": [
        "<a href=\"https://colab.research.google.com/github/ykitaguchi77/statistics_for_articles/blob/main/Graves_orbitopathy_long-follow-up.ipynb\" target=\"_parent\"><img src=\"https://colab.research.google.com/assets/colab-badge.svg\" alt=\"Open In Colab\"/></a>"
      ]
    },
    {
      "cell_type": "markdown",
      "source": [
        "#**Long-term follow-up of Graves orbitopathy**"
      ],
      "metadata": {
        "id": "mPFAlaOcoKDy"
      }
    },
    {
      "cell_type": "code",
      "execution_count": 1,
      "metadata": {
        "colab": {
          "base_uri": "https://localhost:8080/"
        },
        "id": "IsQnvaDFku6X",
        "outputId": "cbc498fd-a6a7-467c-82ba-4d0ae7b50479"
      },
      "outputs": [
        {
          "output_type": "stream",
          "name": "stdout",
          "text": [
            "Mounted at /content/drive\n"
          ]
        }
      ],
      "source": [
        "# prompt: gdrive\n",
        "\n",
        "from google.colab import drive\n",
        "drive.mount('/content/drive')\n"
      ]
    },
    {
      "cell_type": "code",
      "source": [
        "import pandas as pd\n",
        "\n",
        "# ファイルのパス\n",
        "file_path = \"/content/drive/Shareddrives/岩崎Dr_IgG4 deulk/甲状腺眼症の長期経過/甲状腺眼症ステロイド経過.xlsx\"\n",
        "\n",
        "# \"全リスト\"シートを読み込む\n",
        "df = pd.read_excel(xls, sheet_name=\"全リスト\")\n"
      ],
      "metadata": {
        "id": "VDQcrucrlAZ0"
      },
      "execution_count": 15,
      "outputs": []
    },
    {
      "cell_type": "code",
      "source": [
        "df[\"Follow-up\"].tolist()"
      ],
      "metadata": {
        "colab": {
          "base_uri": "https://localhost:8080/"
        },
        "id": "xvynxicZlc3a",
        "outputId": "10127ff3-c612-4344-cb69-a6d6b5794172"
      },
      "execution_count": 5,
      "outputs": [
        {
          "output_type": "execute_result",
          "data": {
            "text/plain": [
              "['18M',\n",
              " nan,\n",
              " '54M',\n",
              " '72M',\n",
              " '24M',\n",
              " '30M',\n",
              " nan,\n",
              " '72M',\n",
              " '6M',\n",
              " '4M',\n",
              " '0M',\n",
              " nan,\n",
              " '72M',\n",
              " nan,\n",
              " '60M',\n",
              " '1M',\n",
              " '24M',\n",
              " '11M',\n",
              " nan,\n",
              " '7M',\n",
              " '18M',\n",
              " nan,\n",
              " '24M',\n",
              " '18M',\n",
              " '1Y',\n",
              " '18M',\n",
              " '3M',\n",
              " '60M',\n",
              " '18M',\n",
              " '18M',\n",
              " '11M',\n",
              " '30M',\n",
              " '24M',\n",
              " '12M',\n",
              " '12M',\n",
              " '0M',\n",
              " nan,\n",
              " '18M',\n",
              " '0M',\n",
              " nan,\n",
              " '24M',\n",
              " '60M',\n",
              " '36M',\n",
              " '24M',\n",
              " '30M',\n",
              " '24M',\n",
              " '18M',\n",
              " '1M',\n",
              " '24M',\n",
              " nan,\n",
              " '30M',\n",
              " nan,\n",
              " '36M',\n",
              " '36M',\n",
              " '0M',\n",
              " '42M',\n",
              " '18M',\n",
              " '0M',\n",
              " '18Ｍ',\n",
              " '18Ｍ',\n",
              " '18Ｍ',\n",
              " '24Ｍ',\n",
              " '18Ｍ',\n",
              " nan,\n",
              " '30M',\n",
              " '30M',\n",
              " '30M',\n",
              " '48Ｍ',\n",
              " '30M',\n",
              " '24Ｍ',\n",
              " '24Ｍ',\n",
              " '24Ｍ',\n",
              " '18Ｍ',\n",
              " '3M',\n",
              " '5M',\n",
              " '5M',\n",
              " '18M',\n",
              " '18M',\n",
              " '30M',\n",
              " '18Ｍ',\n",
              " '24Ｍ',\n",
              " nan,\n",
              " '18M',\n",
              " '60M',\n",
              " '18M',\n",
              " '18M',\n",
              " '18Ｍ',\n",
              " nan,\n",
              " '12M',\n",
              " '18Ｍ',\n",
              " '30M',\n",
              " '24Ｍ',\n",
              " '18M',\n",
              " '30M',\n",
              " '12M',\n",
              " '12M',\n",
              " '12M',\n",
              " '30M',\n",
              " '12M',\n",
              " '12M',\n",
              " '12M',\n",
              " '18Ｍ',\n",
              " '6M',\n",
              " '6M',\n",
              " '12M',\n",
              " '6M',\n",
              " '6M',\n",
              " '6M',\n",
              " '12M',\n",
              " nan,\n",
              " '6M',\n",
              " '3M',\n",
              " '3M',\n",
              " nan,\n",
              " '3M',\n",
              " '3M',\n",
              " '3M']"
            ]
          },
          "metadata": {},
          "execution_count": 5
        }
      ]
    },
    {
      "cell_type": "code",
      "source": [
        "import matplotlib.pyplot as plt\n",
        "%matplotlib inline\n",
        "\n",
        "# nan（None）を削除\n",
        "all_list = df[\"Follow-up\"].tolist()\n",
        "cleaned_list = [x for x in all_list if x is not None and str(x) != 'nan']\n",
        "\n",
        "# \"M\"や全角\"Ｍ\"を削除し、数値に変換\n",
        "# Filter out non-numeric values before converting to integers\n",
        "cleaned_list = [int(str(x).replace(\"M\", \"\").replace(\"Ｍ\", \"\")) for x in cleaned_list if str(x).replace(\"M\", \"\").replace(\"Ｍ\", \"\").isdigit()]\n",
        "\n",
        "# データフレーム作成\n",
        "df = pd.DataFrame(cleaned_list, columns=[\"Months\"])\n",
        "\n",
        "# 統計量の計算\n",
        "stats = df.describe()\n",
        "\n",
        "# ヒストグラムの作成\n",
        "plt.figure(figsize=(8, 5))\n",
        "plt.hist(df[\"Months\"], bins=15, edgecolor=\"black\")\n",
        "plt.xlabel(\"Months\")\n",
        "plt.ylabel(\"Frequency\")\n",
        "plt.title(\"Histogram of Follow-up Periods\")\n",
        "plt.grid(axis='y', alpha=0.75)\n",
        "plt.show()"
      ],
      "metadata": {
        "colab": {
          "base_uri": "https://localhost:8080/",
          "height": 487
        },
        "id": "CPqSQFFtle2R",
        "outputId": "c4cd5d6e-d030-45c3-e135-a401b66fcdac"
      },
      "execution_count": 23,
      "outputs": [
        {
          "output_type": "display_data",
          "data": {
            "text/plain": [
              "<Figure size 800x500 with 1 Axes>"
            ],
            "image/png": "[encoded data removed]"
          },
          "metadata": {}
        }
      ]
    }
  ]
}