{
  "nbformat": 4,
  "nbformat_minor": 0,
  "metadata": {
    "colab": {
      "name": "Untitled101.ipynb",
      "provenance": [],
      "authorship_tag": "ABX9TyMFvyuQYcXV/0sV4SELgchc",
      "include_colab_link": true
    },
    "kernelspec": {
      "name": "python3",
      "display_name": "Python 3"
    },
    "language_info": {
      "name": "python"
    }
  },
  "cells": [
    {
      "cell_type": "markdown",
      "metadata": {
        "id": "view-in-github",
        "colab_type": "text"
      },
      "source": [
        "<a href=\"https://colab.research.google.com/github/ykitaguchi77/statistics_for_articles/blob/main/Canalicular_excision.ipynb\" target=\"_parent\"><img src=\"https://colab.research.google.com/assets/colab-badge.svg\" alt=\"Open In Colab\"/></a>"
      ]
    },
    {
      "cell_type": "code",
      "execution_count": 79,
      "metadata": {
        "colab": {
          "base_uri": "https://localhost:8080/"
        },
        "id": "feksNWTQpCLb",
        "outputId": "8474c082-8a32-4065-89dd-a17b14977a0b"
      },
      "outputs": [
        {
          "output_type": "stream",
          "name": "stdout",
          "text": [
            "Drive already mounted at /content/drive; to attempt to forcibly remount, call drive.mount(\"/content/drive\", force_remount=True).\n"
          ]
        }
      ],
      "source": [
        "from google.colab import drive\n",
        "drive.mount('/content/drive')"
      ]
    },
    {
      "cell_type": "code",
      "source": [
        "import pandas as pd\n",
        "import codecs\n",
        "from scipy import stats\n",
        "import numpy as np\n",
        "\n",
        "import numpy as np\n",
        "import scipy\n",
        "import matplotlib.pyplot as plt\n",
        "import statistics as stat\n",
        "\n",
        "import seaborn as sns; sns.set() # sns.set() ==> グラフの見た目をseabornに合わせる\n",
        "%matplotlib inline\n",
        "\n",
        "import math\n",
        "\n"
      ],
      "metadata": {
        "id": "h3914izNqXPc"
      },
      "execution_count": 80,
      "outputs": []
    },
    {
      "cell_type": "code",
      "source": [
        "csv_path = \"/content/drive/MyDrive/作成中の論文/涙小管切断/涙小管切除症例1.3.csv\"\n",
        "\n",
        "#Open csv\n",
        "#with codecs.open(csv_path, \"r\", \"Shift-JIS\", \"ignore\") as file:\n",
        "with codecs.open(csv_path, \"r\", \"UTF-8\", \"ignore\") as file:\n",
        "        df = pd.read_csv(file, index_col=None, header=0)"
      ],
      "metadata": {
        "id": "izMfTQ-orEJA"
      },
      "execution_count": 81,
      "outputs": []
    },
    {
      "cell_type": "markdown",
      "source": [
        "#**フォロー期間12ヶ月以上を抜き出し**"
      ],
      "metadata": {
        "id": "dAMdoISD7PXQ"
      }
    },
    {
      "cell_type": "code",
      "source": [
        "df_long = df[df['Observation period (month)'] >= 12]\n",
        "len(df_long)\n",
        "#df_long.columns\n",
        "pd.set_option('display.max_columns', 100)\n",
        "\n",
        "df_long = df_long.reset_index()\n",
        "\n",
        "\n",
        "#手動でone-hotにする\n",
        "df_long = df_long.replace({\"Recurrence\": {\"None\": 0, \"Upper\": 1, \"Lower\": 1}})\n",
        "\n",
        "\"\"\"\n",
        "#これでもいける筈だがうまくいかない\n",
        "df_long.loc[df_long['Recurrence'] == \"None\", 'Recurrence'] = 0\n",
        "df_long.loc[df['Recurrence'] != \"None\", 'Recurrence'] = 1\n",
        "\"\"\"\n",
        "\n",
        "df_long\n"
      ],
      "metadata": {
        "id": "Alpp4qB6sOnZ"
      },
      "execution_count": null,
      "outputs": []
    },
    {
      "cell_type": "code",
      "source": [
        "\"\"\"\n",
        "#上下涙点にNoneが含まれている（＝片方の涙点のみ閉鎖）ものとそうでないもの（＝上下涙点を閉鎖）に分類\n",
        "df_single= df_long.query(\"Punctum_upper =='None' or Punctum_lower =='None' \")\n",
        "df_single\n",
        "\n",
        "df_double = df_long.query(\"Punctum_upper !='None' and Punctum_lower !='None' \")\n",
        "df_double\n",
        "\"\"\"\n",
        "\n",
        "#手術していない涙小管（上or下）が開いている症例、あるいは経過中に開いた症例をsingleに分類\n",
        "df_single = df_long.query(\"Both_punctum == 0\")\n",
        "df_double = df_long.query(\"Both_punctum == 1\")\n",
        "\n",
        "\n",
        "A = np.array(df_single[\"TM_pre_mm\"])\n",
        "B = np.array(df_double[\"TM_pre_mm\"])\n",
        "C = np.array(df_single[\"TM_3M_mm\"])\n",
        "D = np.array(df_double[\"TM_3M_mm\"])\n",
        "E = np.array(df_single[\"Fluo_D_pre\"])\n",
        "F = np.array(df_double[\"Fluo_D_pre\"])\n",
        "G = np.array(df_single[\"Fluo_D_post\"])\n",
        "H = np.array(df_double[\"Fluo_D_post\"])\n",
        "\n",
        "\n",
        "#Welch' t-test (不等分散のt検定)\n",
        "print(stats.ttest_ind(A, B, equal_var=False))\n",
        "print(stats.ttest_ind(C, D, equal_var=False))\n",
        "print(stats.ttest_ind(E, F, equal_var=False))\n",
        "print(stats.ttest_ind(G, H, equal_var=False))\n",
        "\n",
        "\n",
        "print()\n",
        "print(df_single[\"TM_pre_mm\"].describe())\n",
        "print(df_double[\"TM_pre_mm\"].describe())\n",
        "print()\n",
        "print(df_single[\"TM_3M_mm\"].describe())\n",
        "print(df_double[\"TM_3M_mm\"].describe())\n",
        "print()\n",
        "print()\n",
        "print(df_single[\"Fluo_D_pre\"].describe())\n",
        "print(df_double[\"Fluo_D_pre\"].describe())\n",
        "print()\n",
        "print(df_single[\"Fluo_D_post\"].describe())\n",
        "print(df_double[\"Fluo_D_post\"].describe())\n",
        "print()\n",
        "print(\"single pre\", df_single[\"Fluo_5area_pre\"].describe())\n",
        "print(\"double pre\", df_double[\"Fluo_5area_pre\"].describe())\n",
        "print()\n",
        "print(\"single 3M\", df_single[\"Fluo_5area_3M\"].describe())\n",
        "print(\"double 3M\", df_double[\"Fluo_5area_3M\"].describe())\n",
        "print()\n",
        "print(\"single 12M\", df_single[\"Fluo_5area_12M\"].describe())\n",
        "print(\"double 12M\", df_double[\"Fluo_5area_12M\"].describe())"
      ],
      "metadata": {
        "id": "oslOSWy6PclW"
      },
      "execution_count": null,
      "outputs": []
    },
    {
      "cell_type": "markdown",
      "source": [
        "**One hot encoder**"
      ],
      "metadata": {
        "id": "_erIxzBJXr5Y"
      }
    },
    {
      "cell_type": "code",
      "source": [
        "from sklearn.preprocessing import OneHotEncoder\n",
        "\n",
        "#解析のため文字列を数値に変える\n",
        "#症例数が少なければ、csvの列を作り直した方が早い\n",
        "\n",
        "#男性をゼロ、女性を1に\n",
        "df_long_1 = df_long.replace({\"M/F\": {\"M\": 0, \"F\": 1}})\n",
        "\n",
        "df_long_1[\"Sjogren\"] = 0\n",
        "df_long_1[\"GVHD\"] = 0\n",
        "\n",
        "#pd.get_dummiesを用いてone-hot encodingを行う\n",
        "df_long_1 = pd.get_dummies(df_long, columns=[\"M/F\"])\n",
        "df_long_2 = pd.get_dummies(df_long, columns=[\"Background disease\"])\n",
        "df_long_2\n",
        "\n",
        "#Scikit learnからone hot encoderを用いる手法\n",
        "encoder = OneHotEncoder(sparse=False)\n",
        "\n",
        "arr = encoder.fit_transform(df_long[\"M/F\"].values.reshape(-1, 1))\n",
        "df_MF = pd.DataFrame(arr)\n",
        "df_MF.columns = encoder.get_feature_names_out([\"gender\"])\n",
        "df_MF\n",
        "\n",
        "arr = encoder.fit_transform(df_long[\"Background disease\"].values.reshape(-1, 1))\n",
        "df_BD = pd.DataFrame(arr)\n",
        "df_BD.columns = encoder.get_feature_names_out([\"Background\"])\n",
        "df_BD\n",
        "\n"
      ],
      "metadata": {
        "id": "c9SZO55bKz1h"
      },
      "execution_count": null,
      "outputs": []
    },
    {
      "cell_type": "code",
      "source": [
        "df_long.columns"
      ],
      "metadata": {
        "id": "qrqCHEiNaMY9"
      },
      "execution_count": null,
      "outputs": []
    },
    {
      "cell_type": "code",
      "source": [
        "print(df_long.describe()[\"TM_pre_mm\"])\n",
        "print(\"\")\n",
        "print(df_long.describe()[\"TM_3M_mm\"])\n",
        "print(\"\")\n",
        "print(df_long.describe()[\"TM_12M_mm\"])\n",
        "print(\"\")"
      ],
      "metadata": {
        "id": "41-j_ODJooSP"
      },
      "execution_count": null,
      "outputs": []
    },
    {
      "cell_type": "markdown",
      "source": [
        "#Shirmerについて検討（ヒストグラム）"
      ],
      "metadata": {
        "id": "tPAn0a8GuSmg"
      }
    },
    {
      "cell_type": "code",
      "source": [
        "print(len(np.unique(A)))\n",
        "print(len(np.unique(B)))"
      ],
      "metadata": {
        "id": "LcPbj9tVvQkW",
        "outputId": "81943381-3757-4298-e0af-bcf8d709e392",
        "colab": {
          "base_uri": "https://localhost:8080/"
        }
      },
      "execution_count": 62,
      "outputs": [
        {
          "output_type": "stream",
          "name": "stdout",
          "text": [
            "6\n",
            "5\n"
          ]
        }
      ]
    },
    {
      "cell_type": "code",
      "source": [
        "#TMの変化についてヒストグラムを描く\n",
        "A = np.array(df_single[\"Pre Schirmer I\"])\n",
        "B = np.array(df_double[\"Pre Schirmer I\"])\n",
        "\n",
        "#ヒストグラムを記載\n",
        "fig, ax = plt.subplots(figsize=(8,6), dpi=300)\n",
        "sns.distplot(\n",
        "    A, bins=8, color=\"red\", label=\"One side closed\", kde=False\n",
        ")\n",
        "sns.distplot(\n",
        "    B, bins=6, color=\"blue\", label=\"Both sides closed\", kde=False\n",
        ")\n",
        "sns.set(font_scale = 2)\n",
        "plt.xlim(0, 10)\n",
        "plt.ylim(0, 10)\n",
        "plt.legend(facecolor = \"white\", fontsize= 20)\n",
        "plt.show\n",
        "\n",
        "print(stats.mannwhitneyu(A, B, use_continuity=True, alternative=None).pvalue) "
      ],
      "metadata": {
        "id": "bxkjdmvjuSDO"
      },
      "execution_count": null,
      "outputs": []
    },
    {
      "cell_type": "code",
      "source": [
        "print(df_single[\"Pre Schirmer I\"].describe())\n",
        "print(df_double[\"Pre Schirmer I\"].describe())"
      ],
      "metadata": {
        "id": "I6757jpkyO51",
        "outputId": "cfb7e67c-f0b4-4f9d-f143-a7eb09f00175",
        "colab": {
          "base_uri": "https://localhost:8080/"
        }
      },
      "execution_count": 75,
      "outputs": [
        {
          "output_type": "stream",
          "name": "stdout",
          "text": [
            "count    7.000000\n",
            "mean     3.428571\n",
            "std      3.047247\n",
            "min      0.000000\n",
            "25%      1.500000\n",
            "50%      2.000000\n",
            "75%      5.500000\n",
            "max      8.000000\n",
            "Name: Pre Schirmer I, dtype: float64\n",
            "count    16.000000\n",
            "mean      3.000000\n",
            "std       2.129163\n",
            "min       1.000000\n",
            "25%       1.750000\n",
            "50%       2.500000\n",
            "75%       3.000000\n",
            "max       7.000000\n",
            "Name: Pre Schirmer I, dtype: float64\n"
          ]
        }
      ]
    },
    {
      "cell_type": "markdown",
      "source": [
        "#TMの変化について検討（ヒストグラム、Wilcoxon)"
      ],
      "metadata": {
        "id": "Nnm6m4eKkXwU"
      }
    },
    {
      "cell_type": "code",
      "source": [
        "#TMの変化についてヒストグラムを描く\n",
        "A = np.array(df_long[\"TM_pre_mm\"])\n",
        "B = np.array(df_long[\"TM_3M_mm\"])\n",
        "C = np.array(df_long[\"TM_12M_mm\"])\n",
        "\n",
        "#ヒストグラムを記載\n",
        "fig, ax = plt.subplots(figsize=(8,6), dpi=300)\n",
        "sns.distplot(\n",
        "    A, bins=5, color=\"red\", label=\"pre\", kde=False\n",
        ")\n",
        "sns.distplot(\n",
        "    B, bins=20, color=\"blue\", label=\"post 3M\", kde=False\n",
        ")\n",
        "sns.set(font_scale = 2)\n",
        "plt.xlim(0, 0.8)\n",
        "plt.ylim(0, 10)\n",
        "plt.show()\n",
        "\n",
        "fig, ax = plt.subplots(figsize=(8,6), dpi=300)\n",
        "sns.distplot(\n",
        "    B, bins=20, color=\"blue\", label=\"post 3M\", kde=False\n",
        ")\n",
        "sns.set(font_scale = 2)\n",
        "plt.xlim(0, 0.8)\n",
        "plt.ylim(0, 10)\n",
        "plt.show()\n",
        "\n",
        "fig, ax = plt.subplots(figsize=(8,6), dpi=300)\n",
        "sns.distplot(\n",
        "    C, bins=10, color=\"green\", label=\"post 3M\", kde=False\n",
        ")\n",
        "sns.set(font_scale = 2)\n",
        "plt.xlim(0, 0.8)\n",
        "plt.ylim(0, 10)\n",
        "plt.show()"
      ],
      "metadata": {
        "id": "Iy03Tmoya9RK"
      },
      "execution_count": null,
      "outputs": []
    },
    {
      "cell_type": "code",
      "source": [
        "#TMの変化について検討\n",
        "A = np.array(df_long[\"TM_pre_mm\"])\n",
        "B = np.array(df_long[\"TM_3M_mm\"])\n",
        "C = np.array(df_long[\"TM_12M_mm\"])\n",
        "\n",
        "#等分散検定（どちらかで<0.05ならt検定は使わない方が無難）\n",
        "print(scipy.stats.bartlett(A,B))\n",
        "print(scipy.stats.levene(A,B))\n",
        "\n",
        "#等分散の確認 その2\n",
        "A_var = np.var(A, ddof=1)  # Aの不偏分散\n",
        "B_var = np.var(B, ddof=1)  # Bの不偏分散\n",
        "A_df = len(A) - 1  # Aの自由度\n",
        "B_df = len(B) - 1  # Bの自由度\n",
        "f = A_var / B_var  # F比の値\n",
        "one_sided_pval1 = stats.f.cdf(f, A_df, B_df)  # 片側検定のp値 1\n",
        "one_sided_pval2 = stats.f.sf(f, A_df, B_df)   # 片側検定のp値 2\n",
        "two_sided_pval = min(one_sided_pval1, one_sided_pval2) * 2  # 両側検定のp値\n",
        "print('F:       ', round(f, 3))\n",
        "print('p-value: ', round(two_sided_pval, 3)) #p<0.05なら分散が等しくないと言える\n",
        "\n",
        "#等分散の確認 その3\n",
        "varA = stats.tvar(A)\n",
        "varB = stats.tvar(B)\n",
        "dfn = len(B) -1\n",
        "dfd = len(A) -1\n",
        "f = varB/varA #分子に大きい方を置く\n",
        "print(\"f_value: \", f)\n",
        "p = stats.f.cdf(f, dfn=dfn, dfd=dfd)\n",
        "print(\"p-value: \", p) #p>0.05なら分散が等しくないと言える\n",
        "\n",
        "#正規性の検定（分散が等しい場合に使える）\n",
        "#p<0.05の場合だと正規分布ではないのでt検定は使えない\n",
        "print(stats.shapiro(A))\n",
        "print(stats.shapiro(B))\n",
        "\n",
        "#等分散かつ正規分布ならstudent-t\n",
        "print(stats.ttest_rel(A, B))\n",
        "\n",
        "#Wilcoxon\n",
        "print(stats.wilcoxon(A, B,  correction=True))\n",
        "print(stats.wilcoxon(B, C,  correction=True))"
      ],
      "metadata": {
        "colab": {
          "base_uri": "https://localhost:8080/"
        },
        "id": "EERx8OPRru40",
        "outputId": "0e7dbebe-aff4-4da6-cd68-c57b102a3e4c"
      },
      "execution_count": 99,
      "outputs": [
        {
          "output_type": "stream",
          "name": "stdout",
          "text": [
            "BartlettResult(statistic=31.26883121664102, pvalue=2.2465768882309444e-08)\n",
            "LeveneResult(statistic=7.6057171424981, pvalue=0.008318694879385682)\n",
            "F:        0.072\n",
            "p-value:  0.0\n",
            "f_value:  13.972889698874198\n",
            "p-value:  0.9999999891745881\n",
            "(0.9763689041137695, 0.8207359313964844)\n",
            "(0.800627589225769, 0.0003016219416167587)\n",
            "Ttest_relResult(statistic=-5.105353817712703, pvalue=3.593333661080229e-05)\n",
            "WilcoxonResult(statistic=5.0, pvalue=3.633553465191629e-05)\n",
            "WilcoxonResult(statistic=88.0, pvalue=0.2171954808721165)\n"
          ]
        }
      ]
    },
    {
      "cell_type": "code",
      "source": [
        "#TMの変化について検討\n",
        "A = np.array(df_single[\"TM_pre_mm\"])\n",
        "B = np.array(df_single[\"TM_3M_mm\"])\n",
        "C = np.array(df_single[\"TM_12M_mm\"])\n",
        "D = np.array(df_double[\"TM_pre_mm\"])\n",
        "E = np.array(df_double[\"TM_3M_mm\"])\n",
        "F = np.array(df_double[\"TM_12M_mm\"])\n",
        "\n",
        "print(stats.friedmanchisquare(A, B, C))\n",
        "print(stats.friedmanchisquare(D, E, F))\n",
        "\n",
        "print(stats.wilcoxon(A, B,  correction=False)) #single pre vs 3M\n",
        "print(stats.wilcoxon(A, C,  correction=False))\n",
        "print(stats.wilcoxon(B, C,  correction=False))\n",
        "print(stats.wilcoxon(D, E,  correction=False)) #double pre vs 3M\n",
        "print(stats.wilcoxon(E, F,  correction=False))\n",
        "print(stats.wilcoxon(D, F,  correction=False))\n",
        "print(stats.mannwhitneyu(A, D, use_continuity=True, alternative=None).pvalue) #single vs double baseline\n",
        "print(stats.mannwhitneyu(B, E, use_continuity=True, alternative=None).pvalue) #single vs double 3M\n",
        "print(stats.mannwhitneyu(C, F, use_continuity=True, alternative=None).pvalue) #single vs double 12M\n"
      ],
      "metadata": {
        "colab": {
          "base_uri": "https://localhost:8080/"
        },
        "id": "2YqKXpjJNMTU",
        "outputId": "2c7cc5f1-3e73-44ed-a309-5f078865a78b"
      },
      "execution_count": 55,
      "outputs": [
        {
          "output_type": "stream",
          "name": "stdout",
          "text": [
            "FriedmanchisquareResult(statistic=3.769230769230769, pvalue=0.15188746645291878)\n",
            "FriedmanchisquareResult(statistic=22.95522388059702, pvalue=1.0359444520336973e-05)\n",
            "WilcoxonResult(statistic=2.0, pvalue=0.04215345023570544)\n",
            "WilcoxonResult(statistic=8.0, pvalue=0.6001794871405538)\n",
            "WilcoxonResult(statistic=3.0, pvalue=0.11585149752593009)\n",
            "WilcoxonResult(statistic=0.0, pvalue=0.0002907605323283021)\n",
            "WilcoxonResult(statistic=57.0, pvalue=0.5692359921871408)\n",
            "WilcoxonResult(statistic=1.0, pvalue=0.00034885029452439445)\n",
            "0.3992152542237804\n",
            "0.3281735225286997\n",
            "0.00112969694102752\n"
          ]
        },
        {
          "output_type": "stream",
          "name": "stderr",
          "text": [
            "/usr/local/lib/python3.7/dist-packages/scipy/stats/morestats.py:2879: UserWarning: Sample size too small for normal approximation.\n",
            "  warnings.warn(\"Sample size too small for normal approximation.\")\n"
          ]
        }
      ]
    },
    {
      "cell_type": "code",
      "source": [
        "print(df_single[\"TM_pre_mm\"].describe())\n",
        "print(df_double[\"TM_pre_mm\"].describe())\n",
        "print(stats.ttest_rel(A,B))"
      ],
      "metadata": {
        "colab": {
          "base_uri": "https://localhost:8080/"
        },
        "id": "tTrVzMFsQRbk",
        "outputId": "0e682539-579d-423a-d1f5-9b6ece32bcd3"
      },
      "execution_count": 56,
      "outputs": [
        {
          "output_type": "stream",
          "name": "stdout",
          "text": [
            "count    7.000000\n",
            "mean     0.148559\n",
            "std      0.053447\n",
            "min      0.087805\n",
            "25%      0.108158\n",
            "50%      0.157895\n",
            "75%      0.168947\n",
            "max      0.240000\n",
            "Name: TM_pre_mm, dtype: float64\n",
            "count    17.000000\n",
            "mean      0.138965\n",
            "std       0.039065\n",
            "min       0.063158\n",
            "25%       0.128000\n",
            "50%       0.134831\n",
            "75%       0.157895\n",
            "max       0.200000\n",
            "Name: TM_pre_mm, dtype: float64\n",
            "Ttest_relResult(statistic=-2.7676458468518867, pvalue=0.0325235174097791)\n"
          ]
        }
      ]
    },
    {
      "cell_type": "code",
      "source": [
        "#Fluorecence scoreの変化について検討\n",
        "A = np.array(df_long[\"Fluo_5area_pre\"])\n",
        "B = np.array(df_long[\"Fluo_5area_3M\"])\n",
        "C = np.array(df_long[\"Fluo_5area_12M\"])\n",
        "\n",
        "#等分散検定（どちらかで<0.05ならt検定は使わない方が無難）\n",
        "print(scipy.stats.bartlett(A,B))\n",
        "print(scipy.stats.levene(A,B))\n",
        "\n",
        "#等分散の確認 その2\n",
        "A_var = np.var(A, ddof=1)  # Aの不偏分散\n",
        "B_var = np.var(B, ddof=1)  # Bの不偏分散\n",
        "A_df = len(A) - 1  # Aの自由度\n",
        "B_df = len(B) - 1  # Bの自由度\n",
        "f = A_var / B_var  # F比の値\n",
        "one_sided_pval1 = stats.f.cdf(f, A_df, B_df)  # 片側検定のp値 1\n",
        "one_sided_pval2 = stats.f.sf(f, A_df, B_df)   # 片側検定のp値 2\n",
        "two_sided_pval = min(one_sided_pval1, one_sided_pval2) * 2  # 両側検定のp値\n",
        "print('F:       ', round(f, 3))\n",
        "print('p-value: ', round(two_sided_pval, 3)) #p<0.05なら分散が等しくないと言える\n",
        "\n",
        "#等分散の確認 その3\n",
        "varA = stats.tvar(A)\n",
        "varB = stats.tvar(B)\n",
        "dfn = len(B) -1\n",
        "dfd = len(A) -1\n",
        "f = varB/varA #分子に大きい方を置く\n",
        "print(\"f_value: \", f)\n",
        "p = stats.f.cdf(f, dfn=dfn, dfd=dfd)\n",
        "print(\"p-value: \", p) #p>0.05なら分散が等しくないと言える\n",
        "\n",
        "#正規性の検定（分散が等しい場合に使える）\n",
        "#p<0.05の場合だと正規分布ではないのでt検定は使えない\n",
        "print(stats.shapiro(A))\n",
        "print(stats.shapiro(B))\n",
        "\n",
        "\n",
        "\n",
        "#等分散かつ正規分布ならstudent-t\n",
        "print(stats.ttest_rel(A, B))\n",
        "\n",
        "#Wilcoxon\n",
        "print(stats.wilcoxon(A, B,  correction=False))\n",
        "print(stats.wilcoxon(B, C,  correction=False))\n",
        "print(stats.wilcoxon(A, C,  correction=False))\n",
        "print(stats.friedmanchisquare(A, B, C))\n",
        "\n",
        "#対応のあるノンパラメトリック多重比較\n",
        "#https://www.noguchilabo.com/spss-nonpara-posthooktest/\n"
      ],
      "metadata": {
        "colab": {
          "base_uri": "https://localhost:8080/"
        },
        "id": "1afBvACEzh28",
        "outputId": "157bdc12-043b-4dc7-a1b6-cfe8761841ac"
      },
      "execution_count": 86,
      "outputs": [
        {
          "output_type": "stream",
          "name": "stdout",
          "text": [
            "BartlettResult(statistic=0.8383726819038939, pvalue=0.35986259969998535)\n",
            "LeveneResult(statistic=1.2620087336244543, pvalue=0.26710007100546035)\n",
            "F:        1.473\n",
            "p-value:  0.36\n",
            "f_value:  0.6789756649688737\n",
            "p-value:  0.17995018068681104\n",
            "(0.9760999083518982, 0.8146321177482605)\n",
            "(0.8689360618591309, 0.005014505703002214)\n",
            "Ttest_relResult(statistic=6.436132766214418, pvalue=1.4417641435669036e-06)\n",
            "WilcoxonResult(statistic=6.0, pvalue=3.7650930528909955e-05)\n",
            "WilcoxonResult(statistic=67.0, pvalue=0.25658452446926083)\n",
            "WilcoxonResult(statistic=18.5, pvalue=0.0007122804959091969)\n",
            "FriedmanchisquareResult(statistic=17.0681818181818, pvalue=0.00019664884959999098)\n"
          ]
        }
      ]
    },
    {
      "cell_type": "code",
      "source": [
        "#Fluorecence scoreの変化について検討\n",
        "\n",
        "A = np.array(df_single[\"Fluo_5area_pre\"])\n",
        "B = np.array(df_single[\"Fluo_5area_3M\"])\n",
        "C = np.array(df_single[\"Fluo_5area_12M\"])\n",
        "D = np.array(df_double[\"Fluo_5area_pre\"])\n",
        "E = np.array(df_double[\"Fluo_5area_3M\"])\n",
        "F = np.array(df_double[\"Fluo_5area_12M\"])\n",
        "\n",
        "print(stats.friedmanchisquare(A, B, C))\n",
        "print(stats.wilcoxon(A, B,  correction=False)) #single pre vs 3M\n",
        "print(stats.wilcoxon(A, C,  correction=False))\n",
        "print(stats.wilcoxon(B, C,  correction=False))\n",
        "print(stats.wilcoxon(D, E,  correction=False)) #double pre vs 3M\n",
        "print(stats.wilcoxon(E, F,  correction=False))\n",
        "print(stats.wilcoxon(D, F,  correction=False))\n",
        "print(stats.mannwhitneyu(A, D, use_continuity=True, alternative=None).pvalue) #single vs double baseline\n",
        "print(stats.mannwhitneyu(B, E, use_continuity=True, alternative=None).pvalue) #single vs double 3M\n",
        "print(stats.mannwhitneyu(C, F, use_continuity=True, alternative=None).pvalue) #single vs double 12M\n",
        "\n",
        "\n",
        "\n"
      ],
      "metadata": {
        "colab": {
          "base_uri": "https://localhost:8080/"
        },
        "id": "58XMPDhl7rrN",
        "outputId": "040b5fd2-cafa-4fa6-f384-49db35b797c5"
      },
      "execution_count": 112,
      "outputs": [
        {
          "output_type": "stream",
          "name": "stdout",
          "text": [
            "FriedmanchisquareResult(statistic=11.384615384615381, pvalue=0.003371802900676097)\n",
            "WilcoxonResult(statistic=0.0, pvalue=0.01775592261403605)\n",
            "WilcoxonResult(statistic=7.0, pvalue=0.8907458009320663)\n",
            "WilcoxonResult(statistic=0.0, pvalue=0.01755232593841686)\n",
            "WilcoxonResult(statistic=6.0, pvalue=0.0008177250141335084)\n",
            "WilcoxonResult(statistic=26.0, pvalue=0.3036939557925784)\n",
            "WilcoxonResult(statistic=2.0, pvalue=0.0006204452365623818)\n",
            "0.26177367723073736\n",
            "0.44877025449879454\n",
            "0.00038661489600531245\n"
          ]
        },
        {
          "output_type": "stream",
          "name": "stderr",
          "text": [
            "/usr/local/lib/python3.7/dist-packages/scipy/stats/morestats.py:2879: UserWarning: Sample size too small for normal approximation.\n",
            "  warnings.warn(\"Sample size too small for normal approximation.\")\n"
          ]
        }
      ]
    },
    {
      "cell_type": "code",
      "source": [
        "print(A)\n",
        "print(B)\n",
        "print(C)\n",
        "print(E)"
      ],
      "metadata": {
        "colab": {
          "base_uri": "https://localhost:8080/"
        },
        "id": "Ly5B4hyA-6Zw",
        "outputId": "a883ce14-a5bc-49d6-a46c-8ca09f0c2692"
      },
      "execution_count": 21,
      "outputs": [
        {
          "output_type": "stream",
          "name": "stdout",
          "text": [
            "[10. 10. 15.  9. 13. 15. 20.]\n",
            "[8. 5. 7. 6. 0. 5. 2.]\n",
            "[11.  6. 10. 11. 15. 17. 20.]\n",
            "[ 5.  3.  0.  3.  0.  0.  0.  8.  6.  2.  4.  8.  6. 13. 18.  3.  4.]\n"
          ]
        }
      ]
    },
    {
      "cell_type": "markdown",
      "source": [
        "#箱ひげ図"
      ],
      "metadata": {
        "id": "7OrxOdTKm5Lo"
      }
    },
    {
      "cell_type": "code",
      "source": [
        "#シルマー\n",
        "#データ整形\n",
        "from numpy.lib.function_base import kaiser\n",
        "df_singles = df_single.reset_index()\n",
        "df_doubles = df_double.reset_index()\n",
        "\n",
        "df_shirmer_single= pd.DataFrame(columns=[\"punctum\", \"mm\", \"status\"])\n",
        "df_shirmer_double= pd.DataFrame(columns=[\"punctum\", \"mm\", \"status\"])\n",
        "\n",
        "\n",
        "for i in range(len(df_singles)):\n",
        "    df_shirmer_single.loc[i, \"punctum\"] = \"One side closed\"\n",
        "    df_shirmer_single.loc[i, \"mm\"] = df_singles.loc[i, \"Pre Schirmer I\"]\n",
        "    df_shirmer_single.loc[i, \"status\"] = \"\"\n",
        "\n",
        "for i in range(len(df_doubles)):\n",
        "    df_shirmer_double.loc[i, \"punctum\"] = \"Both sides closed\"\n",
        "    df_shirmer_double.loc[i, \"mm\"] = df_doubles.loc[i, \"Pre Schirmer I\"]\n",
        "    df_shirmer_double.loc[i, \"status\"] = \"\"\n",
        "\n",
        "df_shirmer = pd.concat([df_shirmer_single, df_shirmer_double], axis=0)\n",
        "\n",
        "df_shirmer"
      ],
      "metadata": {
        "id": "IA7OIdgfn8zw"
      },
      "execution_count": null,
      "outputs": []
    },
    {
      "cell_type": "code",
      "source": [
        "#https://stats.biopapyrus.jp/python/boxplot.html\n",
        "#横並びのboxplot\n",
        "\n",
        "\n",
        "plt.figure(figsize=(12,8))\n",
        "\n",
        "#ボックスプロットを追加\n",
        "sns.boxplot(x=df_shirmer[\"status\"], y=df_shirmer[\"mm\"], data=df_shirmer, width=0.7, order=df_shirmer.status.unique(), hue=\"punctum\")\n",
        "#ドットプロットを追加\n",
        "sns.swarmplot(x=df_shirmer[\"status\"], y=df_shirmer[\"mm\"], data=df_shirmer, color=\"r\",order=df_shirmer.status.unique(), hue=\"punctum\",dodge=True)\n",
        "\n",
        "#plt.title(\"\",fontsize=24)   # タイトルを指定する、文字の大きさを指定\n",
        "plt.ylabel(\"Pre Shirmer I (mm)\", fontsize=24)         # ｙ軸のラベルを指定、文字の大きさを指定\n",
        "plt.xlabel(\"\",fontsize=24)           # ｘ軸のラベルを指定、文字の大きさを指定\n",
        "plt.yticks([x*2 for x in range(5)])\n",
        "plt.tick_params(labelsize=24)\n",
        "plt.legend(bbox_to_anchor=(1.05, 1), loc='upper left', borderaxespad=0, fontsize = 20)\n",
        "\n",
        "plt.show()"
      ],
      "metadata": {
        "id": "oIu5i5gGqDM1"
      },
      "execution_count": null,
      "outputs": []
    },
    {
      "cell_type": "code",
      "source": [
        "#フルオレセインスコア\n",
        "#データ整形\n",
        "from numpy.lib.function_base import kaiser\n",
        "df_fluo_pre = pd.DataFrame(columns=[\"score\", \"status\"])\n",
        "df_fluo_3M = pd.DataFrame(columns=[\"score\", \"status\"])\n",
        "df_fluo_12M = pd.DataFrame(columns=[\"score\", \"status\"])\n",
        "\n",
        "\n",
        "for i in range(len(df_long)):\n",
        "    df_fluo_pre.loc[i, \"score\"] = df_long.loc[i, \"Fluo_5area_pre\"]\n",
        "    df_fluo_pre.loc[i, \"status\"] = \"pre\"\n",
        "\n",
        "for i in range(len(df_long)):\n",
        "    df_fluo_3M.loc[i, \"score\"] = df_long.loc[i, \"Fluo_5area_3M\"]\n",
        "    df_fluo_3M.loc[i, \"status\"] = \"post_3M\"\n",
        "\n",
        "for i in range(len(df_long)):\n",
        "    df_fluo_12M.loc[i, \"score\"] = df_long.loc[i, \"Fluo_5area_12M\"]\n",
        "    df_fluo_12M.loc[i, \"status\"] = \"post_12M\"\n",
        "\n",
        "df_fluo = pd.concat([df_fluo_pre, df_fluo_3M, df_fluo_12M], axis=0)\n",
        "df_fluo"
      ],
      "metadata": {
        "id": "yCStlwzf6ZM_"
      },
      "execution_count": null,
      "outputs": []
    },
    {
      "cell_type": "code",
      "source": [
        "#箱ひげ図\n",
        "#https://dataanablog.com/python-beginner-drawing-a-box-and-whisker-diagram-with-matplotlib-and-seaborn-data-visualization/\n",
        "#!pip install japanize_matplotlib\n",
        "#import japanize_matplotlib       # グラフに日本語が使える\n",
        "\n",
        "plt.figure(figsize=(12,8))\n",
        "\n",
        "sns.boxplot(x=df_fluo[\"status\"], y=df_fluo[\"score\"],width=0.5,order=df_fluo.status.unique())\n",
        "\n",
        "#plt.title(\"Fluorescein score\",fontsize=20)   # タイトルを指定する、文字の大きさを指定\n",
        "plt.ylabel(\"Fluorescein score\",fontsize=24)         # ｙ軸のラベルを指定、文字の大きさを指定\n",
        "plt.xlabel(\"Status\",fontsize=24)           # ｘ軸のラベルを指定、文字の大きさを指定\n",
        "plt.yticks([0, 5, 10, 15])\n",
        "plt.tick_params(labelsize=24)\n",
        "\n",
        "plt.show()"
      ],
      "metadata": {
        "id": "PnmMZbNA4wb3"
      },
      "execution_count": null,
      "outputs": []
    },
    {
      "cell_type": "code",
      "source": [
        "#フルオレセインスコア\n",
        "#涙点別\n",
        "from numpy.lib.function_base import kaiser\n",
        "df_singles = df_single.reset_index()\n",
        "df_doubles = df_double.reset_index()\n",
        "\n",
        "\n",
        "df_single_fluo_pre = pd.DataFrame(columns=[\"punctum\", \"score\", \"status\"])\n",
        "df_single_fluo_3M = pd.DataFrame(columns=[\"punctum\", \"score\", \"status\"])\n",
        "df_single_fluo_12M = pd.DataFrame(columns=[\"punctum\", \"score\", \"status\"])\n",
        "df_double_fluo_pre = pd.DataFrame(columns=[\"punctum\", \"score\", \"status\"])\n",
        "df_double_fluo_3M = pd.DataFrame(columns=[\"punctum\", \"score\", \"status\"])\n",
        "df_double_fluo_12M = pd.DataFrame(columns=[\"punctum\", \"score\", \"status\"])\n",
        "\n",
        "for i in range(len(df_singles)):\n",
        "    df_single_fluo_pre.loc[i, \"punctum\"] = \"One side closed\"\n",
        "    df_single_fluo_pre.loc[i, \"score\"] = df_singles.loc[i, \"Fluo_5area_pre\"]\n",
        "    df_single_fluo_pre.loc[i, \"status\"] = \"preOP\"\n",
        "\n",
        "for i in range(len(df_doubles)):\n",
        "    df_double_fluo_pre.loc[i, \"punctum\"] = \"Both sides closed\"\n",
        "    df_double_fluo_pre.loc[i, \"score\"] = df_doubles.loc[i, \"Fluo_5area_pre\"]\n",
        "    df_double_fluo_pre.loc[i, \"status\"] = \"preOP\"\n",
        "\n",
        "for i in range(len(df_singles)):\n",
        "    df_single_fluo_3M.loc[i, \"punctum\"] = \"One side closed\"\n",
        "    df_single_fluo_3M.loc[i, \"score\"] = df_singles.loc[i, \"Fluo_5area_3M\"]\n",
        "    df_single_fluo_3M.loc[i, \"status\"] = \"postOP_3M\"\n",
        "\n",
        "for i in range(len(df_doubles)):\n",
        "    df_double_fluo_3M.loc[i, \"punctum\"] = \"Both sides closed\"\n",
        "    df_double_fluo_3M.loc[i, \"score\"] = df_doubles.loc[i, \"Fluo_5area_3M\"]\n",
        "    df_double_fluo_3M.loc[i, \"status\"] = \"postOP_3M\"\n",
        "\n",
        "for i in range(len(df_singles)):\n",
        "    df_single_fluo_12M.loc[i, \"punctum\"] = \"One side closed\"\n",
        "    df_single_fluo_12M.loc[i, \"score\"] = df_singles.loc[i, \"Fluo_5area_12M\"]\n",
        "    df_single_fluo_12M.loc[i, \"status\"] = \"postOP_12M\"\n",
        "\n",
        "for i in range(len(df_doubles)):\n",
        "    df_double_fluo_12M.loc[i, \"punctum\"] = \"Both sides closed\"\n",
        "    df_double_fluo_12M.loc[i, \"score\"] = df_doubles.loc[i, \"Fluo_5area_12M\"]\n",
        "    df_double_fluo_12M.loc[i, \"status\"] = \"postOP_12M\"\n",
        "\n",
        "df_fluo = pd.concat([df_single_fluo_pre, df_double_fluo_pre, df_single_fluo_3M, df_double_fluo_3M, df_single_fluo_12M, df_double_fluo_12M], axis=0)\n",
        "df_fluo"
      ],
      "metadata": {
        "id": "HXQNh-JPQYy-"
      },
      "execution_count": null,
      "outputs": []
    },
    {
      "cell_type": "code",
      "source": [
        "#https://stats.biopapyrus.jp/python/boxplot.html\n",
        "#横並びのboxplot\n",
        "\n",
        "\n",
        "plt.figure(figsize=(12,8), dpi=300)\n",
        "\n",
        "#ボックスプロットを追加\n",
        "sns.boxplot(x=df_fluo[\"status\"], y=df_fluo[\"score\"], data=df_fluo, width=0.7,order=df_fluo.status.unique(), hue=\"punctum\")\n",
        "#ドットプロットを追加\n",
        "#sns.swarmplot(x=df_TM[\"status\"], y=df_TM[\"score\"],data=df_fluo, color=\"r\",order=df_TM.status.unique(), hue=\"punctum\",dodge=True)\n",
        "\n",
        "#plt.title(\"\",fontsize=24)   # タイトルを指定する、文字の大きさを指定\n",
        "plt.ylabel(\"Fluorescein score\", fontsize=24)         # ｙ軸のラベルを指定、文字の大きさを指定\n",
        "plt.xlabel(\"\",fontsize=24)           # ｘ軸のラベルを指定、文字の大きさを指定\n",
        "plt.yticks([x*5 for x in range(4)])\n",
        "plt.tick_params(labelsize=24)\n",
        "plt.legend(bbox_to_anchor=(1.05, 1), loc='upper left', borderaxespad=0, fontsize = 20)\n",
        "\n",
        "plt.show()"
      ],
      "metadata": {
        "id": "x5PGq09LSZH0"
      },
      "execution_count": null,
      "outputs": []
    },
    {
      "cell_type": "code",
      "source": [
        "#涙液メニスカス\n",
        "#データ整形\n",
        "from numpy.lib.function_base import kaiser\n",
        "df_singles = df_single.reset_index()\n",
        "df_doubles = df_double.reset_index()\n",
        "\n",
        "df_single_TM_pre = pd.DataFrame(columns=[\"punctum\", \"mm\", \"status\"])\n",
        "df_single_TM_3M = pd.DataFrame(columns=[\"punctum\", \"mm\", \"status\"])\n",
        "df_single_TM_12M = pd.DataFrame(columns=[\"punctum\", \"mm\", \"status\"])\n",
        "df_double_TM_pre = pd.DataFrame(columns=[\"punctum\", \"mm\", \"status\"])\n",
        "df_double_TM_3M = pd.DataFrame(columns=[\"punctum\", \"mm\", \"status\"])\n",
        "df_double_TM_12M = pd.DataFrame(columns=[\"punctum\", \"mm\", \"status\"])\n",
        "\n",
        "for i in range(len(df_single)):\n",
        "    df_single_TM_pre.loc[i, \"punctum\"] = \"One side closed\"\n",
        "    df_single_TM_pre.loc[i, \"mm\"] = df_singles.loc[i, \"TM_pre_mm\"]\n",
        "    df_single_TM_pre.loc[i, \"status\"] = \"preOP\"\n",
        "\n",
        "for i in range(len(df_double)):\n",
        "    df_double_TM_pre.loc[i, \"punctum\"] = \"Both sides closed\"\n",
        "    df_double_TM_pre.loc[i, \"mm\"] = df_doubles.loc[i, \"TM_pre_mm\"]\n",
        "    df_double_TM_pre.loc[i, \"status\"] = \"preOP\"\n",
        "\n",
        "for i in range(len(df_single)):\n",
        "    df_single_TM_3M.loc[i, \"punctum\"] = \"One side closed\"\n",
        "    df_single_TM_3M.loc[i, \"mm\"] = df_singles.loc[i, \"TM_3M_mm\"]\n",
        "    df_single_TM_3M.loc[i, \"status\"] = \"postOP_3M\"\n",
        "\n",
        "for i in range(len(df_double)):\n",
        "    df_double_TM_3M.loc[i, \"punctum\"] = \"Both sides closed\"\n",
        "    df_double_TM_3M.loc[i, \"mm\"] = df_doubles.loc[i, \"TM_3M_mm\"]\n",
        "    df_double_TM_3M.loc[i, \"status\"] = \"postOP_3M\"\n",
        "\n",
        "for i in range(len(df_single)):\n",
        "    df_single_TM_12M.loc[i, \"punctum\"] = \"One side closed\"\n",
        "    df_single_TM_12M.loc[i, \"mm\"] = df_singles.loc[i, \"TM_12M_mm\"]\n",
        "    df_single_TM_12M.loc[i, \"status\"] = \"postOP_12M\"\n",
        "\n",
        "for i in range(len(df_double)):\n",
        "    df_double_TM_12M.loc[i, \"punctum\"] = \"Both sides closed\"\n",
        "    df_double_TM_12M.loc[i, \"mm\"] = df_doubles.loc[i, \"TM_12M_mm\"]\n",
        "    df_double_TM_12M.loc[i, \"status\"] = \"postOP_12M\"\n",
        "\n",
        "df_TM = pd.concat([df_single_TM_pre, df_double_TM_pre, df_single_TM_3M, df_double_TM_3M, df_single_TM_12M, df_double_TM_12M], axis=0)\n",
        "df_TM\n"
      ],
      "metadata": {
        "id": "qZ1ENixonYMK"
      },
      "execution_count": null,
      "outputs": []
    },
    {
      "cell_type": "code",
      "source": [
        "#https://stats.biopapyrus.jp/python/boxplot.html\n",
        "#横並びのboxplot\n",
        "plt.figure(figsize=(12,8))\n",
        "\n",
        "#ボックスプロットを追加\n",
        "sns.boxplot(x=df_TM[\"status\"], y=df_TM[\"mm\"], data=df_TM, width=0.7,order=df_TM.status.unique(), hue=\"punctum\")\n",
        "#ドットプロットを追加\n",
        "#sns.swarmplot(x=df_TM[\"status\"], y=df_TM[\"mm\"],data=df_TM, color=\"r\",order=df_TM.status.unique(), hue=\"punctum\",dodge=True)\n",
        "\n",
        "plt.title(\"\",fontsize=24)   # タイトルを指定する、文字の大きさを指定\n",
        "plt.ylabel(\"Tear meniscus (mm)\", fontsize=24)         # ｙ軸のラベルを指定、文字の大きさを指定\n",
        "plt.xlabel(\"\",fontsize=24)           # ｘ軸のラベルを指定、文字の大きさを指定\n",
        "plt.yticks([x*0.1 for x in range(10)])\n",
        "plt.tick_params(labelsize=24)\n",
        "plt.legend(bbox_to_anchor=(1.05, 1), loc='upper left', borderaxespad=0, fontsize = 20)\n",
        "\n",
        "\n",
        "plt.show()"
      ],
      "metadata": {
        "colab": {
          "base_uri": "https://localhost:8080/",
          "height": 489
        },
        "id": "NZeUhzbmvkkZ",
        "outputId": "285f7b18-2bf3-4b74-a3fc-0200bbc9265d"
      },
      "execution_count": 47,
      "outputs": [
        {
          "output_type": "display_data",
          "data": {
            "text/plain": [
              "<Figure size 864x576 with 1 Axes>"
            ],
            "image/png": "[encoded data removed]"
          },
          "metadata": {}
        }
      ]
    },
    {
      "cell_type": "markdown",
      "source": [
        "#データの外観を確認"
      ],
      "metadata": {
        "id": "AQWRpSbynd2q"
      }
    },
    {
      "cell_type": "code",
      "source": [
        "df_long.value_counts(\"M/F\")"
      ],
      "metadata": {
        "id": "IThV4yIOBoZF",
        "outputId": "494393e2-28d4-42cb-cde7-bb37d3034345",
        "colab": {
          "base_uri": "https://localhost:8080/"
        }
      },
      "execution_count": 137,
      "outputs": [
        {
          "output_type": "execute_result",
          "data": {
            "text/plain": [
              "M/F\n",
              "F    17\n",
              "M     7\n",
              "dtype: int64"
            ]
          },
          "metadata": {},
          "execution_count": 137
        }
      ]
    },
    {
      "cell_type": "code",
      "source": [
        "df_long.describe()[\"Age (yrs)\"]"
      ],
      "metadata": {
        "id": "atnnmpF2EBdF",
        "outputId": "e3a32fc9-bc03-4abf-9620-937184e06910",
        "colab": {
          "base_uri": "https://localhost:8080/"
        }
      },
      "execution_count": 138,
      "outputs": [
        {
          "output_type": "execute_result",
          "data": {
            "text/plain": [
              "count    24.000000\n",
              "mean     58.333333\n",
              "std      15.159060\n",
              "min      37.000000\n",
              "25%      48.000000\n",
              "50%      53.000000\n",
              "75%      73.250000\n",
              "max      86.000000\n",
              "Name: Age (yrs), dtype: float64"
            ]
          },
          "metadata": {},
          "execution_count": 138
        }
      ]
    },
    {
      "cell_type": "code",
      "source": [
        "df_long.value_counts(\"Side\")"
      ],
      "metadata": {
        "colab": {
          "base_uri": "https://localhost:8080/"
        },
        "id": "W7RnJtbd3NX9",
        "outputId": "b22d5d6c-f6ae-43d7-ea0b-cb7237ede1c8"
      },
      "execution_count": null,
      "outputs": [
        {
          "output_type": "execute_result",
          "data": {
            "text/plain": [
              "Side\n",
              "R    13\n",
              "L    11\n",
              "dtype: int64"
            ]
          },
          "metadata": {},
          "execution_count": 37
        }
      ]
    },
    {
      "cell_type": "code",
      "source": [
        "df_long.value_counts(\"History\")"
      ],
      "metadata": {
        "colab": {
          "base_uri": "https://localhost:8080/"
        },
        "id": "QkT_6OfI3T8K",
        "outputId": "a5d7bad2-a846-47a4-9f8c-2f0b57132d40"
      },
      "execution_count": null,
      "outputs": [
        {
          "output_type": "execute_result",
          "data": {
            "text/plain": [
              "History\n",
              "Punctal occulusion    5\n",
              "dtype: int64"
            ]
          },
          "metadata": {},
          "execution_count": 8
        }
      ]
    },
    {
      "cell_type": "code",
      "source": [
        "df_long.describe()[\"Pre Schirmer I\"]"
      ],
      "metadata": {
        "colab": {
          "base_uri": "https://localhost:8080/"
        },
        "id": "I8ndVMXN3kIs",
        "outputId": "4e55433e-18b9-4c88-bc84-3e1144ab9223"
      },
      "execution_count": null,
      "outputs": [
        {
          "output_type": "execute_result",
          "data": {
            "text/plain": [
              "count    23.000000\n",
              "mean      3.130435\n",
              "std       2.379923\n",
              "min       0.000000\n",
              "25%       1.500000\n",
              "50%       2.000000\n",
              "75%       3.500000\n",
              "max       8.000000\n",
              "Name: Pre Schirmer I, dtype: float64"
            ]
          },
          "metadata": {},
          "execution_count": 9
        }
      ]
    },
    {
      "cell_type": "code",
      "source": [
        "df_long.value_counts(\"History\")"
      ],
      "metadata": {
        "colab": {
          "base_uri": "https://localhost:8080/"
        },
        "id": "X7gF470ztWEc",
        "outputId": "195e646f-5ec5-404c-91e3-a1eb26076d92"
      },
      "execution_count": null,
      "outputs": [
        {
          "output_type": "execute_result",
          "data": {
            "text/plain": [
              "History\n",
              "Punctal occulusion    5\n",
              "dtype: int64"
            ]
          },
          "metadata": {},
          "execution_count": 10
        }
      ]
    },
    {
      "cell_type": "code",
      "source": [
        "print(df_long.describe()[\"Fluo_D_pre\"])\n",
        "print(df_long.value_counts(\"Fluo_D_pre\"))"
      ],
      "metadata": {
        "colab": {
          "base_uri": "https://localhost:8080/"
        },
        "id": "hWQbWzo_4UZH",
        "outputId": "b814420a-7aa7-4d59-bc87-05815aec1b75"
      },
      "execution_count": null,
      "outputs": [
        {
          "output_type": "stream",
          "name": "stdout",
          "text": [
            "count    24.000000\n",
            "mean      2.583333\n",
            "std       0.503610\n",
            "min       2.000000\n",
            "25%       2.000000\n",
            "50%       3.000000\n",
            "75%       3.000000\n",
            "max       3.000000\n",
            "Name: Fluo_D_pre, dtype: float64\n",
            "Fluo_D_pre\n",
            "3.0    14\n",
            "2.0    10\n",
            "dtype: int64\n"
          ]
        }
      ]
    },
    {
      "cell_type": "code",
      "source": [
        "print(df_long.describe()[\"Fluo_D_pre\"])\n",
        "print(df_long.value_counts(\"Fluo_D_pre\"))"
      ],
      "metadata": {
        "id": "yFTV-ez9Ztl6"
      },
      "execution_count": null,
      "outputs": []
    },
    {
      "cell_type": "code",
      "source": [
        "print(df_long.describe()[\"Fluo_D_post\"])\n",
        "print(df_long.value_counts(\"Fluo_D_post\"))"
      ],
      "metadata": {
        "colab": {
          "base_uri": "https://localhost:8080/"
        },
        "id": "bzJ2mcN26SON",
        "outputId": "5046e2e9-f319-43c2-979f-934650efc8ae"
      },
      "execution_count": 139,
      "outputs": [
        {
          "output_type": "stream",
          "name": "stdout",
          "text": [
            "count    24.000000\n",
            "mean      1.375000\n",
            "std       1.013496\n",
            "min       0.000000\n",
            "25%       0.750000\n",
            "50%       1.500000\n",
            "75%       2.000000\n",
            "max       3.000000\n",
            "Name: Fluo_D_post, dtype: float64\n",
            "Fluo_D_post\n",
            "2    9\n",
            "0    6\n",
            "1    6\n",
            "3    3\n",
            "dtype: int64\n"
          ]
        }
      ]
    },
    {
      "cell_type": "code",
      "source": [
        "print(df_long.describe()[\"Filamentosa_pre\"])\n",
        "print(df_long.value_counts(\"Filamentosa_pre\"))"
      ],
      "metadata": {
        "colab": {
          "base_uri": "https://localhost:8080/"
        },
        "id": "uq5zKwmq8WpD",
        "outputId": "28af5abd-7c7e-4b96-c3b4-38a9f1954669"
      },
      "execution_count": 140,
      "outputs": [
        {
          "output_type": "stream",
          "name": "stdout",
          "text": [
            "count    24.000000\n",
            "mean      0.208333\n",
            "std       0.414851\n",
            "min       0.000000\n",
            "25%       0.000000\n",
            "50%       0.000000\n",
            "75%       0.000000\n",
            "max       1.000000\n",
            "Name: Filamentosa_pre, dtype: float64\n",
            "Filamentosa_pre\n",
            "0    19\n",
            "1     5\n",
            "dtype: int64\n"
          ]
        }
      ]
    },
    {
      "cell_type": "code",
      "source": [
        "print(df_long.describe()[\"Filamentosa_post\"])\n",
        "print(df_long.value_counts(\"Filamentosa_post\"))"
      ],
      "metadata": {
        "colab": {
          "base_uri": "https://localhost:8080/"
        },
        "id": "kD59NGyU8iT_",
        "outputId": "3f1f7923-b1f9-4cd1-ce58-ffa23d8b0603"
      },
      "execution_count": 141,
      "outputs": [
        {
          "output_type": "stream",
          "name": "stdout",
          "text": [
            "count    24.0\n",
            "mean      0.0\n",
            "std       0.0\n",
            "min       0.0\n",
            "25%       0.0\n",
            "50%       0.0\n",
            "75%       0.0\n",
            "max       0.0\n",
            "Name: Filamentosa_post, dtype: float64\n",
            "Filamentosa_post\n",
            "0    24\n",
            "dtype: int64\n"
          ]
        }
      ]
    },
    {
      "cell_type": "code",
      "source": [
        "print(df_long.describe()[\"Pre Schirmer I\"])\n",
        "print(df_long.value_counts(\"Pre Schirmer I\"))\n"
      ],
      "metadata": {
        "colab": {
          "base_uri": "https://localhost:8080/"
        },
        "id": "QEuUy5b22kpX",
        "outputId": "027680a8-1bf7-40bf-a2a1-16ae252b0948"
      },
      "execution_count": 142,
      "outputs": [
        {
          "output_type": "stream",
          "name": "stdout",
          "text": [
            "count    24.000000\n",
            "mean      3.083333\n",
            "std       2.339020\n",
            "min       0.000000\n",
            "25%       1.750000\n",
            "50%       2.000000\n",
            "75%       3.250000\n",
            "max       8.000000\n",
            "Name: Pre Schirmer I, dtype: float64\n",
            "Pre Schirmer I\n",
            "2.0    7\n",
            "1.0    5\n",
            "3.0    5\n",
            "7.0    4\n",
            "0.0    1\n",
            "4.0    1\n",
            "8.0    1\n",
            "dtype: int64\n"
          ]
        }
      ]
    },
    {
      "cell_type": "code",
      "source": [
        "A = np.array(df_long[\"Pre Schirmer I\"])\n",
        "fig, ax = plt.subplots(figsize=(8,6), dpi=300)\n",
        "sns.distplot(\n",
        "    A, bins=8, color=\"green\", label=\"post 3M\", kde=False\n",
        ")\n",
        "sns.set(font_scale = 2)\n",
        "plt.xlim(0, 10)\n",
        "plt.ylim(0, 10)\n",
        "plt.show()"
      ],
      "metadata": {
        "id": "L8jhJ0F9YrHv"
      },
      "execution_count": null,
      "outputs": []
    },
    {
      "cell_type": "code",
      "source": [
        "print(df_long.describe()[\"Recurrent period (month)\"])\n"
      ],
      "metadata": {
        "colab": {
          "base_uri": "https://localhost:8080/"
        },
        "id": "3UMEAaC893ro",
        "outputId": "7a2d6125-0b5f-41df-947e-209eeb513823"
      },
      "execution_count": 110,
      "outputs": [
        {
          "output_type": "stream",
          "name": "stdout",
          "text": [
            "count    4.000000\n",
            "mean     4.250000\n",
            "std      2.986079\n",
            "min      1.000000\n",
            "25%      2.500000\n",
            "50%      4.000000\n",
            "75%      5.750000\n",
            "max      8.000000\n",
            "Name: Recurrent period (month), dtype: float64\n"
          ]
        }
      ]
    },
    {
      "cell_type": "code",
      "source": [
        "print(df_long[\"Recurrence\"].value_counts())\n"
      ],
      "metadata": {
        "colab": {
          "base_uri": "https://localhost:8080/"
        },
        "id": "TDib3RqmF-E1",
        "outputId": "1bbf81cf-fa27-41ea-9009-930c764b5835"
      },
      "execution_count": 111,
      "outputs": [
        {
          "output_type": "stream",
          "name": "stdout",
          "text": [
            "None     20\n",
            "Upper     3\n",
            "Lower     1\n",
            "Name: Recurrence, dtype: int64\n"
          ]
        }
      ]
    },
    {
      "cell_type": "code",
      "source": [
        "print(df_long.columns)"
      ],
      "metadata": {
        "colab": {
          "base_uri": "https://localhost:8080/"
        },
        "id": "YH_tBuyhGY2P",
        "outputId": "e1100d10-dbec-484c-8876-e12a03afa609"
      },
      "execution_count": 144,
      "outputs": [
        {
          "output_type": "stream",
          "name": "stdout",
          "text": [
            "Index(['index', 'ID', 'Patient NO', 'name', 'OP date', 'OP date2', 'Age (yrs)',\n",
            "       'M/F', 'Background disease', 'History', 'Side',\n",
            "       'Observation period (month)', 'Punctum_upper', 'Punctum_lower',\n",
            "       'Pre Schirmer I', 'FBUT _pre', 'FBUT_post', 'Fluo_A_pre', 'Fluo_D_pre',\n",
            "       'Fluo_A_post', 'Fluo_D_post', 'Filamentosa_pre', 'Filamentosa_post',\n",
            "       'TM_pre_px', 'TM_pre_corneaPX', 'TM_pre_mm', 'TM_3M_px',\n",
            "       'TM_3M_corneaPX', 'TM_3M_mm', 'TM_12M_px', 'TM_12M_corneaPX',\n",
            "       'TM_12M_mm', 'Observation period (month).1', 'followup_status',\n",
            "       'Recurrence', 'Recurrent period (month)', 'Unnamed: 35',\n",
            "       'Mibum finding', 'Mubum score', 'pre eyedrop', 'post eyedrop', '備考'],\n",
            "      dtype='object')\n"
          ]
        }
      ]
    },
    {
      "cell_type": "code",
      "source": [
        "#Fluoの変化は有意\n",
        "stats.wilcoxon(df_long['Fluo_D_pre'], df_long['Fluo_D_post'])"
      ],
      "metadata": {
        "colab": {
          "base_uri": "https://localhost:8080/"
        },
        "id": "2El0R_-27EMc",
        "outputId": "5a8e9379-9327-4995-c888-44eba5d90933"
      },
      "execution_count": 145,
      "outputs": [
        {
          "output_type": "execute_result",
          "data": {
            "text/plain": [
              "WilcoxonResult(statistic=0.0, pvalue=0.00021982609891843375)"
            ]
          },
          "metadata": {},
          "execution_count": 145
        }
      ]
    },
    {
      "cell_type": "code",
      "source": [
        "df_fluo = pd.DataFrame(index=[\"0\",\"1\",\"2\",\"3\"], columns = [\"pre\", \"post\"])\n",
        "pre = np.array(df_long['Fluo_D_pre'].value_counts())\n",
        "pre = np.append(pre, [0,0])\n",
        "post = np.array(df_long['Fluo_D_post'].value_counts())\n",
        "df_fluo[\"pre\"] = np.flip(pre)\n",
        "df_fluo[\"post\"] = np.flip(post)\n",
        "print(df_fluo)\n",
        "\n",
        "fig, ax = plt.subplots(figsize=(10, 8))\n",
        "for i in range(len(df_fluo)):\n",
        "    ax.bar(df_fluo.columns, \n",
        "           df_fluo.iloc[i], linewidth = 0, width=0.65,\n",
        "           bottom=df_fluo.iloc[:i].sum()\n",
        "          )\n",
        "    for j in range(len(df_fluo.columns)):\n",
        "        \"\"\"\n",
        "        plt.text(x=j, \n",
        "                 y=df_fluo.iloc[:i, j].sum()+(df_fluo.iloc[i, j]/2), \n",
        "                 s=f'{df_fluo.iloc[i, j]}%', \n",
        "                 ha='center', \n",
        "                 va='bottom'\n",
        "                )\n",
        "        \"\"\"\n",
        "plt.xlabel(\"\", fontsize=20)\n",
        "plt.ylabel(\"Fluorecence score\", fontsize=20)\n",
        "plt.setp(ax.get_xticklabels(), fontsize=20)\n",
        "plt.setp(ax.get_yticklabels(), fontsize=20)\n",
        "ax.legend(df_fluo.index, loc='upper right', fontsize=20)\n",
        "plt.show()\n",
        "\n"
      ],
      "metadata": {
        "colab": {
          "base_uri": "https://localhost:8080/",
          "height": 587
        },
        "id": "6eD85m6xbQ8K",
        "outputId": "00b1da94-f005-4e3a-f612-28950bf7b5c5"
      },
      "execution_count": 57,
      "outputs": [
        {
          "output_type": "stream",
          "name": "stdout",
          "text": [
            "   pre  post\n",
            "0    0     3\n",
            "1    0     6\n",
            "2   10     6\n",
            "3   14     9\n"
          ]
        },
        {
          "output_type": "display_data",
          "data": {
            "text/plain": [
              "<Figure size 720x576 with 1 Axes>"
            ],
            "image/png": "[encoded data removed]"
          },
          "metadata": {}
        }
      ]
    },
    {
      "cell_type": "code",
      "source": [
        "print(df_long.columns)"
      ],
      "metadata": {
        "colab": {
          "base_uri": "https://localhost:8080/"
        },
        "id": "aBKhx93rJjRu",
        "outputId": "64ae7991-a28a-4c40-934f-8e7a0351babb"
      },
      "execution_count": 115,
      "outputs": [
        {
          "output_type": "stream",
          "name": "stdout",
          "text": [
            "Index(['index', 'ID', 'Patient NO', 'name', 'OP date', 'OP date2', 'Age (yrs)',\n",
            "       'M/F', 'Background disease', 'History', 'Side',\n",
            "       'Observation period (month)', 'Punctum_upper', 'Punctum_lower',\n",
            "       'Pre Schirmer I', 'FBUT _pre', 'FBUT_post', 'Fluo_A_pre', 'Fluo_D_pre',\n",
            "       'Fluo_A_post', 'Fluo_D_post', 'Filamentosa_pre', 'Filamentosa_post',\n",
            "       'TM_pre_px', 'TM_pre_corneaPX', 'TM_pre_mm', 'TM_3M_px',\n",
            "       'TM_3M_corneaPX', 'TM_3M_mm', 'TM_12M_px', 'TM_12M_corneaPX',\n",
            "       'TM_12M_mm', 'Observation period (month).1', 'followup_status',\n",
            "       'Recurrence', 'Recurrent period (month)', 'Unnamed: 35',\n",
            "       'Mibum finding', 'Mubum score', 'pre eyedrop', 'post eyedrop', '備考'],\n",
            "      dtype='object')\n"
          ]
        }
      ]
    },
    {
      "cell_type": "code",
      "source": [
        "df_long[\"Observation period (month)\"].describe()"
      ],
      "metadata": {
        "colab": {
          "base_uri": "https://localhost:8080/"
        },
        "id": "GN4KJLRgGZq6",
        "outputId": "477d14ca-df71-4f5d-950e-ea3e1b091873"
      },
      "execution_count": 190,
      "outputs": [
        {
          "output_type": "execute_result",
          "data": {
            "text/plain": [
              "count    24.000000\n",
              "mean     22.500000\n",
              "std       8.182696\n",
              "min      12.000000\n",
              "25%      14.750000\n",
              "50%      24.000000\n",
              "75%      28.250000\n",
              "max      36.000000\n",
              "Name: Observation period (month), dtype: float64"
            ]
          },
          "metadata": {},
          "execution_count": 190
        }
      ]
    },
    {
      "cell_type": "code",
      "source": [
        "#欠損値の確認\n",
        "df_long.isnull().sum()"
      ],
      "metadata": {
        "id": "-vJaKO_XeoTu"
      },
      "execution_count": null,
      "outputs": []
    },
    {
      "cell_type": "code",
      "source": [
        "#欠損値を中央値で埋める\n",
        "df_long['Pre Schirmer I'] = df_long['Pre Schirmer I'].fillna(df_long['Pre Schirmer I'].median())"
      ],
      "metadata": {
        "id": "2AkOTfS6e6gv"
      },
      "execution_count": 63,
      "outputs": []
    },
    {
      "cell_type": "code",
      "source": [
        "from sklearn import linear_model\n",
        "\n",
        "df_long_3 = pd.concat([df_long, df_BD], axis=1)\n",
        "df_long_3.columns\n",
        "\n",
        "\n",
        "#X = df_long.loc[:, [\"Fluo_D_pre\", \"Filamentosa_pre\", \"Pre Schirmer I\", \"Age (yrs)\", \"Gender_F\", \"Backgroud_Sjogren\", \"Background_GVHD\"]].values\n",
        "#->\n",
        "X = df_long_3.loc[:, [\"Fluo_D_pre\", \"TM_pre_mm\", \"Filamentosa_pre\", \"Pre Schirmer I\", \"Both_punctum\"]].values\n",
        "\n",
        "Y = df_long_3[\"Fluo_D_post\"].values\n",
        "\n",
        "model = linear_model.LinearRegression()\n",
        "model.fit(X,Y)\n",
        "model.coef_\n",
        "\n",
        "# データフレームに変換し、カラム名とインデックス名を指定\n",
        "#df_coefficient = pd.DataFrame(model.coef_, columns=[\"Fluo_D_post\"], index=[\"Fluo_D_pre\", \"Filamentosa_pre\", \"Pre Schirmer I\", \"Age (yrs)\", \"Gender_F\", \"Backgroud_Sjogren\", \"Background_GVHD\"])\n",
        "df_coefficient = pd.DataFrame(model.coef_, columns=[\"Fluo_D_post\"], index=[\"Fluo_D_pre\", \"TM_pre_mm\", \"Filamentosa_pre\", \"Pre Schirmer I\", \"Both_punctum\"])\n",
        "df_coefficient"
      ],
      "metadata": {
        "colab": {
          "base_uri": "https://localhost:8080/",
          "height": 206
        },
        "id": "ZRMJ9mJeI7pj",
        "outputId": "e22cfd15-5161-42b4-ed3e-983524be4ace"
      },
      "execution_count": 64,
      "outputs": [
        {
          "output_type": "execute_result",
          "data": {
            "text/plain": [
              "                 Fluo_D_post\n",
              "Fluo_D_pre          0.863189\n",
              "TM_pre_mm          -6.586721\n",
              "Filamentosa_pre    -0.889376\n",
              "Pre Schirmer I     -0.039264\n",
              "Both_punctum       -0.324811"
            ],
            "text/html": [
              "\n",
              "  <div id=\"df-d74d10b2-814e-4dcb-8ae1-d520ad534620\">\n",
              "    <div class=\"colab-df-container\">\n",
              "      <div>\n",
              "<style scoped>\n",
              "    .dataframe tbody tr th:only-of-type {\n",
              "        vertical-align: middle;\n",
              "    }\n",
              "\n",
              "    .dataframe tbody tr th {\n",
              "        vertical-align: top;\n",
              "    }\n",
              "\n",
              "    .dataframe thead th {\n",
              "        text-align: right;\n",
              "    }\n",
              "</style>\n",
              "<table border=\"1\" class=\"dataframe\">\n",
              "  <thead>\n",
              "    <tr style=\"text-align: right;\">\n",
              "      <th></th>\n",
              "      <th>Fluo_D_post</th>\n",
              "    </tr>\n",
              "  </thead>\n",
              "  <tbody>\n",
              "    <tr>\n",
              "      <th>Fluo_D_pre</th>\n",
              "      <td>0.863189</td>\n",
              "    </tr>\n",
              "    <tr>\n",
              "      <th>TM_pre_mm</th>\n",
              "      <td>-6.586721</td>\n",
              "    </tr>\n",
              "    <tr>\n",
              "      <th>Filamentosa_pre</th>\n",
              "      <td>-0.889376</td>\n",
              "    </tr>\n",
              "    <tr>\n",
              "      <th>Pre Schirmer I</th>\n",
              "      <td>-0.039264</td>\n",
              "    </tr>\n",
              "    <tr>\n",
              "      <th>Both_punctum</th>\n",
              "      <td>-0.324811</td>\n",
              "    </tr>\n",
              "  </tbody>\n",
              "</table>\n",
              "</div>\n",
              "      <button class=\"colab-df-convert\" onclick=\"convertToInteractive('df-d74d10b2-814e-4dcb-8ae1-d520ad534620')\"\n",
              "              title=\"Convert this dataframe to an interactive table.\"\n",
              "              style=\"display:none;\">\n",
              "        \n",
              "  <svg xmlns=\"http://www.w3.org/2000/svg\" height=\"24px\"viewBox=\"0 0 24 24\"\n",
              "       width=\"24px\">\n",
              "    <path d=\"M0 0h24v24H0V0z\" fill=\"none\"/>\n",
              "    <path d=\"M18.56 5.44l.94 2.06.94-2.06 2.06-.94-2.06-.94-.94-2.06-.94 2.06-2.06.94zm-11 1L8.5 8.5l.94-2.06 2.06-.94-2.06-.94L8.5 2.5l-.94 2.06-2.06.94zm10 10l.94 2.06.94-2.06 2.06-.94-2.06-.94-.94-2.06-.94 2.06-2.06.94z\"/><path d=\"M17.41 7.96l-1.37-1.37c-.4-.4-.92-.59-1.43-.59-.52 0-1.04.2-1.43.59L10.3 9.45l-7.72 7.72c-.78.78-.78 2.05 0 2.83L4 21.41c.39.39.9.59 1.41.59.51 0 1.02-.2 1.41-.59l7.78-7.78 2.81-2.81c.8-.78.8-2.07 0-2.86zM5.41 20L4 18.59l7.72-7.72 1.47 1.35L5.41 20z\"/>\n",
              "  </svg>\n",
              "      </button>\n",
              "      \n",
              "  <style>\n",
              "    .colab-df-container {\n",
              "      display:flex;\n",
              "      flex-wrap:wrap;\n",
              "      gap: 12px;\n",
              "    }\n",
              "\n",
              "    .colab-df-convert {\n",
              "      background-color: #E8F0FE;\n",
              "      border: none;\n",
              "      border-radius: 50%;\n",
              "      cursor: pointer;\n",
              "      display: none;\n",
              "      fill: #1967D2;\n",
              "      height: 32px;\n",
              "      padding: 0 0 0 0;\n",
              "      width: 32px;\n",
              "    }\n",
              "\n",
              "    .colab-df-convert:hover {\n",
              "      background-color: #E2EBFA;\n",
              "      box-shadow: 0px 1px 2px rgba(60, 64, 67, 0.3), 0px 1px 3px 1px rgba(60, 64, 67, 0.15);\n",
              "      fill: #174EA6;\n",
              "    }\n",
              "\n",
              "    [theme=dark] .colab-df-convert {\n",
              "      background-color: #3B4455;\n",
              "      fill: #D2E3FC;\n",
              "    }\n",
              "\n",
              "    [theme=dark] .colab-df-convert:hover {\n",
              "      background-color: #434B5C;\n",
              "      box-shadow: 0px 1px 3px 1px rgba(0, 0, 0, 0.15);\n",
              "      filter: drop-shadow(0px 1px 2px rgba(0, 0, 0, 0.3));\n",
              "      fill: #FFFFFF;\n",
              "    }\n",
              "  </style>\n",
              "\n",
              "      <script>\n",
              "        const buttonEl =\n",
              "          document.querySelector('#df-d74d10b2-814e-4dcb-8ae1-d520ad534620 button.colab-df-convert');\n",
              "        buttonEl.style.display =\n",
              "          google.colab.kernel.accessAllowed ? 'block' : 'none';\n",
              "\n",
              "        async function convertToInteractive(key) {\n",
              "          const element = document.querySelector('#df-d74d10b2-814e-4dcb-8ae1-d520ad534620');\n",
              "          const dataTable =\n",
              "            await google.colab.kernel.invokeFunction('convertToInteractive',\n",
              "                                                     [key], {});\n",
              "          if (!dataTable) return;\n",
              "\n",
              "          const docLinkHtml = 'Like what you see? Visit the ' +\n",
              "            '<a target=\"_blank\" href=https://colab.research.google.com/notebooks/data_table.ipynb>data table notebook</a>'\n",
              "            + ' to learn more about interactive tables.';\n",
              "          element.innerHTML = '';\n",
              "          dataTable['output_type'] = 'display_data';\n",
              "          await google.colab.output.renderOutput(dataTable, element);\n",
              "          const docLink = document.createElement('div');\n",
              "          docLink.innerHTML = docLinkHtml;\n",
              "          element.appendChild(docLink);\n",
              "        }\n",
              "      </script>\n",
              "    </div>\n",
              "  </div>\n",
              "  "
            ]
          },
          "metadata": {},
          "execution_count": 64
        }
      ]
    },
    {
      "cell_type": "code",
      "source": [
        "import statsmodels.api as sm\n",
        "\n",
        "model = sm.OLS(Y, sm.add_constant(X))\n",
        "results = model.fit()\n",
        "print(results.summary())\n",
        "# --> 術後SPKの重症度と有意に相関する項目なし\n"
      ],
      "metadata": {
        "id": "tx5XmGWkhTY2"
      },
      "execution_count": null,
      "outputs": []
    },
    {
      "cell_type": "code",
      "source": [
        "A = np.array(df_long[\"Fluo_D_post\"])"
      ],
      "metadata": {
        "id": "wa7NGFsD1STR"
      },
      "execution_count": 203,
      "outputs": []
    },
    {
      "cell_type": "code",
      "source": [
        "\"\"\"\n",
        "from scipy.stats import pearsonr\n",
        "A = df_long[\"Fluo_D_post\"]\n",
        "AA= df_long[[\"Fluo_D_post\"]]\n",
        "B = df_long[\"Fluo_D_pre\"]\n",
        "C = df_long[\"TM_pre_mm\"]\n",
        "D = df_long[\"Filamentosa_pre\"]\n",
        "E = df_long[\"Pre Schirmer I\"]\n",
        "F = df_long[\"TM_3M_mm\"]\n",
        "G = df_long[\"Recurrence\"]\n",
        "\n",
        "for i, j in zip ([B,C,D,E], [\"Fluo_D_pre\", \"TM_pre_mm\", \"Filamentosa_pre\", \"Pre Shirmer I\", \"TM_3M_mm\", \"Recurrence\"]):\n",
        "    a, b = pearsonr(A, i)\n",
        "    print(j)\n",
        "    print(\"相関係数:\", a)\n",
        "    print(\"p値:\", b)\n",
        "\n",
        "    model = linear_model.LinearRegression()\n",
        "    results = model.fit(AA, i)\n",
        "    print(\"coef: \", model.coef_)\n",
        "    print(\"\")\n",
        "\"\"\""
      ],
      "metadata": {
        "id": "Nt4EfBAUwpji"
      },
      "execution_count": null,
      "outputs": []
    },
    {
      "cell_type": "code",
      "source": [
        "import statsmodels.api as sm\n",
        "\n",
        "for i in [\"Fluo_D_pre\", \"TM_pre_mm\", \"Filamentosa_pre\", \"Pre Schirmer I\", \"TM_3M_mm\", \"Recurrence\"]:\n",
        "    print(i)\n",
        "    X = df_long.loc[:, [i]].values\n",
        "    Y = df_long[\"Fluo_D_post\"].values\n",
        "    model = sm.OLS(Y, sm.add_constant(X))\n",
        "    results = model.fit()\n",
        "    print(results.summary())\n",
        "    print(\"\")"
      ],
      "metadata": {
        "id": "hzrO0zbf5mUk"
      },
      "execution_count": null,
      "outputs": []
    },
    {
      "cell_type": "markdown",
      "source": [
        "#**12ヶ月後のSPKに関する単回帰および重回帰分析**"
      ],
      "metadata": {
        "id": "rMTQf4gbVy4v"
      }
    },
    {
      "cell_type": "code",
      "source": [
        "#欠損値の確認\n",
        "df_long.isnull().sum()"
      ],
      "metadata": {
        "id": "qCg1bm5WYCey",
        "outputId": "8ca6dc55-1210-4ebf-fe00-260129e49284",
        "colab": {
          "base_uri": "https://localhost:8080/"
        }
      },
      "execution_count": 113,
      "outputs": [
        {
          "output_type": "execute_result",
          "data": {
            "text/plain": [
              "index             0\n",
              "ID                0\n",
              "Patient NO        0\n",
              "name              0\n",
              "OP date           0\n",
              "                 ..\n",
              "Mibum finding    22\n",
              "Mubum score      24\n",
              "pre eyedrop       3\n",
              "post eyedrop      3\n",
              "備考               16\n",
              "Length: 61, dtype: int64"
            ]
          },
          "metadata": {},
          "execution_count": 113
        }
      ]
    },
    {
      "cell_type": "code",
      "source": [
        "#欠損値を中央値で埋める\n",
        "df_long['Pre Schirmer I'] = df_long['Pre Schirmer I'].fillna(df_long['Pre Schirmer I'].median())"
      ],
      "metadata": {
        "id": "fD3mejzYYFUv"
      },
      "execution_count": 114,
      "outputs": []
    },
    {
      "cell_type": "code",
      "source": [
        "df_long.columns"
      ],
      "metadata": {
        "id": "y3y5sW8ZgUWU",
        "outputId": "ba9b2dbb-4495-4092-c797-33174ec099cd",
        "colab": {
          "base_uri": "https://localhost:8080/"
        }
      },
      "execution_count": 115,
      "outputs": [
        {
          "output_type": "execute_result",
          "data": {
            "text/plain": [
              "Index(['index', 'ID', 'Patient NO', 'name', 'OP date', 'OP date2', 'Age (yrs)',\n",
              "       'M/F', 'Background disease', 'History', 'Side',\n",
              "       'Observation period (month)', 'Punctum_upper', 'Punctum_lower',\n",
              "       'Both_punctum', 'Pre Schirmer I', 'FBUT _pre', 'FBUT_post',\n",
              "       'Fluo_A_pre', 'Fluo_D_pre', 'Fluo_A_post', 'Fluo_D_post',\n",
              "       'Fluo_upper_pre', 'Fluo_center_pre', 'Fluo_lateral_pre',\n",
              "       'Fluo_medial_pre', 'Fluo_lower_pre', 'Fluo_5area_pre', 'Fluo_upper_3M',\n",
              "       'Fluo_center_3M', 'Fluo_lateral_3M', 'Fluo_medial_3M', 'Fluo_lower_3M',\n",
              "       'Fluo_5area_3M', 'Fluo_upper_12M', 'Fluo_center_12M',\n",
              "       'Fluo_lateral_12M', 'Fluo_medial_12M', 'Fluo_lower_12M',\n",
              "       'Fluo_5area_12M', 'Filamentosa_pre', 'Filamentosa_post', 'TM_pre_px',\n",
              "       'TM_pre_corneaPX', 'TM_pre_mm', 'TM_3M_px', 'TM_3M_corneaPX',\n",
              "       'TM_3M_mm', 'TM_12M_px', 'TM_12M_corneaPX', 'TM_12M_mm',\n",
              "       'Observation period (month).1', 'followup_status', 'Recurrence',\n",
              "       'Recurrent period (month)', 'Unnamed: 54', 'Mibum finding',\n",
              "       'Mubum score', 'pre eyedrop', 'post eyedrop', '備考'],\n",
              "      dtype='object')"
            ]
          },
          "metadata": {},
          "execution_count": 115
        }
      ]
    },
    {
      "cell_type": "code",
      "source": [
        "#12ヶ月後のSPKに関する予測\n",
        "import statsmodels.api as sm\n",
        "\n",
        "for i in [\"Fluo_5area_pre\", \"Pre Schirmer I\", \"TM_pre_mm\", \"Filamentosa_pre\", \"Both_punctum\"]:\n",
        "\n",
        "    print(i)\n",
        "    X = df_long.loc[:, [i]].values\n",
        "    Y = df_long[\"Fluo_5area_12M\"].values\n",
        "    model = sm.OLS(Y, sm.add_constant(X))\n",
        "    results = model.fit()\n",
        "    print(results.summary())\n",
        "    print(\"\")"
      ],
      "metadata": {
        "colab": {
          "base_uri": "https://localhost:8080/"
        },
        "id": "llAd00kfFSYm",
        "outputId": "9f800c11-ebc3-48b5-d68f-bf0ec9ee294b"
      },
      "execution_count": 116,
      "outputs": [
        {
          "output_type": "stream",
          "name": "stdout",
          "text": [
            "Fluo_5area_pre\n",
            "                            OLS Regression Results                            \n",
            "==============================================================================\n",
            "Dep. Variable:                      y   R-squared:                       0.253\n",
            "Model:                            OLS   Adj. R-squared:                  0.219\n",
            "Method:                 Least Squares   F-statistic:                     7.433\n",
            "Date:                Fri, 25 Mar 2022   Prob (F-statistic):             0.0123\n",
            "Time:                        02:42:03   Log-Likelihood:                -62.855\n",
            "No. Observations:                  24   AIC:                             129.7\n",
            "Df Residuals:                      22   BIC:                             132.1\n",
            "Df Model:                           1                                         \n",
            "Covariance Type:            nonrobust                                         \n",
            "==============================================================================\n",
            "                 coef    std err          t      P>|t|      [0.025      0.975]\n",
            "------------------------------------------------------------------------------\n",
            "const          0.2465      1.811      0.136      0.893      -3.510       4.003\n",
            "x1             0.5509      0.202      2.726      0.012       0.132       0.970\n",
            "==============================================================================\n",
            "Omnibus:                        1.337   Durbin-Watson:                   1.637\n",
            "Prob(Omnibus):                  0.513   Jarque-Bera (JB):                1.094\n",
            "Skew:                           0.314   Prob(JB):                        0.579\n",
            "Kurtosis:                       2.163   Cond. No.                         23.2\n",
            "==============================================================================\n",
            "\n",
            "Warnings:\n",
            "[1] Standard Errors assume that the covariance matrix of the errors is correctly specified.\n",
            "\n",
            "Pre Schirmer I\n",
            "                            OLS Regression Results                            \n",
            "==============================================================================\n",
            "Dep. Variable:                      y   R-squared:                       0.008\n",
            "Model:                            OLS   Adj. R-squared:                 -0.037\n",
            "Method:                 Least Squares   F-statistic:                    0.1878\n",
            "Date:                Fri, 25 Mar 2022   Prob (F-statistic):              0.669\n",
            "Time:                        02:42:03   Log-Likelihood:                -66.246\n",
            "No. Observations:                  24   AIC:                             136.5\n",
            "Df Residuals:                      22   BIC:                             138.8\n",
            "Df Model:                           1                                         \n",
            "Covariance Type:            nonrobust                                         \n",
            "==============================================================================\n",
            "                 coef    std err          t      P>|t|      [0.025      0.975]\n",
            "------------------------------------------------------------------------------\n",
            "const          4.3159      1.367      3.156      0.005       1.480       7.152\n",
            "x1             0.1543      0.356      0.433      0.669      -0.584       0.893\n",
            "==============================================================================\n",
            "Omnibus:                        4.736   Durbin-Watson:                   1.526\n",
            "Prob(Omnibus):                  0.094   Jarque-Bera (JB):                3.412\n",
            "Skew:                           0.920   Prob(JB):                        0.182\n",
            "Kurtosis:                       3.167   Cond. No.                         6.73\n",
            "==============================================================================\n",
            "\n",
            "Warnings:\n",
            "[1] Standard Errors assume that the covariance matrix of the errors is correctly specified.\n",
            "\n",
            "TM_pre_mm\n",
            "                            OLS Regression Results                            \n",
            "==============================================================================\n",
            "Dep. Variable:                      y   R-squared:                       0.001\n",
            "Model:                            OLS   Adj. R-squared:                 -0.045\n",
            "Method:                 Least Squares   F-statistic:                   0.01176\n",
            "Date:                Fri, 25 Mar 2022   Prob (F-statistic):              0.915\n",
            "Time:                        02:42:03   Log-Likelihood:                -66.342\n",
            "No. Observations:                  24   AIC:                             136.7\n",
            "Df Residuals:                      22   BIC:                             139.0\n",
            "Df Model:                           1                                         \n",
            "Covariance Type:            nonrobust                                         \n",
            "==============================================================================\n",
            "                 coef    std err          t      P>|t|      [0.025      0.975]\n",
            "------------------------------------------------------------------------------\n",
            "const          4.4909      2.892      1.553      0.135      -1.506      10.488\n",
            "x1             2.1216     19.564      0.108      0.915     -38.452      42.695\n",
            "==============================================================================\n",
            "Omnibus:                        5.858   Durbin-Watson:                   1.522\n",
            "Prob(Omnibus):                  0.053   Jarque-Bera (JB):                4.156\n",
            "Skew:                           0.996   Prob(JB):                        0.125\n",
            "Kurtosis:                       3.435   Cond. No.                         24.4\n",
            "==============================================================================\n",
            "\n",
            "Warnings:\n",
            "[1] Standard Errors assume that the covariance matrix of the errors is correctly specified.\n",
            "\n",
            "Filamentosa_pre\n",
            "                            OLS Regression Results                            \n",
            "==============================================================================\n",
            "Dep. Variable:                      y   R-squared:                       0.072\n",
            "Model:                            OLS   Adj. R-squared:                  0.030\n",
            "Method:                 Least Squares   F-statistic:                     1.706\n",
            "Date:                Fri, 25 Mar 2022   Prob (F-statistic):              0.205\n",
            "Time:                        02:42:03   Log-Likelihood:                -65.452\n",
            "No. Observations:                  24   AIC:                             134.9\n",
            "Df Residuals:                      22   BIC:                             137.3\n",
            "Df Model:                           1                                         \n",
            "Covariance Type:            nonrobust                                         \n",
            "==============================================================================\n",
            "                 coef    std err          t      P>|t|      [0.025      0.975]\n",
            "------------------------------------------------------------------------------\n",
            "const          4.2632      0.886      4.809      0.000       2.425       6.102\n",
            "x1             2.5368      1.942      1.306      0.205      -1.491       6.565\n",
            "==============================================================================\n",
            "Omnibus:                        2.591   Durbin-Watson:                   1.486\n",
            "Prob(Omnibus):                  0.274   Jarque-Bera (JB):                1.703\n",
            "Skew:                           0.652   Prob(JB):                        0.427\n",
            "Kurtosis:                       3.017   Cond. No.                         2.59\n",
            "==============================================================================\n",
            "\n",
            "Warnings:\n",
            "[1] Standard Errors assume that the covariance matrix of the errors is correctly specified.\n",
            "\n",
            "Both_punctum\n",
            "                            OLS Regression Results                            \n",
            "==============================================================================\n",
            "Dep. Variable:                      y   R-squared:                       0.529\n",
            "Model:                            OLS   Adj. R-squared:                  0.507\n",
            "Method:                 Least Squares   F-statistic:                     24.67\n",
            "Date:                Fri, 25 Mar 2022   Prob (F-statistic):           5.71e-05\n",
            "Time:                        02:42:03   Log-Likelihood:                -57.324\n",
            "No. Observations:                  24   AIC:                             118.6\n",
            "Df Residuals:                      22   BIC:                             121.0\n",
            "Df Model:                           1                                         \n",
            "Covariance Type:            nonrobust                                         \n",
            "==============================================================================\n",
            "                 coef    std err          t      P>|t|      [0.025      0.975]\n",
            "------------------------------------------------------------------------------\n",
            "const          9.1429      1.041      8.784      0.000       6.984      11.302\n",
            "x1            -6.1429      1.237     -4.967      0.000      -8.708      -3.578\n",
            "==============================================================================\n",
            "Omnibus:                        3.033   Durbin-Watson:                   1.341\n",
            "Prob(Omnibus):                  0.219   Jarque-Bera (JB):                2.145\n",
            "Skew:                           0.732   Prob(JB):                        0.342\n",
            "Kurtosis:                       2.958   Cond. No.                         3.47\n",
            "==============================================================================\n",
            "\n",
            "Warnings:\n",
            "[1] Standard Errors assume that the covariance matrix of the errors is correctly specified.\n",
            "\n"
          ]
        }
      ]
    },
    {
      "cell_type": "code",
      "source": [
        "#重回帰分析で確認\n",
        "from sklearn import linear_model\n",
        "\n",
        "X = df_long.loc[:, [\"Fluo_5area_pre\", \"Pre Schirmer I\", \"TM_pre_mm\", \"Both_punctum\"]].values\n",
        "Y = df_long[\"Fluo_5area_12M\"].values\n",
        "\n",
        "model = linear_model.LinearRegression()\n",
        "model.fit(X,Y)\n",
        "model.coef_\n",
        "\n",
        "# データフレームに変換し、カラム名とインデックス名を指定\n",
        "df_coefficient = pd.DataFrame(model.coef_, columns=[\"Fluo_5area_12M\"], index=[\"Fluo_5area_pre\", \"Pre Schirmer I\", \"TM_pre_mm\", \"Both_punctum\"])\n",
        "df_coefficient\n",
        "\n",
        "model = sm.OLS(Y, sm.add_constant(X))\n",
        "results = model.fit()\n",
        "print(results.summary())\n",
        "# --> 術後SPKの重症度と有意に相関する項目なし"
      ],
      "metadata": {
        "colab": {
          "base_uri": "https://localhost:8080/"
        },
        "id": "Qcfcqb49VNBe",
        "outputId": "549ae2d0-33f8-41f7-c27d-b4dde9d1fd47"
      },
      "execution_count": 117,
      "outputs": [
        {
          "output_type": "stream",
          "name": "stdout",
          "text": [
            "                            OLS Regression Results                            \n",
            "==============================================================================\n",
            "Dep. Variable:                      y   R-squared:                       0.667\n",
            "Model:                            OLS   Adj. R-squared:                  0.597\n",
            "Method:                 Least Squares   F-statistic:                     9.527\n",
            "Date:                Fri, 25 Mar 2022   Prob (F-statistic):           0.000211\n",
            "Time:                        02:45:26   Log-Likelihood:                -53.142\n",
            "No. Observations:                  24   AIC:                             116.3\n",
            "Df Residuals:                      19   BIC:                             122.2\n",
            "Df Model:                           4                                         \n",
            "Covariance Type:            nonrobust                                         \n",
            "==============================================================================\n",
            "                 coef    std err          t      P>|t|      [0.025      0.975]\n",
            "------------------------------------------------------------------------------\n",
            "const          5.4996      2.657      2.070      0.052      -0.062      11.061\n",
            "x1             0.4180      0.150      2.781      0.012       0.103       0.733\n",
            "x2            -0.0469      0.225     -0.209      0.837      -0.518       0.424\n",
            "x3            -0.5186     12.315     -0.042      0.967     -26.295      25.257\n",
            "x4            -5.5596      1.151     -4.832      0.000      -7.968      -3.151\n",
            "==============================================================================\n",
            "Omnibus:                        0.954   Durbin-Watson:                   1.603\n",
            "Prob(Omnibus):                  0.621   Jarque-Bera (JB):                0.921\n",
            "Skew:                           0.315   Prob(JB):                        0.631\n",
            "Kurtosis:                       2.276   Cond. No.                         234.\n",
            "==============================================================================\n",
            "\n",
            "Warnings:\n",
            "[1] Standard Errors assume that the covariance matrix of the errors is correctly specified.\n"
          ]
        }
      ]
    },
    {
      "cell_type": "code",
      "source": [
        "\n",
        "#ヒストグラムつきの散布図を作成\n",
        "sns.jointplot(x=df_long[\"TM_12M_mm\"], y=df_long[\"Fluo_5area_12M\"], kind='reg')\n",
        "plt.show()"
      ],
      "metadata": {
        "colab": {
          "base_uri": "https://localhost:8080/",
          "height": 441
        },
        "id": "J1w0_1sXIcyp",
        "outputId": "72240973-8432-4ac6-c344-678b7b683a97"
      },
      "execution_count": 60,
      "outputs": [
        {
          "output_type": "display_data",
          "data": {
            "text/plain": [
              "<Figure size 432x432 with 3 Axes>"
            ],
            "image/png": "[encoded data removed]"
          },
          "metadata": {
            "needs_background": "light"
          }
        }
      ]
    },
    {
      "cell_type": "code",
      "source": [
        "df_long.describe().apply(lambda s: s.apply(lambda x: format(x, 'g')))\n"
      ],
      "metadata": {
        "colab": {
          "base_uri": "https://localhost:8080/",
          "height": 399
        },
        "id": "yIwdDbOAjF54",
        "outputId": "34719349-bdf3-4190-9d9b-9c1b97c0b2c0"
      },
      "execution_count": 152,
      "outputs": [
        {
          "output_type": "execute_result",
          "data": {
            "text/plain": [
              "         index           ID Patient NO      OP date     OP date2 Age (yrs)  \\\n",
              "count       24           24         24           24            3        24   \n",
              "mean   16.4167  9.84823e+06     12.375   2.0196e+07  2.01908e+07   58.3333   \n",
              "std    10.9382  2.15076e+06     8.3396      9939.24       9691.5   15.1591   \n",
              "min          0  4.54445e+06          1  2.01809e+07  2.01811e+07        37   \n",
              "25%       7.75  8.88924e+06       5.75  2.01906e+07   2.0186e+07        48   \n",
              "50%         14  1.05975e+07         10  2.01909e+07  2.01908e+07        53   \n",
              "75%      25.25  1.13091e+07      20.25  2.02033e+07  2.01957e+07     73.25   \n",
              "max         36  1.19715e+07         26  2.02104e+07  2.02005e+07        86   \n",
              "\n",
              "      Observation period (month) Pre Schirmer I FBUT _pre FBUT_post  \\\n",
              "count                         24             24         7         4   \n",
              "mean                        22.5        3.08333   1.57143       4.5   \n",
              "std                       8.1827        2.33902  0.534522   2.88675   \n",
              "min                           12              0         1         2   \n",
              "25%                        14.75           1.75         1         2   \n",
              "50%                           24              2         2       4.5   \n",
              "75%                        28.25           3.25         2         7   \n",
              "max                           36              8         2         7   \n",
              "\n",
              "      Fluo_A_pre Fluo_D_pre Fluo_A_post Fluo_D_post Filamentosa_pre  \\\n",
              "count         24         24          24          24              24   \n",
              "mean     2.16667    2.58333     1.41667       1.375        0.208333   \n",
              "std     0.701964    0.50361     1.05981      1.0135        0.414851   \n",
              "min            1          2           0           0               0   \n",
              "25%            2          2        0.75        0.75               0   \n",
              "50%            2          3         1.5         1.5               0   \n",
              "75%            3          3           2           2               0   \n",
              "max            3          3           3           3               1   \n",
              "\n",
              "      Filamentosa_post TM_pre_px TM_pre_corneaPX  TM_pre_mm TM_3M_px  \\\n",
              "count               24        24              24         24       24   \n",
              "mean                 0   4.41667         378.417   0.141763  9.45833   \n",
              "std                  0   1.66594         41.1835  0.0427392  5.38903   \n",
              "min                  0         2             259  0.0631579        4   \n",
              "25%                  0         3          373.75   0.123308        6   \n",
              "50%                  0         4             380   0.134831        8   \n",
              "75%                  0      5.25             400   0.162431       11   \n",
              "max                  0         8             429       0.24       25   \n",
              "\n",
              "      TM_3M_corneaPX  TM_3M_mm TM_12M_px TM_12M_corneaPX TM_12M_mm  \\\n",
              "count             24        24        24              24        24   \n",
              "mean         376.875  0.304698   7.70833         388.333  0.252193   \n",
              "std          42.0541  0.159761   3.15511         16.3486  0.112405   \n",
              "min              250  0.123077         3             360      0.09   \n",
              "25%            377.5  0.211943         5             380  0.157895   \n",
              "50%            384.5  0.293426       7.5           389.5  0.214759   \n",
              "75%              400    0.3375     10.25             400   0.33956   \n",
              "max              420  0.789474        15             420  0.428571   \n",
              "\n",
              "      Observation period (month).1 Recurrent period (month) Unnamed: 35  \\\n",
              "count                           24                        4           0   \n",
              "mean                          22.5                     4.25         nan   \n",
              "std                         8.1827                  2.98608         nan   \n",
              "min                             12                        1         nan   \n",
              "25%                          14.75                      2.5         nan   \n",
              "50%                             24                        4         nan   \n",
              "75%                          28.25                     5.75         nan   \n",
              "max                             36                        8         nan   \n",
              "\n",
              "      Mubum score  \n",
              "count           0  \n",
              "mean          nan  \n",
              "std           nan  \n",
              "min           nan  \n",
              "25%           nan  \n",
              "50%           nan  \n",
              "75%           nan  \n",
              "max           nan  "
            ],
            "text/html": [
              "\n",
              "  <div id=\"df-5e13d75d-2b22-46da-bd9f-28de5159847a\">\n",
              "    <div class=\"colab-df-container\">\n",
              "      <div>\n",
              "<style scoped>\n",
              "    .dataframe tbody tr th:only-of-type {\n",
              "        vertical-align: middle;\n",
              "    }\n",
              "\n",
              "    .dataframe tbody tr th {\n",
              "        vertical-align: top;\n",
              "    }\n",
              "\n",
              "    .dataframe thead th {\n",
              "        text-align: right;\n",
              "    }\n",
              "</style>\n",
              "<table border=\"1\" class=\"dataframe\">\n",
              "  <thead>\n",
              "    <tr style=\"text-align: right;\">\n",
              "      <th></th>\n",
              "      <th>index</th>\n",
              "      <th>ID</th>\n",
              "      <th>Patient NO</th>\n",
              "      <th>OP date</th>\n",
              "      <th>OP date2</th>\n",
              "      <th>Age (yrs)</th>\n",
              "      <th>Observation period (month)</th>\n",
              "      <th>Pre Schirmer I</th>\n",
              "      <th>FBUT _pre</th>\n",
              "      <th>FBUT_post</th>\n",
              "      <th>Fluo_A_pre</th>\n",
              "      <th>Fluo_D_pre</th>\n",
              "      <th>Fluo_A_post</th>\n",
              "      <th>Fluo_D_post</th>\n",
              "      <th>Filamentosa_pre</th>\n",
              "      <th>Filamentosa_post</th>\n",
              "      <th>TM_pre_px</th>\n",
              "      <th>TM_pre_corneaPX</th>\n",
              "      <th>TM_pre_mm</th>\n",
              "      <th>TM_3M_px</th>\n",
              "      <th>TM_3M_corneaPX</th>\n",
              "      <th>TM_3M_mm</th>\n",
              "      <th>TM_12M_px</th>\n",
              "      <th>TM_12M_corneaPX</th>\n",
              "      <th>TM_12M_mm</th>\n",
              "      <th>Observation period (month).1</th>\n",
              "      <th>Recurrent period (month)</th>\n",
              "      <th>Unnamed: 35</th>\n",
              "      <th>Mubum score</th>\n",
              "    </tr>\n",
              "  </thead>\n",
              "  <tbody>\n",
              "    <tr>\n",
              "      <th>count</th>\n",
              "      <td>24</td>\n",
              "      <td>24</td>\n",
              "      <td>24</td>\n",
              "      <td>24</td>\n",
              "      <td>3</td>\n",
              "      <td>24</td>\n",
              "      <td>24</td>\n",
              "      <td>24</td>\n",
              "      <td>7</td>\n",
              "      <td>4</td>\n",
              "      <td>24</td>\n",
              "      <td>24</td>\n",
              "      <td>24</td>\n",
              "      <td>24</td>\n",
              "      <td>24</td>\n",
              "      <td>24</td>\n",
              "      <td>24</td>\n",
              "      <td>24</td>\n",
              "      <td>24</td>\n",
              "      <td>24</td>\n",
              "      <td>24</td>\n",
              "      <td>24</td>\n",
              "      <td>24</td>\n",
              "      <td>24</td>\n",
              "      <td>24</td>\n",
              "      <td>24</td>\n",
              "      <td>4</td>\n",
              "      <td>0</td>\n",
              "      <td>0</td>\n",
              "    </tr>\n",
              "    <tr>\n",
              "      <th>mean</th>\n",
              "      <td>16.4167</td>\n",
              "      <td>9.84823e+06</td>\n",
              "      <td>12.375</td>\n",
              "      <td>2.0196e+07</td>\n",
              "      <td>2.01908e+07</td>\n",
              "      <td>58.3333</td>\n",
              "      <td>22.5</td>\n",
              "      <td>3.08333</td>\n",
              "      <td>1.57143</td>\n",
              "      <td>4.5</td>\n",
              "      <td>2.16667</td>\n",
              "      <td>2.58333</td>\n",
              "      <td>1.41667</td>\n",
              "      <td>1.375</td>\n",
              "      <td>0.208333</td>\n",
              "      <td>0</td>\n",
              "      <td>4.41667</td>\n",
              "      <td>378.417</td>\n",
              "      <td>0.141763</td>\n",
              "      <td>9.45833</td>\n",
              "      <td>376.875</td>\n",
              "      <td>0.304698</td>\n",
              "      <td>7.70833</td>\n",
              "      <td>388.333</td>\n",
              "      <td>0.252193</td>\n",
              "      <td>22.5</td>\n",
              "      <td>4.25</td>\n",
              "      <td>nan</td>\n",
              "      <td>nan</td>\n",
              "    </tr>\n",
              "    <tr>\n",
              "      <th>std</th>\n",
              "      <td>10.9382</td>\n",
              "      <td>2.15076e+06</td>\n",
              "      <td>8.3396</td>\n",
              "      <td>9939.24</td>\n",
              "      <td>9691.5</td>\n",
              "      <td>15.1591</td>\n",
              "      <td>8.1827</td>\n",
              "      <td>2.33902</td>\n",
              "      <td>0.534522</td>\n",
              "      <td>2.88675</td>\n",
              "      <td>0.701964</td>\n",
              "      <td>0.50361</td>\n",
              "      <td>1.05981</td>\n",
              "      <td>1.0135</td>\n",
              "      <td>0.414851</td>\n",
              "      <td>0</td>\n",
              "      <td>1.66594</td>\n",
              "      <td>41.1835</td>\n",
              "      <td>0.0427392</td>\n",
              "      <td>5.38903</td>\n",
              "      <td>42.0541</td>\n",
              "      <td>0.159761</td>\n",
              "      <td>3.15511</td>\n",
              "      <td>16.3486</td>\n",
              "      <td>0.112405</td>\n",
              "      <td>8.1827</td>\n",
              "      <td>2.98608</td>\n",
              "      <td>nan</td>\n",
              "      <td>nan</td>\n",
              "    </tr>\n",
              "    <tr>\n",
              "      <th>min</th>\n",
              "      <td>0</td>\n",
              "      <td>4.54445e+06</td>\n",
              "      <td>1</td>\n",
              "      <td>2.01809e+07</td>\n",
              "      <td>2.01811e+07</td>\n",
              "      <td>37</td>\n",
              "      <td>12</td>\n",
              "      <td>0</td>\n",
              "      <td>1</td>\n",
              "      <td>2</td>\n",
              "      <td>1</td>\n",
              "      <td>2</td>\n",
              "      <td>0</td>\n",
              "      <td>0</td>\n",
              "      <td>0</td>\n",
              "      <td>0</td>\n",
              "      <td>2</td>\n",
              "      <td>259</td>\n",
              "      <td>0.0631579</td>\n",
              "      <td>4</td>\n",
              "      <td>250</td>\n",
              "      <td>0.123077</td>\n",
              "      <td>3</td>\n",
              "      <td>360</td>\n",
              "      <td>0.09</td>\n",
              "      <td>12</td>\n",
              "      <td>1</td>\n",
              "      <td>nan</td>\n",
              "      <td>nan</td>\n",
              "    </tr>\n",
              "    <tr>\n",
              "      <th>25%</th>\n",
              "      <td>7.75</td>\n",
              "      <td>8.88924e+06</td>\n",
              "      <td>5.75</td>\n",
              "      <td>2.01906e+07</td>\n",
              "      <td>2.0186e+07</td>\n",
              "      <td>48</td>\n",
              "      <td>14.75</td>\n",
              "      <td>1.75</td>\n",
              "      <td>1</td>\n",
              "      <td>2</td>\n",
              "      <td>2</td>\n",
              "      <td>2</td>\n",
              "      <td>0.75</td>\n",
              "      <td>0.75</td>\n",
              "      <td>0</td>\n",
              "      <td>0</td>\n",
              "      <td>3</td>\n",
              "      <td>373.75</td>\n",
              "      <td>0.123308</td>\n",
              "      <td>6</td>\n",
              "      <td>377.5</td>\n",
              "      <td>0.211943</td>\n",
              "      <td>5</td>\n",
              "      <td>380</td>\n",
              "      <td>0.157895</td>\n",
              "      <td>14.75</td>\n",
              "      <td>2.5</td>\n",
              "      <td>nan</td>\n",
              "      <td>nan</td>\n",
              "    </tr>\n",
              "    <tr>\n",
              "      <th>50%</th>\n",
              "      <td>14</td>\n",
              "      <td>1.05975e+07</td>\n",
              "      <td>10</td>\n",
              "      <td>2.01909e+07</td>\n",
              "      <td>2.01908e+07</td>\n",
              "      <td>53</td>\n",
              "      <td>24</td>\n",
              "      <td>2</td>\n",
              "      <td>2</td>\n",
              "      <td>4.5</td>\n",
              "      <td>2</td>\n",
              "      <td>3</td>\n",
              "      <td>1.5</td>\n",
              "      <td>1.5</td>\n",
              "      <td>0</td>\n",
              "      <td>0</td>\n",
              "      <td>4</td>\n",
              "      <td>380</td>\n",
              "      <td>0.134831</td>\n",
              "      <td>8</td>\n",
              "      <td>384.5</td>\n",
              "      <td>0.293426</td>\n",
              "      <td>7.5</td>\n",
              "      <td>389.5</td>\n",
              "      <td>0.214759</td>\n",
              "      <td>24</td>\n",
              "      <td>4</td>\n",
              "      <td>nan</td>\n",
              "      <td>nan</td>\n",
              "    </tr>\n",
              "    <tr>\n",
              "      <th>75%</th>\n",
              "      <td>25.25</td>\n",
              "      <td>1.13091e+07</td>\n",
              "      <td>20.25</td>\n",
              "      <td>2.02033e+07</td>\n",
              "      <td>2.01957e+07</td>\n",
              "      <td>73.25</td>\n",
              "      <td>28.25</td>\n",
              "      <td>3.25</td>\n",
              "      <td>2</td>\n",
              "      <td>7</td>\n",
              "      <td>3</td>\n",
              "      <td>3</td>\n",
              "      <td>2</td>\n",
              "      <td>2</td>\n",
              "      <td>0</td>\n",
              "      <td>0</td>\n",
              "      <td>5.25</td>\n",
              "      <td>400</td>\n",
              "      <td>0.162431</td>\n",
              "      <td>11</td>\n",
              "      <td>400</td>\n",
              "      <td>0.3375</td>\n",
              "      <td>10.25</td>\n",
              "      <td>400</td>\n",
              "      <td>0.33956</td>\n",
              "      <td>28.25</td>\n",
              "      <td>5.75</td>\n",
              "      <td>nan</td>\n",
              "      <td>nan</td>\n",
              "    </tr>\n",
              "    <tr>\n",
              "      <th>max</th>\n",
              "      <td>36</td>\n",
              "      <td>1.19715e+07</td>\n",
              "      <td>26</td>\n",
              "      <td>2.02104e+07</td>\n",
              "      <td>2.02005e+07</td>\n",
              "      <td>86</td>\n",
              "      <td>36</td>\n",
              "      <td>8</td>\n",
              "      <td>2</td>\n",
              "      <td>7</td>\n",
              "      <td>3</td>\n",
              "      <td>3</td>\n",
              "      <td>3</td>\n",
              "      <td>3</td>\n",
              "      <td>1</td>\n",
              "      <td>0</td>\n",
              "      <td>8</td>\n",
              "      <td>429</td>\n",
              "      <td>0.24</td>\n",
              "      <td>25</td>\n",
              "      <td>420</td>\n",
              "      <td>0.789474</td>\n",
              "      <td>15</td>\n",
              "      <td>420</td>\n",
              "      <td>0.428571</td>\n",
              "      <td>36</td>\n",
              "      <td>8</td>\n",
              "      <td>nan</td>\n",
              "      <td>nan</td>\n",
              "    </tr>\n",
              "  </tbody>\n",
              "</table>\n",
              "</div>\n",
              "      <button class=\"colab-df-convert\" onclick=\"convertToInteractive('df-5e13d75d-2b22-46da-bd9f-28de5159847a')\"\n",
              "              title=\"Convert this dataframe to an interactive table.\"\n",
              "              style=\"display:none;\">\n",
              "        \n",
              "  <svg xmlns=\"http://www.w3.org/2000/svg\" height=\"24px\"viewBox=\"0 0 24 24\"\n",
              "       width=\"24px\">\n",
              "    <path d=\"M0 0h24v24H0V0z\" fill=\"none\"/>\n",
              "    <path d=\"M18.56 5.44l.94 2.06.94-2.06 2.06-.94-2.06-.94-.94-2.06-.94 2.06-2.06.94zm-11 1L8.5 8.5l.94-2.06 2.06-.94-2.06-.94L8.5 2.5l-.94 2.06-2.06.94zm10 10l.94 2.06.94-2.06 2.06-.94-2.06-.94-.94-2.06-.94 2.06-2.06.94z\"/><path d=\"M17.41 7.96l-1.37-1.37c-.4-.4-.92-.59-1.43-.59-.52 0-1.04.2-1.43.59L10.3 9.45l-7.72 7.72c-.78.78-.78 2.05 0 2.83L4 21.41c.39.39.9.59 1.41.59.51 0 1.02-.2 1.41-.59l7.78-7.78 2.81-2.81c.8-.78.8-2.07 0-2.86zM5.41 20L4 18.59l7.72-7.72 1.47 1.35L5.41 20z\"/>\n",
              "  </svg>\n",
              "      </button>\n",
              "      \n",
              "  <style>\n",
              "    .colab-df-container {\n",
              "      display:flex;\n",
              "      flex-wrap:wrap;\n",
              "      gap: 12px;\n",
              "    }\n",
              "\n",
              "    .colab-df-convert {\n",
              "      background-color: #E8F0FE;\n",
              "      border: none;\n",
              "      border-radius: 50%;\n",
              "      cursor: pointer;\n",
              "      display: none;\n",
              "      fill: #1967D2;\n",
              "      height: 32px;\n",
              "      padding: 0 0 0 0;\n",
              "      width: 32px;\n",
              "    }\n",
              "\n",
              "    .colab-df-convert:hover {\n",
              "      background-color: #E2EBFA;\n",
              "      box-shadow: 0px 1px 2px rgba(60, 64, 67, 0.3), 0px 1px 3px 1px rgba(60, 64, 67, 0.15);\n",
              "      fill: #174EA6;\n",
              "    }\n",
              "\n",
              "    [theme=dark] .colab-df-convert {\n",
              "      background-color: #3B4455;\n",
              "      fill: #D2E3FC;\n",
              "    }\n",
              "\n",
              "    [theme=dark] .colab-df-convert:hover {\n",
              "      background-color: #434B5C;\n",
              "      box-shadow: 0px 1px 3px 1px rgba(0, 0, 0, 0.15);\n",
              "      filter: drop-shadow(0px 1px 2px rgba(0, 0, 0, 0.3));\n",
              "      fill: #FFFFFF;\n",
              "    }\n",
              "  </style>\n",
              "\n",
              "      <script>\n",
              "        const buttonEl =\n",
              "          document.querySelector('#df-5e13d75d-2b22-46da-bd9f-28de5159847a button.colab-df-convert');\n",
              "        buttonEl.style.display =\n",
              "          google.colab.kernel.accessAllowed ? 'block' : 'none';\n",
              "\n",
              "        async function convertToInteractive(key) {\n",
              "          const element = document.querySelector('#df-5e13d75d-2b22-46da-bd9f-28de5159847a');\n",
              "          const dataTable =\n",
              "            await google.colab.kernel.invokeFunction('convertToInteractive',\n",
              "                                                     [key], {});\n",
              "          if (!dataTable) return;\n",
              "\n",
              "          const docLinkHtml = 'Like what you see? Visit the ' +\n",
              "            '<a target=\"_blank\" href=https://colab.research.google.com/notebooks/data_table.ipynb>data table notebook</a>'\n",
              "            + ' to learn more about interactive tables.';\n",
              "          element.innerHTML = '';\n",
              "          dataTable['output_type'] = 'display_data';\n",
              "          await google.colab.output.renderOutput(dataTable, element);\n",
              "          const docLink = document.createElement('div');\n",
              "          docLink.innerHTML = docLinkHtml;\n",
              "          element.appendChild(docLink);\n",
              "        }\n",
              "      </script>\n",
              "    </div>\n",
              "  </div>\n",
              "  "
            ]
          },
          "metadata": {},
          "execution_count": 152
        }
      ]
    },
    {
      "cell_type": "code",
      "source": [
        "# matplotlibを日本語表示に対応させるモジュール\n",
        "!pip install japanize_matplotlib\n",
        "import japanize_matplotlib\n",
        "\n",
        "# pandasのplottingメソッドをインポート\n",
        "from pandas import plotting\n",
        "\n",
        "# 散布図行列を表示\n",
        "\n",
        "df_long2 = pd.concat([df_long, df_MF, df_BD], axis=1)\n",
        "df_Z = df_long2[[\"Fluo_D_pre\", \"Fluo_D_post\", \"Filamentosa_pre\", \"Pre Schirmer I\", \"Age (yrs)\", \"gender_F\", \"Background_Sjogren\", \"Background_GVHD\"]]\n",
        "plotting.scatter_matrix(df_Z, figsize=(20, 20), alpha=0.8)"
      ],
      "metadata": {
        "id": "mVOC-g7ujTpn",
        "colab": {
          "base_uri": "https://localhost:8080/",
          "height": 1000
        },
        "outputId": "9770569a-e1bd-4cc6-a887-fa96389594f6"
      },
      "execution_count": 167,
      "outputs": [
        {
          "output_type": "stream",
          "name": "stdout",
          "text": [
            "Requirement already satisfied: japanize_matplotlib in /usr/local/lib/python3.7/dist-packages (1.1.3)\n",
            "Requirement already satisfied: matplotlib in /usr/local/lib/python3.7/dist-packages (from japanize_matplotlib) (3.2.2)\n",
            "Requirement already satisfied: numpy>=1.11 in /usr/local/lib/python3.7/dist-packages (from matplotlib->japanize_matplotlib) (1.21.5)\n",
            "Requirement already satisfied: cycler>=0.10 in /usr/local/lib/python3.7/dist-packages (from matplotlib->japanize_matplotlib) (0.11.0)\n",
            "Requirement already satisfied: kiwisolver>=1.0.1 in /usr/local/lib/python3.7/dist-packages (from matplotlib->japanize_matplotlib) (1.4.0)\n",
            "Requirement already satisfied: python-dateutil>=2.1 in /usr/local/lib/python3.7/dist-packages (from matplotlib->japanize_matplotlib) (2.8.2)\n",
            "Requirement already satisfied: pyparsing!=2.0.4,!=2.1.2,!=2.1.6,>=2.0.1 in /usr/local/lib/python3.7/dist-packages (from matplotlib->japanize_matplotlib) (3.0.7)\n",
            "Requirement already satisfied: typing-extensions in /usr/local/lib/python3.7/dist-packages (from kiwisolver>=1.0.1->matplotlib->japanize_matplotlib) (3.10.0.2)\n",
            "Requirement already satisfied: six>=1.5 in /usr/local/lib/python3.7/dist-packages (from python-dateutil>=2.1->matplotlib->japanize_matplotlib) (1.15.0)\n"
          ]
        },
        {
          "output_type": "execute_result",
          "data": {
            "text/plain": [
              "array([[<matplotlib.axes._subplots.AxesSubplot object at 0x7f39c77fbf90>,\n",
              "        <matplotlib.axes._subplots.AxesSubplot object at 0x7f39c6ef0550>,\n",
              "        <matplotlib.axes._subplots.AxesSubplot object at 0x7f39c6f23a10>,\n",
              "        <matplotlib.axes._subplots.AxesSubplot object at 0x7f39c6ed6cd0>,\n",
              "        <matplotlib.axes._subplots.AxesSubplot object at 0x7f39c6e951d0>,\n",
              "        <matplotlib.axes._subplots.AxesSubplot object at 0x7f39c6e4b6d0>,\n",
              "        <matplotlib.axes._subplots.AxesSubplot object at 0x7f39c6e00c50>,\n",
              "        <matplotlib.axes._subplots.AxesSubplot object at 0x7f39c6dc40d0>],\n",
              "       [<matplotlib.axes._subplots.AxesSubplot object at 0x7f39c6dc4110>,\n",
              "        <matplotlib.axes._subplots.AxesSubplot object at 0x7f39c6d78710>,\n",
              "        <matplotlib.axes._subplots.AxesSubplot object at 0x7f39c6ce7fd0>,\n",
              "        <matplotlib.axes._subplots.AxesSubplot object at 0x7f39c6caa550>,\n",
              "        <matplotlib.axes._subplots.AxesSubplot object at 0x7f39c6ce0a50>,\n",
              "        <matplotlib.axes._subplots.AxesSubplot object at 0x7f39c6c97f50>,\n",
              "        <matplotlib.axes._subplots.AxesSubplot object at 0x7f39c6c5c490>,\n",
              "        <matplotlib.axes._subplots.AxesSubplot object at 0x7f39c6c0d9d0>],\n",
              "       [<matplotlib.axes._subplots.AxesSubplot object at 0x7f39c6bc3ed0>,\n",
              "        <matplotlib.axes._subplots.AxesSubplot object at 0x7f39c6b86410>,\n",
              "        <matplotlib.axes._subplots.AxesSubplot object at 0x7f39c6b3b910>,\n",
              "        <matplotlib.axes._subplots.AxesSubplot object at 0x7f39c6af2e10>,\n",
              "        <matplotlib.axes._subplots.AxesSubplot object at 0x7f39c6ab5350>,\n",
              "        <matplotlib.axes._subplots.AxesSubplot object at 0x7f39c6a6b850>,\n",
              "        <matplotlib.axes._subplots.AxesSubplot object at 0x7f39c6aa1d50>,\n",
              "        <matplotlib.axes._subplots.AxesSubplot object at 0x7f39c69e4290>],\n",
              "       [<matplotlib.axes._subplots.AxesSubplot object at 0x7f39c83e7b90>,\n",
              "        <matplotlib.axes._subplots.AxesSubplot object at 0x7f39c78d4f90>,\n",
              "        <matplotlib.axes._subplots.AxesSubplot object at 0x7f39c6fa2510>,\n",
              "        <matplotlib.axes._subplots.AxesSubplot object at 0x7f39c6f90610>,\n",
              "        <matplotlib.axes._subplots.AxesSubplot object at 0x7f39c781f5d0>,\n",
              "        <matplotlib.axes._subplots.AxesSubplot object at 0x7f39c77e2d50>,\n",
              "        <matplotlib.axes._subplots.AxesSubplot object at 0x7f39c699f650>,\n",
              "        <matplotlib.axes._subplots.AxesSubplot object at 0x7f39c6956c50>],\n",
              "       [<matplotlib.axes._subplots.AxesSubplot object at 0x7f39c6919290>,\n",
              "        <matplotlib.axes._subplots.AxesSubplot object at 0x7f39c68d2890>,\n",
              "        <matplotlib.axes._subplots.AxesSubplot object at 0x7f39c6885e90>,\n",
              "        <matplotlib.axes._subplots.AxesSubplot object at 0x7f39c684a4d0>,\n",
              "        <matplotlib.axes._subplots.AxesSubplot object at 0x7f39c6802ad0>,\n",
              "        <matplotlib.axes._subplots.AxesSubplot object at 0x7f39c67c6110>,\n",
              "        <matplotlib.axes._subplots.AxesSubplot object at 0x7f39c677b710>,\n",
              "        <matplotlib.axes._subplots.AxesSubplot object at 0x7f39c6733d10>],\n",
              "       [<matplotlib.axes._subplots.AxesSubplot object at 0x7f39c66f6350>,\n",
              "        <matplotlib.axes._subplots.AxesSubplot object at 0x7f39c66a69d0>,\n",
              "        <matplotlib.axes._subplots.AxesSubplot object at 0x7f39c66d2ad0>,\n",
              "        <matplotlib.axes._subplots.AxesSubplot object at 0x7f39c66a1610>,\n",
              "        <matplotlib.axes._subplots.AxesSubplot object at 0x7f39c6656c10>,\n",
              "        <matplotlib.axes._subplots.AxesSubplot object at 0x7f39c661a250>,\n",
              "        <matplotlib.axes._subplots.AxesSubplot object at 0x7f39c65d1850>,\n",
              "        <matplotlib.axes._subplots.AxesSubplot object at 0x7f39c6586e50>],\n",
              "       [<matplotlib.axes._subplots.AxesSubplot object at 0x7f39c654a490>,\n",
              "        <matplotlib.axes._subplots.AxesSubplot object at 0x7f39c6501a90>,\n",
              "        <matplotlib.axes._subplots.AxesSubplot object at 0x7f39c64c40d0>,\n",
              "        <matplotlib.axes._subplots.AxesSubplot object at 0x7f39c647a6d0>,\n",
              "        <matplotlib.axes._subplots.AxesSubplot object at 0x7f39c6433cd0>,\n",
              "        <matplotlib.axes._subplots.AxesSubplot object at 0x7f39c63f6310>,\n",
              "        <matplotlib.axes._subplots.AxesSubplot object at 0x7f39c63b1210>,\n",
              "        <matplotlib.axes._subplots.AxesSubplot object at 0x7f39c6367710>],\n",
              "       [<matplotlib.axes._subplots.AxesSubplot object at 0x7f39c63a0c10>,\n",
              "        <matplotlib.axes._subplots.AxesSubplot object at 0x7f39c6363150>,\n",
              "        <matplotlib.axes._subplots.AxesSubplot object at 0x7f39c631a650>,\n",
              "        <matplotlib.axes._subplots.AxesSubplot object at 0x7f39c62d0b50>,\n",
              "        <matplotlib.axes._subplots.AxesSubplot object at 0x7f39c627cb50>,\n",
              "        <matplotlib.axes._subplots.AxesSubplot object at 0x7f39c6249590>,\n",
              "        <matplotlib.axes._subplots.AxesSubplot object at 0x7f39c61ffa90>,\n",
              "        <matplotlib.axes._subplots.AxesSubplot object at 0x7f39c61b6f90>]],\n",
              "      dtype=object)"
            ]
          },
          "metadata": {},
          "execution_count": 167
        },
        {
          "output_type": "display_data",
          "data": {
            "text/plain": [
              "<Figure size 1440x1440 with 64 Axes>"
            ],
            "image/png": "[encoded data removed]"
          },
          "metadata": {}
        }
      ]
    },
    {
      "cell_type": "code",
      "source": [
        "df_Z"
      ],
      "metadata": {
        "colab": {
          "base_uri": "https://localhost:8080/",
          "height": 802
        },
        "id": "i6e04i96i1LS",
        "outputId": "a70153ec-b269-4421-ce2b-00b8912a2d73"
      },
      "execution_count": 168,
      "outputs": [
        {
          "output_type": "execute_result",
          "data": {
            "text/plain": [
              "    Fluo_D_pre  Fluo_D_post  Filamentosa_pre  Pre Schirmer I  Age (yrs)  \\\n",
              "0            2            1                0             1.0         43   \n",
              "1            2            0                0             3.0         43   \n",
              "2            3            0                0             2.0         74   \n",
              "3            2            2                0             1.0         67   \n",
              "4            2            2                0             1.0         67   \n",
              "5            2            0                0             2.0         79   \n",
              "6            3            1                0             3.0         79   \n",
              "7            3            1                0             2.0         79   \n",
              "8            2            1                1             NaN         64   \n",
              "9            3            2                0             4.0         50   \n",
              "10           3            2                0             2.0         50   \n",
              "11           3            2                1             1.0         76   \n",
              "12           3            0                1             7.0         42   \n",
              "13           3            2                0             8.0         86   \n",
              "14           3            1                0             2.0         37   \n",
              "15           2            2                0             0.0         37   \n",
              "16           2            2                0             1.0         50   \n",
              "17           3            1                1             7.0         73   \n",
              "18           3            3                0             3.0         45   \n",
              "19           3            3                0             7.0         51   \n",
              "20           3            2                0             7.0         55   \n",
              "21           3            3                0             3.0         55   \n",
              "22           2            0                1             3.0         49   \n",
              "23           2            0                0             2.0         49   \n",
              "\n",
              "    gender_F  Background_Sjogren  Background_GVHD  \n",
              "0        1.0                 0.0              0.0  \n",
              "1        1.0                 0.0              0.0  \n",
              "2        1.0                 1.0              0.0  \n",
              "3        1.0                 0.0              1.0  \n",
              "4        1.0                 0.0              1.0  \n",
              "5        1.0                 1.0              0.0  \n",
              "6        1.0                 1.0              0.0  \n",
              "7        1.0                 1.0              0.0  \n",
              "8        1.0                 0.0              0.0  \n",
              "9        1.0                 1.0              0.0  \n",
              "10       1.0                 1.0              0.0  \n",
              "11       1.0                 1.0              0.0  \n",
              "12       0.0                 0.0              0.0  \n",
              "13       0.0                 0.0              0.0  \n",
              "14       1.0                 0.0              1.0  \n",
              "15       1.0                 0.0              1.0  \n",
              "16       1.0                 0.0              0.0  \n",
              "17       1.0                 1.0              0.0  \n",
              "18       1.0                 0.0              1.0  \n",
              "19       0.0                 0.0              0.0  \n",
              "20       0.0                 0.0              1.0  \n",
              "21       0.0                 0.0              1.0  \n",
              "22       0.0                 0.0              1.0  \n",
              "23       0.0                 0.0              1.0  "
            ],
            "text/html": [
              "\n",
              "  <div id=\"df-a8817bce-63a9-4346-8a9d-a8d6f58418df\">\n",
              "    <div class=\"colab-df-container\">\n",
              "      <div>\n",
              "<style scoped>\n",
              "    .dataframe tbody tr th:only-of-type {\n",
              "        vertical-align: middle;\n",
              "    }\n",
              "\n",
              "    .dataframe tbody tr th {\n",
              "        vertical-align: top;\n",
              "    }\n",
              "\n",
              "    .dataframe thead th {\n",
              "        text-align: right;\n",
              "    }\n",
              "</style>\n",
              "<table border=\"1\" class=\"dataframe\">\n",
              "  <thead>\n",
              "    <tr style=\"text-align: right;\">\n",
              "      <th></th>\n",
              "      <th>Fluo_D_pre</th>\n",
              "      <th>Fluo_D_post</th>\n",
              "      <th>Filamentosa_pre</th>\n",
              "      <th>Pre Schirmer I</th>\n",
              "      <th>Age (yrs)</th>\n",
              "      <th>gender_F</th>\n",
              "      <th>Background_Sjogren</th>\n",
              "      <th>Background_GVHD</th>\n",
              "    </tr>\n",
              "  </thead>\n",
              "  <tbody>\n",
              "    <tr>\n",
              "      <th>0</th>\n",
              "      <td>2</td>\n",
              "      <td>1</td>\n",
              "      <td>0</td>\n",
              "      <td>1.0</td>\n",
              "      <td>43</td>\n",
              "      <td>1.0</td>\n",
              "      <td>0.0</td>\n",
              "      <td>0.0</td>\n",
              "    </tr>\n",
              "    <tr>\n",
              "      <th>1</th>\n",
              "      <td>2</td>\n",
              "      <td>0</td>\n",
              "      <td>0</td>\n",
              "      <td>3.0</td>\n",
              "      <td>43</td>\n",
              "      <td>1.0</td>\n",
              "      <td>0.0</td>\n",
              "      <td>0.0</td>\n",
              "    </tr>\n",
              "    <tr>\n",
              "      <th>2</th>\n",
              "      <td>3</td>\n",
              "      <td>0</td>\n",
              "      <td>0</td>\n",
              "      <td>2.0</td>\n",
              "      <td>74</td>\n",
              "      <td>1.0</td>\n",
              "      <td>1.0</td>\n",
              "      <td>0.0</td>\n",
              "    </tr>\n",
              "    <tr>\n",
              "      <th>3</th>\n",
              "      <td>2</td>\n",
              "      <td>2</td>\n",
              "      <td>0</td>\n",
              "      <td>1.0</td>\n",
              "      <td>67</td>\n",
              "      <td>1.0</td>\n",
              "      <td>0.0</td>\n",
              "      <td>1.0</td>\n",
              "    </tr>\n",
              "    <tr>\n",
              "      <th>4</th>\n",
              "      <td>2</td>\n",
              "      <td>2</td>\n",
              "      <td>0</td>\n",
              "      <td>1.0</td>\n",
              "      <td>67</td>\n",
              "      <td>1.0</td>\n",
              "      <td>0.0</td>\n",
              "      <td>1.0</td>\n",
              "    </tr>\n",
              "    <tr>\n",
              "      <th>5</th>\n",
              "      <td>2</td>\n",
              "      <td>0</td>\n",
              "      <td>0</td>\n",
              "      <td>2.0</td>\n",
              "      <td>79</td>\n",
              "      <td>1.0</td>\n",
              "      <td>1.0</td>\n",
              "      <td>0.0</td>\n",
              "    </tr>\n",
              "    <tr>\n",
              "      <th>6</th>\n",
              "      <td>3</td>\n",
              "      <td>1</td>\n",
              "      <td>0</td>\n",
              "      <td>3.0</td>\n",
              "      <td>79</td>\n",
              "      <td>1.0</td>\n",
              "      <td>1.0</td>\n",
              "      <td>0.0</td>\n",
              "    </tr>\n",
              "    <tr>\n",
              "      <th>7</th>\n",
              "      <td>3</td>\n",
              "      <td>1</td>\n",
              "      <td>0</td>\n",
              "      <td>2.0</td>\n",
              "      <td>79</td>\n",
              "      <td>1.0</td>\n",
              "      <td>1.0</td>\n",
              "      <td>0.0</td>\n",
              "    </tr>\n",
              "    <tr>\n",
              "      <th>8</th>\n",
              "      <td>2</td>\n",
              "      <td>1</td>\n",
              "      <td>1</td>\n",
              "      <td>NaN</td>\n",
              "      <td>64</td>\n",
              "      <td>1.0</td>\n",
              "      <td>0.0</td>\n",
              "      <td>0.0</td>\n",
              "    </tr>\n",
              "    <tr>\n",
              "      <th>9</th>\n",
              "      <td>3</td>\n",
              "      <td>2</td>\n",
              "      <td>0</td>\n",
              "      <td>4.0</td>\n",
              "      <td>50</td>\n",
              "      <td>1.0</td>\n",
              "      <td>1.0</td>\n",
              "      <td>0.0</td>\n",
              "    </tr>\n",
              "    <tr>\n",
              "      <th>10</th>\n",
              "      <td>3</td>\n",
              "      <td>2</td>\n",
              "      <td>0</td>\n",
              "      <td>2.0</td>\n",
              "      <td>50</td>\n",
              "      <td>1.0</td>\n",
              "      <td>1.0</td>\n",
              "      <td>0.0</td>\n",
              "    </tr>\n",
              "    <tr>\n",
              "      <th>11</th>\n",
              "      <td>3</td>\n",
              "      <td>2</td>\n",
              "      <td>1</td>\n",
              "      <td>1.0</td>\n",
              "      <td>76</td>\n",
              "      <td>1.0</td>\n",
              "      <td>1.0</td>\n",
              "      <td>0.0</td>\n",
              "    </tr>\n",
              "    <tr>\n",
              "      <th>12</th>\n",
              "      <td>3</td>\n",
              "      <td>0</td>\n",
              "      <td>1</td>\n",
              "      <td>7.0</td>\n",
              "      <td>42</td>\n",
              "      <td>0.0</td>\n",
              "      <td>0.0</td>\n",
              "      <td>0.0</td>\n",
              "    </tr>\n",
              "    <tr>\n",
              "      <th>13</th>\n",
              "      <td>3</td>\n",
              "      <td>2</td>\n",
              "      <td>0</td>\n",
              "      <td>8.0</td>\n",
              "      <td>86</td>\n",
              "      <td>0.0</td>\n",
              "      <td>0.0</td>\n",
              "      <td>0.0</td>\n",
              "    </tr>\n",
              "    <tr>\n",
              "      <th>14</th>\n",
              "      <td>3</td>\n",
              "      <td>1</td>\n",
              "      <td>0</td>\n",
              "      <td>2.0</td>\n",
              "      <td>37</td>\n",
              "      <td>1.0</td>\n",
              "      <td>0.0</td>\n",
              "      <td>1.0</td>\n",
              "    </tr>\n",
              "    <tr>\n",
              "      <th>15</th>\n",
              "      <td>2</td>\n",
              "      <td>2</td>\n",
              "      <td>0</td>\n",
              "      <td>0.0</td>\n",
              "      <td>37</td>\n",
              "      <td>1.0</td>\n",
              "      <td>0.0</td>\n",
              "      <td>1.0</td>\n",
              "    </tr>\n",
              "    <tr>\n",
              "      <th>16</th>\n",
              "      <td>2</td>\n",
              "      <td>2</td>\n",
              "      <td>0</td>\n",
              "      <td>1.0</td>\n",
              "      <td>50</td>\n",
              "      <td>1.0</td>\n",
              "      <td>0.0</td>\n",
              "      <td>0.0</td>\n",
              "    </tr>\n",
              "    <tr>\n",
              "      <th>17</th>\n",
              "      <td>3</td>\n",
              "      <td>1</td>\n",
              "      <td>1</td>\n",
              "      <td>7.0</td>\n",
              "      <td>73</td>\n",
              "      <td>1.0</td>\n",
              "      <td>1.0</td>\n",
              "      <td>0.0</td>\n",
              "    </tr>\n",
              "    <tr>\n",
              "      <th>18</th>\n",
              "      <td>3</td>\n",
              "      <td>3</td>\n",
              "      <td>0</td>\n",
              "      <td>3.0</td>\n",
              "      <td>45</td>\n",
              "      <td>1.0</td>\n",
              "      <td>0.0</td>\n",
              "      <td>1.0</td>\n",
              "    </tr>\n",
              "    <tr>\n",
              "      <th>19</th>\n",
              "      <td>3</td>\n",
              "      <td>3</td>\n",
              "      <td>0</td>\n",
              "      <td>7.0</td>\n",
              "      <td>51</td>\n",
              "      <td>0.0</td>\n",
              "      <td>0.0</td>\n",
              "      <td>0.0</td>\n",
              "    </tr>\n",
              "    <tr>\n",
              "      <th>20</th>\n",
              "      <td>3</td>\n",
              "      <td>2</td>\n",
              "      <td>0</td>\n",
              "      <td>7.0</td>\n",
              "      <td>55</td>\n",
              "      <td>0.0</td>\n",
              "      <td>0.0</td>\n",
              "      <td>1.0</td>\n",
              "    </tr>\n",
              "    <tr>\n",
              "      <th>21</th>\n",
              "      <td>3</td>\n",
              "      <td>3</td>\n",
              "      <td>0</td>\n",
              "      <td>3.0</td>\n",
              "      <td>55</td>\n",
              "      <td>0.0</td>\n",
              "      <td>0.0</td>\n",
              "      <td>1.0</td>\n",
              "    </tr>\n",
              "    <tr>\n",
              "      <th>22</th>\n",
              "      <td>2</td>\n",
              "      <td>0</td>\n",
              "      <td>1</td>\n",
              "      <td>3.0</td>\n",
              "      <td>49</td>\n",
              "      <td>0.0</td>\n",
              "      <td>0.0</td>\n",
              "      <td>1.0</td>\n",
              "    </tr>\n",
              "    <tr>\n",
              "      <th>23</th>\n",
              "      <td>2</td>\n",
              "      <td>0</td>\n",
              "      <td>0</td>\n",
              "      <td>2.0</td>\n",
              "      <td>49</td>\n",
              "      <td>0.0</td>\n",
              "      <td>0.0</td>\n",
              "      <td>1.0</td>\n",
              "    </tr>\n",
              "  </tbody>\n",
              "</table>\n",
              "</div>\n",
              "      <button class=\"colab-df-convert\" onclick=\"convertToInteractive('df-a8817bce-63a9-4346-8a9d-a8d6f58418df')\"\n",
              "              title=\"Convert this dataframe to an interactive table.\"\n",
              "              style=\"display:none;\">\n",
              "        \n",
              "  <svg xmlns=\"http://www.w3.org/2000/svg\" height=\"24px\"viewBox=\"0 0 24 24\"\n",
              "       width=\"24px\">\n",
              "    <path d=\"M0 0h24v24H0V0z\" fill=\"none\"/>\n",
              "    <path d=\"M18.56 5.44l.94 2.06.94-2.06 2.06-.94-2.06-.94-.94-2.06-.94 2.06-2.06.94zm-11 1L8.5 8.5l.94-2.06 2.06-.94-2.06-.94L8.5 2.5l-.94 2.06-2.06.94zm10 10l.94 2.06.94-2.06 2.06-.94-2.06-.94-.94-2.06-.94 2.06-2.06.94z\"/><path d=\"M17.41 7.96l-1.37-1.37c-.4-.4-.92-.59-1.43-.59-.52 0-1.04.2-1.43.59L10.3 9.45l-7.72 7.72c-.78.78-.78 2.05 0 2.83L4 21.41c.39.39.9.59 1.41.59.51 0 1.02-.2 1.41-.59l7.78-7.78 2.81-2.81c.8-.78.8-2.07 0-2.86zM5.41 20L4 18.59l7.72-7.72 1.47 1.35L5.41 20z\"/>\n",
              "  </svg>\n",
              "      </button>\n",
              "      \n",
              "  <style>\n",
              "    .colab-df-container {\n",
              "      display:flex;\n",
              "      flex-wrap:wrap;\n",
              "      gap: 12px;\n",
              "    }\n",
              "\n",
              "    .colab-df-convert {\n",
              "      background-color: #E8F0FE;\n",
              "      border: none;\n",
              "      border-radius: 50%;\n",
              "      cursor: pointer;\n",
              "      display: none;\n",
              "      fill: #1967D2;\n",
              "      height: 32px;\n",
              "      padding: 0 0 0 0;\n",
              "      width: 32px;\n",
              "    }\n",
              "\n",
              "    .colab-df-convert:hover {\n",
              "      background-color: #E2EBFA;\n",
              "      box-shadow: 0px 1px 2px rgba(60, 64, 67, 0.3), 0px 1px 3px 1px rgba(60, 64, 67, 0.15);\n",
              "      fill: #174EA6;\n",
              "    }\n",
              "\n",
              "    [theme=dark] .colab-df-convert {\n",
              "      background-color: #3B4455;\n",
              "      fill: #D2E3FC;\n",
              "    }\n",
              "\n",
              "    [theme=dark] .colab-df-convert:hover {\n",
              "      background-color: #434B5C;\n",
              "      box-shadow: 0px 1px 3px 1px rgba(0, 0, 0, 0.15);\n",
              "      filter: drop-shadow(0px 1px 2px rgba(0, 0, 0, 0.3));\n",
              "      fill: #FFFFFF;\n",
              "    }\n",
              "  </style>\n",
              "\n",
              "      <script>\n",
              "        const buttonEl =\n",
              "          document.querySelector('#df-a8817bce-63a9-4346-8a9d-a8d6f58418df button.colab-df-convert');\n",
              "        buttonEl.style.display =\n",
              "          google.colab.kernel.accessAllowed ? 'block' : 'none';\n",
              "\n",
              "        async function convertToInteractive(key) {\n",
              "          const element = document.querySelector('#df-a8817bce-63a9-4346-8a9d-a8d6f58418df');\n",
              "          const dataTable =\n",
              "            await google.colab.kernel.invokeFunction('convertToInteractive',\n",
              "                                                     [key], {});\n",
              "          if (!dataTable) return;\n",
              "\n",
              "          const docLinkHtml = 'Like what you see? Visit the ' +\n",
              "            '<a target=\"_blank\" href=https://colab.research.google.com/notebooks/data_table.ipynb>data table notebook</a>'\n",
              "            + ' to learn more about interactive tables.';\n",
              "          element.innerHTML = '';\n",
              "          dataTable['output_type'] = 'display_data';\n",
              "          await google.colab.output.renderOutput(dataTable, element);\n",
              "          const docLink = document.createElement('div');\n",
              "          docLink.innerHTML = docLinkHtml;\n",
              "          element.appendChild(docLink);\n",
              "        }\n",
              "      </script>\n",
              "    </div>\n",
              "  </div>\n",
              "  "
            ]
          },
          "metadata": {},
          "execution_count": 168
        }
      ]
    },
    {
      "cell_type": "code",
      "source": [
        "df_Z.corr()\n",
        "# --> 相関が多少でもありそうなのは、pre-ShirmerとFluo-D-preぐらい"
      ],
      "metadata": {
        "colab": {
          "base_uri": "https://localhost:8080/",
          "height": 381
        },
        "id": "GAxy-AR0lNsH",
        "outputId": "4783b224-3f0a-47fe-c696-937629665839"
      },
      "execution_count": 169,
      "outputs": [
        {
          "output_type": "execute_result",
          "data": {
            "text/plain": [
              "                    Fluo_D_pre  Fluo_D_post  Filamentosa_pre  Pre Schirmer I  \\\n",
              "Fluo_D_pre            1.000000     0.319438         0.017342        0.542493   \n",
              "Fluo_D_post           0.319438     1.000000        -0.297301        0.070737   \n",
              "Filamentosa_pre       0.017342    -0.297301         1.000000        0.269976   \n",
              "Pre Schirmer I        0.542493     0.070737         0.269976        1.000000   \n",
              "Age (yrs)             0.201229    -0.059429         0.085268        0.129473   \n",
              "gender_F             -0.170445    -0.034648        -0.122267       -0.612467   \n",
              "Background_Sjogren    0.418330    -0.178174         0.072548       -0.080144   \n",
              "Background_GVHD      -0.218218     0.227710        -0.185435       -0.236301   \n",
              "\n",
              "                    Age (yrs)  gender_F  Background_Sjogren  Background_GVHD  \n",
              "Fluo_D_pre           0.201229 -0.170445            0.418330        -0.218218  \n",
              "Fluo_D_post         -0.059429 -0.034648           -0.178174         0.227710  \n",
              "Filamentosa_pre      0.085268 -0.122267            0.072548        -0.185435  \n",
              "Pre Schirmer I       0.129473 -0.612467           -0.080144        -0.236301  \n",
              "Age (yrs)            1.000000  0.131782            0.555906        -0.371178  \n",
              "gender_F             0.131782  1.000000            0.453743        -0.260360  \n",
              "Background_Sjogren   0.555906  0.453743            1.000000        -0.547723  \n",
              "Background_GVHD     -0.371178 -0.260360           -0.547723         1.000000  "
            ],
            "text/html": [
              "\n",
              "  <div id=\"df-18dd7963-08ca-4b92-a6b5-ff8688ac6fad\">\n",
              "    <div class=\"colab-df-container\">\n",
              "      <div>\n",
              "<style scoped>\n",
              "    .dataframe tbody tr th:only-of-type {\n",
              "        vertical-align: middle;\n",
              "    }\n",
              "\n",
              "    .dataframe tbody tr th {\n",
              "        vertical-align: top;\n",
              "    }\n",
              "\n",
              "    .dataframe thead th {\n",
              "        text-align: right;\n",
              "    }\n",
              "</style>\n",
              "<table border=\"1\" class=\"dataframe\">\n",
              "  <thead>\n",
              "    <tr style=\"text-align: right;\">\n",
              "      <th></th>\n",
              "      <th>Fluo_D_pre</th>\n",
              "      <th>Fluo_D_post</th>\n",
              "      <th>Filamentosa_pre</th>\n",
              "      <th>Pre Schirmer I</th>\n",
              "      <th>Age (yrs)</th>\n",
              "      <th>gender_F</th>\n",
              "      <th>Background_Sjogren</th>\n",
              "      <th>Background_GVHD</th>\n",
              "    </tr>\n",
              "  </thead>\n",
              "  <tbody>\n",
              "    <tr>\n",
              "      <th>Fluo_D_pre</th>\n",
              "      <td>1.000000</td>\n",
              "      <td>0.319438</td>\n",
              "      <td>0.017342</td>\n",
              "      <td>0.542493</td>\n",
              "      <td>0.201229</td>\n",
              "      <td>-0.170445</td>\n",
              "      <td>0.418330</td>\n",
              "      <td>-0.218218</td>\n",
              "    </tr>\n",
              "    <tr>\n",
              "      <th>Fluo_D_post</th>\n",
              "      <td>0.319438</td>\n",
              "      <td>1.000000</td>\n",
              "      <td>-0.297301</td>\n",
              "      <td>0.070737</td>\n",
              "      <td>-0.059429</td>\n",
              "      <td>-0.034648</td>\n",
              "      <td>-0.178174</td>\n",
              "      <td>0.227710</td>\n",
              "    </tr>\n",
              "    <tr>\n",
              "      <th>Filamentosa_pre</th>\n",
              "      <td>0.017342</td>\n",
              "      <td>-0.297301</td>\n",
              "      <td>1.000000</td>\n",
              "      <td>0.269976</td>\n",
              "      <td>0.085268</td>\n",
              "      <td>-0.122267</td>\n",
              "      <td>0.072548</td>\n",
              "      <td>-0.185435</td>\n",
              "    </tr>\n",
              "    <tr>\n",
              "      <th>Pre Schirmer I</th>\n",
              "      <td>0.542493</td>\n",
              "      <td>0.070737</td>\n",
              "      <td>0.269976</td>\n",
              "      <td>1.000000</td>\n",
              "      <td>0.129473</td>\n",
              "      <td>-0.612467</td>\n",
              "      <td>-0.080144</td>\n",
              "      <td>-0.236301</td>\n",
              "    </tr>\n",
              "    <tr>\n",
              "      <th>Age (yrs)</th>\n",
              "      <td>0.201229</td>\n",
              "      <td>-0.059429</td>\n",
              "      <td>0.085268</td>\n",
              "      <td>0.129473</td>\n",
              "      <td>1.000000</td>\n",
              "      <td>0.131782</td>\n",
              "      <td>0.555906</td>\n",
              "      <td>-0.371178</td>\n",
              "    </tr>\n",
              "    <tr>\n",
              "      <th>gender_F</th>\n",
              "      <td>-0.170445</td>\n",
              "      <td>-0.034648</td>\n",
              "      <td>-0.122267</td>\n",
              "      <td>-0.612467</td>\n",
              "      <td>0.131782</td>\n",
              "      <td>1.000000</td>\n",
              "      <td>0.453743</td>\n",
              "      <td>-0.260360</td>\n",
              "    </tr>\n",
              "    <tr>\n",
              "      <th>Background_Sjogren</th>\n",
              "      <td>0.418330</td>\n",
              "      <td>-0.178174</td>\n",
              "      <td>0.072548</td>\n",
              "      <td>-0.080144</td>\n",
              "      <td>0.555906</td>\n",
              "      <td>0.453743</td>\n",
              "      <td>1.000000</td>\n",
              "      <td>-0.547723</td>\n",
              "    </tr>\n",
              "    <tr>\n",
              "      <th>Background_GVHD</th>\n",
              "      <td>-0.218218</td>\n",
              "      <td>0.227710</td>\n",
              "      <td>-0.185435</td>\n",
              "      <td>-0.236301</td>\n",
              "      <td>-0.371178</td>\n",
              "      <td>-0.260360</td>\n",
              "      <td>-0.547723</td>\n",
              "      <td>1.000000</td>\n",
              "    </tr>\n",
              "  </tbody>\n",
              "</table>\n",
              "</div>\n",
              "      <button class=\"colab-df-convert\" onclick=\"convertToInteractive('df-18dd7963-08ca-4b92-a6b5-ff8688ac6fad')\"\n",
              "              title=\"Convert this dataframe to an interactive table.\"\n",
              "              style=\"display:none;\">\n",
              "        \n",
              "  <svg xmlns=\"http://www.w3.org/2000/svg\" height=\"24px\"viewBox=\"0 0 24 24\"\n",
              "       width=\"24px\">\n",
              "    <path d=\"M0 0h24v24H0V0z\" fill=\"none\"/>\n",
              "    <path d=\"M18.56 5.44l.94 2.06.94-2.06 2.06-.94-2.06-.94-.94-2.06-.94 2.06-2.06.94zm-11 1L8.5 8.5l.94-2.06 2.06-.94-2.06-.94L8.5 2.5l-.94 2.06-2.06.94zm10 10l.94 2.06.94-2.06 2.06-.94-2.06-.94-.94-2.06-.94 2.06-2.06.94z\"/><path d=\"M17.41 7.96l-1.37-1.37c-.4-.4-.92-.59-1.43-.59-.52 0-1.04.2-1.43.59L10.3 9.45l-7.72 7.72c-.78.78-.78 2.05 0 2.83L4 21.41c.39.39.9.59 1.41.59.51 0 1.02-.2 1.41-.59l7.78-7.78 2.81-2.81c.8-.78.8-2.07 0-2.86zM5.41 20L4 18.59l7.72-7.72 1.47 1.35L5.41 20z\"/>\n",
              "  </svg>\n",
              "      </button>\n",
              "      \n",
              "  <style>\n",
              "    .colab-df-container {\n",
              "      display:flex;\n",
              "      flex-wrap:wrap;\n",
              "      gap: 12px;\n",
              "    }\n",
              "\n",
              "    .colab-df-convert {\n",
              "      background-color: #E8F0FE;\n",
              "      border: none;\n",
              "      border-radius: 50%;\n",
              "      cursor: pointer;\n",
              "      display: none;\n",
              "      fill: #1967D2;\n",
              "      height: 32px;\n",
              "      padding: 0 0 0 0;\n",
              "      width: 32px;\n",
              "    }\n",
              "\n",
              "    .colab-df-convert:hover {\n",
              "      background-color: #E2EBFA;\n",
              "      box-shadow: 0px 1px 2px rgba(60, 64, 67, 0.3), 0px 1px 3px 1px rgba(60, 64, 67, 0.15);\n",
              "      fill: #174EA6;\n",
              "    }\n",
              "\n",
              "    [theme=dark] .colab-df-convert {\n",
              "      background-color: #3B4455;\n",
              "      fill: #D2E3FC;\n",
              "    }\n",
              "\n",
              "    [theme=dark] .colab-df-convert:hover {\n",
              "      background-color: #434B5C;\n",
              "      box-shadow: 0px 1px 3px 1px rgba(0, 0, 0, 0.15);\n",
              "      filter: drop-shadow(0px 1px 2px rgba(0, 0, 0, 0.3));\n",
              "      fill: #FFFFFF;\n",
              "    }\n",
              "  </style>\n",
              "\n",
              "      <script>\n",
              "        const buttonEl =\n",
              "          document.querySelector('#df-18dd7963-08ca-4b92-a6b5-ff8688ac6fad button.colab-df-convert');\n",
              "        buttonEl.style.display =\n",
              "          google.colab.kernel.accessAllowed ? 'block' : 'none';\n",
              "\n",
              "        async function convertToInteractive(key) {\n",
              "          const element = document.querySelector('#df-18dd7963-08ca-4b92-a6b5-ff8688ac6fad');\n",
              "          const dataTable =\n",
              "            await google.colab.kernel.invokeFunction('convertToInteractive',\n",
              "                                                     [key], {});\n",
              "          if (!dataTable) return;\n",
              "\n",
              "          const docLinkHtml = 'Like what you see? Visit the ' +\n",
              "            '<a target=\"_blank\" href=https://colab.research.google.com/notebooks/data_table.ipynb>data table notebook</a>'\n",
              "            + ' to learn more about interactive tables.';\n",
              "          element.innerHTML = '';\n",
              "          dataTable['output_type'] = 'display_data';\n",
              "          await google.colab.output.renderOutput(dataTable, element);\n",
              "          const docLink = document.createElement('div');\n",
              "          docLink.innerHTML = docLinkHtml;\n",
              "          element.appendChild(docLink);\n",
              "        }\n",
              "      </script>\n",
              "    </div>\n",
              "  </div>\n",
              "  "
            ]
          },
          "metadata": {},
          "execution_count": 169
        }
      ]
    },
    {
      "cell_type": "code",
      "source": [
        "from scipy import stats\n",
        "import matplotlib.pyplot as plt\n",
        "\n",
        "df_Kruskal = df_long[[\"Fluo_D_pre\", \"Pre Schirmer I\"]]\n",
        "B = df_Kruskal.query(\"Fluo_D_pre == 2\")\n",
        "C = df_Kruskal.query(\"Fluo_D_pre == 3\")\n",
        "print(\"Pre_Fluo D2:\")\n",
        "print(B.describe())\n",
        "print(\"Pre_Fluo D3:\")\n",
        "print(C.describe())\n",
        "\n",
        "y = B[\"Pre Schirmer I\"]\n",
        "z = C[\"Pre Schirmer I\"]\n",
        "\n",
        "print(\"Pre_Fluo D2:\")\n",
        "print(y)\n",
        "print(\"Pre_Fluo D3:\")\n",
        "print(z)\n",
        "\n",
        "# visualize\n",
        "bins = np.linspace(-40,50,18)\n",
        "plt.hist(y,bins,alpha=0.5)\n",
        "plt.hist(z,bins,alpha=0.5)\n",
        "\n",
        "# hypothesis testing\n",
        "result = stats.mannwhitneyu(x,y)\n",
        "print(result.pvalue)\n",
        "\n",
        "plt.show()\n",
        "\n",
        "#Welchのt検定\n",
        "stats.ttest_ind(y,z, equal_var = False)\n",
        "\n",
        "\n",
        "#--> シルマー値が高いほど、術前の角膜上皮障害が強い、となり実情にそぐわない"
      ],
      "metadata": {
        "colab": {
          "base_uri": "https://localhost:8080/",
          "height": 1000
        },
        "id": "nFTUBL-YojBW",
        "outputId": "147eec50-8926-4489-f0be-f2503aa75131"
      },
      "execution_count": 162,
      "outputs": [
        {
          "output_type": "stream",
          "name": "stdout",
          "text": [
            "Pre_Fluo D2:\n",
            "       Fluo_D_pre  Pre Schirmer I\n",
            "count        10.0       10.000000\n",
            "mean          2.0        1.600000\n",
            "std           0.0        0.966092\n",
            "min           2.0        0.000000\n",
            "25%           2.0        1.000000\n",
            "50%           2.0        1.500000\n",
            "75%           2.0        2.000000\n",
            "max           2.0        3.000000\n",
            "Pre_Fluo D3:\n",
            "       Fluo_D_pre  Pre Schirmer I\n",
            "count        14.0       14.000000\n",
            "mean          3.0        4.142857\n",
            "std           0.0        2.476261\n",
            "min           3.0        1.000000\n",
            "25%           3.0        2.000000\n",
            "50%           3.0        3.000000\n",
            "75%           3.0        7.000000\n",
            "max           3.0        8.000000\n",
            "Pre_Fluo D2:\n",
            "0     1.0\n",
            "1     3.0\n",
            "3     1.0\n",
            "4     1.0\n",
            "5     2.0\n",
            "8     2.0\n",
            "15    0.0\n",
            "16    1.0\n",
            "22    3.0\n",
            "23    2.0\n",
            "Name: Pre Schirmer I, dtype: float64\n",
            "Pre_Fluo D3:\n",
            "2     2.0\n",
            "6     3.0\n",
            "7     2.0\n",
            "9     4.0\n",
            "10    2.0\n",
            "11    1.0\n",
            "12    7.0\n",
            "13    8.0\n",
            "14    2.0\n",
            "17    7.0\n",
            "18    3.0\n",
            "19    7.0\n",
            "20    7.0\n",
            "21    3.0\n",
            "Name: Pre Schirmer I, dtype: float64\n",
            "0.10592225143757877\n"
          ]
        },
        {
          "output_type": "display_data",
          "data": {
            "text/plain": [
              "<Figure size 432x288 with 1 Axes>"
            ],
            "image/png": "[encoded data removed]"
          },
          "metadata": {}
        },
        {
          "output_type": "execute_result",
          "data": {
            "text/plain": [
              "Ttest_indResult(statistic=-3.4885285422154535, pvalue=0.0026309609708969257)"
            ]
          },
          "metadata": {},
          "execution_count": 162
        }
      ]
    },
    {
      "cell_type": "code",
      "source": [
        "from scipy import stats\n",
        "df_Kruskal = df_long[[\"Fluo_D_post\", \"Pre Schirmer I\"]]\n",
        "A = df_Kruskal.query(\"Fluo_D_post == 1\")\n",
        "B = df_Kruskal.query(\"Fluo_D_post == 2\")\n",
        "C = df_Kruskal.query(\"Fluo_D_post == 3\")\n",
        "print(\"Post_Fluo D1:\")\n",
        "print(A.describe())\n",
        "print(\"Post_Fluo D2:\")\n",
        "print(B.describe())\n",
        "print(\"Post_Fluo D3:\")\n",
        "print(C.describe())\n",
        "\n",
        "\n",
        "x = A[\"Pre Schirmer I\"]\n",
        "y = B[\"Pre Schirmer I\"]\n",
        "z = C[\"Pre Schirmer I\"]\n",
        "\n",
        "print(\"Post_Fluo D1:\")\n",
        "print(x)\n",
        "print(\"Post_Fluo D2:\")\n",
        "print(y)\n",
        "print(\"Post_Fluo D3:\")\n",
        "print(z)\n",
        "\n",
        "\n",
        "stats.kruskal(x, y, z)\n",
        "\n",
        "#--> シルマー値が低いほど、術前の角膜上皮障害が強い"
      ],
      "metadata": {
        "id": "pFIYRaU3rx3j"
      },
      "execution_count": null,
      "outputs": []
    },
    {
      "cell_type": "markdown",
      "source": [
        "#**患者別**"
      ],
      "metadata": {
        "id": "Jo8IPXoC7FYt"
      }
    },
    {
      "cell_type": "code",
      "source": [
        "df_long_pts = df_long.drop_duplicates(subset=['Patient NO'], keep=\"last\")\n",
        "print(\"Patient number: \", len(df_long_pts))\n",
        "df_long_pts\n"
      ],
      "metadata": {
        "id": "XaFGBFnpvzJf"
      },
      "execution_count": null,
      "outputs": []
    },
    {
      "cell_type": "code",
      "source": [
        "df_long_pts[\"M/F\"].value_counts()"
      ],
      "metadata": {
        "id": "Mc9f5lFhOjWs",
        "outputId": "49750508-382a-4a4f-84df-483a6faad137",
        "colab": {
          "base_uri": "https://localhost:8080/",
          "height": 172
        }
      },
      "execution_count": 172,
      "outputs": [
        {
          "output_type": "error",
          "ename": "NameError",
          "evalue": "ignored",
          "traceback": [
            "\u001b[0;31m---------------------------------------------------------------------------\u001b[0m",
            "\u001b[0;31mNameError\u001b[0m                                 Traceback (most recent call last)",
            "\u001b[0;32m<ipython-input-172-2ff6d20b29f0>\u001b[0m in \u001b[0;36m<module>\u001b[0;34m()\u001b[0m\n\u001b[0;32m----> 1\u001b[0;31m \u001b[0mdf_long_pts\u001b[0m\u001b[0;34m[\u001b[0m\u001b[0;34m\"M/F\"\u001b[0m\u001b[0;34m]\u001b[0m\u001b[0;34m.\u001b[0m\u001b[0mvalue_counts\u001b[0m\u001b[0;34m(\u001b[0m\u001b[0;34m)\u001b[0m\u001b[0;34m\u001b[0m\u001b[0;34m\u001b[0m\u001b[0m\n\u001b[0m",
            "\u001b[0;31mNameError\u001b[0m: name 'df_long_pts' is not defined"
          ]
        }
      ]
    },
    {
      "cell_type": "code",
      "source": [
        "df_long_pts.describe()[\"Age (yrs)\"]"
      ],
      "metadata": {
        "colab": {
          "base_uri": "https://localhost:8080/"
        },
        "id": "8RKC9zEdv6kL",
        "outputId": "50d5e2f4-5d12-4e0e-9059-504975f88790"
      },
      "execution_count": null,
      "outputs": [
        {
          "output_type": "execute_result",
          "data": {
            "text/plain": [
              "count    17.000000\n",
              "mean     60.000000\n",
              "std      15.568397\n",
              "min      37.000000\n",
              "25%      49.000000\n",
              "50%      55.000000\n",
              "75%      74.000000\n",
              "max      86.000000\n",
              "Name: Age (yrs), dtype: float64"
            ]
          },
          "metadata": {},
          "execution_count": 23
        }
      ]
    },
    {
      "cell_type": "code",
      "source": [
        "print(df_long_pts.value_counts(\"Background disease\"))"
      ],
      "metadata": {
        "id": "3ruJliFm_v3j",
        "outputId": "232d1b21-f2d3-4446-dbf9-9957c3bd017d",
        "colab": {
          "base_uri": "https://localhost:8080/"
        }
      },
      "execution_count": null,
      "outputs": [
        {
          "output_type": "stream",
          "name": "stdout",
          "text": [
            "Background disease\n",
            "Sjogren             6\n",
            "GVHD                5\n",
            "BSK                 1\n",
            "Post RT             1\n",
            "RA+ドライアイ、角膜感染       1\n",
            "Sjogren, SLE, RA    1\n",
            "Sjogren未検           1\n",
            "強皮症                 1\n",
            "dtype: int64\n"
          ]
        }
      ]
    },
    {
      "cell_type": "code",
      "source": [
        "\"\"\"\n",
        "\n",
        "M/F\n",
        "F    13\n",
        "M     5\n",
        "dtype: int64\n",
        "\n",
        "\n",
        "Background disease\n",
        "Sjogren             6\n",
        "GVHD                5\n",
        "BSK                 1\n",
        "Post RT             1\n",
        "RA+ドライアイ、角膜感染       1\n",
        "Shogren             1\n",
        "Shogren, SLE, RA    1\n",
        "Shogren未検           1\n",
        "強皮症                 1\n",
        "dtype: int64\n",
        "\n",
        "\n",
        "History\n",
        "Punctal occulusion    4\n",
        "dtype: int64\n",
        "\n",
        "\n",
        "Side\n",
        "L    12\n",
        "R     6\n",
        "dtype: int64\n",
        "\n",
        "\n",
        "Observation period (month)\n",
        "28.0    3\n",
        "12.0    2\n",
        "29.0    2\n",
        "13.0    1\n",
        "14.0    1\n",
        "15.0    1\n",
        "16.0    1\n",
        "19.0    1\n",
        "23.0    1\n",
        "25.0    1\n",
        "27.0    1\n",
        "30.0    1\n",
        "32.0    1\n",
        "36.0    1\n",
        "dtype: int64\n",
        "\"\"\""
      ],
      "metadata": {
        "id": "7ENZ0sWhxI4t"
      },
      "execution_count": null,
      "outputs": []
    }
  ]
}