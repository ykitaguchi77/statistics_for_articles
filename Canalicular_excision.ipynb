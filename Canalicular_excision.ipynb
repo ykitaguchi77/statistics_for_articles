{
  "nbformat": 4,
  "nbformat_minor": 0,
  "metadata": {
    "colab": {
      "name": "Untitled101.ipynb",
      "provenance": [],
      "authorship_tag": "ABX9TyOi7htJwSnCN9+M652Q7Nqt",
      "include_colab_link": true
    },
    "kernelspec": {
      "name": "python3",
      "display_name": "Python 3"
    },
    "language_info": {
      "name": "python"
    }
  },
  "cells": [
    {
      "cell_type": "markdown",
      "metadata": {
        "id": "view-in-github",
        "colab_type": "text"
      },
      "source": [
        "<a href=\"https://colab.research.google.com/github/ykitaguchi77/statistics_for_articles/blob/main/Canalicular_excision.ipynb\" target=\"_parent\"><img src=\"https://colab.research.google.com/assets/colab-badge.svg\" alt=\"Open In Colab\"/></a>"
      ]
    },
    {
      "cell_type": "code",
      "execution_count": 1,
      "metadata": {
        "colab": {
          "base_uri": "https://localhost:8080/"
        },
        "id": "feksNWTQpCLb",
        "outputId": "d6b7619e-4ce7-4539-b298-46158fd8ee47"
      },
      "outputs": [
        {
          "output_type": "stream",
          "name": "stdout",
          "text": [
            "Mounted at /content/drive\n"
          ]
        }
      ],
      "source": [
        "from google.colab import drive\n",
        "drive.mount('/content/drive')"
      ]
    },
    {
      "cell_type": "code",
      "source": [
        "import pandas as pd\n",
        "import codecs\n",
        "from scipy import stats"
      ],
      "metadata": {
        "id": "h3914izNqXPc"
      },
      "execution_count": 88,
      "outputs": []
    },
    {
      "cell_type": "code",
      "source": [
        "csv_path = \"/content/drive/MyDrive/作成中の論文/涙小管切断/涙小管切除症例.csv\"\n",
        "\n",
        "#Open csv\n",
        "#with codecs.open(csv_path, \"r\", \"Shift-JIS\", \"ignore\") as file:\n",
        "with codecs.open(csv_path, \"r\", \"UTF-8\", \"ignore\") as file:\n",
        "        df = pd.read_csv(file, index_col=None, header=0)"
      ],
      "metadata": {
        "id": "izMfTQ-orEJA"
      },
      "execution_count": 104,
      "outputs": []
    },
    {
      "cell_type": "markdown",
      "source": [
        "#**フォロー期間12ヶ月以上を抜き出し**"
      ],
      "metadata": {
        "id": "dAMdoISD7PXQ"
      }
    },
    {
      "cell_type": "code",
      "source": [
        "df_long = df[df['Observation period (month)'] >= 12]\n",
        "len(df_long)\n",
        "#df_long.columns\n",
        "df_long"
      ],
      "metadata": {
        "id": "Alpp4qB6sOnZ"
      },
      "execution_count": null,
      "outputs": []
    },
    {
      "cell_type": "code",
      "source": [
        "df_long.value_counts(\"Side\")"
      ],
      "metadata": {
        "colab": {
          "base_uri": "https://localhost:8080/"
        },
        "id": "W7RnJtbd3NX9",
        "outputId": "dd909a02-854f-45e4-db36-b2f21b9127fc"
      },
      "execution_count": 106,
      "outputs": [
        {
          "output_type": "execute_result",
          "data": {
            "text/plain": [
              "Side\n",
              "R    14\n",
              "L    12\n",
              "dtype: int64"
            ]
          },
          "metadata": {},
          "execution_count": 106
        }
      ]
    },
    {
      "cell_type": "code",
      "source": [
        "df_long.value_counts(\"History\")"
      ],
      "metadata": {
        "colab": {
          "base_uri": "https://localhost:8080/"
        },
        "id": "QkT_6OfI3T8K",
        "outputId": "b0ac1d38-ab00-4a37-be42-b27e53d16a80"
      },
      "execution_count": 103,
      "outputs": [
        {
          "output_type": "execute_result",
          "data": {
            "text/plain": [
              "History\n",
              "Punctal occulusion    5\n",
              "dtype: int64"
            ]
          },
          "metadata": {},
          "execution_count": 103
        }
      ]
    },
    {
      "cell_type": "code",
      "source": [
        "df_long.describe()[\"Pre Schirmer I\"]"
      ],
      "metadata": {
        "colab": {
          "base_uri": "https://localhost:8080/"
        },
        "id": "I8ndVMXN3kIs",
        "outputId": "218af5a5-1064-4041-a2a0-6eb86fbbec1c"
      },
      "execution_count": 81,
      "outputs": [
        {
          "output_type": "execute_result",
          "data": {
            "text/plain": [
              "count    25.000000\n",
              "mean      3.000000\n",
              "std       2.327373\n",
              "min       0.000000\n",
              "25%       1.000000\n",
              "50%       2.000000\n",
              "75%       3.000000\n",
              "max       8.000000\n",
              "Name: Pre Schirmer I, dtype: float64"
            ]
          },
          "metadata": {},
          "execution_count": 81
        }
      ]
    },
    {
      "cell_type": "code",
      "source": [
        "df_long.value_counts(\"History\")"
      ],
      "metadata": {
        "colab": {
          "base_uri": "https://localhost:8080/"
        },
        "id": "X7gF470ztWEc",
        "outputId": "244af98c-e9ce-4432-cbb3-c3b67168b3e5"
      },
      "execution_count": 82,
      "outputs": [
        {
          "output_type": "execute_result",
          "data": {
            "text/plain": [
              "History\n",
              "Punctal occulusion    5\n",
              "dtype: int64"
            ]
          },
          "metadata": {},
          "execution_count": 82
        }
      ]
    },
    {
      "cell_type": "code",
      "source": [
        "print(df_long.describe()[\"Fluo_D_pre\"])\n",
        "print(df_long.value_counts(\"Fluo_D_pre\"))"
      ],
      "metadata": {
        "colab": {
          "base_uri": "https://localhost:8080/"
        },
        "id": "hWQbWzo_4UZH",
        "outputId": "6723da12-e80a-4208-a86d-cfdaf476cf3a"
      },
      "execution_count": 90,
      "outputs": [
        {
          "output_type": "stream",
          "name": "stdout",
          "text": [
            "count    26.000000\n",
            "mean      2.500000\n",
            "std       0.583095\n",
            "min       1.000000\n",
            "25%       2.000000\n",
            "50%       3.000000\n",
            "75%       3.000000\n",
            "max       3.000000\n",
            "Name: Fluo_D_pre, dtype: float64\n",
            "Fluo_D_pre\n",
            "3.0    14\n",
            "2.0    11\n",
            "1.0     1\n",
            "dtype: int64\n"
          ]
        }
      ]
    },
    {
      "cell_type": "code",
      "source": [
        "print(df_long.describe()[\"Fluo_D_post\"])\n",
        "print(df_long.value_counts(\"Fluo_D_post\"))"
      ],
      "metadata": {
        "colab": {
          "base_uri": "https://localhost:8080/"
        },
        "id": "bzJ2mcN26SON",
        "outputId": "e4fbed42-b269-4d1c-da86-4f8ed6d3e8fe"
      },
      "execution_count": 91,
      "outputs": [
        {
          "output_type": "stream",
          "name": "stdout",
          "text": [
            "count    26.000000\n",
            "mean      1.423077\n",
            "std       0.986836\n",
            "min       0.000000\n",
            "25%       1.000000\n",
            "50%       2.000000\n",
            "75%       2.000000\n",
            "max       3.000000\n",
            "Name: Fluo_D_post, dtype: float64\n",
            "Fluo_D_post\n",
            "2.0    11\n",
            "0.0     6\n",
            "1.0     6\n",
            "3.0     3\n",
            "dtype: int64\n"
          ]
        }
      ]
    },
    {
      "cell_type": "code",
      "source": [
        "print(df_long.describe()[\"Filamentosa_pre\"])\n",
        "print(df_long.value_counts(\"Filamentosa_pre\"))"
      ],
      "metadata": {
        "colab": {
          "base_uri": "https://localhost:8080/"
        },
        "id": "uq5zKwmq8WpD",
        "outputId": "d0655446-b30d-4fdc-df8e-42ab8a271667"
      },
      "execution_count": 93,
      "outputs": [
        {
          "output_type": "stream",
          "name": "stdout",
          "text": [
            "count    26.000000\n",
            "mean      0.192308\n",
            "std       0.401918\n",
            "min       0.000000\n",
            "25%       0.000000\n",
            "50%       0.000000\n",
            "75%       0.000000\n",
            "max       1.000000\n",
            "Name: Filamentosa_pre, dtype: float64\n",
            "Filamentosa_pre\n",
            "0.0    21\n",
            "1.0     5\n",
            "dtype: int64\n"
          ]
        }
      ]
    },
    {
      "cell_type": "code",
      "source": [
        "print(df_long.describe()[\"Filamentosa_post\"])\n",
        "print(df_long.value_counts(\"Filamentosa_post\"))"
      ],
      "metadata": {
        "colab": {
          "base_uri": "https://localhost:8080/"
        },
        "id": "kD59NGyU8iT_",
        "outputId": "282b2ce5-bec7-4a3c-9553-8032f36e4ce3"
      },
      "execution_count": 94,
      "outputs": [
        {
          "output_type": "stream",
          "name": "stdout",
          "text": [
            "count    26.0\n",
            "mean      0.0\n",
            "std       0.0\n",
            "min       0.0\n",
            "25%       0.0\n",
            "50%       0.0\n",
            "75%       0.0\n",
            "max       0.0\n",
            "Name: Filamentosa_post, dtype: float64\n",
            "Filamentosa_post\n",
            "0.0    26\n",
            "dtype: int64\n"
          ]
        }
      ]
    },
    {
      "cell_type": "code",
      "source": [
        "print(df_long.describe()[\"Pre Schirmer I\"])\n",
        "print(df_long.value_counts(\"Pre Schirmer I\"))\n"
      ],
      "metadata": {
        "colab": {
          "base_uri": "https://localhost:8080/"
        },
        "id": "QEuUy5b22kpX",
        "outputId": "e1ed02c6-273c-487a-d2a9-7fa91081502b"
      },
      "execution_count": 111,
      "outputs": [
        {
          "output_type": "stream",
          "name": "stdout",
          "text": [
            "count    25.000000\n",
            "mean      3.000000\n",
            "std       2.327373\n",
            "min       0.000000\n",
            "25%       1.000000\n",
            "50%       2.000000\n",
            "75%       3.000000\n",
            "max       8.000000\n",
            "Name: Pre Schirmer I, dtype: float64\n",
            "Pre Schirmer I\n",
            "2.0    7\n",
            "1.0    6\n",
            "3.0    5\n",
            "7.0    4\n",
            "0.0    1\n",
            "4.0    1\n",
            "8.0    1\n",
            "dtype: int64\n"
          ]
        }
      ]
    },
    {
      "cell_type": "code",
      "source": [
        "print(df_long.describe()[\"Recurrent period (month)\"])\n"
      ],
      "metadata": {
        "colab": {
          "base_uri": "https://localhost:8080/"
        },
        "id": "3UMEAaC893ro",
        "outputId": "bb1d7525-8e66-4316-c433-077fab09ee8b"
      },
      "execution_count": 95,
      "outputs": [
        {
          "output_type": "stream",
          "name": "stdout",
          "text": [
            "count    5.000000\n",
            "mean     3.800000\n",
            "std      2.774887\n",
            "min      1.000000\n",
            "25%      2.000000\n",
            "50%      3.000000\n",
            "75%      5.000000\n",
            "max      8.000000\n",
            "Name: Recurrent period (month), dtype: float64\n"
          ]
        }
      ]
    },
    {
      "cell_type": "code",
      "source": [
        "stats.wilcoxon(df_long['Fluo_D_pre'], df_long['Fluo_D_post'])"
      ],
      "metadata": {
        "colab": {
          "base_uri": "https://localhost:8080/"
        },
        "id": "2El0R_-27EMc",
        "outputId": "5c4a08b0-d8ee-41c7-888e-342d20613228"
      },
      "execution_count": 89,
      "outputs": [
        {
          "output_type": "execute_result",
          "data": {
            "text/plain": [
              "WilcoxonResult(statistic=4.5, pvalue=0.00031767360182023084)"
            ]
          },
          "metadata": {},
          "execution_count": 89
        }
      ]
    },
    {
      "cell_type": "markdown",
      "source": [
        "#**患者別**"
      ],
      "metadata": {
        "id": "Jo8IPXoC7FYt"
      }
    },
    {
      "cell_type": "code",
      "source": [
        "df_long_pts = df_long.drop_duplicates(subset=['Patient NO'], keep=\"last\")\n",
        "len(df_long_pts)\n",
        "df_long_pts\n"
      ],
      "metadata": {
        "id": "XaFGBFnpvzJf"
      },
      "execution_count": null,
      "outputs": []
    },
    {
      "cell_type": "code",
      "source": [
        "df_long_pts.describe()[\"Age (yrs)\"]"
      ],
      "metadata": {
        "colab": {
          "base_uri": "https://localhost:8080/"
        },
        "id": "8RKC9zEdv6kL",
        "outputId": "061a13f8-5976-4726-f4ba-76f28464fde3"
      },
      "execution_count": 115,
      "outputs": [
        {
          "output_type": "execute_result",
          "data": {
            "text/plain": [
              "count    18.000000\n",
              "mean     60.388889\n",
              "std      15.193415\n",
              "min      37.000000\n",
              "25%      49.250000\n",
              "50%      59.500000\n",
              "75%      73.750000\n",
              "max      86.000000\n",
              "Name: Age (yrs), dtype: float64"
            ]
          },
          "metadata": {},
          "execution_count": 115
        }
      ]
    },
    {
      "cell_type": "code",
      "source": [
        "print(df_long_pts.value_counts(\"Background disease\"))"
      ],
      "metadata": {
        "colab": {
          "base_uri": "https://localhost:8080/"
        },
        "id": "3ruJliFm_v3j",
        "outputId": "cf809c79-0102-40f6-e6ce-858833618b5a"
      },
      "execution_count": 118,
      "outputs": [
        {
          "output_type": "stream",
          "name": "stdout",
          "text": [
            "Background disease\n",
            "Sjogren             7\n",
            "GVHD                5\n",
            "BSK                 1\n",
            "Post RT             1\n",
            "RA+ドライアイ、角膜感染       1\n",
            "Sjogren, SLE, RA    1\n",
            "Sjogren未            1\n",
            "強皮                  1\n",
            "dtype: int64\n"
          ]
        }
      ]
    },
    {
      "cell_type": "code",
      "source": [
        "\"\"\"\n",
        "\n",
        "M/F\n",
        "F    13\n",
        "M     5\n",
        "dtype: int64\n",
        "\n",
        "\n",
        "Background disease\n",
        "Sjogren             6\n",
        "GVHD                5\n",
        "BSK                 1\n",
        "Post RT             1\n",
        "RA+ドライアイ、角膜感染       1\n",
        "Shogren             1\n",
        "Shogren, SLE, RA    1\n",
        "Shogren未検           1\n",
        "強皮症                 1\n",
        "dtype: int64\n",
        "\n",
        "\n",
        "History\n",
        "Punctal occulusion    4\n",
        "dtype: int64\n",
        "\n",
        "\n",
        "Side\n",
        "L    12\n",
        "R     6\n",
        "dtype: int64\n",
        "\n",
        "\n",
        "Observation period (month)\n",
        "28.0    3\n",
        "12.0    2\n",
        "29.0    2\n",
        "13.0    1\n",
        "14.0    1\n",
        "15.0    1\n",
        "16.0    1\n",
        "19.0    1\n",
        "23.0    1\n",
        "25.0    1\n",
        "27.0    1\n",
        "30.0    1\n",
        "32.0    1\n",
        "36.0    1\n",
        "dtype: int64\n",
        "\"\"\""
      ],
      "metadata": {
        "id": "7ENZ0sWhxI4t"
      },
      "execution_count": null,
      "outputs": []
    }
  ]
}