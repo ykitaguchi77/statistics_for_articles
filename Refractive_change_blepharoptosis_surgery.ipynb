{
  "nbformat": 4,
  "nbformat_minor": 0,
  "metadata": {
    "colab": {
      "provenance": [],
      "authorship_tag": "ABX9TyN0QKMFcD87PzO/wk4zAUSe",
      "include_colab_link": true
    },
    "kernelspec": {
      "name": "python3",
      "display_name": "Python 3"
    },
    "language_info": {
      "name": "python"
    }
  },
  "cells": [
    {
      "cell_type": "markdown",
      "metadata": {
        "id": "view-in-github",
        "colab_type": "text"
      },
      "source": [
        "<a href=\"https://colab.research.google.com/github/ykitaguchi77/statistics_for_articles/blob/main/Refractive_change_blepharoptosis_surgery.ipynb\" target=\"_parent\"><img src=\"https://colab.research.google.com/assets/colab-badge.svg\" alt=\"Open In Colab\"/></a>"
      ]
    },
    {
      "cell_type": "markdown",
      "source": [
        "#**Refractive change in blepharoptosis surgery**"
      ],
      "metadata": {
        "id": "OqObWQc1_T1U"
      }
    },
    {
      "cell_type": "code",
      "execution_count": 71,
      "metadata": {
        "colab": {
          "base_uri": "https://localhost:8080/"
        },
        "id": "Yup3T2Lay4gD",
        "outputId": "c9254d6a-57d0-4068-ad85-ad6910a57058"
      },
      "outputs": [
        {
          "output_type": "stream",
          "name": "stdout",
          "text": [
            "Drive already mounted at /content/drive; to attempt to forcibly remount, call drive.mount(\"/content/drive\", force_remount=True).\n"
          ]
        }
      ],
      "source": [
        "from google.colab import drive\n",
        "drive.mount(\"/content/drive\")"
      ]
    },
    {
      "cell_type": "code",
      "source": [
        "import pandas as pd\n",
        "pd.set_option('display.max_columns', 300)\n",
        "pd.set_option('display.max_rows', 300)"
      ],
      "metadata": {
        "id": "9nC8Dlyz7RBz"
      },
      "execution_count": 57,
      "outputs": []
    },
    {
      "cell_type": "code",
      "source": [
        "import pandas as pd\n",
        "\n",
        "xlsx_path = \"/content/drive/MyDrive/研究/進行中の研究/眼瞼下垂手術による屈折変化/眼瞼下垂.xlsx\"\n",
        "\n",
        "data = pd.read_excel(xlsx_path, header=1)\n",
        "\n",
        "# Display the first few rows of the dataframe and its columns to understand its structure\n",
        "data"
      ],
      "metadata": {
        "id": "nVb210bozJ73",
        "collapsed": true
      },
      "execution_count": null,
      "outputs": []
    },
    {
      "cell_type": "code",
      "source": [
        "# Step 1: Filter rows where surgery is bilateral (手術側 == 'B')\n",
        "bilateral_cases = data[data['手術側'] == 'B'].copy()\n",
        "unilateral_cases = data[data['手術側'] != 'B'].copy()\n",
        "unilateral_right_cases = data[data['手術側'] == 'R'].copy()\n",
        "unilateral_left_cases = data[data['手術側'] == 'L'].copy()\n",
        "print(f\"Number of bilateral cases: {len(bilateral_cases)}\")\n",
        "print(f\"Number of unilateral cases: {len(unilateral_cases)}\")\n",
        "\n",
        "# Step 2: Duplicate these rows for 'R' and 'L'\n",
        "bilateral_right_cases = bilateral_cases.copy()\n",
        "bilateral_left_cases = bilateral_cases.copy()\n",
        "\n",
        "# Assign 'R' and 'L' to the new surgery side columns\n",
        "bilateral_right_cases.loc[:, '手術側'] = 'R'\n",
        "bilateral_left_cases.loc[:, '手術側'] = 'L'\n",
        "\n",
        "# Step 3: Concatenate the modified bilateral and unilateral cases\n",
        "right_cases = pd.concat([bilateral_right_cases, unilateral_right_cases])\n",
        "left_cases = pd.concat([bilateral_left_cases, unilateral_left_cases])\n",
        "\n",
        "# Step 3: Rename and reallocate columns containing 'R' or 'L' for bilateral cases\n",
        "for column in right_cases.columns:\n",
        "    if ' R' in column:\n",
        "        # Extract the base column name without ' R'\n",
        "        new_column_name = column.replace(' R', '')\n",
        "        # Copy data to a new column without side specification\n",
        "        right_cases.loc[:, new_column_name] = right_cases[column]\n",
        "        # Drop the original ' R' column\n",
        "        right_cases.drop(column, axis=1, inplace=True)\n",
        "    elif ' L' in column:\n",
        "        # # Extract the base column name without ' L'\n",
        "        # new_column_name = column.replace(' L', '')\n",
        "        # # Copy data to a new column without side specification\n",
        "        # right_cases.loc[:, new_column_name] = right_cases[column]\n",
        "        # Drop the original ' L' column\n",
        "        right_cases.drop(column, axis=1, inplace=True)\n",
        "\n",
        "for column in left_cases.columns:\n",
        "    if ' R' in column:\n",
        "        # # Extract the base column name without ' R'\n",
        "        # new_column_name = column.replace(' R', '')\n",
        "        # # Copy data to a new column without side specification\n",
        "        # left_cases.loc[:, new_column_name] = left_cases[column]\n",
        "        # # Drop the original ' R' column\n",
        "        left_cases.drop(column, axis=1, inplace=True)\n",
        "    elif ' L' in column:\n",
        "        # Extract the base column name without ' L'\n",
        "        new_column_name = column.replace(' L', '')\n",
        "        # Copy data to a new column without side specification\n",
        "        left_cases.loc[:, new_column_name] = left_cases[column]\n",
        "        # Drop the original ' L' column\n",
        "        left_cases.drop(column, axis=1, inplace=True)\n",
        "\n",
        "# Combine the duplicated rows back into a single dataframe\n",
        "final_df = pd.concat([right_cases, left_cases])\n",
        "final_df = final_df.sort_values(by='ID').reset_index(drop=True)\n",
        "# ソート後のデータフレームを表示して確認\n",
        "#final_df\n",
        "\n",
        "#final_df.to_excel('output.xlsx', index=False)\n"
      ],
      "metadata": {
        "id": "knMc1iJR6Ciu"
      },
      "execution_count": null,
      "outputs": []
    },
    {
      "cell_type": "code",
      "source": [
        "try:\n",
        "    # Copy values from '波面4M' and '波面post' to '波面3M'\n",
        "    final_df['波面3M'] = final_df[['波面3M', '波面4M', '波面post']].bfill(axis=1).iloc[:, 0]\n",
        "\n",
        "    # Drop the columns '波面4M' and '波面post'\n",
        "    final_df.drop(columns=['波面4M', '波面post'], inplace=True)\n",
        "    print(\"波面3M updated!\")\n",
        "except:\n",
        "    pass\n",
        "\n",
        "try:\n",
        "    # Copy values from '波面4M' and '波面post' to '波面3M'\n",
        "    final_df['AveK 3M'] = final_df[['AveK 3M', 'AveK post']].bfill(axis=1).iloc[:, 0]\n",
        "\n",
        "    # Drop the columns '波面4M' and '波面post'\n",
        "    final_df.drop(columns=['AveK post'], inplace=True)\n",
        "    print(\"AveK 3M updated!\")\n",
        "except:\n",
        "    pass\n",
        "\n",
        "try:\n",
        "    # Copy values from '波面4M' and '波面post' to '波面3M'\n",
        "    final_df['CYL 3M'] = final_df[['CYL 3M', 'CYL post']].bfill(axis=1).iloc[:, 0]\n",
        "\n",
        "    # Drop the columns '波面4M' and '波面post'\n",
        "    final_df.drop(columns=['CYL post'], inplace=True)\n",
        "    print(\"CYL 3M updated!\")\n",
        "except:\n",
        "    pass\n",
        "\n",
        "try:\n",
        "    # Copy values from '波面4M' and '波面post' to '波面3M'\n",
        "    final_df['angle 3M'] = final_df[['angle 3M', 'angle post']].bfill(axis=1).iloc[:, 0]\n",
        "\n",
        "    # Drop the columns '波面4M' and '波面post'\n",
        "    final_df.drop(columns=['angle post'], inplace=True)\n",
        "    print(\"angle 3M updated!\")\n",
        "except:\n",
        "    pass\n",
        "\n",
        "try:\n",
        "    # Copy values from '波面4M' and '波面post' to '波面3M'\n",
        "    final_df['angle 3M'] = final_df[['angle 3M', 'angle post']].bfill(axis=1).iloc[:, 0]\n",
        "\n",
        "    # Drop the columns '波面4M' and '波面post'\n",
        "    final_df.drop(columns=['angle post'], inplace=True)\n",
        "    print(\"angle 3M updated!\")\n",
        "except:\n",
        "    pass\n",
        "\n",
        "try:\n",
        "    # Copy values from '波面4M' and '波面post' to '波面3M'\n",
        "    final_df['angle 3M'] = final_df[['angle 3M', 'angle post']].bfill(axis=1).iloc[:, 0]\n",
        "\n",
        "    # Drop the columns '波面4M' and '波面post'\n",
        "    final_df.drop(columns=['angle post'], inplace=True)\n",
        "    print(\"angle 3M updated!\")\n",
        "except:\n",
        "    pass\n",
        "\n",
        "try:\n",
        "    # Copy values from '波面4M' and '波面post' to '波面3M'\n",
        "    final_df['angle 3M'] = final_df[['angle 3M', 'angle post']].bfill(axis=1).iloc[:, 0]\n",
        "\n",
        "    # Drop the columns '波面4M' and '波面post'\n",
        "    final_df.drop(columns=['angle post'], inplace=True)\n",
        "    print(\"angle 3M updated!\")\n",
        "except:\n",
        "    pass\n"
      ],
      "metadata": {
        "id": "lgJLhag6ELZw"
      },
      "execution_count": null,
      "outputs": []
    },
    {
      "cell_type": "code",
      "source": [
        "# レフケラの欠損値を削除：Drop rows with missing values only in specified columns\n",
        "specified_columns = ['AveK pre', 'AveK 3M', 'CYL pre', 'CYL 3M', 'angle pre', 'angle 3M', 'MRD-1 pre', 'MRD-1 3M']\n",
        "final_df = final_df.dropna(subset=specified_columns).reset_index(drop=True)\n",
        "\n",
        "# SPKの有無を数字に置換\n",
        "final_df[\"SPK pre\"] = final_df[\"SPK pre\"].replace({\"あり\": 1, \"なし\": 0})\n",
        "final_df[\"SPK post\"] = final_df[\"SPK post\"].replace({\"あり\": 1, \"なし\": 0})\n",
        "# 57行目の\"MRD-1 pre\"列の値を0.5に置換\n",
        "final_df.at[57, \"MRD-1 pre\"] = 0.5\n",
        "\n",
        "# 挙筋機能\"good\"のカラムを10に置換\n",
        "final_df[\"挙筋機能 pre\"] = final_df[\"挙筋機能 pre\"].replace(\"good\", 10)\n",
        "\n",
        "# \"MRD-1 3M\"列と\"挙筋機能 pre\"列をfloat型に変換\n",
        "final_df[\"MRD-1 pre\"] = final_df[\"MRD-1 pre\"].astype(float)\n",
        "final_df[\"MRD-1 3M\"] = final_df[\"MRD-1 3M\"].astype(float)\n",
        "final_df[\"挙筋機能 pre\"] = final_df[\"挙筋機能 pre\"].astype(float)\n",
        "\n",
        "final_df[\"sex\"] = final_df[\"sex\"].replace({\"M\": 1, \"F\": 0})\n",
        "final_df[\"手術側\"] = final_df[\"手術側\"].replace({\"L\": 1, \"R\": 0})\n",
        "\n",
        "final_df"
      ],
      "metadata": {
        "id": "Fb8lFR0bz-vy"
      },
      "execution_count": null,
      "outputs": []
    },
    {
      "cell_type": "code",
      "source": [
        "final_df.to_excel('output.xlsx', index=False)\n"
      ],
      "metadata": {
        "id": "qc9S9nxE3N49"
      },
      "execution_count": null,
      "outputs": []
    },
    {
      "cell_type": "code",
      "source": [],
      "metadata": {
        "id": "8qITWJ6y4Ox8"
      },
      "execution_count": null,
      "outputs": []
    },
    {
      "cell_type": "markdown",
      "source": [
        "# **Preprocessed_dataを用いて解析**"
      ],
      "metadata": {
        "id": "lns4IjGOVq77"
      }
    },
    {
      "cell_type": "code",
      "source": [
        "from google.colab import drive\n",
        "drive.mount(\"/content/drive\")"
      ],
      "metadata": {
        "colab": {
          "base_uri": "https://localhost:8080/"
        },
        "id": "9J5sUBakWORy",
        "outputId": "6dd1be6e-abd1-4a07-8e1a-66d3262cb7c0"
      },
      "execution_count": 10,
      "outputs": [
        {
          "output_type": "stream",
          "name": "stdout",
          "text": [
            "Drive already mounted at /content/drive; to attempt to forcibly remount, call drive.mount(\"/content/drive\", force_remount=True).\n"
          ]
        }
      ]
    },
    {
      "cell_type": "code",
      "source": [
        "import pandas as pd\n",
        "pd.set_option('display.max_columns', 300)\n",
        "pd.set_option('display.max_rows', 300)"
      ],
      "metadata": {
        "id": "C-JwDuMtWLWr"
      },
      "execution_count": 58,
      "outputs": []
    },
    {
      "cell_type": "code",
      "source": [
        "import pandas as pd\n",
        "\n",
        "xlsx_path = \"/content/drive/MyDrive/研究/進行中の研究/眼瞼下垂手術による屈折変化/眼瞼下垂_proprocessed.xlsx\"\n",
        "\n",
        "data = pd.read_excel(xlsx_path, header=0)\n",
        "\n",
        "# Display the first few rows of the dataframe and its columns to understand its structure\n",
        "data.head()"
      ],
      "metadata": {
        "id": "12LgQoOAWQqi"
      },
      "execution_count": null,
      "outputs": []
    },
    {
      "cell_type": "markdown",
      "source": [
        "##**Linear regression analysis**"
      ],
      "metadata": {
        "id": "tpw9-FE4e8JT"
      }
    },
    {
      "cell_type": "code",
      "source": [
        "from sklearn.linear_model import LinearRegression\n",
        "import numpy as np\n",
        "\n",
        "# Prepare the dataset for linear regression analysis\n",
        "features = data[['age', 'sex', 'side', 'asg_0_pre', 'asg_45_pre', 'MRD-1 pre', 'MRD-1 3M', 'levator_function', 'SPK pre', 'SPK post']].dropna()\n",
        "#features = data[[ 'MRD-1 pre', 'MRD-1 3M']].dropna()\n",
        "\n",
        "target_delta_asg_0 = data.loc[features.index, 'Δasg_0']\n",
        "target_delta_asg_45 = data.loc[features.index, 'Δasg_45']\n",
        "\n",
        "# Initialize and fit the linear regression model for Δasg_0\n",
        "model_delta_asg_0 = LinearRegression()\n",
        "model_delta_asg_0.fit(features, target_delta_asg_0)\n",
        "coefficients_delta_asg_0 = model_delta_asg_0.coef_\n",
        "intercept_delta_asg_0 = model_delta_asg_0.intercept_\n",
        "\n",
        "# Initialize and fit the linear regression model for Δasg_45\n",
        "model_delta_asg_45 = LinearRegression()\n",
        "model_delta_asg_45.fit(features, target_delta_asg_45)\n",
        "coefficients_delta_asg_45 = model_delta_asg_45.coef_\n",
        "intercept_delta_asg_45 = model_delta_asg_45.intercept_\n",
        "\n",
        "# Show the results\n",
        "coefficients_delta_asg_0, intercept_delta_asg_0, coefficients_delta_asg_45, intercept_delta_asg_45\n"
      ],
      "metadata": {
        "id": "fsQN9jsYaHMR"
      },
      "execution_count": null,
      "outputs": []
    },
    {
      "cell_type": "code",
      "source": [
        "from sklearn.feature_selection import f_regression\n",
        "\n",
        "# Calculate p-values for both models\n",
        "p_values_delta_asg_0 = f_regression(features, target_delta_asg_0)[1]\n",
        "p_values_delta_asg_45 = f_regression(features, target_delta_asg_45)[1]\n",
        "\n",
        "p_values_delta_asg_0, p_values_delta_asg_45\n"
      ],
      "metadata": {
        "id": "tUpqrhRReGnt"
      },
      "execution_count": null,
      "outputs": []
    },
    {
      "cell_type": "code",
      "source": [
        "# Summary of the columns that are present\n",
        "summary = features.describe()\n",
        "\n",
        "summary\n"
      ],
      "metadata": {
        "id": "n5lkXuwTaEiY"
      },
      "execution_count": null,
      "outputs": []
    },
    {
      "cell_type": "code",
      "source": [
        "import pandas as pd\n",
        "\n",
        "# Creating a DataFrame to display coefficients and p-values for Δasg_0 and Δasg_45\n",
        "\n",
        "# Coefficients and intercepts\n",
        "coeffs_delta_asg_0 = pd.Series(coefficients_delta_asg_0, index=features.columns, name='Coefficients Δasg_0')\n",
        "coeffs_delta_asg_45 = pd.Series(coefficients_delta_asg_45, index=features.columns, name='Coefficients Δasg_45')\n",
        "intercept_delta_asg_0 = pd.Series([intercept_delta_asg_0], index=['Intercept'], name='Coefficients Δasg_0')\n",
        "intercept_delta_asg_45 = pd.Series([intercept_delta_asg_45], index=['Intercept'], name='Coefficients Δasg_45')\n",
        "\n",
        "# p-values\n",
        "p_values_delta_asg_0 = pd.Series(p_values_delta_asg_0, index=features.columns, name='p-values Δasg_0')\n",
        "p_values_delta_asg_45 = pd.Series(p_values_delta_asg_45, index=features.columns, name='p-values Δasg_45')\n",
        "\n",
        "# Combine all data into one DataFrame for each target\n",
        "results_delta_asg_0 = pd.concat([intercept_delta_asg_0, coeffs_delta_asg_0, p_values_delta_asg_0], axis=1)\n",
        "results_delta_asg_45 = pd.concat([intercept_delta_asg_45, coeffs_delta_asg_45, p_values_delta_asg_45], axis=1)\n",
        "\n",
        "# Combine results into one DataFrame for easy display\n",
        "results = pd.concat([results_delta_asg_0, results_delta_asg_45], axis=1)\n",
        "\n",
        "pd.options.display.float_format = '{:.4f}'.format\n",
        "results\n"
      ],
      "metadata": {
        "id": "tbjHAtmgd9Ra"
      },
      "execution_count": null,
      "outputs": []
    },
    {
      "cell_type": "markdown",
      "source": [
        "##**線形回帰モデルのAIC（赤池情報量基準）を用いた多変量解析**"
      ],
      "metadata": {
        "id": "ZVpI77ECfi65"
      }
    },
    {
      "cell_type": "code",
      "source": [
        "import statsmodels.api as sm\n",
        "\n",
        "# Define the independent variables for the model\n",
        "X = features\n",
        "# Add a constant to the model (the intercept)\n",
        "X = sm.add_constant(X)\n",
        "\n",
        "# Define the dependent variable for Δasg_0\n",
        "y_delta_asg_0 = target_delta_asg_0\n",
        "\n",
        "# Fit the model\n",
        "model_delta_asg_0 = sm.OLS(y_delta_asg_0, X).fit()\n",
        "\n",
        "# Define the dependent variable for Δasg_45\n",
        "y_delta_asg_45 = target_delta_asg_45\n",
        "\n",
        "# Fit the model\n",
        "model_delta_asg_45 = sm.OLS(y_delta_asg_45, X).fit()\n",
        "\n",
        "# Get AIC values\n",
        "aic_delta_asg_0 = model_delta_asg_0.aic\n",
        "aic_delta_asg_45 = model_delta_asg_45.aic\n",
        "\n",
        "aic_delta_asg_0, aic_delta_asg_45, model_delta_asg_0.summary(), model_delta_asg_45.summary()\n"
      ],
      "metadata": {
        "id": "GXlVc5ZYfHu5",
        "colab": {
          "base_uri": "https://localhost:8080/"
        },
        "outputId": "8348ed27-8364-4adb-d7a8-5e44b667fc7b"
      },
      "execution_count": 61,
      "outputs": [
        {
          "output_type": "execute_result",
          "data": {
            "text/plain": [
              "(398.39005812000744,\n",
              " 345.89408685581753,\n",
              " <class 'statsmodels.iolib.summary.Summary'>\n",
              " \"\"\"\n",
              "                             OLS Regression Results                            \n",
              " ==============================================================================\n",
              " Dep. Variable:                 Δasg_0   R-squared:                       0.176\n",
              " Model:                            OLS   Adj. R-squared:                  0.135\n",
              " Method:                 Least Squares   F-statistic:                     4.259\n",
              " Date:                Mon, 13 May 2024   Prob (F-statistic):           5.07e-05\n",
              " Time:                        13:56:04   Log-Likelihood:                -189.20\n",
              " No. Observations:                 189   AIC:                             398.4\n",
              " Df Residuals:                     179   BIC:                             430.8\n",
              " Df Model:                           9                                         \n",
              " Covariance Type:            nonrobust                                         \n",
              " ====================================================================================\n",
              "                        coef    std err          t      P>|t|      [0.025      0.975]\n",
              " ------------------------------------------------------------------------------------\n",
              " const                0.9795      0.585      1.674      0.096      -0.175       2.134\n",
              " age                 -0.0063      0.006     -1.057      0.292      -0.018       0.005\n",
              " sex                  0.0527      0.051      1.034      0.303      -0.048       0.153\n",
              " side                 0.0527      0.051      1.034      0.303      -0.048       0.153\n",
              " asg_0_pre           -0.2482      0.044     -5.608      0.000      -0.336      -0.161\n",
              " asg_45_pre           0.0993      0.069      1.432      0.154      -0.038       0.236\n",
              " MRD-1 pre            0.0311      0.047      0.668      0.505      -0.061       0.123\n",
              " MRD-1 3M            -0.0249      0.052     -0.476      0.634      -0.128       0.078\n",
              " levator_function    -0.0278      0.024     -1.156      0.249      -0.075       0.020\n",
              " SPK pre              0.0589      0.111      0.532      0.596      -0.160       0.277\n",
              " SPK post            -0.1124      0.115     -0.975      0.331      -0.340       0.115\n",
              " ==============================================================================\n",
              " Omnibus:                       16.762   Durbin-Watson:                   1.761\n",
              " Prob(Omnibus):                  0.000   Jarque-Bera (JB):               47.749\n",
              " Skew:                          -0.238   Prob(JB):                     4.28e-11\n",
              " Kurtosis:                       5.416   Cond. No.                     5.84e+17\n",
              " ==============================================================================\n",
              " \n",
              " Notes:\n",
              " [1] Standard Errors assume that the covariance matrix of the errors is correctly specified.\n",
              " [2] The smallest eigenvalue is 3.19e-30. This might indicate that there are\n",
              " strong multicollinearity problems or that the design matrix is singular.\n",
              " \"\"\",\n",
              " <class 'statsmodels.iolib.summary.Summary'>\n",
              " \"\"\"\n",
              "                             OLS Regression Results                            \n",
              " ==============================================================================\n",
              " Dep. Variable:                Δasg_45   R-squared:                       0.281\n",
              " Model:                            OLS   Adj. R-squared:                  0.245\n",
              " Method:                 Least Squares   F-statistic:                     7.792\n",
              " Date:                Mon, 13 May 2024   Prob (F-statistic):           1.18e-09\n",
              " Time:                        13:56:04   Log-Likelihood:                -162.95\n",
              " No. Observations:                 189   AIC:                             345.9\n",
              " Df Residuals:                     179   BIC:                             378.3\n",
              " Df Model:                           9                                         \n",
              " Covariance Type:            nonrobust                                         \n",
              " ====================================================================================\n",
              "                        coef    std err          t      P>|t|      [0.025      0.975]\n",
              " ------------------------------------------------------------------------------------\n",
              " const                0.1432      0.509      0.281      0.779      -0.862       1.148\n",
              " age                 -0.0006      0.005     -0.109      0.914      -0.011       0.010\n",
              " sex                 -0.0685      0.044     -1.546      0.124      -0.156       0.019\n",
              " side                -0.0685      0.044     -1.546      0.124      -0.156       0.019\n",
              " asg_0_pre            0.0586      0.039      1.522      0.130      -0.017       0.135\n",
              " asg_45_pre          -0.4812      0.060     -7.970      0.000      -0.600      -0.362\n",
              " MRD-1 pre           -0.0461      0.041     -1.137      0.257      -0.126       0.034\n",
              " MRD-1 3M            -0.0409      0.045     -0.901      0.369      -0.131       0.049\n",
              " levator_function    -0.0015      0.021     -0.072      0.942      -0.043       0.040\n",
              " SPK pre             -0.0132      0.096     -0.137      0.891      -0.203       0.177\n",
              " SPK post             0.2062      0.100      2.057      0.041       0.008       0.404\n",
              " ==============================================================================\n",
              " Omnibus:                       55.001   Durbin-Watson:                   2.101\n",
              " Prob(Omnibus):                  0.000   Jarque-Bera (JB):              331.413\n",
              " Skew:                          -0.912   Prob(JB):                     1.08e-72\n",
              " Kurtosis:                       9.226   Cond. No.                     5.84e+17\n",
              " ==============================================================================\n",
              " \n",
              " Notes:\n",
              " [1] Standard Errors assume that the covariance matrix of the errors is correctly specified.\n",
              " [2] The smallest eigenvalue is 3.19e-30. This might indicate that there are\n",
              " strong multicollinearity problems or that the design matrix is singular.\n",
              " \"\"\")"
            ]
          },
          "metadata": {},
          "execution_count": 61
        }
      ]
    },
    {
      "cell_type": "code",
      "source": [
        "import matplotlib.pyplot as plt\n",
        "\n",
        "# Plotting the scatter plot of asg_0_pre vs Δasg_0\n",
        "plt.figure(figsize=(10, 6))\n",
        "plt.scatter(data['asg_0_pre'], data['Δasg_0'], alpha=0.6, color='blue')\n",
        "plt.title('Scatter Plot of asg_0_pre vs Δasg_0')\n",
        "plt.xlabel('asg_0_pre')\n",
        "plt.ylabel('Δasg_0')\n",
        "plt.grid(True)\n",
        "plt.show()\n"
      ],
      "metadata": {
        "id": "fCm1ugxr1LKg"
      },
      "execution_count": null,
      "outputs": []
    },
    {
      "cell_type": "markdown",
      "source": [
        "###**asg_0_preの外れ値を除外して計算**"
      ],
      "metadata": {
        "id": "lshOwhli7r8v"
      }
    },
    {
      "cell_type": "code",
      "source": [
        "#######################\n",
        "# asg_0_preの外れ値を除外して計算する\n",
        "#######################\n",
        "# Analyzing outliers based on quartile range\n",
        "Q1 = data['asg_0_pre'].quantile(0.25)\n",
        "Q3 = data['asg_0_pre'].quantile(0.75)\n",
        "IQR = Q3 - Q1\n",
        "\n",
        "# Define outliers as points outside of Q1 - 1.5*IQR and Q3 + 1.5*IQR\n",
        "lower_bound = Q1 - 1.5 * IQR\n",
        "upper_bound = Q3 + 1.5 * IQR\n",
        "\n",
        "# Filtering data to exclude these outliers\n",
        "data = data[(data['asg_0_pre'] >= lower_bound) & (data['asg_0_pre'] <= upper_bound)]\n",
        "data['asg_0_pre'].describe()\n"
      ],
      "metadata": {
        "id": "c2DlxJ-p1S5A",
        "outputId": "1cd8fd34-b540-4cc4-dd09-138cefb337e2",
        "colab": {
          "base_uri": "https://localhost:8080/"
        }
      },
      "execution_count": 72,
      "outputs": [
        {
          "output_type": "execute_result",
          "data": {
            "text/plain": [
              "count   184.0000\n",
              "mean     -0.0814\n",
              "std       0.9825\n",
              "min      -2.5256\n",
              "25%      -0.7158\n",
              "50%      -0.0857\n",
              "75%       0.5321\n",
              "max       2.3776\n",
              "Name: asg_0_pre, dtype: float64"
            ]
          },
          "metadata": {},
          "execution_count": 72
        }
      ]
    },
    {
      "cell_type": "code",
      "source": [
        "# Plotting the scatter plot of asg_0_pre vs Δasg_0\n",
        "plt.figure(figsize=(9, 6))\n",
        "plt.scatter(data['asg_0_pre'], data['Δasg_0'], alpha=0.6, color='blue')\n",
        "plt.title('Scatter Plot of asg_0_pre vs Δasg_0')\n",
        "plt.xlabel('asg_0_pre')\n",
        "plt.ylabel('Δasg_0')\n",
        "plt.grid(True)\n",
        "plt.show()"
      ],
      "metadata": {
        "id": "B9FFjp_nPi9C"
      },
      "execution_count": null,
      "outputs": []
    },
    {
      "cell_type": "code",
      "source": [
        "import pandas as pd\n",
        "from sklearn.linear_model import LinearRegression\n",
        "from sklearn.model_selection import train_test_split\n",
        "from sklearn.metrics import mean_squared_error, r2_score\n",
        "\n",
        "# 目的変数の計算\n",
        "# data['Δasg_0'] = data['asg_0_post'] - data['asg_0_pre']\n",
        "# data['Δasg_45'] = data['asg_45_post'] - data['asg_45_pre']\n",
        "\n",
        "# 外れ値の除外\n",
        "Q1 = data['asg_0_pre'].quantile(0.25)\n",
        "Q3 = data['asg_0_pre'].quantile(0.75)\n",
        "IQR = Q3 - Q1\n",
        "lower_bound = Q1 - 1.5 * IQR\n",
        "upper_bound = Q3 + 1.5 * IQR\n",
        "quartile_filtered_data = data[(data['asg_0_pre'] >= lower_bound) & (data['asg_0_pre'] <= upper_bound)]\n",
        "\n",
        "# 回帰分析に必要な列を選択し、欠損値を削除\n",
        "regression_data = quartile_filtered_data[['Δasg_0', 'age', 'sex', 'side', 'asg_0_pre', 'asg_45_pre', 'MRD-1 pre', 'MRD-1 3M', 'levator_function']].dropna()\n",
        "\n",
        "# 説明変数と目的変数の設定\n",
        "X = regression_data[['age', 'sex', 'side', 'asg_0_pre', 'asg_45_pre', 'MRD-1 pre', 'MRD-1 3M', 'levator_function']]\n",
        "y = regression_data['Δasg_0']\n",
        "\n",
        "# データを訓練セットとテストセットに分割\n",
        "X_train, X_test, y_train, y_test = train_test_split(X, y, test_size=0.2, random_state=0)\n",
        "\n",
        "# 線形回帰モデルの作成\n",
        "model = LinearRegression()\n",
        "model.fit(X_train, y_train)\n",
        "\n",
        "# テストセットでの予測\n",
        "y_pred = model.predict(X_test)\n",
        "\n",
        "# 性能指標の計算\n",
        "mse = mean_squared_error(y_test, y_pred)\n",
        "r2 = r2_score(y_test, y_pred)\n",
        "\n",
        "print(f\"MSE: {mse}, R2: {r2}\")"
      ],
      "metadata": {
        "id": "8-CRaC_z37UH",
        "outputId": "235cc1d5-4afb-4f65-931f-914e58ba8d30",
        "colab": {
          "base_uri": "https://localhost:8080/"
        }
      },
      "execution_count": 51,
      "outputs": [
        {
          "output_type": "stream",
          "name": "stdout",
          "text": [
            "MSE: 0.5053517400965294, R2: -0.11628637059119318\n"
          ]
        }
      ]
    },
    {
      "cell_type": "code",
      "source": [
        "import statsmodels.api as sm\n",
        "\n",
        "# Adding a constant for the intercept term\n",
        "X_train_sm = sm.add_constant(X_train)\n",
        "\n",
        "# Fitting the regression model using statsmodels to get the coefficients and p-values\n",
        "model_sm = sm.OLS(y_train, X_train_sm).fit()\n",
        "\n",
        "# Display the model summary which includes coefficients, p-values, and other diagnostics\n",
        "model_summary = model_sm.summary()\n",
        "model_summary\n"
      ],
      "metadata": {
        "id": "NUxbqv_K4lzL",
        "colab": {
          "base_uri": "https://localhost:8080/",
          "height": 636
        },
        "outputId": "22f6aab3-4112-415f-ee0e-2d9961901a54"
      },
      "execution_count": 52,
      "outputs": [
        {
          "output_type": "execute_result",
          "data": {
            "text/plain": [
              "<class 'statsmodels.iolib.summary.Summary'>\n",
              "\"\"\"\n",
              "                            OLS Regression Results                            \n",
              "==============================================================================\n",
              "Dep. Variable:                 Δasg_0   R-squared:                       0.065\n",
              "Model:                            OLS   Adj. R-squared:                  0.018\n",
              "Method:                 Least Squares   F-statistic:                     1.389\n",
              "Date:                Mon, 13 May 2024   Prob (F-statistic):              0.215\n",
              "Time:                        12:02:12   Log-Likelihood:                -125.98\n",
              "No. Observations:                 147   AIC:                             268.0\n",
              "Df Residuals:                     139   BIC:                             291.9\n",
              "Df Model:                           7                                         \n",
              "Covariance Type:            nonrobust                                         \n",
              "====================================================================================\n",
              "                       coef    std err          t      P>|t|      [0.025      0.975]\n",
              "------------------------------------------------------------------------------------\n",
              "const                0.6957      0.590      1.180      0.240      -0.470       1.862\n",
              "age                 -0.0054      0.006     -0.884      0.378      -0.017       0.007\n",
              "sex                  0.1059      0.050      2.139      0.034       0.008       0.204\n",
              "side                 0.1059      0.050      2.139      0.034       0.008       0.204\n",
              "asg_0_pre           -0.1077      0.055     -1.943      0.054      -0.217       0.002\n",
              "asg_45_pre           0.0825      0.079      1.049      0.296      -0.073       0.238\n",
              "MRD-1 pre            0.0094      0.048      0.197      0.844      -0.085       0.103\n",
              "MRD-1 3M            -0.0227      0.052     -0.437      0.663      -0.125       0.080\n",
              "levator_function    -0.0113      0.025     -0.458      0.648      -0.060       0.038\n",
              "==============================================================================\n",
              "Omnibus:                        7.331   Durbin-Watson:                   2.347\n",
              "Prob(Omnibus):                  0.026   Jarque-Bera (JB):               13.332\n",
              "Skew:                          -0.045   Prob(JB):                      0.00127\n",
              "Kurtosis:                       4.473   Cond. No.                     6.52e+17\n",
              "==============================================================================\n",
              "\n",
              "Notes:\n",
              "[1] Standard Errors assume that the covariance matrix of the errors is correctly specified.\n",
              "[2] The smallest eigenvalue is  2e-30. This might indicate that there are\n",
              "strong multicollinearity problems or that the design matrix is singular.\n",
              "\"\"\""
            ],
            "text/html": [
              "<table class=\"simpletable\">\n",
              "<caption>OLS Regression Results</caption>\n",
              "<tr>\n",
              "  <th>Dep. Variable:</th>         <td>Δasg_0</td>      <th>  R-squared:         </th> <td>   0.065</td>\n",
              "</tr>\n",
              "<tr>\n",
              "  <th>Model:</th>                   <td>OLS</td>       <th>  Adj. R-squared:    </th> <td>   0.018</td>\n",
              "</tr>\n",
              "<tr>\n",
              "  <th>Method:</th>             <td>Least Squares</td>  <th>  F-statistic:       </th> <td>   1.389</td>\n",
              "</tr>\n",
              "<tr>\n",
              "  <th>Date:</th>             <td>Mon, 13 May 2024</td> <th>  Prob (F-statistic):</th>  <td> 0.215</td> \n",
              "</tr>\n",
              "<tr>\n",
              "  <th>Time:</th>                 <td>12:02:12</td>     <th>  Log-Likelihood:    </th> <td> -125.98</td>\n",
              "</tr>\n",
              "<tr>\n",
              "  <th>No. Observations:</th>      <td>   147</td>      <th>  AIC:               </th> <td>   268.0</td>\n",
              "</tr>\n",
              "<tr>\n",
              "  <th>Df Residuals:</th>          <td>   139</td>      <th>  BIC:               </th> <td>   291.9</td>\n",
              "</tr>\n",
              "<tr>\n",
              "  <th>Df Model:</th>              <td>     7</td>      <th>                     </th>     <td> </td>   \n",
              "</tr>\n",
              "<tr>\n",
              "  <th>Covariance Type:</th>      <td>nonrobust</td>    <th>                     </th>     <td> </td>   \n",
              "</tr>\n",
              "</table>\n",
              "<table class=\"simpletable\">\n",
              "<tr>\n",
              "          <td></td>            <th>coef</th>     <th>std err</th>      <th>t</th>      <th>P>|t|</th>  <th>[0.025</th>    <th>0.975]</th>  \n",
              "</tr>\n",
              "<tr>\n",
              "  <th>const</th>            <td>    0.6957</td> <td>    0.590</td> <td>    1.180</td> <td> 0.240</td> <td>   -0.470</td> <td>    1.862</td>\n",
              "</tr>\n",
              "<tr>\n",
              "  <th>age</th>              <td>   -0.0054</td> <td>    0.006</td> <td>   -0.884</td> <td> 0.378</td> <td>   -0.017</td> <td>    0.007</td>\n",
              "</tr>\n",
              "<tr>\n",
              "  <th>sex</th>              <td>    0.1059</td> <td>    0.050</td> <td>    2.139</td> <td> 0.034</td> <td>    0.008</td> <td>    0.204</td>\n",
              "</tr>\n",
              "<tr>\n",
              "  <th>side</th>             <td>    0.1059</td> <td>    0.050</td> <td>    2.139</td> <td> 0.034</td> <td>    0.008</td> <td>    0.204</td>\n",
              "</tr>\n",
              "<tr>\n",
              "  <th>asg_0_pre</th>        <td>   -0.1077</td> <td>    0.055</td> <td>   -1.943</td> <td> 0.054</td> <td>   -0.217</td> <td>    0.002</td>\n",
              "</tr>\n",
              "<tr>\n",
              "  <th>asg_45_pre</th>       <td>    0.0825</td> <td>    0.079</td> <td>    1.049</td> <td> 0.296</td> <td>   -0.073</td> <td>    0.238</td>\n",
              "</tr>\n",
              "<tr>\n",
              "  <th>MRD-1 pre</th>        <td>    0.0094</td> <td>    0.048</td> <td>    0.197</td> <td> 0.844</td> <td>   -0.085</td> <td>    0.103</td>\n",
              "</tr>\n",
              "<tr>\n",
              "  <th>MRD-1 3M</th>         <td>   -0.0227</td> <td>    0.052</td> <td>   -0.437</td> <td> 0.663</td> <td>   -0.125</td> <td>    0.080</td>\n",
              "</tr>\n",
              "<tr>\n",
              "  <th>levator_function</th> <td>   -0.0113</td> <td>    0.025</td> <td>   -0.458</td> <td> 0.648</td> <td>   -0.060</td> <td>    0.038</td>\n",
              "</tr>\n",
              "</table>\n",
              "<table class=\"simpletable\">\n",
              "<tr>\n",
              "  <th>Omnibus:</th>       <td> 7.331</td> <th>  Durbin-Watson:     </th> <td>   2.347</td>\n",
              "</tr>\n",
              "<tr>\n",
              "  <th>Prob(Omnibus):</th> <td> 0.026</td> <th>  Jarque-Bera (JB):  </th> <td>  13.332</td>\n",
              "</tr>\n",
              "<tr>\n",
              "  <th>Skew:</th>          <td>-0.045</td> <th>  Prob(JB):          </th> <td> 0.00127</td>\n",
              "</tr>\n",
              "<tr>\n",
              "  <th>Kurtosis:</th>      <td> 4.473</td> <th>  Cond. No.          </th> <td>6.52e+17</td>\n",
              "</tr>\n",
              "</table><br/><br/>Notes:<br/>[1] Standard Errors assume that the covariance matrix of the errors is correctly specified.<br/>[2] The smallest eigenvalue is  2e-30. This might indicate that there are<br/>strong multicollinearity problems or that the design matrix is singular."
            ],
            "text/latex": "\\begin{center}\n\\begin{tabular}{lclc}\n\\toprule\n\\textbf{Dep. Variable:}    &     Δasg\\_0      & \\textbf{  R-squared:         } &     0.065   \\\\\n\\textbf{Model:}            &       OLS        & \\textbf{  Adj. R-squared:    } &     0.018   \\\\\n\\textbf{Method:}           &  Least Squares   & \\textbf{  F-statistic:       } &     1.389   \\\\\n\\textbf{Date:}             & Mon, 13 May 2024 & \\textbf{  Prob (F-statistic):} &    0.215    \\\\\n\\textbf{Time:}             &     12:02:12     & \\textbf{  Log-Likelihood:    } &   -125.98   \\\\\n\\textbf{No. Observations:} &         147      & \\textbf{  AIC:               } &     268.0   \\\\\n\\textbf{Df Residuals:}     &         139      & \\textbf{  BIC:               } &     291.9   \\\\\n\\textbf{Df Model:}         &           7      & \\textbf{                     } &             \\\\\n\\textbf{Covariance Type:}  &    nonrobust     & \\textbf{                     } &             \\\\\n\\bottomrule\n\\end{tabular}\n\\begin{tabular}{lcccccc}\n                           & \\textbf{coef} & \\textbf{std err} & \\textbf{t} & \\textbf{P$> |$t$|$} & \\textbf{[0.025} & \\textbf{0.975]}  \\\\\n\\midrule\n\\textbf{const}             &       0.6957  &        0.590     &     1.180  &         0.240        &       -0.470    &        1.862     \\\\\n\\textbf{age}               &      -0.0054  &        0.006     &    -0.884  &         0.378        &       -0.017    &        0.007     \\\\\n\\textbf{sex}               &       0.1059  &        0.050     &     2.139  &         0.034        &        0.008    &        0.204     \\\\\n\\textbf{side}              &       0.1059  &        0.050     &     2.139  &         0.034        &        0.008    &        0.204     \\\\\n\\textbf{asg\\_0\\_pre}       &      -0.1077  &        0.055     &    -1.943  &         0.054        &       -0.217    &        0.002     \\\\\n\\textbf{asg\\_45\\_pre}      &       0.0825  &        0.079     &     1.049  &         0.296        &       -0.073    &        0.238     \\\\\n\\textbf{MRD-1 pre}         &       0.0094  &        0.048     &     0.197  &         0.844        &       -0.085    &        0.103     \\\\\n\\textbf{MRD-1 3M}          &      -0.0227  &        0.052     &    -0.437  &         0.663        &       -0.125    &        0.080     \\\\\n\\textbf{levator\\_function} &      -0.0113  &        0.025     &    -0.458  &         0.648        &       -0.060    &        0.038     \\\\\n\\bottomrule\n\\end{tabular}\n\\begin{tabular}{lclc}\n\\textbf{Omnibus:}       &  7.331 & \\textbf{  Durbin-Watson:     } &    2.347  \\\\\n\\textbf{Prob(Omnibus):} &  0.026 & \\textbf{  Jarque-Bera (JB):  } &   13.332  \\\\\n\\textbf{Skew:}          & -0.045 & \\textbf{  Prob(JB):          } &  0.00127  \\\\\n\\textbf{Kurtosis:}      &  4.473 & \\textbf{  Cond. No.          } & 6.52e+17  \\\\\n\\bottomrule\n\\end{tabular}\n%\\caption{OLS Regression Results}\n\\end{center}\n\nNotes: \\newline\n [1] Standard Errors assume that the covariance matrix of the errors is correctly specified. \\newline\n [2] The smallest eigenvalue is  2e-30. This might indicate that there are \\newline\n strong multicollinearity problems or that the design matrix is singular."
          },
          "metadata": {},
          "execution_count": 52
        }
      ]
    },
    {
      "cell_type": "code",
      "source": [
        "import itertools\n",
        "\n",
        "# Function to calculate the AIC for a given set of predictor variables\n",
        "def calculate_aic(X, y):\n",
        "    model = sm.OLS(y, sm.add_constant(X)).fit()\n",
        "    return model.aic\n",
        "\n",
        "# List of all predictor variables\n",
        "predictors = ['age', 'sex', 'side', 'asg_0_pre', 'asg_45_pre', 'MRD-1 pre', 'MRD-1 3M', 'levator_function']\n",
        "\n",
        "# Generate all possible combinations of predictor variables\n",
        "predictor_combinations = []\n",
        "for L in range(1, len(predictors)+1):\n",
        "    for subset in itertools.combinations(predictors, L):\n",
        "        predictor_combinations.append(list(subset))\n",
        "\n",
        "# Calculate AIC for each combination and store results\n",
        "aic_results = []\n",
        "for combo in predictor_combinations:\n",
        "    aic = calculate_aic(X[combo], y)\n",
        "    aic_results.append((aic, combo))\n",
        "\n",
        "# Find the combination with the lowest AIC\n",
        "best_aic = min(aic_results, key=lambda x: x[0])\n",
        "best_aic\n"
      ],
      "metadata": {
        "id": "WpIOMNtr5Aik",
        "outputId": "780411a0-7766-483c-835f-27479d2d9601",
        "colab": {
          "base_uri": "https://localhost:8080/"
        }
      },
      "execution_count": 53,
      "outputs": [
        {
          "output_type": "execute_result",
          "data": {
            "text/plain": [
              "(340.41738022236524, ['asg_0_pre'])"
            ]
          },
          "metadata": {},
          "execution_count": 53
        }
      ]
    },
    {
      "cell_type": "code",
      "source": [
        "# Defining the predictor variable (only 'asg_0_pre') and the target variable\n",
        "X_single = regression_data[['asg_0_pre']]\n",
        "y_single = regression_data['Δasg_0']\n",
        "\n",
        "# Adding a constant for the intercept term\n",
        "X_single_sm = sm.add_constant(X_single)\n",
        "\n",
        "# Fitting the regression model using statsmodels\n",
        "model_single = sm.OLS(y_single, X_single_sm).fit()\n",
        "\n",
        "# Display the model summary\n",
        "model_single_summary = model_single.summary()\n",
        "model_single_summary\n"
      ],
      "metadata": {
        "id": "zhR-S11Z5WVR",
        "colab": {
          "base_uri": "https://localhost:8080/",
          "height": 452
        },
        "outputId": "aa3726d6-85be-4771-94ce-4a02bada2ded"
      },
      "execution_count": 54,
      "outputs": [
        {
          "output_type": "execute_result",
          "data": {
            "text/plain": [
              "<class 'statsmodels.iolib.summary.Summary'>\n",
              "\"\"\"\n",
              "                            OLS Regression Results                            \n",
              "==============================================================================\n",
              "Dep. Variable:                 Δasg_0   R-squared:                       0.016\n",
              "Model:                            OLS   Adj. R-squared:                  0.010\n",
              "Method:                 Least Squares   F-statistic:                     2.872\n",
              "Date:                Mon, 13 May 2024   Prob (F-statistic):             0.0918\n",
              "Time:                        12:02:19   Log-Likelihood:                -168.21\n",
              "No. Observations:                 184   AIC:                             340.4\n",
              "Df Residuals:                     182   BIC:                             346.8\n",
              "Df Model:                           1                                         \n",
              "Covariance Type:            nonrobust                                         \n",
              "==============================================================================\n",
              "                 coef    std err          t      P>|t|      [0.025      0.975]\n",
              "------------------------------------------------------------------------------\n",
              "const          0.2332      0.045      5.194      0.000       0.145       0.322\n",
              "asg_0_pre     -0.0774      0.046     -1.695      0.092      -0.167       0.013\n",
              "==============================================================================\n",
              "Omnibus:                        5.903   Durbin-Watson:                   1.737\n",
              "Prob(Omnibus):                  0.052   Jarque-Bera (JB):                7.758\n",
              "Skew:                           0.179   Prob(JB):                       0.0207\n",
              "Kurtosis:                       3.940   Cond. No.                         1.09\n",
              "==============================================================================\n",
              "\n",
              "Notes:\n",
              "[1] Standard Errors assume that the covariance matrix of the errors is correctly specified.\n",
              "\"\"\""
            ],
            "text/html": [
              "<table class=\"simpletable\">\n",
              "<caption>OLS Regression Results</caption>\n",
              "<tr>\n",
              "  <th>Dep. Variable:</th>         <td>Δasg_0</td>      <th>  R-squared:         </th> <td>   0.016</td>\n",
              "</tr>\n",
              "<tr>\n",
              "  <th>Model:</th>                   <td>OLS</td>       <th>  Adj. R-squared:    </th> <td>   0.010</td>\n",
              "</tr>\n",
              "<tr>\n",
              "  <th>Method:</th>             <td>Least Squares</td>  <th>  F-statistic:       </th> <td>   2.872</td>\n",
              "</tr>\n",
              "<tr>\n",
              "  <th>Date:</th>             <td>Mon, 13 May 2024</td> <th>  Prob (F-statistic):</th>  <td>0.0918</td> \n",
              "</tr>\n",
              "<tr>\n",
              "  <th>Time:</th>                 <td>12:02:19</td>     <th>  Log-Likelihood:    </th> <td> -168.21</td>\n",
              "</tr>\n",
              "<tr>\n",
              "  <th>No. Observations:</th>      <td>   184</td>      <th>  AIC:               </th> <td>   340.4</td>\n",
              "</tr>\n",
              "<tr>\n",
              "  <th>Df Residuals:</th>          <td>   182</td>      <th>  BIC:               </th> <td>   346.8</td>\n",
              "</tr>\n",
              "<tr>\n",
              "  <th>Df Model:</th>              <td>     1</td>      <th>                     </th>     <td> </td>   \n",
              "</tr>\n",
              "<tr>\n",
              "  <th>Covariance Type:</th>      <td>nonrobust</td>    <th>                     </th>     <td> </td>   \n",
              "</tr>\n",
              "</table>\n",
              "<table class=\"simpletable\">\n",
              "<tr>\n",
              "      <td></td>         <th>coef</th>     <th>std err</th>      <th>t</th>      <th>P>|t|</th>  <th>[0.025</th>    <th>0.975]</th>  \n",
              "</tr>\n",
              "<tr>\n",
              "  <th>const</th>     <td>    0.2332</td> <td>    0.045</td> <td>    5.194</td> <td> 0.000</td> <td>    0.145</td> <td>    0.322</td>\n",
              "</tr>\n",
              "<tr>\n",
              "  <th>asg_0_pre</th> <td>   -0.0774</td> <td>    0.046</td> <td>   -1.695</td> <td> 0.092</td> <td>   -0.167</td> <td>    0.013</td>\n",
              "</tr>\n",
              "</table>\n",
              "<table class=\"simpletable\">\n",
              "<tr>\n",
              "  <th>Omnibus:</th>       <td> 5.903</td> <th>  Durbin-Watson:     </th> <td>   1.737</td>\n",
              "</tr>\n",
              "<tr>\n",
              "  <th>Prob(Omnibus):</th> <td> 0.052</td> <th>  Jarque-Bera (JB):  </th> <td>   7.758</td>\n",
              "</tr>\n",
              "<tr>\n",
              "  <th>Skew:</th>          <td> 0.179</td> <th>  Prob(JB):          </th> <td>  0.0207</td>\n",
              "</tr>\n",
              "<tr>\n",
              "  <th>Kurtosis:</th>      <td> 3.940</td> <th>  Cond. No.          </th> <td>    1.09</td>\n",
              "</tr>\n",
              "</table><br/><br/>Notes:<br/>[1] Standard Errors assume that the covariance matrix of the errors is correctly specified."
            ],
            "text/latex": "\\begin{center}\n\\begin{tabular}{lclc}\n\\toprule\n\\textbf{Dep. Variable:}    &     Δasg\\_0      & \\textbf{  R-squared:         } &     0.016   \\\\\n\\textbf{Model:}            &       OLS        & \\textbf{  Adj. R-squared:    } &     0.010   \\\\\n\\textbf{Method:}           &  Least Squares   & \\textbf{  F-statistic:       } &     2.872   \\\\\n\\textbf{Date:}             & Mon, 13 May 2024 & \\textbf{  Prob (F-statistic):} &   0.0918    \\\\\n\\textbf{Time:}             &     12:02:19     & \\textbf{  Log-Likelihood:    } &   -168.21   \\\\\n\\textbf{No. Observations:} &         184      & \\textbf{  AIC:               } &     340.4   \\\\\n\\textbf{Df Residuals:}     &         182      & \\textbf{  BIC:               } &     346.8   \\\\\n\\textbf{Df Model:}         &           1      & \\textbf{                     } &             \\\\\n\\textbf{Covariance Type:}  &    nonrobust     & \\textbf{                     } &             \\\\\n\\bottomrule\n\\end{tabular}\n\\begin{tabular}{lcccccc}\n                     & \\textbf{coef} & \\textbf{std err} & \\textbf{t} & \\textbf{P$> |$t$|$} & \\textbf{[0.025} & \\textbf{0.975]}  \\\\\n\\midrule\n\\textbf{const}       &       0.2332  &        0.045     &     5.194  &         0.000        &        0.145    &        0.322     \\\\\n\\textbf{asg\\_0\\_pre} &      -0.0774  &        0.046     &    -1.695  &         0.092        &       -0.167    &        0.013     \\\\\n\\bottomrule\n\\end{tabular}\n\\begin{tabular}{lclc}\n\\textbf{Omnibus:}       &  5.903 & \\textbf{  Durbin-Watson:     } &    1.737  \\\\\n\\textbf{Prob(Omnibus):} &  0.052 & \\textbf{  Jarque-Bera (JB):  } &    7.758  \\\\\n\\textbf{Skew:}          &  0.179 & \\textbf{  Prob(JB):          } &   0.0207  \\\\\n\\textbf{Kurtosis:}      &  3.940 & \\textbf{  Cond. No.          } &     1.09  \\\\\n\\bottomrule\n\\end{tabular}\n%\\caption{OLS Regression Results}\n\\end{center}\n\nNotes: \\newline\n [1] Standard Errors assume that the covariance matrix of the errors is correctly specified."
          },
          "metadata": {},
          "execution_count": 54
        }
      ]
    },
    {
      "cell_type": "code",
      "source": [
        "# Function to perform linear regression for each predictor variable separately and summarize the results\n",
        "def perform_linear_regression_for_each_predictor(X, y):\n",
        "    results = []\n",
        "    for predictor in X.columns:\n",
        "        X_single = X[[predictor]]  # Selecting single predictor\n",
        "        X_single_sm = sm.add_constant(X_single)  # Adding constant for intercept\n",
        "\n",
        "        model = sm.OLS(y, X_single_sm).fit()  # Fitting the model\n",
        "        results.append({\n",
        "            'Predictor': predictor,\n",
        "            'Coefficient': model.params[predictor],\n",
        "            'P-Value': model.pvalues[predictor],\n",
        "            'R-Squared': model.rsquared,\n",
        "            'AIC': model.aic\n",
        "        })\n",
        "    return pd.DataFrame(results)\n",
        "\n",
        "# Applying the function to the regression data\n",
        "predictors_data = regression_data[['age', 'sex', 'side', 'asg_0_pre', 'asg_45_pre', 'MRD-1 pre', 'MRD-1 3M', 'levator_function']]\n",
        "results_summary = perform_linear_regression_for_each_predictor(predictors_data, y_single)\n",
        "results_summary\n"
      ],
      "metadata": {
        "id": "l78REYWq6ZF-",
        "colab": {
          "base_uri": "https://localhost:8080/",
          "height": 300
        },
        "outputId": "bfd976d7-3496-4cb6-951b-2aa2f1908725"
      },
      "execution_count": 55,
      "outputs": [
        {
          "output_type": "execute_result",
          "data": {
            "text/plain": [
              "          Predictor  Coefficient  P-Value  R-Squared      AIC\n",
              "0               age       0.0003   0.9602     0.0000 343.2959\n",
              "1               sex       0.0965   0.2848     0.0063 342.1388\n",
              "2              side       0.0965   0.2848     0.0063 342.1388\n",
              "3         asg_0_pre      -0.0774   0.0918     0.0155 340.4174\n",
              "4        asg_45_pre       0.0274   0.6874     0.0009 343.1344\n",
              "5         MRD-1 pre      -0.0203   0.5994     0.0015 343.0188\n",
              "6          MRD-1 3M      -0.0185   0.6739     0.0010 343.1190\n",
              "7  levator_function      -0.0254   0.1934     0.0093 341.5839"
            ],
            "text/html": [
              "\n",
              "  <div id=\"df-e53e39d9-2c6c-4196-a5a7-afd1d8dfa89d\" class=\"colab-df-container\">\n",
              "    <div>\n",
              "<style scoped>\n",
              "    .dataframe tbody tr th:only-of-type {\n",
              "        vertical-align: middle;\n",
              "    }\n",
              "\n",
              "    .dataframe tbody tr th {\n",
              "        vertical-align: top;\n",
              "    }\n",
              "\n",
              "    .dataframe thead th {\n",
              "        text-align: right;\n",
              "    }\n",
              "</style>\n",
              "<table border=\"1\" class=\"dataframe\">\n",
              "  <thead>\n",
              "    <tr style=\"text-align: right;\">\n",
              "      <th></th>\n",
              "      <th>Predictor</th>\n",
              "      <th>Coefficient</th>\n",
              "      <th>P-Value</th>\n",
              "      <th>R-Squared</th>\n",
              "      <th>AIC</th>\n",
              "    </tr>\n",
              "  </thead>\n",
              "  <tbody>\n",
              "    <tr>\n",
              "      <th>0</th>\n",
              "      <td>age</td>\n",
              "      <td>0.0003</td>\n",
              "      <td>0.9602</td>\n",
              "      <td>0.0000</td>\n",
              "      <td>343.2959</td>\n",
              "    </tr>\n",
              "    <tr>\n",
              "      <th>1</th>\n",
              "      <td>sex</td>\n",
              "      <td>0.0965</td>\n",
              "      <td>0.2848</td>\n",
              "      <td>0.0063</td>\n",
              "      <td>342.1388</td>\n",
              "    </tr>\n",
              "    <tr>\n",
              "      <th>2</th>\n",
              "      <td>side</td>\n",
              "      <td>0.0965</td>\n",
              "      <td>0.2848</td>\n",
              "      <td>0.0063</td>\n",
              "      <td>342.1388</td>\n",
              "    </tr>\n",
              "    <tr>\n",
              "      <th>3</th>\n",
              "      <td>asg_0_pre</td>\n",
              "      <td>-0.0774</td>\n",
              "      <td>0.0918</td>\n",
              "      <td>0.0155</td>\n",
              "      <td>340.4174</td>\n",
              "    </tr>\n",
              "    <tr>\n",
              "      <th>4</th>\n",
              "      <td>asg_45_pre</td>\n",
              "      <td>0.0274</td>\n",
              "      <td>0.6874</td>\n",
              "      <td>0.0009</td>\n",
              "      <td>343.1344</td>\n",
              "    </tr>\n",
              "    <tr>\n",
              "      <th>5</th>\n",
              "      <td>MRD-1 pre</td>\n",
              "      <td>-0.0203</td>\n",
              "      <td>0.5994</td>\n",
              "      <td>0.0015</td>\n",
              "      <td>343.0188</td>\n",
              "    </tr>\n",
              "    <tr>\n",
              "      <th>6</th>\n",
              "      <td>MRD-1 3M</td>\n",
              "      <td>-0.0185</td>\n",
              "      <td>0.6739</td>\n",
              "      <td>0.0010</td>\n",
              "      <td>343.1190</td>\n",
              "    </tr>\n",
              "    <tr>\n",
              "      <th>7</th>\n",
              "      <td>levator_function</td>\n",
              "      <td>-0.0254</td>\n",
              "      <td>0.1934</td>\n",
              "      <td>0.0093</td>\n",
              "      <td>341.5839</td>\n",
              "    </tr>\n",
              "  </tbody>\n",
              "</table>\n",
              "</div>\n",
              "    <div class=\"colab-df-buttons\">\n",
              "\n",
              "  <div class=\"colab-df-container\">\n",
              "    <button class=\"colab-df-convert\" onclick=\"convertToInteractive('df-e53e39d9-2c6c-4196-a5a7-afd1d8dfa89d')\"\n",
              "            title=\"Convert this dataframe to an interactive table.\"\n",
              "            style=\"display:none;\">\n",
              "\n",
              "  <svg xmlns=\"http://www.w3.org/2000/svg\" height=\"24px\" viewBox=\"0 -960 960 960\">\n",
              "    <path d=\"M120-120v-720h720v720H120Zm60-500h600v-160H180v160Zm220 220h160v-160H400v160Zm0 220h160v-160H400v160ZM180-400h160v-160H180v160Zm440 0h160v-160H620v160ZM180-180h160v-160H180v160Zm440 0h160v-160H620v160Z\"/>\n",
              "  </svg>\n",
              "    </button>\n",
              "\n",
              "  <style>\n",
              "    .colab-df-container {\n",
              "      display:flex;\n",
              "      gap: 12px;\n",
              "    }\n",
              "\n",
              "    .colab-df-convert {\n",
              "      background-color: #E8F0FE;\n",
              "      border: none;\n",
              "      border-radius: 50%;\n",
              "      cursor: pointer;\n",
              "      display: none;\n",
              "      fill: #1967D2;\n",
              "      height: 32px;\n",
              "      padding: 0 0 0 0;\n",
              "      width: 32px;\n",
              "    }\n",
              "\n",
              "    .colab-df-convert:hover {\n",
              "      background-color: #E2EBFA;\n",
              "      box-shadow: 0px 1px 2px rgba(60, 64, 67, 0.3), 0px 1px 3px 1px rgba(60, 64, 67, 0.15);\n",
              "      fill: #174EA6;\n",
              "    }\n",
              "\n",
              "    .colab-df-buttons div {\n",
              "      margin-bottom: 4px;\n",
              "    }\n",
              "\n",
              "    [theme=dark] .colab-df-convert {\n",
              "      background-color: #3B4455;\n",
              "      fill: #D2E3FC;\n",
              "    }\n",
              "\n",
              "    [theme=dark] .colab-df-convert:hover {\n",
              "      background-color: #434B5C;\n",
              "      box-shadow: 0px 1px 3px 1px rgba(0, 0, 0, 0.15);\n",
              "      filter: drop-shadow(0px 1px 2px rgba(0, 0, 0, 0.3));\n",
              "      fill: #FFFFFF;\n",
              "    }\n",
              "  </style>\n",
              "\n",
              "    <script>\n",
              "      const buttonEl =\n",
              "        document.querySelector('#df-e53e39d9-2c6c-4196-a5a7-afd1d8dfa89d button.colab-df-convert');\n",
              "      buttonEl.style.display =\n",
              "        google.colab.kernel.accessAllowed ? 'block' : 'none';\n",
              "\n",
              "      async function convertToInteractive(key) {\n",
              "        const element = document.querySelector('#df-e53e39d9-2c6c-4196-a5a7-afd1d8dfa89d');\n",
              "        const dataTable =\n",
              "          await google.colab.kernel.invokeFunction('convertToInteractive',\n",
              "                                                    [key], {});\n",
              "        if (!dataTable) return;\n",
              "\n",
              "        const docLinkHtml = 'Like what you see? Visit the ' +\n",
              "          '<a target=\"_blank\" href=https://colab.research.google.com/notebooks/data_table.ipynb>data table notebook</a>'\n",
              "          + ' to learn more about interactive tables.';\n",
              "        element.innerHTML = '';\n",
              "        dataTable['output_type'] = 'display_data';\n",
              "        await google.colab.output.renderOutput(dataTable, element);\n",
              "        const docLink = document.createElement('div');\n",
              "        docLink.innerHTML = docLinkHtml;\n",
              "        element.appendChild(docLink);\n",
              "      }\n",
              "    </script>\n",
              "  </div>\n",
              "\n",
              "\n",
              "<div id=\"df-5a06678a-dfc9-46b5-98f9-191cfee2a384\">\n",
              "  <button class=\"colab-df-quickchart\" onclick=\"quickchart('df-5a06678a-dfc9-46b5-98f9-191cfee2a384')\"\n",
              "            title=\"Suggest charts\"\n",
              "            style=\"display:none;\">\n",
              "\n",
              "<svg xmlns=\"http://www.w3.org/2000/svg\" height=\"24px\"viewBox=\"0 0 24 24\"\n",
              "     width=\"24px\">\n",
              "    <g>\n",
              "        <path d=\"M19 3H5c-1.1 0-2 .9-2 2v14c0 1.1.9 2 2 2h14c1.1 0 2-.9 2-2V5c0-1.1-.9-2-2-2zM9 17H7v-7h2v7zm4 0h-2V7h2v10zm4 0h-2v-4h2v4z\"/>\n",
              "    </g>\n",
              "</svg>\n",
              "  </button>\n",
              "\n",
              "<style>\n",
              "  .colab-df-quickchart {\n",
              "      --bg-color: #E8F0FE;\n",
              "      --fill-color: #1967D2;\n",
              "      --hover-bg-color: #E2EBFA;\n",
              "      --hover-fill-color: #174EA6;\n",
              "      --disabled-fill-color: #AAA;\n",
              "      --disabled-bg-color: #DDD;\n",
              "  }\n",
              "\n",
              "  [theme=dark] .colab-df-quickchart {\n",
              "      --bg-color: #3B4455;\n",
              "      --fill-color: #D2E3FC;\n",
              "      --hover-bg-color: #434B5C;\n",
              "      --hover-fill-color: #FFFFFF;\n",
              "      --disabled-bg-color: #3B4455;\n",
              "      --disabled-fill-color: #666;\n",
              "  }\n",
              "\n",
              "  .colab-df-quickchart {\n",
              "    background-color: var(--bg-color);\n",
              "    border: none;\n",
              "    border-radius: 50%;\n",
              "    cursor: pointer;\n",
              "    display: none;\n",
              "    fill: var(--fill-color);\n",
              "    height: 32px;\n",
              "    padding: 0;\n",
              "    width: 32px;\n",
              "  }\n",
              "\n",
              "  .colab-df-quickchart:hover {\n",
              "    background-color: var(--hover-bg-color);\n",
              "    box-shadow: 0 1px 2px rgba(60, 64, 67, 0.3), 0 1px 3px 1px rgba(60, 64, 67, 0.15);\n",
              "    fill: var(--button-hover-fill-color);\n",
              "  }\n",
              "\n",
              "  .colab-df-quickchart-complete:disabled,\n",
              "  .colab-df-quickchart-complete:disabled:hover {\n",
              "    background-color: var(--disabled-bg-color);\n",
              "    fill: var(--disabled-fill-color);\n",
              "    box-shadow: none;\n",
              "  }\n",
              "\n",
              "  .colab-df-spinner {\n",
              "    border: 2px solid var(--fill-color);\n",
              "    border-color: transparent;\n",
              "    border-bottom-color: var(--fill-color);\n",
              "    animation:\n",
              "      spin 1s steps(1) infinite;\n",
              "  }\n",
              "\n",
              "  @keyframes spin {\n",
              "    0% {\n",
              "      border-color: transparent;\n",
              "      border-bottom-color: var(--fill-color);\n",
              "      border-left-color: var(--fill-color);\n",
              "    }\n",
              "    20% {\n",
              "      border-color: transparent;\n",
              "      border-left-color: var(--fill-color);\n",
              "      border-top-color: var(--fill-color);\n",
              "    }\n",
              "    30% {\n",
              "      border-color: transparent;\n",
              "      border-left-color: var(--fill-color);\n",
              "      border-top-color: var(--fill-color);\n",
              "      border-right-color: var(--fill-color);\n",
              "    }\n",
              "    40% {\n",
              "      border-color: transparent;\n",
              "      border-right-color: var(--fill-color);\n",
              "      border-top-color: var(--fill-color);\n",
              "    }\n",
              "    60% {\n",
              "      border-color: transparent;\n",
              "      border-right-color: var(--fill-color);\n",
              "    }\n",
              "    80% {\n",
              "      border-color: transparent;\n",
              "      border-right-color: var(--fill-color);\n",
              "      border-bottom-color: var(--fill-color);\n",
              "    }\n",
              "    90% {\n",
              "      border-color: transparent;\n",
              "      border-bottom-color: var(--fill-color);\n",
              "    }\n",
              "  }\n",
              "</style>\n",
              "\n",
              "  <script>\n",
              "    async function quickchart(key) {\n",
              "      const quickchartButtonEl =\n",
              "        document.querySelector('#' + key + ' button');\n",
              "      quickchartButtonEl.disabled = true;  // To prevent multiple clicks.\n",
              "      quickchartButtonEl.classList.add('colab-df-spinner');\n",
              "      try {\n",
              "        const charts = await google.colab.kernel.invokeFunction(\n",
              "            'suggestCharts', [key], {});\n",
              "      } catch (error) {\n",
              "        console.error('Error during call to suggestCharts:', error);\n",
              "      }\n",
              "      quickchartButtonEl.classList.remove('colab-df-spinner');\n",
              "      quickchartButtonEl.classList.add('colab-df-quickchart-complete');\n",
              "    }\n",
              "    (() => {\n",
              "      let quickchartButtonEl =\n",
              "        document.querySelector('#df-5a06678a-dfc9-46b5-98f9-191cfee2a384 button');\n",
              "      quickchartButtonEl.style.display =\n",
              "        google.colab.kernel.accessAllowed ? 'block' : 'none';\n",
              "    })();\n",
              "  </script>\n",
              "</div>\n",
              "    </div>\n",
              "  </div>\n"
            ],
            "application/vnd.google.colaboratory.intrinsic+json": {
              "type": "dataframe",
              "variable_name": "results_summary",
              "summary": "{\n  \"name\": \"results_summary\",\n  \"rows\": 8,\n  \"fields\": [\n    {\n      \"column\": \"Predictor\",\n      \"properties\": {\n        \"dtype\": \"string\",\n        \"num_unique_values\": 8,\n        \"samples\": [\n          \"sex\",\n          \"MRD-1 pre\",\n          \"age\"\n        ],\n        \"semantic_type\": \"\",\n        \"description\": \"\"\n      }\n    },\n    {\n      \"column\": \"Coefficient\",\n      \"properties\": {\n        \"dtype\": \"number\",\n        \"std\": 0.06092891197228074,\n        \"min\": -0.07739096629583521,\n        \"max\": 0.09649912165647961,\n        \"num_unique_values\": 7,\n        \"samples\": [\n          0.0002609979698490338,\n          0.09649912165647961,\n          -0.018498668121619245\n        ],\n        \"semantic_type\": \"\",\n        \"description\": \"\"\n      }\n    },\n    {\n      \"column\": \"P-Value\",\n      \"properties\": {\n        \"dtype\": \"number\",\n        \"std\": 0.30093354885375784,\n        \"min\": 0.0918319109702852,\n        \"max\": 0.9601551384014766,\n        \"num_unique_values\": 7,\n        \"samples\": [\n          0.9601551384014766,\n          0.28482258326794074,\n          0.6739354562160613\n        ],\n        \"semantic_type\": \"\",\n        \"description\": \"\"\n      }\n    },\n    {\n      \"column\": \"R-Squared\",\n      \"properties\": {\n        \"dtype\": \"number\",\n        \"std\": 0.005379409317043789,\n        \"min\": 1.3751324002275744e-05,\n        \"max\": 0.015536137264482441,\n        \"num_unique_values\": 7,\n        \"samples\": [\n          1.3751324002275744e-05,\n          0.0062828137597779055,\n          0.0009749094495374866\n        ],\n        \"semantic_type\": \"\",\n        \"description\": \"\"\n      }\n    },\n    {\n      \"column\": \"AIC\",\n      \"properties\": {\n        \"dtype\": \"number\",\n        \"std\": 0.9971101875653287,\n        \"min\": 340.41738022236524,\n        \"max\": 343.2959381142324,\n        \"num_unique_values\": 7,\n        \"samples\": [\n          343.2959381142324,\n          342.13878377547684,\n          343.11899753840197\n        ],\n        \"semantic_type\": \"\",\n        \"description\": \"\"\n      }\n    }\n  ]\n}"
            }
          },
          "metadata": {},
          "execution_count": 55
        }
      ]
    },
    {
      "cell_type": "markdown",
      "source": [
        "##**Random forest analysis**"
      ],
      "metadata": {
        "id": "gqdt-ZxZgOp4"
      }
    },
    {
      "cell_type": "code",
      "source": [
        "from sklearn.ensemble import RandomForestRegressor\n",
        "from sklearn.model_selection import train_test_split\n",
        "from sklearn.metrics import mean_squared_error, r2_score\n",
        "\n",
        "# Selecting the relevant columns\n",
        "analysis_data = data[['Δasg_0', 'asg_0_pre', 'MRD-1 pre', 'MRD-1 3M']].dropna()\n",
        "\n",
        "# Define features and target\n",
        "X = analysis_data[['asg_0_pre', 'MRD-1 pre', 'MRD-1 3M']]\n",
        "y = analysis_data['Δasg_0']\n",
        "\n",
        "# Split the data into training and testing sets\n",
        "X_train, X_test, y_train, y_test = train_test_split(X, y, test_size=0.3, random_state=42)\n",
        "\n",
        "# Initialize and train the RandomForestRegressor\n",
        "rf_model = RandomForestRegressor(n_estimators=100, random_state=42)\n",
        "rf_model.fit(X_train, y_train)\n",
        "\n",
        "# Make predictions on the test set\n",
        "predictions = rf_model.predict(X_test)\n",
        "\n",
        "# Evaluate the model\n",
        "mse = mean_squared_error(y_test, predictions)\n",
        "r2 = r2_score(y_test, predictions)\n",
        "\n",
        "mse, r2\n"
      ],
      "metadata": {
        "colab": {
          "base_uri": "https://localhost:8080/"
        },
        "id": "nC4xXQa6gWDc",
        "outputId": "f14b2214-25c1-4975-9ec7-7cef46fbb975"
      },
      "execution_count": 68,
      "outputs": [
        {
          "output_type": "execute_result",
          "data": {
            "text/plain": [
              "(0.6279494880255121, 0.15832447779819414)"
            ]
          },
          "metadata": {},
          "execution_count": 68
        }
      ]
    },
    {
      "cell_type": "code",
      "source": [
        "# Extract feature importances from the random forest model\n",
        "feature_importances = rf_model.feature_importances_\n",
        "\n",
        "# Create a dataframe to view feature importances\n",
        "feature_importance_df = pd.DataFrame({\n",
        "    'Feature': X.columns,\n",
        "    'Importance': feature_importances\n",
        "}).sort_values(by='Importance', ascending=False)\n",
        "\n",
        "feature_importance_df\n"
      ],
      "metadata": {
        "colab": {
          "base_uri": "https://localhost:8080/",
          "height": 143
        },
        "id": "py-8urgEwTHE",
        "outputId": "0e8f6b15-1d96-4d22-b813-639b1adadf87"
      },
      "execution_count": 70,
      "outputs": [
        {
          "output_type": "execute_result",
          "data": {
            "text/plain": [
              "     Feature  Importance\n",
              "0  asg_0_pre      0.6395\n",
              "2   MRD-1 3M      0.1836\n",
              "1  MRD-1 pre      0.1770"
            ],
            "text/html": [
              "\n",
              "  <div id=\"df-a16cd882-5f47-44c0-8687-67190ca3f04c\" class=\"colab-df-container\">\n",
              "    <div>\n",
              "<style scoped>\n",
              "    .dataframe tbody tr th:only-of-type {\n",
              "        vertical-align: middle;\n",
              "    }\n",
              "\n",
              "    .dataframe tbody tr th {\n",
              "        vertical-align: top;\n",
              "    }\n",
              "\n",
              "    .dataframe thead th {\n",
              "        text-align: right;\n",
              "    }\n",
              "</style>\n",
              "<table border=\"1\" class=\"dataframe\">\n",
              "  <thead>\n",
              "    <tr style=\"text-align: right;\">\n",
              "      <th></th>\n",
              "      <th>Feature</th>\n",
              "      <th>Importance</th>\n",
              "    </tr>\n",
              "  </thead>\n",
              "  <tbody>\n",
              "    <tr>\n",
              "      <th>0</th>\n",
              "      <td>asg_0_pre</td>\n",
              "      <td>0.6395</td>\n",
              "    </tr>\n",
              "    <tr>\n",
              "      <th>2</th>\n",
              "      <td>MRD-1 3M</td>\n",
              "      <td>0.1836</td>\n",
              "    </tr>\n",
              "    <tr>\n",
              "      <th>1</th>\n",
              "      <td>MRD-1 pre</td>\n",
              "      <td>0.1770</td>\n",
              "    </tr>\n",
              "  </tbody>\n",
              "</table>\n",
              "</div>\n",
              "    <div class=\"colab-df-buttons\">\n",
              "\n",
              "  <div class=\"colab-df-container\">\n",
              "    <button class=\"colab-df-convert\" onclick=\"convertToInteractive('df-a16cd882-5f47-44c0-8687-67190ca3f04c')\"\n",
              "            title=\"Convert this dataframe to an interactive table.\"\n",
              "            style=\"display:none;\">\n",
              "\n",
              "  <svg xmlns=\"http://www.w3.org/2000/svg\" height=\"24px\" viewBox=\"0 -960 960 960\">\n",
              "    <path d=\"M120-120v-720h720v720H120Zm60-500h600v-160H180v160Zm220 220h160v-160H400v160Zm0 220h160v-160H400v160ZM180-400h160v-160H180v160Zm440 0h160v-160H620v160ZM180-180h160v-160H180v160Zm440 0h160v-160H620v160Z\"/>\n",
              "  </svg>\n",
              "    </button>\n",
              "\n",
              "  <style>\n",
              "    .colab-df-container {\n",
              "      display:flex;\n",
              "      gap: 12px;\n",
              "    }\n",
              "\n",
              "    .colab-df-convert {\n",
              "      background-color: #E8F0FE;\n",
              "      border: none;\n",
              "      border-radius: 50%;\n",
              "      cursor: pointer;\n",
              "      display: none;\n",
              "      fill: #1967D2;\n",
              "      height: 32px;\n",
              "      padding: 0 0 0 0;\n",
              "      width: 32px;\n",
              "    }\n",
              "\n",
              "    .colab-df-convert:hover {\n",
              "      background-color: #E2EBFA;\n",
              "      box-shadow: 0px 1px 2px rgba(60, 64, 67, 0.3), 0px 1px 3px 1px rgba(60, 64, 67, 0.15);\n",
              "      fill: #174EA6;\n",
              "    }\n",
              "\n",
              "    .colab-df-buttons div {\n",
              "      margin-bottom: 4px;\n",
              "    }\n",
              "\n",
              "    [theme=dark] .colab-df-convert {\n",
              "      background-color: #3B4455;\n",
              "      fill: #D2E3FC;\n",
              "    }\n",
              "\n",
              "    [theme=dark] .colab-df-convert:hover {\n",
              "      background-color: #434B5C;\n",
              "      box-shadow: 0px 1px 3px 1px rgba(0, 0, 0, 0.15);\n",
              "      filter: drop-shadow(0px 1px 2px rgba(0, 0, 0, 0.3));\n",
              "      fill: #FFFFFF;\n",
              "    }\n",
              "  </style>\n",
              "\n",
              "    <script>\n",
              "      const buttonEl =\n",
              "        document.querySelector('#df-a16cd882-5f47-44c0-8687-67190ca3f04c button.colab-df-convert');\n",
              "      buttonEl.style.display =\n",
              "        google.colab.kernel.accessAllowed ? 'block' : 'none';\n",
              "\n",
              "      async function convertToInteractive(key) {\n",
              "        const element = document.querySelector('#df-a16cd882-5f47-44c0-8687-67190ca3f04c');\n",
              "        const dataTable =\n",
              "          await google.colab.kernel.invokeFunction('convertToInteractive',\n",
              "                                                    [key], {});\n",
              "        if (!dataTable) return;\n",
              "\n",
              "        const docLinkHtml = 'Like what you see? Visit the ' +\n",
              "          '<a target=\"_blank\" href=https://colab.research.google.com/notebooks/data_table.ipynb>data table notebook</a>'\n",
              "          + ' to learn more about interactive tables.';\n",
              "        element.innerHTML = '';\n",
              "        dataTable['output_type'] = 'display_data';\n",
              "        await google.colab.output.renderOutput(dataTable, element);\n",
              "        const docLink = document.createElement('div');\n",
              "        docLink.innerHTML = docLinkHtml;\n",
              "        element.appendChild(docLink);\n",
              "      }\n",
              "    </script>\n",
              "  </div>\n",
              "\n",
              "\n",
              "<div id=\"df-c46390c8-9115-49c3-9b2b-ad51069a3bea\">\n",
              "  <button class=\"colab-df-quickchart\" onclick=\"quickchart('df-c46390c8-9115-49c3-9b2b-ad51069a3bea')\"\n",
              "            title=\"Suggest charts\"\n",
              "            style=\"display:none;\">\n",
              "\n",
              "<svg xmlns=\"http://www.w3.org/2000/svg\" height=\"24px\"viewBox=\"0 0 24 24\"\n",
              "     width=\"24px\">\n",
              "    <g>\n",
              "        <path d=\"M19 3H5c-1.1 0-2 .9-2 2v14c0 1.1.9 2 2 2h14c1.1 0 2-.9 2-2V5c0-1.1-.9-2-2-2zM9 17H7v-7h2v7zm4 0h-2V7h2v10zm4 0h-2v-4h2v4z\"/>\n",
              "    </g>\n",
              "</svg>\n",
              "  </button>\n",
              "\n",
              "<style>\n",
              "  .colab-df-quickchart {\n",
              "      --bg-color: #E8F0FE;\n",
              "      --fill-color: #1967D2;\n",
              "      --hover-bg-color: #E2EBFA;\n",
              "      --hover-fill-color: #174EA6;\n",
              "      --disabled-fill-color: #AAA;\n",
              "      --disabled-bg-color: #DDD;\n",
              "  }\n",
              "\n",
              "  [theme=dark] .colab-df-quickchart {\n",
              "      --bg-color: #3B4455;\n",
              "      --fill-color: #D2E3FC;\n",
              "      --hover-bg-color: #434B5C;\n",
              "      --hover-fill-color: #FFFFFF;\n",
              "      --disabled-bg-color: #3B4455;\n",
              "      --disabled-fill-color: #666;\n",
              "  }\n",
              "\n",
              "  .colab-df-quickchart {\n",
              "    background-color: var(--bg-color);\n",
              "    border: none;\n",
              "    border-radius: 50%;\n",
              "    cursor: pointer;\n",
              "    display: none;\n",
              "    fill: var(--fill-color);\n",
              "    height: 32px;\n",
              "    padding: 0;\n",
              "    width: 32px;\n",
              "  }\n",
              "\n",
              "  .colab-df-quickchart:hover {\n",
              "    background-color: var(--hover-bg-color);\n",
              "    box-shadow: 0 1px 2px rgba(60, 64, 67, 0.3), 0 1px 3px 1px rgba(60, 64, 67, 0.15);\n",
              "    fill: var(--button-hover-fill-color);\n",
              "  }\n",
              "\n",
              "  .colab-df-quickchart-complete:disabled,\n",
              "  .colab-df-quickchart-complete:disabled:hover {\n",
              "    background-color: var(--disabled-bg-color);\n",
              "    fill: var(--disabled-fill-color);\n",
              "    box-shadow: none;\n",
              "  }\n",
              "\n",
              "  .colab-df-spinner {\n",
              "    border: 2px solid var(--fill-color);\n",
              "    border-color: transparent;\n",
              "    border-bottom-color: var(--fill-color);\n",
              "    animation:\n",
              "      spin 1s steps(1) infinite;\n",
              "  }\n",
              "\n",
              "  @keyframes spin {\n",
              "    0% {\n",
              "      border-color: transparent;\n",
              "      border-bottom-color: var(--fill-color);\n",
              "      border-left-color: var(--fill-color);\n",
              "    }\n",
              "    20% {\n",
              "      border-color: transparent;\n",
              "      border-left-color: var(--fill-color);\n",
              "      border-top-color: var(--fill-color);\n",
              "    }\n",
              "    30% {\n",
              "      border-color: transparent;\n",
              "      border-left-color: var(--fill-color);\n",
              "      border-top-color: var(--fill-color);\n",
              "      border-right-color: var(--fill-color);\n",
              "    }\n",
              "    40% {\n",
              "      border-color: transparent;\n",
              "      border-right-color: var(--fill-color);\n",
              "      border-top-color: var(--fill-color);\n",
              "    }\n",
              "    60% {\n",
              "      border-color: transparent;\n",
              "      border-right-color: var(--fill-color);\n",
              "    }\n",
              "    80% {\n",
              "      border-color: transparent;\n",
              "      border-right-color: var(--fill-color);\n",
              "      border-bottom-color: var(--fill-color);\n",
              "    }\n",
              "    90% {\n",
              "      border-color: transparent;\n",
              "      border-bottom-color: var(--fill-color);\n",
              "    }\n",
              "  }\n",
              "</style>\n",
              "\n",
              "  <script>\n",
              "    async function quickchart(key) {\n",
              "      const quickchartButtonEl =\n",
              "        document.querySelector('#' + key + ' button');\n",
              "      quickchartButtonEl.disabled = true;  // To prevent multiple clicks.\n",
              "      quickchartButtonEl.classList.add('colab-df-spinner');\n",
              "      try {\n",
              "        const charts = await google.colab.kernel.invokeFunction(\n",
              "            'suggestCharts', [key], {});\n",
              "      } catch (error) {\n",
              "        console.error('Error during call to suggestCharts:', error);\n",
              "      }\n",
              "      quickchartButtonEl.classList.remove('colab-df-spinner');\n",
              "      quickchartButtonEl.classList.add('colab-df-quickchart-complete');\n",
              "    }\n",
              "    (() => {\n",
              "      let quickchartButtonEl =\n",
              "        document.querySelector('#df-c46390c8-9115-49c3-9b2b-ad51069a3bea button');\n",
              "      quickchartButtonEl.style.display =\n",
              "        google.colab.kernel.accessAllowed ? 'block' : 'none';\n",
              "    })();\n",
              "  </script>\n",
              "</div>\n",
              "    </div>\n",
              "  </div>\n"
            ],
            "application/vnd.google.colaboratory.intrinsic+json": {
              "type": "dataframe",
              "variable_name": "feature_importance_df",
              "summary": "{\n  \"name\": \"feature_importance_df\",\n  \"rows\": 3,\n  \"fields\": [\n    {\n      \"column\": \"Feature\",\n      \"properties\": {\n        \"dtype\": \"string\",\n        \"num_unique_values\": 3,\n        \"samples\": [\n          \"asg_0_pre\",\n          \"MRD-1 3M\",\n          \"MRD-1 pre\"\n        ],\n        \"semantic_type\": \"\",\n        \"description\": \"\"\n      }\n    },\n    {\n      \"column\": \"Importance\",\n      \"properties\": {\n        \"dtype\": \"number\",\n        \"std\": 0.2651516262947966,\n        \"min\": 0.17696502760679164,\n        \"max\": 0.6394804210126255,\n        \"num_unique_values\": 3,\n        \"samples\": [\n          0.6394804210126255,\n          0.18355455138058285,\n          0.17696502760679164\n        ],\n        \"semantic_type\": \"\",\n        \"description\": \"\"\n      }\n    }\n  ]\n}"
            }
          },
          "metadata": {},
          "execution_count": 70
        }
      ]
    },
    {
      "cell_type": "code",
      "source": [
        "import pandas as pd\n",
        "\n",
        "print(\"Missing values in X:\", pd.isnull(X).sum().sum())\n",
        "print(\"Missing values in y_delta_asg_0:\", pd.isnull(y_delta_asg_0).sum())\n",
        "print(\"Missing values in y_delta_asg_45:\", pd.isnull(y_delta_asg_45).sum())"
      ],
      "metadata": {
        "colab": {
          "base_uri": "https://localhost:8080/"
        },
        "id": "0zODE7PhwX1Z",
        "outputId": "cf1b3c92-9bb6-4bc1-9183-09e18e889f7d"
      },
      "execution_count": 32,
      "outputs": [
        {
          "output_type": "stream",
          "name": "stdout",
          "text": [
            "Missing values in X: 0\n",
            "Missing values in y_delta_asg_0: 0\n",
            "Missing values in y_delta_asg_45: 0\n"
          ]
        }
      ]
    },
    {
      "cell_type": "code",
      "source": [
        "# Feature importance from the Random Forest models\n",
        "importances_delta_asg_0 = rf_model_delta_asg_0.feature_importances_\n",
        "importances_delta_asg_45 = rf_model_delta_asg_45.feature_importances_\n",
        "\n",
        "# Create a DataFrame to display feature importance\n",
        "feature_importance_delta_asg_0 = pd.Series(importances_delta_asg_0, index=X.columns).sort_values(ascending=False)\n",
        "feature_importance_delta_asg_45 = pd.Series(importances_delta_asg_45, index=X.columns).sort_values(ascending=False)\n",
        "\n",
        "print(feature_importance_delta_asg_0)\n",
        "print(\"\")\n",
        "print(feature_importance_delta_asg_45)\n"
      ],
      "metadata": {
        "id": "oheoSDwQgpYN"
      },
      "execution_count": null,
      "outputs": []
    },
    {
      "cell_type": "code",
      "source": [
        "from sklearn.tree import export_graphviz\n",
        "import graphviz\n",
        "\n",
        "# Extract one tree from the Random Forest model for Δasg_45\n",
        "tree_example = rf_model_delta_asg_0.estimators_[0]\n",
        "\n",
        "# Export the tree in DOT format\n",
        "dot_data = export_graphviz(tree_example, out_file=None,\n",
        "                           feature_names=X.columns,\n",
        "                           filled=True, rounded=True,\n",
        "                           special_characters=True)\n",
        "\n",
        "# Generate a graph from DOT data\n",
        "graph = graphviz.Source(dot_data)\n",
        "graph"
      ],
      "metadata": {
        "id": "MaRhgHorhugH"
      },
      "execution_count": null,
      "outputs": []
    },
    {
      "cell_type": "code",
      "source": [
        "# Save the graph to a file\n",
        "graph_path = '/content/graph.dot'\n",
        "graph.render(graph_path)\n",
        "\n",
        "# Provide the path to the saved graph file\n",
        "graph_path + '.pdf'"
      ],
      "metadata": {
        "colab": {
          "base_uri": "https://localhost:8080/",
          "height": 35
        },
        "id": "CDS9c11jkJ3X",
        "outputId": "fcdf57f4-54c3-4127-ce2e-f381738f8454"
      },
      "execution_count": null,
      "outputs": [
        {
          "output_type": "execute_result",
          "data": {
            "text/plain": [
              "'/content/graph.dot.pdf'"
            ],
            "application/vnd.google.colaboratory.intrinsic+json": {
              "type": "string"
            }
          },
          "metadata": {},
          "execution_count": 212
        }
      ]
    },
    {
      "cell_type": "code",
      "source": [
        "from sklearn.tree import export_graphviz\n",
        "import graphviz\n",
        "\n",
        "# Extract one tree from the Random Forest model for Δasg_45\n",
        "tree_example = rf_model_delta_asg_45.estimators_[0]\n",
        "\n",
        "# Export the tree in DOT format\n",
        "dot_data = export_graphviz(tree_example, out_file=None,\n",
        "                           feature_names=X.columns,\n",
        "                           filled=True, rounded=True,\n",
        "                           special_characters=True)\n",
        "\n",
        "# Generate a graph from DOT data\n",
        "graph = graphviz.Source(dot_data)\n",
        "graph\n"
      ],
      "metadata": {
        "id": "Gt7dUKb5hRAg"
      },
      "execution_count": null,
      "outputs": []
    },
    {
      "cell_type": "code",
      "source": [
        "# MRD-1 preとMRD-1 3Mのプロット（Δasg-0で色分けあり）\n",
        "import matplotlib.pyplot as plt\n",
        "\n",
        "# Create a scatter plot\n",
        "plt.figure(figsize=(10, 6))\n",
        "scatter = plt.scatter(data['MRD-1 3M'], data['MRD-1 pre'], c=data['Δasg_0'], cmap='viridis')\n",
        "plt.colorbar(scatter, label='Δasg_0')\n",
        "\n",
        "plt.title('Scatter Plot of MRD-1 pre vs MRD-1 3M with Δasg_0 Color Coding')\n",
        "plt.xlabel('MRD-1 3M')\n",
        "plt.ylabel('MRD-1 pre')\n",
        "plt.grid(True)\n",
        "plt.show()\n"
      ],
      "metadata": {
        "id": "GegUf6ipx6NG"
      },
      "execution_count": null,
      "outputs": []
    },
    {
      "cell_type": "markdown",
      "source": [
        "##**Support vector machine**"
      ],
      "metadata": {
        "id": "e81wiqPiKbzQ"
      }
    },
    {
      "cell_type": "code",
      "source": [
        "import pandas as pd\n",
        "\n",
        "xlsx_path = \"/content/drive/MyDrive/研究/進行中の研究/眼瞼下垂手術による屈折変化/眼瞼下垂_proprocessed.xlsx\"\n",
        "\n",
        "data = pd.read_excel(xlsx_path, header=0)\n",
        "\n",
        "# Display the first few rows of the dataframe and its columns to understand its structure\n",
        "# data.head()"
      ],
      "metadata": {
        "id": "mn6axQj5mdAe"
      },
      "execution_count": null,
      "outputs": []
    },
    {
      "cell_type": "code",
      "source": [
        "from sklearn.svm import SVC\n",
        "from sklearn.model_selection import train_test_split\n",
        "from sklearn.metrics import classification_report, accuracy_score\n",
        "from sklearn.preprocessing import StandardScaler\n",
        "\n",
        "# Checking the presence of 'asg_0_pre' column or determining it\n",
        "if 'asg_0_pre' not in data.columns:\n",
        "    # Assuming 'asg_0_pre' could be related to Δasg_0 initial state; if not, user should clarify\n",
        "    data['asg_0_pre'] = data['Δasg_0'] - data[['Δasg_45', 'SIA_D', 'SIA_ax']].mean(axis=1)\n",
        "\n",
        "# 4分位で1分位〜3分位を削除\n",
        "# Define quartiles\n",
        "quartiles = data['asg_0_pre'].quantile([0.25, 0.75])\n",
        "\n",
        "# Categorizing data based on the 1st and 3rd quartiles\n",
        "data['target'] = (data['asg_0_pre'] > quartiles[0.75]).astype(int) | (data['asg_0_pre'] < quartiles[0.25]).astype(int)\n",
        "\n",
        "# Selecting the features and target\n",
        "features = data[['MRD-1 pre', 'MRD-1 3M']]\n",
        "target = data['target']\n",
        "\n",
        "# Splitting the dataset into training and testing sets\n",
        "X_train, X_test, y_train, y_test = train_test_split(features, target, test_size=0.2, random_state=42)\n",
        "\n",
        "# Scaling features\n",
        "scaler = StandardScaler()\n",
        "X_train_scaled = scaler.fit_transform(X_train)\n",
        "X_test_scaled = scaler.transform(X_test)\n",
        "\n",
        "# Training the SVM model\n",
        "svm_model = SVC(kernel='rbf', random_state=42)\n",
        "svm_model.fit(X_train_scaled, y_train)\n",
        "\n",
        "# Making predictions\n",
        "y_pred = svm_model.predict(X_test_scaled)\n",
        "\n",
        "# Evaluating the model\n",
        "accuracy = accuracy_score(y_test, y_pred)\n",
        "classification_rep = classification_report(y_test, y_pred)\n",
        "\n",
        "print(f\"accuracy: {accuracy}\")\n",
        "classification_rep\n"
      ],
      "metadata": {
        "colab": {
          "base_uri": "https://localhost:8080/",
          "height": 90
        },
        "id": "ispDvAFTKglm",
        "outputId": "bc92f9ce-8494-45b8-d946-df0268d0976b"
      },
      "execution_count": 79,
      "outputs": [
        {
          "output_type": "stream",
          "name": "stdout",
          "text": [
            "accuracy: 0.6052631578947368\n"
          ]
        },
        {
          "output_type": "execute_result",
          "data": {
            "text/plain": [
              "'              precision    recall  f1-score   support\\n\\n           0       0.61      0.58      0.59        19\\n           1       0.60      0.63      0.62        19\\n\\n    accuracy                           0.61        38\\n   macro avg       0.61      0.61      0.60        38\\nweighted avg       0.61      0.61      0.60        38\\n'"
            ],
            "application/vnd.google.colaboratory.intrinsic+json": {
              "type": "string"
            }
          },
          "metadata": {},
          "execution_count": 79
        }
      ]
    },
    {
      "cell_type": "code",
      "source": [
        "from sklearn.svm import SVC\n",
        "from sklearn.model_selection import train_test_split\n",
        "from sklearn.metrics import classification_report, accuracy_score\n",
        "from sklearn.preprocessing import StandardScaler\n",
        "import numpy as np\n",
        "import matplotlib.pyplot as plt\n",
        "import seaborn as sns\n",
        "from scipy.stats import gaussian_kde\n",
        "\n",
        "# Data preprocessing and setting up the target variable\n",
        "if 'asg_0_pre' not in data.columns:\n",
        "    data['asg_0_pre'] = data['Δasg_0'] - data[['Δasg_45', 'SIA_D', 'SIA_ax']].mean(axis=1)\n",
        "quartiles = data['asg_0_pre'].quantile([0.25, 0.75])\n",
        "data['target'] = (data['asg_0_pre'] > quartiles[0.75]).astype(int) | (data['asg_0_pre'] < quartiles[0.25]).astype(int)\n",
        "\n",
        "# Feature selection and data splitting\n",
        "features = data[['MRD-1 pre', 'MRD-1 3M']]\n",
        "target = data['target']\n",
        "X_train, X_test, y_train, y_test = train_test_split(features, target, test_size=0.2, random_state=42)\n",
        "\n",
        "# Feature scaling\n",
        "scaler = StandardScaler()\n",
        "X_train_scaled = scaler.fit_transform(X_train)\n",
        "X_test_scaled = scaler.transform(X_test)\n",
        "\n",
        "# SVM model training\n",
        "svm_model = SVC(kernel='rbf', random_state=42)\n",
        "svm_model.fit(X_train_scaled, y_train)\n",
        "\n",
        "# Prediction and evaluation\n",
        "y_pred = svm_model.predict(X_test_scaled)\n",
        "accuracy = accuracy_score(y_test, y_pred)\n",
        "classification_rep = classification_report(y_test, y_pred)\n",
        "\n",
        "# Plotting\n",
        "data_array = np.vstack([X_train['MRD-1 pre'], X_train['MRD-1 3M']])\n",
        "density = gaussian_kde(data_array)(data_array)\n",
        "sizes = (density / density.max()) * 80 + 20\n",
        "xx, yy = np.meshgrid(np.linspace(X_train['MRD-1 pre'].min(), X_train['MRD-1 pre'].max(), 500),\n",
        "                     np.linspace(0, 7, 500))  # Fixed range for MRD-1 3M\n",
        "Z = svm_model.predict(scaler.transform(np.c_[xx.ravel(), yy.ravel()])).reshape(xx.shape)\n",
        "plt.figure(figsize=(10, 8))\n",
        "plt.contourf(xx, yy, Z, alpha=0.4, cmap=plt.cm.coolwarm)\n",
        "scatter = sns.scatterplot(x=X_train['MRD-1 pre'], y=X_train['MRD-1 3M'], hue=y_train,\n",
        "                          style=y_train, markers=['o', 'X'], size=sizes, sizes=(20, 100),\n",
        "                          alpha=0.9, edgecolor='k', palette={0: 'blue', 1: 'red'})\n",
        "plt.xlabel('MRD-1 Pre')\n",
        "plt.ylabel('MRD-1 3M')\n",
        "plt.title('SVM Decision Boundary with Original MRD-1 Pre vs MRD-1 3M')\n",
        "plt.legend(title='Class', labels=['0 (Circle)', '1 (Cross)'])\n",
        "plt.ylim(0, 7)  # Setting the y-axis limit\n",
        "plt.show()\n"
      ],
      "metadata": {
        "id": "JcBSGMGHK1Ya"
      },
      "execution_count": null,
      "outputs": []
    },
    {
      "cell_type": "code",
      "source": [],
      "metadata": {
        "id": "Ry7LFc2I82MB"
      },
      "execution_count": null,
      "outputs": []
    },
    {
      "cell_type": "code",
      "source": [
        "# Attempt to assign labels without using None in pd.cut by only using post-processing to remove unwanted rows\n",
        "\n",
        "quantiles = data['asg_0_pre'].quantile([0.25, 0.75])\n",
        "\n",
        "# Create initial labels\n",
        "data['label'] = pd.cut(data['asg_0_pre'], bins=[-float('inf'), quantiles[0.25], quantiles[0.75], float('inf')], labels=[0, 1, 2], right=False)\n",
        "\n",
        "# Drop rows where 'label' is 1 (values between 1st and 3rd quartile)\n",
        "filtered_data = data[data['label'] != 1]\n",
        "\n",
        "# Convert labels 2 to 1 for clarity (since label 1 was temporarily used for the middle range)\n",
        "filtered_data['label'].replace({2: 1}, inplace=True)\n",
        "\n",
        "# Show the resulting dataset head and the count of each label\n",
        "filtered_data.head(), filtered_data['label'].value_counts()\n"
      ],
      "metadata": {
        "id": "lxtQNuZB82N9"
      },
      "execution_count": null,
      "outputs": []
    },
    {
      "cell_type": "code",
      "source": [
        "from sklearn.model_selection import train_test_split\n",
        "from sklearn.svm import SVC\n",
        "from sklearn.metrics import classification_report, accuracy_score\n",
        "\n",
        "# Preparing the data for SVM analysis\n",
        "X = filtered_data[['MRD-1 pre', 'MRD-1 3M']]  # Predictor variables\n",
        "y = filtered_data['label'].astype(int)  # Target variable, converted to integer\n",
        "\n",
        "# Splitting data into training and testing sets\n",
        "X_train, X_test, y_train, y_test = train_test_split(X, y, test_size=0.2, random_state=42)\n",
        "\n",
        "# Initializing the Support Vector Machine classifier\n",
        "svm_model = SVC(kernel='linear')\n",
        "\n",
        "# Fitting the model\n",
        "svm_model.fit(X_train, y_train)\n",
        "\n",
        "# Predicting the test set results\n",
        "y_pred = svm_model.predict(X_test)\n",
        "\n",
        "# Evaluating the model\n",
        "accuracy = accuracy_score(y_test, y_pred)\n",
        "report = classification_report(y_test, y_pred)\n",
        "\n",
        "accuracy, report\n"
      ],
      "metadata": {
        "id": "gyj8HZ_i9B6k",
        "outputId": "206c9dac-cff1-4402-ea3a-954d40edd90b",
        "colab": {
          "base_uri": "https://localhost:8080/"
        }
      },
      "execution_count": 90,
      "outputs": [
        {
          "output_type": "execute_result",
          "data": {
            "text/plain": [
              "(0.8421052631578947,\n",
              " '              precision    recall  f1-score   support\\n\\n           0       0.78      0.88      0.82         8\\n           1       0.90      0.82      0.86        11\\n\\n    accuracy                           0.84        19\\n   macro avg       0.84      0.85      0.84        19\\nweighted avg       0.85      0.84      0.84        19\\n')"
            ]
          },
          "metadata": {},
          "execution_count": 90
        }
      ]
    },
    {
      "cell_type": "code",
      "source": [
        "import pandas as pd\n",
        "import numpy as np\n",
        "import matplotlib.pyplot as plt\n",
        "from sklearn.model_selection import train_test_split\n",
        "from sklearn.svm import SVC\n",
        "from sklearn.metrics import classification_report, accuracy_score\n",
        "\n",
        "# 前処理\n",
        "quantiles = data['asg_0_pre'].quantile([0.25, 0.75])\n",
        "data['label'] = pd.cut(data['asg_0_pre'], bins=[-float('inf'), quantiles[0.25], quantiles[0.75], float('inf')],\n",
        "                       labels=[0, 1, 2], right=False)\n",
        "filtered_data = data[data['label'] != 1]\n",
        "filtered_data['label'].replace({2: 1}, inplace=True)\n",
        "\n",
        "# データポイントの密度を計算\n",
        "point_sizes = filtered_data.groupby(['MRD-1 pre', 'MRD-1 3M']).size().reset_index(name='count')\n",
        "filtered_data = filtered_data.merge(point_sizes, on=['MRD-1 pre', 'MRD-1 3M'])\n",
        "\n",
        "# SVMの設定\n",
        "X = filtered_data[['MRD-1 pre', 'MRD-1 3M']]\n",
        "y = filtered_data['label'].astype(int)\n",
        "X_train, X_test, y_train, y_test = train_test_split(X, y, test_size=0.2, random_state=42)\n",
        "svm_model = SVC(kernel='linear')\n",
        "svm_model.fit(X_train, y_train)\n",
        "\n",
        "# メッシュグリッドの生成と決定境界の予測\n",
        "x_min, x_max = X['MRD-1 pre'].min() - 1, X['MRD-1 pre'].max() + 1\n",
        "y_min, y_max = X['MRD-1 3M'].min() - 1, X['MRD-1 3M'].max() + 1\n",
        "xx, yy = np.meshgrid(np.arange(x_min, x_max, 0.02), np.arange(y_min, y_max, 0.02))\n",
        "Z = svm_model.predict(np.c_[xx.ravel(), yy.ravel()])\n",
        "Z = Z.reshape(xx.shape)\n",
        "\n",
        "# プロット\n",
        "plt.figure(figsize=(8, 6))\n",
        "plt.contourf(xx, yy, Z, cmap=plt.cm.coolwarm, alpha=0.3)  # 決定境界\n",
        "class0 = filtered_data[filtered_data['label'] == 0]\n",
        "class1 = filtered_data[filtered_data['label'] == 1]\n",
        "plt.scatter(class0['MRD-1 pre'], class0['MRD-1 3M'], s=class0['count']*10, c='blue', marker='o', edgecolors='k', label='Class 0')\n",
        "plt.scatter(class1['MRD-1 pre'], class1['MRD-1 3M'], s=class1['count']*10, c='red', marker='x', edgecolors='k', label='Class 1')\n",
        "plt.xlabel('MRD-1 pre')\n",
        "plt.ylabel('MRD-1 3M')\n",
        "plt.title('SVM Decision Boundary with Markers Indicating Class and Density')\n",
        "plt.legend()\n",
        "plt.show()\n"
      ],
      "metadata": {
        "id": "5r4knRqk9_iL",
        "outputId": "98a0f065-946c-4eb9-e7cc-dd8077d59b2d",
        "colab": {
          "base_uri": "https://localhost:8080/",
          "height": 749
        }
      },
      "execution_count": 95,
      "outputs": [
        {
          "output_type": "stream",
          "name": "stderr",
          "text": [
            "<ipython-input-95-f00fc1a4ba26>:13: SettingWithCopyWarning: \n",
            "A value is trying to be set on a copy of a slice from a DataFrame\n",
            "\n",
            "See the caveats in the documentation: https://pandas.pydata.org/pandas-docs/stable/user_guide/indexing.html#returning-a-view-versus-a-copy\n",
            "  filtered_data['label'].replace({2: 1}, inplace=True)\n",
            "/usr/local/lib/python3.10/dist-packages/sklearn/base.py:439: UserWarning: X does not have valid feature names, but SVC was fitted with feature names\n",
            "  warnings.warn(\n",
            "<ipython-input-95-f00fc1a4ba26>:39: UserWarning: You passed a edgecolor/edgecolors ('k') for an unfilled marker ('x').  Matplotlib is ignoring the edgecolor in favor of the facecolor.  This behavior may change in the future.\n",
            "  plt.scatter(class1['MRD-1 pre'], class1['MRD-1 3M'], s=class1['count']*10, c='red', marker='x', edgecolors='k', label='Class 1')\n"
          ]
        },
        {
          "output_type": "display_data",
          "data": {
            "text/plain": [
              "<Figure size 800x600 with 1 Axes>"
            ],
            "image/png": "[encoded data removed]"
          },
          "metadata": {}
        }
      ]
    },
    {
      "cell_type": "code",
      "source": [],
      "metadata": {
        "id": "H7VxdSSPAbep"
      },
      "execution_count": null,
      "outputs": []
    }
  ]
}