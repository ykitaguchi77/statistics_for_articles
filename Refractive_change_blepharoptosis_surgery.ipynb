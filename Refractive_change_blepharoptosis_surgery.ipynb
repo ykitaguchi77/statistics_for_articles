{
  "nbformat": 4,
  "nbformat_minor": 0,
  "metadata": {
    "colab": {
      "provenance": [],
      "authorship_tag": "ABX9TyNLHEIld9wVZI43V+ziC0wj",
      "include_colab_link": true
    },
    "kernelspec": {
      "name": "python3",
      "display_name": "Python 3"
    },
    "language_info": {
      "name": "python"
    }
  },
  "cells": [
    {
      "cell_type": "markdown",
      "metadata": {
        "id": "view-in-github",
        "colab_type": "text"
      },
      "source": [
        "<a href=\"https://colab.research.google.com/github/ykitaguchi77/statistics_for_articles/blob/main/Refractive_change_blepharoptosis_surgery.ipynb\" target=\"_parent\"><img src=\"https://colab.research.google.com/assets/colab-badge.svg\" alt=\"Open In Colab\"/></a>"
      ]
    },
    {
      "cell_type": "markdown",
      "source": [
        "#**Refractive change in blepharoptosis surgery**"
      ],
      "metadata": {
        "id": "OqObWQc1_T1U"
      }
    },
    {
      "cell_type": "code",
      "execution_count": 70,
      "metadata": {
        "colab": {
          "base_uri": "https://localhost:8080/"
        },
        "id": "Yup3T2Lay4gD",
        "outputId": "f7d57ce1-9db6-47cf-a9f2-56374326aa62"
      },
      "outputs": [
        {
          "output_type": "stream",
          "name": "stdout",
          "text": [
            "Drive already mounted at /content/drive; to attempt to forcibly remount, call drive.mount(\"/content/drive\", force_remount=True).\n"
          ]
        }
      ],
      "source": [
        "from google.colab import drive\n",
        "drive.mount(\"/content/drive\")"
      ]
    },
    {
      "cell_type": "code",
      "source": [
        "import pandas as pd\n",
        "pd.set_option('display.max_columns', 300)\n",
        "pd.set_option('display.max_rows', 300)"
      ],
      "metadata": {
        "id": "9nC8Dlyz7RBz"
      },
      "execution_count": 97,
      "outputs": []
    },
    {
      "cell_type": "code",
      "source": [
        "import pandas as pd\n",
        "\n",
        "xlsx_path = \"/content/drive/MyDrive/研究/進行中の研究/眼瞼下垂手術による屈折変化/眼瞼下垂.xlsx\"\n",
        "\n",
        "data = pd.read_excel(xlsx_path, header=1)\n",
        "\n",
        "# Display the first few rows of the dataframe and its columns to understand its structure\n",
        "data"
      ],
      "metadata": {
        "id": "nVb210bozJ73",
        "collapsed": true
      },
      "execution_count": null,
      "outputs": []
    },
    {
      "cell_type": "code",
      "source": [
        "# Step 1: Filter rows where surgery is bilateral (手術側 == 'B')\n",
        "bilateral_cases = data[data['手術側'] == 'B'].copy()\n",
        "unilateral_cases = data[data['手術側'] != 'B'].copy()\n",
        "unilateral_right_cases = data[data['手術側'] == 'R'].copy()\n",
        "unilateral_left_cases = data[data['手術側'] == 'L'].copy()\n",
        "print(f\"Number of bilateral cases: {len(bilateral_cases)}\")\n",
        "print(f\"Number of unilateral cases: {len(unilateral_cases)}\")\n",
        "\n",
        "# Step 2: Duplicate these rows for 'R' and 'L'\n",
        "bilateral_right_cases = bilateral_cases.copy()\n",
        "bilateral_left_cases = bilateral_cases.copy()\n",
        "\n",
        "# Assign 'R' and 'L' to the new surgery side columns\n",
        "bilateral_right_cases.loc[:, '手術側'] = 'R'\n",
        "bilateral_left_cases.loc[:, '手術側'] = 'L'\n",
        "\n",
        "# Step 3: Concatenate the modified bilateral and unilateral cases\n",
        "right_cases = pd.concat([bilateral_right_cases, unilateral_right_cases])\n",
        "left_cases = pd.concat([bilateral_left_cases, unilateral_left_cases])\n",
        "\n",
        "# Step 3: Rename and reallocate columns containing 'R' or 'L' for bilateral cases\n",
        "for column in right_cases.columns:\n",
        "    if ' R' in column:\n",
        "        # Extract the base column name without ' R'\n",
        "        new_column_name = column.replace(' R', '')\n",
        "        # Copy data to a new column without side specification\n",
        "        right_cases.loc[:, new_column_name] = right_cases[column]\n",
        "        # Drop the original ' R' column\n",
        "        right_cases.drop(column, axis=1, inplace=True)\n",
        "    elif ' L' in column:\n",
        "        # # Extract the base column name without ' L'\n",
        "        # new_column_name = column.replace(' L', '')\n",
        "        # # Copy data to a new column without side specification\n",
        "        # right_cases.loc[:, new_column_name] = right_cases[column]\n",
        "        # Drop the original ' L' column\n",
        "        right_cases.drop(column, axis=1, inplace=True)\n",
        "\n",
        "for column in left_cases.columns:\n",
        "    if ' R' in column:\n",
        "        # # Extract the base column name without ' R'\n",
        "        # new_column_name = column.replace(' R', '')\n",
        "        # # Copy data to a new column without side specification\n",
        "        # left_cases.loc[:, new_column_name] = left_cases[column]\n",
        "        # # Drop the original ' R' column\n",
        "        left_cases.drop(column, axis=1, inplace=True)\n",
        "    elif ' L' in column:\n",
        "        # Extract the base column name without ' L'\n",
        "        new_column_name = column.replace(' L', '')\n",
        "        # Copy data to a new column without side specification\n",
        "        left_cases.loc[:, new_column_name] = left_cases[column]\n",
        "        # Drop the original ' L' column\n",
        "        left_cases.drop(column, axis=1, inplace=True)\n",
        "\n",
        "# Combine the duplicated rows back into a single dataframe\n",
        "final_df = pd.concat([right_cases, left_cases])\n",
        "final_df = final_df.sort_values(by='ID').reset_index(drop=True)\n",
        "# ソート後のデータフレームを表示して確認\n",
        "#final_df\n",
        "\n",
        "#final_df.to_excel('output.xlsx', index=False)\n"
      ],
      "metadata": {
        "id": "knMc1iJR6Ciu"
      },
      "execution_count": null,
      "outputs": []
    },
    {
      "cell_type": "code",
      "source": [
        "try:\n",
        "    # Copy values from '波面4M' and '波面post' to '波面3M'\n",
        "    final_df['波面3M'] = final_df[['波面3M', '波面4M', '波面post']].bfill(axis=1).iloc[:, 0]\n",
        "\n",
        "    # Drop the columns '波面4M' and '波面post'\n",
        "    final_df.drop(columns=['波面4M', '波面post'], inplace=True)\n",
        "    print(\"波面3M updated!\")\n",
        "except:\n",
        "    pass\n",
        "\n",
        "try:\n",
        "    # Copy values from '波面4M' and '波面post' to '波面3M'\n",
        "    final_df['AveK 3M'] = final_df[['AveK 3M', 'AveK post']].bfill(axis=1).iloc[:, 0]\n",
        "\n",
        "    # Drop the columns '波面4M' and '波面post'\n",
        "    final_df.drop(columns=['AveK post'], inplace=True)\n",
        "    print(\"AveK 3M updated!\")\n",
        "except:\n",
        "    pass\n",
        "\n",
        "try:\n",
        "    # Copy values from '波面4M' and '波面post' to '波面3M'\n",
        "    final_df['CYL 3M'] = final_df[['CYL 3M', 'CYL post']].bfill(axis=1).iloc[:, 0]\n",
        "\n",
        "    # Drop the columns '波面4M' and '波面post'\n",
        "    final_df.drop(columns=['CYL post'], inplace=True)\n",
        "    print(\"CYL 3M updated!\")\n",
        "except:\n",
        "    pass\n",
        "\n",
        "try:\n",
        "    # Copy values from '波面4M' and '波面post' to '波面3M'\n",
        "    final_df['angle 3M'] = final_df[['angle 3M', 'angle post']].bfill(axis=1).iloc[:, 0]\n",
        "\n",
        "    # Drop the columns '波面4M' and '波面post'\n",
        "    final_df.drop(columns=['angle post'], inplace=True)\n",
        "    print(\"angle 3M updated!\")\n",
        "except:\n",
        "    pass\n",
        "\n",
        "try:\n",
        "    # Copy values from '波面4M' and '波面post' to '波面3M'\n",
        "    final_df['angle 3M'] = final_df[['angle 3M', 'angle post']].bfill(axis=1).iloc[:, 0]\n",
        "\n",
        "    # Drop the columns '波面4M' and '波面post'\n",
        "    final_df.drop(columns=['angle post'], inplace=True)\n",
        "    print(\"angle 3M updated!\")\n",
        "except:\n",
        "    pass\n",
        "\n",
        "try:\n",
        "    # Copy values from '波面4M' and '波面post' to '波面3M'\n",
        "    final_df['angle 3M'] = final_df[['angle 3M', 'angle post']].bfill(axis=1).iloc[:, 0]\n",
        "\n",
        "    # Drop the columns '波面4M' and '波面post'\n",
        "    final_df.drop(columns=['angle post'], inplace=True)\n",
        "    print(\"angle 3M updated!\")\n",
        "except:\n",
        "    pass\n",
        "\n",
        "try:\n",
        "    # Copy values from '波面4M' and '波面post' to '波面3M'\n",
        "    final_df['angle 3M'] = final_df[['angle 3M', 'angle post']].bfill(axis=1).iloc[:, 0]\n",
        "\n",
        "    # Drop the columns '波面4M' and '波面post'\n",
        "    final_df.drop(columns=['angle post'], inplace=True)\n",
        "    print(\"angle 3M updated!\")\n",
        "except:\n",
        "    pass\n"
      ],
      "metadata": {
        "id": "lgJLhag6ELZw"
      },
      "execution_count": null,
      "outputs": []
    },
    {
      "cell_type": "code",
      "source": [
        "# レフケラの欠損値を削除：Drop rows with missing values only in specified columns\n",
        "specified_columns = ['AveK pre', 'AveK 3M', 'CYL pre', 'CYL 3M', 'angle pre', 'angle 3M', 'MRD-1 pre', 'MRD-1 3M']\n",
        "final_df = final_df.dropna(subset=specified_columns).reset_index(drop=True)\n",
        "\n",
        "# SPKの有無を数字に置換\n",
        "final_df[\"SPK pre\"] = final_df[\"SPK pre\"].replace({\"あり\": 1, \"なし\": 0})\n",
        "final_df[\"SPK post\"] = final_df[\"SPK post\"].replace({\"あり\": 1, \"なし\": 0})\n",
        "# 57行目の\"MRD-1 pre\"列の値を0.5に置換\n",
        "final_df.at[57, \"MRD-1 pre\"] = 0.5\n",
        "\n",
        "# 挙筋機能\"good\"のカラムを10に置換\n",
        "final_df[\"挙筋機能 pre\"] = final_df[\"挙筋機能 pre\"].replace(\"good\", 10)\n",
        "\n",
        "# \"MRD-1 3M\"列と\"挙筋機能 pre\"列をfloat型に変換\n",
        "final_df[\"MRD-1 pre\"] = final_df[\"MRD-1 pre\"].astype(float)\n",
        "final_df[\"MRD-1 3M\"] = final_df[\"MRD-1 3M\"].astype(float)\n",
        "final_df[\"挙筋機能 pre\"] = final_df[\"挙筋機能 pre\"].astype(float)\n",
        "\n",
        "final_df[\"sex\"] = final_df[\"sex\"].replace({\"M\": 1, \"F\": 0})\n",
        "final_df[\"手術側\"] = final_df[\"手術側\"].replace({\"L\": 1, \"R\": 0})\n",
        "\n",
        "final_df"
      ],
      "metadata": {
        "id": "Fb8lFR0bz-vy"
      },
      "execution_count": null,
      "outputs": []
    },
    {
      "cell_type": "code",
      "source": [
        "final_df.to_excel('output.xlsx', index=False)\n"
      ],
      "metadata": {
        "id": "qc9S9nxE3N49"
      },
      "execution_count": 123,
      "outputs": []
    },
    {
      "cell_type": "code",
      "source": [],
      "metadata": {
        "id": "8qITWJ6y4Ox8"
      },
      "execution_count": null,
      "outputs": []
    },
    {
      "cell_type": "markdown",
      "source": [
        "# **Preprocessed_dataを用いて解析**"
      ],
      "metadata": {
        "id": "lns4IjGOVq77"
      }
    },
    {
      "cell_type": "code",
      "source": [
        "from google.colab import drive\n",
        "drive.mount(\"/content/drive\")"
      ],
      "metadata": {
        "colab": {
          "base_uri": "https://localhost:8080/"
        },
        "id": "9J5sUBakWORy",
        "outputId": "b5d75499-7366-4a27-b732-6fbaf4e9310e"
      },
      "execution_count": 124,
      "outputs": [
        {
          "output_type": "stream",
          "name": "stdout",
          "text": [
            "Drive already mounted at /content/drive; to attempt to forcibly remount, call drive.mount(\"/content/drive\", force_remount=True).\n"
          ]
        }
      ]
    },
    {
      "cell_type": "code",
      "source": [
        "import pandas as pd\n",
        "pd.set_option('display.max_columns', 300)\n",
        "pd.set_option('display.max_rows', 300)"
      ],
      "metadata": {
        "id": "C-JwDuMtWLWr"
      },
      "execution_count": 125,
      "outputs": []
    },
    {
      "cell_type": "code",
      "source": [
        "import pandas as pd\n",
        "\n",
        "xlsx_path = \"/content/drive/MyDrive/研究/進行中の研究/眼瞼下垂手術による屈折変化/眼瞼下垂_proprocessed.xlsx\"\n",
        "\n",
        "data = pd.read_excel(xlsx_path, header=0)\n",
        "\n",
        "# Display the first few rows of the dataframe and its columns to understand its structure\n",
        "data.head()"
      ],
      "metadata": {
        "id": "12LgQoOAWQqi"
      },
      "execution_count": null,
      "outputs": []
    },
    {
      "cell_type": "markdown",
      "source": [
        "##**Linear regression analysis**"
      ],
      "metadata": {
        "id": "tpw9-FE4e8JT"
      }
    },
    {
      "cell_type": "code",
      "source": [
        "from sklearn.linear_model import LinearRegression\n",
        "import numpy as np\n",
        "\n",
        "# Prepare the dataset for linear regression analysis\n",
        "features = data[['age', 'sex', '手術側', 'asg_0_pre', 'asg_45_pre', 'MRD-1 pre', 'MRD-1 3M', '挙筋機能 pre']].dropna()\n",
        "target_delta_asg_0 = data.loc[features.index, 'Δasg_0']\n",
        "target_delta_asg_45 = data.loc[features.index, 'Δasg_45']\n",
        "\n",
        "# Initialize and fit the linear regression model for Δasg_0\n",
        "model_delta_asg_0 = LinearRegression()\n",
        "model_delta_asg_0.fit(features, target_delta_asg_0)\n",
        "coefficients_delta_asg_0 = model_delta_asg_0.coef_\n",
        "intercept_delta_asg_0 = model_delta_asg_0.intercept_\n",
        "\n",
        "# Initialize and fit the linear regression model for Δasg_45\n",
        "model_delta_asg_45 = LinearRegression()\n",
        "model_delta_asg_45.fit(features, target_delta_asg_45)\n",
        "coefficients_delta_asg_45 = model_delta_asg_45.coef_\n",
        "intercept_delta_asg_45 = model_delta_asg_45.intercept_\n",
        "\n",
        "# Show the results\n",
        "coefficients_delta_asg_0, intercept_delta_asg_0, coefficients_delta_asg_45, intercept_delta_asg_45\n"
      ],
      "metadata": {
        "colab": {
          "base_uri": "https://localhost:8080/"
        },
        "id": "fsQN9jsYaHMR",
        "outputId": "ee35f99d-0968-4672-fc44-f429d2b148da"
      },
      "execution_count": 136,
      "outputs": [
        {
          "output_type": "execute_result",
          "data": {
            "text/plain": [
              "(array([-0.00605295,  0.05506462,  0.05506462, -0.24292907,  0.09596302,\n",
              "         0.03280512, -0.03908263, -0.02501298]),\n",
              " 0.9478341482471457,\n",
              " array([-0.00177763, -0.0694717 , -0.0694717 ,  0.04678612, -0.47774628,\n",
              "        -0.05091311, -0.0148833 , -0.00805819]),\n",
              " 0.3029214671833334)"
            ]
          },
          "metadata": {},
          "execution_count": 136
        }
      ]
    },
    {
      "cell_type": "code",
      "source": [
        "from sklearn.feature_selection import f_regression\n",
        "\n",
        "# Calculate p-values for both models\n",
        "p_values_delta_asg_0 = f_regression(features, target_delta_asg_0)[1]\n",
        "p_values_delta_asg_45 = f_regression(features, target_delta_asg_45)[1]\n",
        "\n",
        "p_values_delta_asg_0, p_values_delta_asg_45\n"
      ],
      "metadata": {
        "colab": {
          "base_uri": "https://localhost:8080/"
        },
        "id": "tUpqrhRReGnt",
        "outputId": "9f053328-c5ff-4f8e-8bc2-f0698c6ea10e"
      },
      "execution_count": 138,
      "outputs": [
        {
          "output_type": "execute_result",
          "data": {
            "text/plain": [
              "(array([7.96460806e-02, 4.67203463e-01, 4.67203463e-01, 5.83804838e-08,\n",
              "        6.85150742e-01, 4.66708849e-01, 9.97209203e-01, 1.21682678e-01]),\n",
              " array([5.61570861e-01, 8.43617019e-01, 8.43617019e-01, 9.95111437e-01,\n",
              "        1.48893741e-12, 2.65766276e-01, 9.19529483e-01, 5.19321704e-01]))"
            ]
          },
          "metadata": {},
          "execution_count": 138
        }
      ]
    },
    {
      "cell_type": "code",
      "source": [
        "import pandas as pd\n",
        "\n",
        "# Creating a DataFrame to display coefficients and p-values for Δasg_0 and Δasg_45\n",
        "\n",
        "# Coefficients and intercepts\n",
        "coeffs_delta_asg_0 = pd.Series(coefficients_delta_asg_0, index=features.columns, name='Coefficients Δasg_0')\n",
        "coeffs_delta_asg_45 = pd.Series(coefficients_delta_asg_45, index=features.columns, name='Coefficients Δasg_45')\n",
        "intercept_delta_asg_0 = pd.Series([intercept_delta_asg_0], index=['Intercept'], name='Coefficients Δasg_0')\n",
        "intercept_delta_asg_45 = pd.Series([intercept_delta_asg_45], index=['Intercept'], name='Coefficients Δasg_45')\n",
        "\n",
        "# p-values\n",
        "p_values_delta_asg_0 = pd.Series(p_values_delta_asg_0, index=features.columns, name='p-values Δasg_0')\n",
        "p_values_delta_asg_45 = pd.Series(p_values_delta_asg_45, index=features.columns, name='p-values Δasg_45')\n",
        "\n",
        "# Combine all data into one DataFrame for each target\n",
        "results_delta_asg_0 = pd.concat([intercept_delta_asg_0, coeffs_delta_asg_0, p_values_delta_asg_0], axis=1)\n",
        "results_delta_asg_45 = pd.concat([intercept_delta_asg_45, coeffs_delta_asg_45, p_values_delta_asg_45], axis=1)\n",
        "\n",
        "# Combine results into one DataFrame for easy display\n",
        "results = pd.concat([results_delta_asg_0, results_delta_asg_45], axis=1)\n",
        "results\n"
      ],
      "metadata": {
        "id": "tbjHAtmgd9Ra"
      },
      "execution_count": null,
      "outputs": []
    },
    {
      "cell_type": "code",
      "source": [
        "# Formatting the DataFrame to display p-values with decimal points\n",
        "results_formatted = results.copy()\n",
        "\n",
        "# Formatting p-values for better readability\n",
        "results_formatted['p-values Δasg_0'] = results['p-values Δasg_0'].map('{:.4f}'.format)\n",
        "results_formatted['p-values Δasg_45'] = results['p-values Δasg_45'].map('{:.4f}'.format)\n",
        "\n",
        "results_formatted\n"
      ],
      "metadata": {
        "colab": {
          "base_uri": "https://localhost:8080/",
          "height": 384
        },
        "id": "Po1dcqFzecKS",
        "outputId": "6e75a1bf-c1f0-4e5c-ac74-64d6072cfaf4"
      },
      "execution_count": 140,
      "outputs": [
        {
          "output_type": "execute_result",
          "data": {
            "text/plain": [
              "                                          Coefficients Δasg_0  \\\n",
              "Intercept   Intercept    0.947834\n",
              "Name: Coefficients Δasg_...   \n",
              "age                                                       NaN   \n",
              "sex                                                       NaN   \n",
              "手術側                                                       NaN   \n",
              "asg_0_pre                                                 NaN   \n",
              "asg_45_pre                                                NaN   \n",
              "MRD-1 pre                                                 NaN   \n",
              "MRD-1 3M                                                  NaN   \n",
              "挙筋機能 pre                                                  NaN   \n",
              "\n",
              "            Coefficients Δasg_0 p-values Δasg_0  \\\n",
              "Intercept                   NaN             nan   \n",
              "age                   -0.006053          0.0796   \n",
              "sex                    0.055065          0.4672   \n",
              "手術側                    0.055065          0.4672   \n",
              "asg_0_pre             -0.242929          0.0000   \n",
              "asg_45_pre             0.095963          0.6852   \n",
              "MRD-1 pre              0.032805          0.4667   \n",
              "MRD-1 3M              -0.039083          0.9972   \n",
              "挙筋機能 pre              -0.025013          0.1217   \n",
              "\n",
              "                                         Coefficients Δasg_45  \\\n",
              "Intercept   Intercept    0.302921\n",
              "Name: Coefficients Δasg_...   \n",
              "age                                                       NaN   \n",
              "sex                                                       NaN   \n",
              "手術側                                                       NaN   \n",
              "asg_0_pre                                                 NaN   \n",
              "asg_45_pre                                                NaN   \n",
              "MRD-1 pre                                                 NaN   \n",
              "MRD-1 3M                                                  NaN   \n",
              "挙筋機能 pre                                                  NaN   \n",
              "\n",
              "            Coefficients Δasg_45 p-values Δasg_45  \n",
              "Intercept                    NaN              nan  \n",
              "age                    -0.001778           0.5616  \n",
              "sex                    -0.069472           0.8436  \n",
              "手術側                    -0.069472           0.8436  \n",
              "asg_0_pre               0.046786           0.9951  \n",
              "asg_45_pre             -0.477746           0.0000  \n",
              "MRD-1 pre              -0.050913           0.2658  \n",
              "MRD-1 3M               -0.014883           0.9195  \n",
              "挙筋機能 pre               -0.008058           0.5193  "
            ],
            "text/html": [
              "\n",
              "  <div id=\"df-2d249893-74dd-4856-92e1-e109c7088fb7\" class=\"colab-df-container\">\n",
              "    <div>\n",
              "<style scoped>\n",
              "    .dataframe tbody tr th:only-of-type {\n",
              "        vertical-align: middle;\n",
              "    }\n",
              "\n",
              "    .dataframe tbody tr th {\n",
              "        vertical-align: top;\n",
              "    }\n",
              "\n",
              "    .dataframe thead th {\n",
              "        text-align: right;\n",
              "    }\n",
              "</style>\n",
              "<table border=\"1\" class=\"dataframe\">\n",
              "  <thead>\n",
              "    <tr style=\"text-align: right;\">\n",
              "      <th></th>\n",
              "      <th>Coefficients Δasg_0</th>\n",
              "      <th>Coefficients Δasg_0</th>\n",
              "      <th>p-values Δasg_0</th>\n",
              "      <th>Coefficients Δasg_45</th>\n",
              "      <th>Coefficients Δasg_45</th>\n",
              "      <th>p-values Δasg_45</th>\n",
              "    </tr>\n",
              "  </thead>\n",
              "  <tbody>\n",
              "    <tr>\n",
              "      <th>Intercept</th>\n",
              "      <td>Intercept    0.947834\n",
              "Name: Coefficients Δasg_...</td>\n",
              "      <td>NaN</td>\n",
              "      <td>nan</td>\n",
              "      <td>Intercept    0.302921\n",
              "Name: Coefficients Δasg_...</td>\n",
              "      <td>NaN</td>\n",
              "      <td>nan</td>\n",
              "    </tr>\n",
              "    <tr>\n",
              "      <th>age</th>\n",
              "      <td>NaN</td>\n",
              "      <td>-0.006053</td>\n",
              "      <td>0.0796</td>\n",
              "      <td>NaN</td>\n",
              "      <td>-0.001778</td>\n",
              "      <td>0.5616</td>\n",
              "    </tr>\n",
              "    <tr>\n",
              "      <th>sex</th>\n",
              "      <td>NaN</td>\n",
              "      <td>0.055065</td>\n",
              "      <td>0.4672</td>\n",
              "      <td>NaN</td>\n",
              "      <td>-0.069472</td>\n",
              "      <td>0.8436</td>\n",
              "    </tr>\n",
              "    <tr>\n",
              "      <th>手術側</th>\n",
              "      <td>NaN</td>\n",
              "      <td>0.055065</td>\n",
              "      <td>0.4672</td>\n",
              "      <td>NaN</td>\n",
              "      <td>-0.069472</td>\n",
              "      <td>0.8436</td>\n",
              "    </tr>\n",
              "    <tr>\n",
              "      <th>asg_0_pre</th>\n",
              "      <td>NaN</td>\n",
              "      <td>-0.242929</td>\n",
              "      <td>0.0000</td>\n",
              "      <td>NaN</td>\n",
              "      <td>0.046786</td>\n",
              "      <td>0.9951</td>\n",
              "    </tr>\n",
              "    <tr>\n",
              "      <th>asg_45_pre</th>\n",
              "      <td>NaN</td>\n",
              "      <td>0.095963</td>\n",
              "      <td>0.6852</td>\n",
              "      <td>NaN</td>\n",
              "      <td>-0.477746</td>\n",
              "      <td>0.0000</td>\n",
              "    </tr>\n",
              "    <tr>\n",
              "      <th>MRD-1 pre</th>\n",
              "      <td>NaN</td>\n",
              "      <td>0.032805</td>\n",
              "      <td>0.4667</td>\n",
              "      <td>NaN</td>\n",
              "      <td>-0.050913</td>\n",
              "      <td>0.2658</td>\n",
              "    </tr>\n",
              "    <tr>\n",
              "      <th>MRD-1 3M</th>\n",
              "      <td>NaN</td>\n",
              "      <td>-0.039083</td>\n",
              "      <td>0.9972</td>\n",
              "      <td>NaN</td>\n",
              "      <td>-0.014883</td>\n",
              "      <td>0.9195</td>\n",
              "    </tr>\n",
              "    <tr>\n",
              "      <th>挙筋機能 pre</th>\n",
              "      <td>NaN</td>\n",
              "      <td>-0.025013</td>\n",
              "      <td>0.1217</td>\n",
              "      <td>NaN</td>\n",
              "      <td>-0.008058</td>\n",
              "      <td>0.5193</td>\n",
              "    </tr>\n",
              "  </tbody>\n",
              "</table>\n",
              "</div>\n",
              "    <div class=\"colab-df-buttons\">\n",
              "\n",
              "  <div class=\"colab-df-container\">\n",
              "    <button class=\"colab-df-convert\" onclick=\"convertToInteractive('df-2d249893-74dd-4856-92e1-e109c7088fb7')\"\n",
              "            title=\"Convert this dataframe to an interactive table.\"\n",
              "            style=\"display:none;\">\n",
              "\n",
              "  <svg xmlns=\"http://www.w3.org/2000/svg\" height=\"24px\" viewBox=\"0 -960 960 960\">\n",
              "    <path d=\"M120-120v-720h720v720H120Zm60-500h600v-160H180v160Zm220 220h160v-160H400v160Zm0 220h160v-160H400v160ZM180-400h160v-160H180v160Zm440 0h160v-160H620v160ZM180-180h160v-160H180v160Zm440 0h160v-160H620v160Z\"/>\n",
              "  </svg>\n",
              "    </button>\n",
              "\n",
              "  <style>\n",
              "    .colab-df-container {\n",
              "      display:flex;\n",
              "      gap: 12px;\n",
              "    }\n",
              "\n",
              "    .colab-df-convert {\n",
              "      background-color: #E8F0FE;\n",
              "      border: none;\n",
              "      border-radius: 50%;\n",
              "      cursor: pointer;\n",
              "      display: none;\n",
              "      fill: #1967D2;\n",
              "      height: 32px;\n",
              "      padding: 0 0 0 0;\n",
              "      width: 32px;\n",
              "    }\n",
              "\n",
              "    .colab-df-convert:hover {\n",
              "      background-color: #E2EBFA;\n",
              "      box-shadow: 0px 1px 2px rgba(60, 64, 67, 0.3), 0px 1px 3px 1px rgba(60, 64, 67, 0.15);\n",
              "      fill: #174EA6;\n",
              "    }\n",
              "\n",
              "    .colab-df-buttons div {\n",
              "      margin-bottom: 4px;\n",
              "    }\n",
              "\n",
              "    [theme=dark] .colab-df-convert {\n",
              "      background-color: #3B4455;\n",
              "      fill: #D2E3FC;\n",
              "    }\n",
              "\n",
              "    [theme=dark] .colab-df-convert:hover {\n",
              "      background-color: #434B5C;\n",
              "      box-shadow: 0px 1px 3px 1px rgba(0, 0, 0, 0.15);\n",
              "      filter: drop-shadow(0px 1px 2px rgba(0, 0, 0, 0.3));\n",
              "      fill: #FFFFFF;\n",
              "    }\n",
              "  </style>\n",
              "\n",
              "    <script>\n",
              "      const buttonEl =\n",
              "        document.querySelector('#df-2d249893-74dd-4856-92e1-e109c7088fb7 button.colab-df-convert');\n",
              "      buttonEl.style.display =\n",
              "        google.colab.kernel.accessAllowed ? 'block' : 'none';\n",
              "\n",
              "      async function convertToInteractive(key) {\n",
              "        const element = document.querySelector('#df-2d249893-74dd-4856-92e1-e109c7088fb7');\n",
              "        const dataTable =\n",
              "          await google.colab.kernel.invokeFunction('convertToInteractive',\n",
              "                                                    [key], {});\n",
              "        if (!dataTable) return;\n",
              "\n",
              "        const docLinkHtml = 'Like what you see? Visit the ' +\n",
              "          '<a target=\"_blank\" href=https://colab.research.google.com/notebooks/data_table.ipynb>data table notebook</a>'\n",
              "          + ' to learn more about interactive tables.';\n",
              "        element.innerHTML = '';\n",
              "        dataTable['output_type'] = 'display_data';\n",
              "        await google.colab.output.renderOutput(dataTable, element);\n",
              "        const docLink = document.createElement('div');\n",
              "        docLink.innerHTML = docLinkHtml;\n",
              "        element.appendChild(docLink);\n",
              "      }\n",
              "    </script>\n",
              "  </div>\n",
              "\n",
              "\n",
              "<div id=\"df-0a4a9800-52b5-4ff1-984f-f244717ab558\">\n",
              "  <button class=\"colab-df-quickchart\" onclick=\"quickchart('df-0a4a9800-52b5-4ff1-984f-f244717ab558')\"\n",
              "            title=\"Suggest charts\"\n",
              "            style=\"display:none;\">\n",
              "\n",
              "<svg xmlns=\"http://www.w3.org/2000/svg\" height=\"24px\"viewBox=\"0 0 24 24\"\n",
              "     width=\"24px\">\n",
              "    <g>\n",
              "        <path d=\"M19 3H5c-1.1 0-2 .9-2 2v14c0 1.1.9 2 2 2h14c1.1 0 2-.9 2-2V5c0-1.1-.9-2-2-2zM9 17H7v-7h2v7zm4 0h-2V7h2v10zm4 0h-2v-4h2v4z\"/>\n",
              "    </g>\n",
              "</svg>\n",
              "  </button>\n",
              "\n",
              "<style>\n",
              "  .colab-df-quickchart {\n",
              "      --bg-color: #E8F0FE;\n",
              "      --fill-color: #1967D2;\n",
              "      --hover-bg-color: #E2EBFA;\n",
              "      --hover-fill-color: #174EA6;\n",
              "      --disabled-fill-color: #AAA;\n",
              "      --disabled-bg-color: #DDD;\n",
              "  }\n",
              "\n",
              "  [theme=dark] .colab-df-quickchart {\n",
              "      --bg-color: #3B4455;\n",
              "      --fill-color: #D2E3FC;\n",
              "      --hover-bg-color: #434B5C;\n",
              "      --hover-fill-color: #FFFFFF;\n",
              "      --disabled-bg-color: #3B4455;\n",
              "      --disabled-fill-color: #666;\n",
              "  }\n",
              "\n",
              "  .colab-df-quickchart {\n",
              "    background-color: var(--bg-color);\n",
              "    border: none;\n",
              "    border-radius: 50%;\n",
              "    cursor: pointer;\n",
              "    display: none;\n",
              "    fill: var(--fill-color);\n",
              "    height: 32px;\n",
              "    padding: 0;\n",
              "    width: 32px;\n",
              "  }\n",
              "\n",
              "  .colab-df-quickchart:hover {\n",
              "    background-color: var(--hover-bg-color);\n",
              "    box-shadow: 0 1px 2px rgba(60, 64, 67, 0.3), 0 1px 3px 1px rgba(60, 64, 67, 0.15);\n",
              "    fill: var(--button-hover-fill-color);\n",
              "  }\n",
              "\n",
              "  .colab-df-quickchart-complete:disabled,\n",
              "  .colab-df-quickchart-complete:disabled:hover {\n",
              "    background-color: var(--disabled-bg-color);\n",
              "    fill: var(--disabled-fill-color);\n",
              "    box-shadow: none;\n",
              "  }\n",
              "\n",
              "  .colab-df-spinner {\n",
              "    border: 2px solid var(--fill-color);\n",
              "    border-color: transparent;\n",
              "    border-bottom-color: var(--fill-color);\n",
              "    animation:\n",
              "      spin 1s steps(1) infinite;\n",
              "  }\n",
              "\n",
              "  @keyframes spin {\n",
              "    0% {\n",
              "      border-color: transparent;\n",
              "      border-bottom-color: var(--fill-color);\n",
              "      border-left-color: var(--fill-color);\n",
              "    }\n",
              "    20% {\n",
              "      border-color: transparent;\n",
              "      border-left-color: var(--fill-color);\n",
              "      border-top-color: var(--fill-color);\n",
              "    }\n",
              "    30% {\n",
              "      border-color: transparent;\n",
              "      border-left-color: var(--fill-color);\n",
              "      border-top-color: var(--fill-color);\n",
              "      border-right-color: var(--fill-color);\n",
              "    }\n",
              "    40% {\n",
              "      border-color: transparent;\n",
              "      border-right-color: var(--fill-color);\n",
              "      border-top-color: var(--fill-color);\n",
              "    }\n",
              "    60% {\n",
              "      border-color: transparent;\n",
              "      border-right-color: var(--fill-color);\n",
              "    }\n",
              "    80% {\n",
              "      border-color: transparent;\n",
              "      border-right-color: var(--fill-color);\n",
              "      border-bottom-color: var(--fill-color);\n",
              "    }\n",
              "    90% {\n",
              "      border-color: transparent;\n",
              "      border-bottom-color: var(--fill-color);\n",
              "    }\n",
              "  }\n",
              "</style>\n",
              "\n",
              "  <script>\n",
              "    async function quickchart(key) {\n",
              "      const quickchartButtonEl =\n",
              "        document.querySelector('#' + key + ' button');\n",
              "      quickchartButtonEl.disabled = true;  // To prevent multiple clicks.\n",
              "      quickchartButtonEl.classList.add('colab-df-spinner');\n",
              "      try {\n",
              "        const charts = await google.colab.kernel.invokeFunction(\n",
              "            'suggestCharts', [key], {});\n",
              "      } catch (error) {\n",
              "        console.error('Error during call to suggestCharts:', error);\n",
              "      }\n",
              "      quickchartButtonEl.classList.remove('colab-df-spinner');\n",
              "      quickchartButtonEl.classList.add('colab-df-quickchart-complete');\n",
              "    }\n",
              "    (() => {\n",
              "      let quickchartButtonEl =\n",
              "        document.querySelector('#df-0a4a9800-52b5-4ff1-984f-f244717ab558 button');\n",
              "      quickchartButtonEl.style.display =\n",
              "        google.colab.kernel.accessAllowed ? 'block' : 'none';\n",
              "    })();\n",
              "  </script>\n",
              "</div>\n",
              "    </div>\n",
              "  </div>\n"
            ],
            "application/vnd.google.colaboratory.intrinsic+json": {
              "type": "dataframe",
              "variable_name": "results_formatted",
              "summary": "{\n  \"name\": \"results_formatted\",\n  \"rows\": 9,\n  \"fields\": [\n    {\n      \"column\": \"Coefficients \\u0394asg_0\",\n      \"properties\": {\n        \"dtype\": \"object\",\n        \"semantic_type\": \"\",\n        \"description\": \"\"\n      }\n    },\n    {\n      \"column\": \"Coefficients \\u0394asg_0\",\n      \"properties\": {\n        \"dtype\": \"number\",\n        \"std\": 0.10478940410549924,\n        \"min\": -0.2429290657394383,\n        \"max\": 0.09596302114124158,\n        \"num_unique_values\": 8,\n        \"samples\": [\n          0.05506462201099144,\n          0.03280512222357387,\n          -0.006052946437780111\n        ],\n        \"semantic_type\": \"\",\n        \"description\": \"\"\n      }\n    },\n    {\n      \"column\": \"p-values \\u0394asg_0\",\n      \"properties\": {\n        \"dtype\": \"string\",\n        \"num_unique_values\": 8,\n        \"samples\": [\n          \"0.0796\",\n          \"0.4667\",\n          \"nan\"\n        ],\n        \"semantic_type\": \"\",\n        \"description\": \"\"\n      }\n    },\n    {\n      \"column\": \"Coefficients \\u0394asg_45\",\n      \"properties\": {\n        \"dtype\": \"object\",\n        \"semantic_type\": \"\",\n        \"description\": \"\"\n      }\n    },\n    {\n      \"column\": \"Coefficients \\u0394asg_45\",\n      \"properties\": {\n        \"dtype\": \"number\",\n        \"std\": 0.1651299380140961,\n        \"min\": -0.4777462766155434,\n        \"max\": 0.046786117468929356,\n        \"num_unique_values\": 8,\n        \"samples\": [\n          -0.0694717046622154,\n          -0.0509131079832327,\n          -0.001777625649338319\n        ],\n        \"semantic_type\": \"\",\n        \"description\": \"\"\n      }\n    },\n    {\n      \"column\": \"p-values \\u0394asg_45\",\n      \"properties\": {\n        \"dtype\": \"string\",\n        \"num_unique_values\": 8,\n        \"samples\": [\n          \"0.5616\",\n          \"0.2658\",\n          \"nan\"\n        ],\n        \"semantic_type\": \"\",\n        \"description\": \"\"\n      }\n    }\n  ]\n}"
            }
          },
          "metadata": {},
          "execution_count": 140
        }
      ]
    },
    {
      "cell_type": "markdown",
      "source": [
        "##**線形回帰モデルのAIC（赤池情報量基準）を用いた多変量解析**"
      ],
      "metadata": {
        "id": "ZVpI77ECfi65"
      }
    },
    {
      "cell_type": "code",
      "source": [
        "import statsmodels.api as sm\n",
        "\n",
        "# Define the independent variables for the model\n",
        "X = features\n",
        "# Add a constant to the model (the intercept)\n",
        "X = sm.add_constant(X)\n",
        "\n",
        "# Define the dependent variable for Δasg_0\n",
        "y_delta_asg_0 = target_delta_asg_0\n",
        "\n",
        "# Fit the model\n",
        "model_delta_asg_0 = sm.OLS(y_delta_asg_0, X).fit()\n",
        "\n",
        "# Define the dependent variable for Δasg_45\n",
        "y_delta_asg_45 = target_delta_asg_45\n",
        "\n",
        "# Fit the model\n",
        "model_delta_asg_45 = sm.OLS(y_delta_asg_45, X).fit()\n",
        "\n",
        "# Get AIC values\n",
        "aic_delta_asg_0 = model_delta_asg_0.aic\n",
        "aic_delta_asg_45 = model_delta_asg_45.aic\n",
        "\n",
        "aic_delta_asg_0, aic_delta_asg_45, model_delta_asg_0.summary(), model_delta_asg_45.summary()\n"
      ],
      "metadata": {
        "colab": {
          "base_uri": "https://localhost:8080/"
        },
        "id": "GXlVc5ZYfHu5",
        "outputId": "ddf562db-3c4f-4fc4-bed9-7d59e6166aaa"
      },
      "execution_count": 141,
      "outputs": [
        {
          "output_type": "execute_result",
          "data": {
            "text/plain": [
              "(395.4150710300904,\n",
              " 346.91017444446913,\n",
              " <class 'statsmodels.iolib.summary.Summary'>\n",
              " \"\"\"\n",
              "                             OLS Regression Results                            \n",
              " ==============================================================================\n",
              " Dep. Variable:                 Δasg_0   R-squared:                       0.172\n",
              " Model:                            OLS   Adj. R-squared:                  0.140\n",
              " Method:                 Least Squares   F-statistic:                     5.367\n",
              " Date:                Sun, 12 May 2024   Prob (F-statistic):           1.33e-05\n",
              " Time:                        15:47:10   Log-Likelihood:                -189.71\n",
              " No. Observations:                 189   AIC:                             395.4\n",
              " Df Residuals:                     181   BIC:                             421.3\n",
              " Df Model:                           7                                         \n",
              " Covariance Type:            nonrobust                                         \n",
              " ==============================================================================\n",
              "                  coef    std err          t      P>|t|      [0.025      0.975]\n",
              " ------------------------------------------------------------------------------\n",
              " const          0.9478      0.571      1.659      0.099      -0.179       2.075\n",
              " age           -0.0061      0.006     -1.021      0.308      -0.018       0.006\n",
              " sex            0.0551      0.051      1.088      0.278      -0.045       0.155\n",
              " 手術側            0.0551      0.051      1.088      0.278      -0.045       0.155\n",
              " asg_0_pre     -0.2429      0.044     -5.560      0.000      -0.329      -0.157\n",
              " asg_45_pre     0.0960      0.069      1.390      0.166      -0.040       0.232\n",
              " MRD-1 pre      0.0328      0.046      0.708      0.480      -0.059       0.124\n",
              " MRD-1 3M      -0.0391      0.050     -0.782      0.435      -0.138       0.060\n",
              " 挙筋機能 pre      -0.0250      0.024     -1.055      0.293      -0.072       0.022\n",
              " ==============================================================================\n",
              " Omnibus:                       17.938   Durbin-Watson:                   1.769\n",
              " Prob(Omnibus):                  0.000   Jarque-Bera (JB):               53.480\n",
              " Skew:                          -0.257   Prob(JB):                     2.44e-12\n",
              " Kurtosis:                       5.555   Cond. No.                     8.58e+18\n",
              " ==============================================================================\n",
              " \n",
              " Notes:\n",
              " [1] Standard Errors assume that the covariance matrix of the errors is correctly specified.\n",
              " [2] The smallest eigenvalue is 1.48e-32. This might indicate that there are\n",
              " strong multicollinearity problems or that the design matrix is singular.\n",
              " \"\"\",\n",
              " <class 'statsmodels.iolib.summary.Summary'>\n",
              " \"\"\"\n",
              "                             OLS Regression Results                            \n",
              " ==============================================================================\n",
              " Dep. Variable:                Δasg_45   R-squared:                       0.262\n",
              " Model:                            OLS   Adj. R-squared:                  0.234\n",
              " Method:                 Least Squares   F-statistic:                     9.187\n",
              " Date:                Sun, 12 May 2024   Prob (F-statistic):           1.05e-09\n",
              " Time:                        15:47:10   Log-Likelihood:                -165.46\n",
              " No. Observations:                 189   AIC:                             346.9\n",
              " Df Residuals:                     181   BIC:                             372.8\n",
              " Df Model:                           7                                         \n",
              " Covariance Type:            nonrobust                                         \n",
              " ==============================================================================\n",
              "                  coef    std err          t      P>|t|      [0.025      0.975]\n",
              " ------------------------------------------------------------------------------\n",
              " const          0.3029      0.503      0.603      0.547      -0.689       1.294\n",
              " age           -0.0018      0.005     -0.341      0.734      -0.012       0.009\n",
              " sex           -0.0695      0.045     -1.560      0.120      -0.157       0.018\n",
              " 手術側           -0.0695      0.045     -1.560      0.120      -0.157       0.018\n",
              " asg_0_pre      0.0468      0.038      1.217      0.225      -0.029       0.123\n",
              " asg_45_pre    -0.4777      0.061     -7.866      0.000      -0.598      -0.358\n",
              " MRD-1 pre     -0.0509      0.041     -1.249      0.213      -0.131       0.030\n",
              " MRD-1 3M      -0.0149      0.044     -0.339      0.735      -0.102       0.072\n",
              " 挙筋機能 pre      -0.0081      0.021     -0.386      0.700      -0.049       0.033\n",
              " ==============================================================================\n",
              " Omnibus:                       57.248   Durbin-Watson:                   2.054\n",
              " Prob(Omnibus):                  0.000   Jarque-Bera (JB):              374.229\n",
              " Skew:                          -0.931   Prob(JB):                     5.46e-82\n",
              " Kurtosis:                       9.637   Cond. No.                     8.58e+18\n",
              " ==============================================================================\n",
              " \n",
              " Notes:\n",
              " [1] Standard Errors assume that the covariance matrix of the errors is correctly specified.\n",
              " [2] The smallest eigenvalue is 1.48e-32. This might indicate that there are\n",
              " strong multicollinearity problems or that the design matrix is singular.\n",
              " \"\"\")"
            ]
          },
          "metadata": {},
          "execution_count": 141
        }
      ]
    },
    {
      "cell_type": "markdown",
      "source": [
        "##**Random forest analysis**"
      ],
      "metadata": {
        "id": "gqdt-ZxZgOp4"
      }
    },
    {
      "cell_type": "code",
      "source": [
        "from sklearn.ensemble import RandomForestRegressor\n",
        "from sklearn.model_selection import train_test_split\n",
        "from sklearn.metrics import mean_squared_error, r2_score\n",
        "\n",
        "# Prepare data\n",
        "X_train, X_test, y_train_delta_asg_0, y_test_delta_asg_0 = train_test_split(X, y_delta_asg_0, test_size=0.2, random_state=42)\n",
        "X_train, X_test, y_train_delta_asg_45, y_test_delta_asg_45 = train_test_split(X, y_delta_asg_45, test_size=0.2, random_state=42)\n",
        "\n",
        "# Initialize and fit the Random Forest model for Δasg_0\n",
        "rf_model_delta_asg_0 = RandomForestRegressor(n_estimators=100, random_state=42)\n",
        "rf_model_delta_asg_0.fit(X_train, y_train_delta_asg_0)\n",
        "\n",
        "# Predictions and evaluation for Δasg_0\n",
        "predictions_delta_asg_0 = rf_model_delta_asg_0.predict(X_test)\n",
        "mse_delta_asg_0 = mean_squared_error(y_test_delta_asg_0, predictions_delta_asg_0)\n",
        "r2_delta_asg_0 = r2_score(y_test_delta_asg_0, predictions_delta_asg_0)\n",
        "\n",
        "# Initialize and fit the Random Forest model for Δasg_45\n",
        "rf_model_delta_asg_45 = RandomForestRegressor(n_estimators=100, random_state=42)\n",
        "rf_model_delta_asg_45.fit(X_train, y_train_delta_asg_45)\n",
        "\n",
        "# Predictions and evaluation for Δasg_45\n",
        "predictions_delta_asg_45 = rf_model_delta_asg_45.predict(X_test)\n",
        "mse_delta_asg_45 = mean_squared_error(y_test_delta_asg_45, predictions_delta_asg_45)\n",
        "r2_delta_asg_45 = r2_score(y_test_delta_asg_45, predictions_delta_asg_45)\n",
        "\n",
        "print(f\"MSE_0: {mse_delta_asg_0}, R2_0: {r2_delta_asg_0}, MSE_45: {mse_delta_asg_45}, R2_45: {r2_delta_asg_45}\")\n"
      ],
      "metadata": {
        "colab": {
          "base_uri": "https://localhost:8080/"
        },
        "id": "nC4xXQa6gWDc",
        "outputId": "a88b00da-9942-4bb3-dfd9-fb7a45533857"
      },
      "execution_count": 144,
      "outputs": [
        {
          "output_type": "stream",
          "name": "stdout",
          "text": [
            "MSE_0: 0.6339715961283588, R2_0: 0.19067335522449913, MSE_45: 0.35659811833468497, R2_45: 0.29629502337625724\n"
          ]
        }
      ]
    },
    {
      "cell_type": "code",
      "source": [
        "# Feature importance from the Random Forest models\n",
        "importances_delta_asg_0 = rf_model_delta_asg_0.feature_importances_\n",
        "importances_delta_asg_45 = rf_model_delta_asg_45.feature_importances_\n",
        "\n",
        "# Create a DataFrame to display feature importance\n",
        "feature_importance_delta_asg_0 = pd.Series(importances_delta_asg_0, index=X.columns).sort_values(ascending=False)\n",
        "feature_importance_delta_asg_45 = pd.Series(importances_delta_asg_45, index=X.columns).sort_values(ascending=False)\n",
        "\n",
        "print(feature_importance_delta_asg_0)\n",
        "print(\"\")\n",
        "print(feature_importance_delta_asg_45)\n"
      ],
      "metadata": {
        "colab": {
          "base_uri": "https://localhost:8080/"
        },
        "id": "oheoSDwQgpYN",
        "outputId": "191af479-8b11-40f7-9f33-39eb56264be6"
      },
      "execution_count": 148,
      "outputs": [
        {
          "output_type": "stream",
          "name": "stdout",
          "text": [
            "asg_0_pre     0.317582\n",
            "asg_45_pre    0.237702\n",
            "age           0.170815\n",
            "MRD-1 3M      0.087457\n",
            "挙筋機能 pre      0.086489\n",
            "MRD-1 pre     0.074145\n",
            "sex           0.014591\n",
            "手術側           0.011219\n",
            "const         0.000000\n",
            "dtype: float64\n",
            "\n",
            "asg_45_pre    0.499993\n",
            "asg_0_pre     0.149344\n",
            "age           0.144336\n",
            "挙筋機能 pre      0.073416\n",
            "MRD-1 pre     0.063851\n",
            "MRD-1 3M      0.048353\n",
            "sex           0.012439\n",
            "手術側           0.008268\n",
            "const         0.000000\n",
            "dtype: float64\n"
          ]
        }
      ]
    },
    {
      "cell_type": "code",
      "source": [
        "from sklearn.tree import export_graphviz\n",
        "import graphviz\n",
        "\n",
        "# Extract one tree from the Random Forest model for Δasg_45\n",
        "tree_example = rf_model_delta_asg_0.estimators_[0]\n",
        "\n",
        "# Export the tree in DOT format\n",
        "dot_data = export_graphviz(tree_example, out_file=None,\n",
        "                           feature_names=X.columns,\n",
        "                           filled=True, rounded=True,\n",
        "                           special_characters=True)\n",
        "\n",
        "# Generate a graph from DOT data\n",
        "graph = graphviz.Source(dot_data)\n",
        "graph"
      ],
      "metadata": {
        "id": "MaRhgHorhugH"
      },
      "execution_count": null,
      "outputs": []
    },
    {
      "cell_type": "code",
      "source": [
        "from sklearn.tree import export_graphviz\n",
        "import graphviz\n",
        "\n",
        "# Extract one tree from the Random Forest model for Δasg_45\n",
        "tree_example = rf_model_delta_asg_45.estimators_[0]\n",
        "\n",
        "# Export the tree in DOT format\n",
        "dot_data = export_graphviz(tree_example, out_file=None,\n",
        "                           feature_names=X.columns,\n",
        "                           filled=True, rounded=True,\n",
        "                           special_characters=True)\n",
        "\n",
        "# Generate a graph from DOT data\n",
        "graph = graphviz.Source(dot_data)\n",
        "graph\n"
      ],
      "metadata": {
        "id": "Gt7dUKb5hRAg"
      },
      "execution_count": null,
      "outputs": []
    }
  ]
}