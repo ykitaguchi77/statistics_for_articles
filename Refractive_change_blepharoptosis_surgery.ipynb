{
  "nbformat": 4,
  "nbformat_minor": 0,
  "metadata": {
    "colab": {
      "provenance": [],
      "authorship_tag": "ABX9TyOfJFybbsvFMQFneDOYXTFV",
      "include_colab_link": true
    },
    "kernelspec": {
      "name": "python3",
      "display_name": "Python 3"
    },
    "language_info": {
      "name": "python"
    }
  },
  "cells": [
    {
      "cell_type": "markdown",
      "metadata": {
        "id": "view-in-github",
        "colab_type": "text"
      },
      "source": [
        "<a href=\"https://colab.research.google.com/github/ykitaguchi77/statistics_for_articles/blob/main/Refractive_change_blepharoptosis_surgery.ipynb\" target=\"_parent\"><img src=\"https://colab.research.google.com/assets/colab-badge.svg\" alt=\"Open In Colab\"/></a>"
      ]
    },
    {
      "cell_type": "markdown",
      "source": [
        "#**Refractive change in blepharoptosis surgery**"
      ],
      "metadata": {
        "id": "OqObWQc1_T1U"
      }
    },
    {
      "cell_type": "code",
      "execution_count": 1,
      "metadata": {
        "colab": {
          "base_uri": "https://localhost:8080/"
        },
        "id": "Yup3T2Lay4gD",
        "outputId": "196c6a3d-fd68-49d3-f84f-8f9bdcb314a0"
      },
      "outputs": [
        {
          "output_type": "stream",
          "name": "stdout",
          "text": [
            "Mounted at /content/drive\n"
          ]
        }
      ],
      "source": [
        "from google.colab import drive\n",
        "drive.mount(\"/content/drive\")"
      ]
    },
    {
      "cell_type": "code",
      "source": [
        "import pandas as pd\n",
        "pd.set_option('display.max_columns', 300)\n",
        "pd.set_option('display.max_rows', 300)"
      ],
      "metadata": {
        "id": "9nC8Dlyz7RBz"
      },
      "execution_count": 2,
      "outputs": []
    },
    {
      "cell_type": "code",
      "source": [
        "import pandas as pd\n",
        "\n",
        "xlsx_path = \"/content/drive/MyDrive/研究/進行中の研究/眼瞼下垂手術による屈折変化/眼瞼下垂.xlsx\"\n",
        "\n",
        "data = pd.read_excel(xlsx_path, header=1)\n",
        "\n",
        "# Display the first few rows of the dataframe and its columns to understand its structure\n",
        "#data"
      ],
      "metadata": {
        "id": "nVb210bozJ73",
        "collapsed": true
      },
      "execution_count": 3,
      "outputs": []
    },
    {
      "cell_type": "code",
      "source": [
        "# Step 1: Filter rows where surgery is bilateral (手術側 == 'B')\n",
        "bilateral_cases = data[data['手術側'] == 'B'].copy()\n",
        "unilateral_cases = data[data['手術側'] != 'B'].copy()\n",
        "unilateral_right_cases = data[data['手術側'] == 'R'].copy()\n",
        "unilateral_left_cases = data[data['手術側'] == 'L'].copy()\n",
        "print(f\"Number of bilateral cases: {len(bilateral_cases)}\")\n",
        "print(f\"Number of unilateral cases: {len(unilateral_cases)}\")\n",
        "\n",
        "# Step 2: Duplicate these rows for 'R' and 'L'\n",
        "bilateral_right_cases = bilateral_cases.copy()\n",
        "bilateral_left_cases = bilateral_cases.copy()\n",
        "\n",
        "# Assign 'R' and 'L' to the new surgery side columns\n",
        "bilateral_right_cases.loc[:, '手術側'] = 'R'\n",
        "bilateral_left_cases.loc[:, '手術側'] = 'L'\n",
        "\n",
        "# Step 3: Concatenate the modified bilateral and unilateral cases\n",
        "right_cases = pd.concat([bilateral_right_cases, unilateral_right_cases])\n",
        "left_cases = pd.concat([bilateral_left_cases, unilateral_left_cases])\n",
        "\n",
        "# Step 3: Rename and reallocate columns containing 'R' or 'L' for bilateral cases\n",
        "for column in right_cases.columns:\n",
        "    if ' R' in column:\n",
        "        # Extract the base column name without ' R'\n",
        "        new_column_name = column.replace(' R', '')\n",
        "        # Copy data to a new column without side specification\n",
        "        right_cases.loc[:, new_column_name] = right_cases[column]\n",
        "        # Drop the original ' R' column\n",
        "        right_cases.drop(column, axis=1, inplace=True)\n",
        "    elif ' L' in column:\n",
        "        # # Extract the base column name without ' L'\n",
        "        # new_column_name = column.replace(' L', '')\n",
        "        # # Copy data to a new column without side specification\n",
        "        # right_cases.loc[:, new_column_name] = right_cases[column]\n",
        "        # Drop the original ' L' column\n",
        "        right_cases.drop(column, axis=1, inplace=True)\n",
        "\n",
        "for column in left_cases.columns:\n",
        "    if ' R' in column:\n",
        "        # # Extract the base column name without ' R'\n",
        "        # new_column_name = column.replace(' R', '')\n",
        "        # # Copy data to a new column without side specification\n",
        "        # left_cases.loc[:, new_column_name] = left_cases[column]\n",
        "        # # Drop the original ' R' column\n",
        "        left_cases.drop(column, axis=1, inplace=True)\n",
        "    elif ' L' in column:\n",
        "        # Extract the base column name without ' L'\n",
        "        new_column_name = column.replace(' L', '')\n",
        "        # Copy data to a new column without side specification\n",
        "        left_cases.loc[:, new_column_name] = left_cases[column]\n",
        "        # Drop the original ' L' column\n",
        "        left_cases.drop(column, axis=1, inplace=True)\n",
        "\n",
        "# Combine the duplicated rows back into a single dataframe\n",
        "final_df = pd.concat([right_cases, left_cases])\n",
        "final_df = final_df.sort_values(by='ID').reset_index(drop=True)\n",
        "# ソート後のデータフレームを表示して確認\n",
        "#final_df\n",
        "\n",
        "#final_df.to_excel('output.xlsx', index=False)\n"
      ],
      "metadata": {
        "id": "knMc1iJR6Ciu",
        "colab": {
          "base_uri": "https://localhost:8080/"
        },
        "outputId": "4a69e316-b19d-4e9f-ea5d-ba4a5807e697"
      },
      "execution_count": null,
      "outputs": [
        {
          "output_type": "stream",
          "name": "stdout",
          "text": [
            "Number of bilateral cases: 94\n",
            "Number of unilateral cases: 37\n"
          ]
        }
      ]
    },
    {
      "cell_type": "code",
      "source": [
        "try:\n",
        "    # Copy values from '波面4M' and '波面post' to '波面3M'\n",
        "    final_df['波面3M'] = final_df[['波面3M', '波面4M', '波面post']].bfill(axis=1).iloc[:, 0]\n",
        "\n",
        "    # Drop the columns '波面4M' and '波面post'\n",
        "    final_df.drop(columns=['波面4M', '波面post'], inplace=True)\n",
        "    print(\"波面3M updated!\")\n",
        "except:\n",
        "    pass\n",
        "\n",
        "try:\n",
        "    # Copy values from '波面4M' and '波面post' to '波面3M'\n",
        "    final_df['AveK 3M'] = final_df[['AveK 3M', 'AveK post']].bfill(axis=1).iloc[:, 0]\n",
        "\n",
        "    # Drop the columns '波面4M' and '波面post'\n",
        "    final_df.drop(columns=['AveK post'], inplace=True)\n",
        "    print(\"AveK 3M updated!\")\n",
        "except:\n",
        "    pass\n",
        "\n",
        "try:\n",
        "    # Copy values from '波面4M' and '波面post' to '波面3M'\n",
        "    final_df['CYL 3M'] = final_df[['CYL 3M', 'CYL post']].bfill(axis=1).iloc[:, 0]\n",
        "\n",
        "    # Drop the columns '波面4M' and '波面post'\n",
        "    final_df.drop(columns=['CYL post'], inplace=True)\n",
        "    print(\"CYL 3M updated!\")\n",
        "except:\n",
        "    pass\n",
        "\n",
        "try:\n",
        "    # Copy values from '波面4M' and '波面post' to '波面3M'\n",
        "    final_df['angle 3M'] = final_df[['angle 3M', 'angle post']].bfill(axis=1).iloc[:, 0]\n",
        "\n",
        "    # Drop the columns '波面4M' and '波面post'\n",
        "    final_df.drop(columns=['angle post'], inplace=True)\n",
        "    print(\"angle 3M updated!\")\n",
        "except:\n",
        "    pass\n",
        "\n",
        "try:\n",
        "    # Copy values from '波面4M' and '波面post' to '波面3M'\n",
        "    final_df['angle 3M'] = final_df[['angle 3M', 'angle post']].bfill(axis=1).iloc[:, 0]\n",
        "\n",
        "    # Drop the columns '波面4M' and '波面post'\n",
        "    final_df.drop(columns=['angle post'], inplace=True)\n",
        "    print(\"angle 3M updated!\")\n",
        "except:\n",
        "    pass\n",
        "\n",
        "try:\n",
        "    # Copy values from '波面4M' and '波面post' to '波面3M'\n",
        "    final_df['angle 3M'] = final_df[['angle 3M', 'angle post']].bfill(axis=1).iloc[:, 0]\n",
        "\n",
        "    # Drop the columns '波面4M' and '波面post'\n",
        "    final_df.drop(columns=['angle post'], inplace=True)\n",
        "    print(\"angle 3M updated!\")\n",
        "except:\n",
        "    pass\n",
        "\n",
        "try:\n",
        "    # Copy values from '波面4M' and '波面post' to '波面3M'\n",
        "    final_df['angle 3M'] = final_df[['angle 3M', 'angle post']].bfill(axis=1).iloc[:, 0]\n",
        "\n",
        "    # Drop the columns '波面4M' and '波面post'\n",
        "    final_df.drop(columns=['angle post'], inplace=True)\n",
        "    print(\"angle 3M updated!\")\n",
        "except:\n",
        "    pass\n"
      ],
      "metadata": {
        "id": "lgJLhag6ELZw",
        "colab": {
          "base_uri": "https://localhost:8080/"
        },
        "outputId": "d2c1a4b1-d25b-4f99-f834-2cb319fcaae4"
      },
      "execution_count": null,
      "outputs": [
        {
          "output_type": "stream",
          "name": "stdout",
          "text": [
            "波面3M updated!\n",
            "AveK 3M updated!\n",
            "CYL 3M updated!\n",
            "angle 3M updated!\n"
          ]
        }
      ]
    },
    {
      "cell_type": "code",
      "source": [
        "# レフケラの欠損値を削除：Drop rows with missing values only in specified columns\n",
        "specified_columns = ['AveK pre', 'AveK 3M', 'CYL pre', 'CYL 3M', 'angle pre', 'angle 3M', 'MRD-1 pre', 'MRD-1 3M']\n",
        "final_df = final_df.dropna(subset=specified_columns).reset_index(drop=True)\n",
        "\n",
        "# SPKの有無を数字に置換\n",
        "final_df[\"SPK pre\"] = final_df[\"SPK pre\"].replace({\"あり\": 1, \"なし\": 0})\n",
        "final_df[\"SPK post\"] = final_df[\"SPK post\"].replace({\"あり\": 1, \"なし\": 0})\n",
        "# 57行目の\"MRD-1 pre\"列の値を0.5に置換\n",
        "final_df.at[57, \"MRD-1 pre\"] = 0.5\n",
        "\n",
        "# # 挙筋機能\"good\"のカラムを10に置換\n",
        "# final_df[\"挙筋機能 pre\"] = final_df[\"挙筋機能 pre\"].replace(\"good\", 10)\n",
        "\n",
        "# 挙筋機能\"good\"のカラムを10に置換し、10より大きい値も10に制限する\n",
        "final_df[\"挙筋機能 pre\"] = final_df[\"挙筋機能 pre\"].replace(\"good\", 10)\n",
        "final_df[\"挙筋機能 pre\"] = pd.to_numeric(final_df[\"挙筋機能 pre\"], errors='coerce')\n",
        "final_df[\"挙筋機能 pre\"] = final_df[\"挙筋機能 pre\"].clip(upper=10)\n",
        "\n",
        "\n",
        "# \"MRD-1 3M\"列と\"挙筋機能 pre\"列をfloat型に変換\n",
        "final_df[\"MRD-1 pre\"] = final_df[\"MRD-1 pre\"].astype(float)\n",
        "final_df[\"MRD-1 3M\"] = final_df[\"MRD-1 3M\"].astype(float)\n",
        "final_df[\"挙筋機能 pre\"] = final_df[\"挙筋機能 pre\"].astype(float)\n",
        "\n",
        "final_df[\"sex\"] = final_df[\"sex\"].replace({\"M\": 1, \"F\": 0})\n",
        "final_df[\"手術側\"] = final_df[\"手術側\"].replace({\"L\": 1, \"R\": 0})\n",
        "\n",
        "final_df"
      ],
      "metadata": {
        "id": "Fb8lFR0bz-vy"
      },
      "execution_count": null,
      "outputs": []
    },
    {
      "cell_type": "code",
      "source": [
        "final_df.to_excel('眼瞼下垂_proprocessed1.1.xlsx', index=False)\n"
      ],
      "metadata": {
        "id": "qc9S9nxE3N49"
      },
      "execution_count": null,
      "outputs": []
    },
    {
      "cell_type": "code",
      "source": [
        "##########\n",
        "#分析用のカラムに変更。SIAの計算\n",
        "##########\n",
        "\n",
        "import pandas as pd\n",
        "import numpy as np\n",
        "\n",
        "# 元のカラムリスト\n",
        "original_columns = ['ID', 'name', 'date', 'birthday', 'age', 'sex', '手術側', '備考', '挙筋短縮術後', 'Unnamed: 9', 'date.1', '手術側.1', '波面', 'post date', 'CASIA post date', 'レフケラ post date', '手術側.2', '矯正視力pre', '矯正視力3M', 'preMS(4mm)>=0.3', '波面pre', '波面1Ｍ', '波面2Ｍ', '波面3M', 'AveK pre', 'AveK 3M', 'CYL pre', 'CYL 3M', 'angle pre', 'angle 3M', 'レフケラAVE pre', 'レフケラAVE 3～12M', 'レフケラAVE post', 'レフケラCYL pre', 'レフケラCYL 3～12M', 'レフケラCYL post', 'レフケラangle pre', 'レフケラangle 3～12M', 'レフケラangle post', 'MRD-1 pre', 'MRD-1 3M', '挙筋機能 pre', '挙筋機能 3M', 'SPK pre', 'SPK post']\n",
        "\n",
        "# 新しいカラムリスト\n",
        "new_columns = ['ID', 'name', 'date', 'birthday', 'age', 'sex', 'side', 'intraoocular_surg', 'corneal_matter', 'gla_surg', 'glaucoma', 'eyelid_surg', '備考', '挙筋短縮術後', 'Unnamed: 9', 'date.1', '手術側.1', '矯正視力pre', '矯正視力3M', '波面pre', '波面1Ｍ', '波面2Ｍ', '波面3M', 'AveK pre', 'AveK 3M', 'CYL pre', 'CYL 3M', 'angle pre', 'angle 3M', 'asg_0_pre', 'asg_45_pre', 'asg_0_3M', 'asg_45_3M', 'Δasg_0', 'Δasg_45', 'SIA_D', 'SIA_ax', 'MRD-1 pre', 'MRD-1 3M', 'levator_function', '挙筋機能 3M', 'SPK pre', 'SPK post']\n",
        "\n",
        "# カラムのマッピングを作成\n",
        "column_mapping = {\n",
        "    'ID': 'ID',\n",
        "    'name': 'name',\n",
        "    'date': 'date',\n",
        "    'birthday': 'birthday',\n",
        "    'age': 'age',\n",
        "    'sex': 'sex',\n",
        "    'side': '手術側',\n",
        "    'intraoocular_surg': None,\n",
        "    'corneal_matter': None,\n",
        "    'gla_surg': None,\n",
        "    'glaucoma': None,\n",
        "    'eyelid_surg': None,\n",
        "    '備考': '備考',\n",
        "    '挙筋短縮術後': '挙筋短縮術後',\n",
        "    'Unnamed: 9': 'Unnamed: 9',\n",
        "    'date.1': 'date.1',\n",
        "    '手術側.1': '手術側.1',\n",
        "    '矯正視力pre': '矯正視力pre',\n",
        "    '矯正視力3M': '矯正視力3M',\n",
        "    '波面pre': '波面pre',\n",
        "    '波面1Ｍ': '波面1Ｍ',\n",
        "    '波面2Ｍ': '波面2Ｍ',\n",
        "    '波面3M': '波面3M',\n",
        "    'AveK pre': 'AveK pre',\n",
        "    'AveK 3M': 'AveK 3M',\n",
        "    'CYL pre': 'CYL pre',\n",
        "    'CYL 3M': 'CYL 3M',\n",
        "    'angle pre': 'angle pre',\n",
        "    'angle 3M': 'angle 3M',\n",
        "    'MRD-1 pre': 'MRD-1 pre',\n",
        "    'MRD-1 3M': 'MRD-1 3M',\n",
        "    'levator_function': '挙筋機能 pre',\n",
        "    '挙筋機能 3M': '挙筋機能 3M',\n",
        "    'SPK pre': 'SPK pre',\n",
        "    'SPK post': 'SPK post'\n",
        "}\n",
        "\n",
        "# データを読み込む（ファイル名は適宜変更してください）\n",
        "df = pd.read_excel('眼瞼下垂_proprocessed1.1.xlsx')\n",
        "\n",
        "# 新しいデータフレームを作成\n",
        "new_df = pd.DataFrame()\n",
        "\n",
        "# 新しいカラムに対応するデータを設定\n",
        "for new_col in new_columns:\n",
        "    if new_col in column_mapping and column_mapping[new_col] is not None and column_mapping[new_col] in df.columns:\n",
        "        new_df[new_col] = df[column_mapping[new_col]]\n",
        "    else:\n",
        "        new_df[new_col] = None\n",
        "\n",
        "# asg_0_pre と asg_45_pre の計算\n",
        "new_df['asg_0_pre'] = np.abs(new_df['CYL pre']) * np.cos(np.radians(new_df['angle pre'] * 2))\n",
        "new_df['asg_45_pre'] = np.abs(new_df['CYL pre']) * np.sin(np.radians(new_df['angle pre'] * 2))\n",
        "\n",
        "# asg_0_3M と asg_45_3M の計算\n",
        "new_df['asg_0_3M'] = np.abs(new_df['CYL 3M']) * np.cos(np.radians(new_df['angle 3M'] * 2))\n",
        "new_df['asg_45_3M'] = np.abs(new_df['CYL 3M']) * np.sin(np.radians(new_df['angle 3M'] * 2))\n",
        "\n",
        "# Δasg_0 と Δasg_45 の計算\n",
        "new_df['Δasg_0'] = new_df['asg_0_3M'] - new_df['asg_0_pre']\n",
        "new_df['Δasg_45'] = new_df['asg_45_3M'] - new_df['asg_45_pre']\n",
        "\n",
        "# SIA_D と SIA_ax の計算\n",
        "new_df['SIA_D'] = np.sqrt(new_df['Δasg_0']**2 + new_df['Δasg_45']**2)\n",
        "new_df['SIA_ax'] = 0.5 * np.degrees(np.arctan2(new_df['Δasg_45'], new_df['Δasg_0']))\n",
        "\n",
        "# 新しいExcelファイルとして保存（ファイル名は適宜変更してください）\n",
        "new_df.to_excel('眼瞼下垂_proprocessed1.2.xlsx', index=False)\n",
        "\n",
        "print(\"新しいExcelファイルが作成されました。\")"
      ],
      "metadata": {
        "id": "8qITWJ6y4Ox8",
        "outputId": "09cb92a1-72be-48a5-dfbd-92d275a1ad2c",
        "colab": {
          "base_uri": "https://localhost:8080/"
        }
      },
      "execution_count": null,
      "outputs": [
        {
          "output_type": "stream",
          "name": "stdout",
          "text": [
            "新しいExcelファイルが作成されました。\n"
          ]
        }
      ]
    },
    {
      "cell_type": "markdown",
      "source": [
        "# **Preprocessed_dataを用いて解析**"
      ],
      "metadata": {
        "id": "lns4IjGOVq77"
      }
    },
    {
      "cell_type": "code",
      "source": [
        "from google.colab import drive\n",
        "drive.mount(\"/content/drive\")"
      ],
      "metadata": {
        "colab": {
          "base_uri": "https://localhost:8080/"
        },
        "id": "9J5sUBakWORy",
        "outputId": "ab6d1ead-2335-4a44-e1cb-6c40daa7e989"
      },
      "execution_count": 4,
      "outputs": [
        {
          "output_type": "stream",
          "name": "stdout",
          "text": [
            "Drive already mounted at /content/drive; to attempt to forcibly remount, call drive.mount(\"/content/drive\", force_remount=True).\n"
          ]
        }
      ]
    },
    {
      "cell_type": "code",
      "source": [
        "import pandas as pd\n",
        "pd.set_option('display.max_columns', 300)\n",
        "pd.set_option('display.max_rows', 300)"
      ],
      "metadata": {
        "id": "C-JwDuMtWLWr"
      },
      "execution_count": 5,
      "outputs": []
    },
    {
      "cell_type": "code",
      "source": [
        "import pandas as pd\n",
        "\n",
        "xlsx_path = \"/content/drive/MyDrive/研究/進行中の研究/眼瞼下垂手術による屈折変化/眼瞼下垂_proprocessed.xlsx\"\n",
        "\n",
        "data = pd.read_excel(xlsx_path, header=0)\n",
        "\n",
        "\n",
        "# Count the number of unique IDs\n",
        "unique_id_count = data['ID'].nunique()\n",
        "\n",
        "# Get the total number of rows\n",
        "total_rows = len(data)\n",
        "print(f\"Number of unique IDs: {unique_id_count}\")\n",
        "print(f\"Total number of rows: {total_rows}\")"
      ],
      "metadata": {
        "id": "12LgQoOAWQqi",
        "colab": {
          "base_uri": "https://localhost:8080/"
        },
        "outputId": "433ae921-0401-4d97-ba57-478777ae8fc5"
      },
      "execution_count": 6,
      "outputs": [
        {
          "output_type": "stream",
          "name": "stdout",
          "text": [
            "Number of unique IDs: 112\n",
            "Total number of rows: 189\n"
          ]
        }
      ]
    },
    {
      "cell_type": "code",
      "source": [
        "##################\n",
        "# 眼瞼手術歴を除外\n",
        "##################\n",
        "\n",
        "# Filter out rows where 'exclude' column is equal to 1\n",
        "data = data[data['eyelid_surg'] != 1]\n",
        "\n",
        "# Count the number of unique IDs\n",
        "unique_id_count = data['ID'].nunique()\n",
        "\n",
        "# Get the total number of rows\n",
        "total_rows = len(data)\n",
        "print(f\"Number of unique IDs: {unique_id_count}\")\n",
        "print(f\"Total number of rows: {total_rows}\")"
      ],
      "metadata": {
        "colab": {
          "base_uri": "https://localhost:8080/"
        },
        "id": "xY-iSF1bSX-q",
        "outputId": "fd382c7d-963f-4aca-cbea-6bfb03a90772"
      },
      "execution_count": null,
      "outputs": [
        {
          "output_type": "stream",
          "name": "stdout",
          "text": [
            "Number of unique IDs: 107\n",
            "Total number of rows: 179\n"
          ]
        }
      ]
    },
    {
      "cell_type": "code",
      "source": [
        "########################\n",
        "# 角膜混濁/HCL症例を除外\n",
        "########################\n",
        "\n",
        "# Filter out rows where 'exclude' column is equal to 1\n",
        "data = data[data['corneal_matter'] != 1]\n",
        "\n",
        "# Count the number of unique IDs\n",
        "unique_id_count = data['ID'].nunique()\n",
        "\n",
        "# Get the total number of rows\n",
        "total_rows = len(data)\n",
        "\n",
        "print(f\"Number of unique IDs: {unique_id_count}\")\n",
        "print(f\"Total number of rows: {total_rows}\")"
      ],
      "metadata": {
        "colab": {
          "base_uri": "https://localhost:8080/"
        },
        "id": "Y9ZtBRlEuM30",
        "outputId": "dfd77106-e810-40c0-ee11-5b6fb46e5a08"
      },
      "execution_count": null,
      "outputs": [
        {
          "output_type": "stream",
          "name": "stdout",
          "text": [
            "Number of unique IDs: 104\n",
            "Total number of rows: 172\n"
          ]
        }
      ]
    },
    {
      "cell_type": "code",
      "source": [
        "##################\n",
        "# 緑内障症例を抽出\n",
        "##################\n",
        "\n",
        "# Filter the data to include only rows where 'intraoocular_surg' is equal to 0\n",
        "data = data[data['glaucoma'] == 1]\n",
        "\n",
        "# Count the number of unique IDs\n",
        "unique_id_count = data['ID'].nunique()\n",
        "\n",
        "# Get the total number of rows\n",
        "total_rows = len(data)\n",
        "print(f\"Number of unique IDs: {unique_id_count}\")\n",
        "print(f\"Total number of rows: {total_rows}\")"
      ],
      "metadata": {
        "colab": {
          "base_uri": "https://localhost:8080/"
        },
        "id": "4kJkYilnu7sX",
        "outputId": "05f556fc-ba6c-49fe-91bd-a9eee4771522"
      },
      "execution_count": null,
      "outputs": [
        {
          "output_type": "stream",
          "name": "stdout",
          "text": [
            "Number of unique IDs: 32\n",
            "Total number of rows: 47\n"
          ]
        }
      ]
    },
    {
      "cell_type": "code",
      "source": [
        "##################\n",
        "# 緑内障症例を除外\n",
        "##################\n",
        "\n",
        "# Filter the data to include only rows where 'intraoocular_surg' is equal to 0\n",
        "data = data[data['glaucoma'] == 0]\n",
        "\n",
        "# Display the first few rows of the resulting data to confirm\n",
        "print(len(data))"
      ],
      "metadata": {
        "colab": {
          "base_uri": "https://localhost:8080/"
        },
        "id": "5ZtMiHX_vBbw",
        "outputId": "aa7e1100-c81d-4beb-ddfe-f71df0721bcc"
      },
      "execution_count": null,
      "outputs": [
        {
          "output_type": "stream",
          "name": "stdout",
          "text": [
            "132\n"
          ]
        }
      ]
    },
    {
      "cell_type": "code",
      "source": [
        "##################\n",
        "# 眼内手術歴なしを抽出\n",
        "##################\n",
        "\n",
        "# Filter the data to include only rows where 'intraoocular_surg' is equal to 0\n",
        "data = data[data['intraoocular_surg'] == 0]\n",
        "\n",
        "# Count the number of unique IDs\n",
        "unique_id_count = data['ID'].nunique()\n",
        "\n",
        "# Get the total number of rows\n",
        "total_rows = len(data)\n",
        "print(f\"Number of unique IDs: {unique_id_count}\")\n",
        "print(f\"Total number of rows: {total_rows}\")"
      ],
      "metadata": {
        "colab": {
          "base_uri": "https://localhost:8080/"
        },
        "id": "iBESEHHnTShV",
        "outputId": "1ec93f46-d05f-406f-fea7-7e876b64d308"
      },
      "execution_count": null,
      "outputs": [
        {
          "output_type": "stream",
          "name": "stdout",
          "text": [
            "43\n"
          ]
        }
      ]
    },
    {
      "cell_type": "code",
      "source": [
        "##################\n",
        "# 眼内手術歴ありを抽出\n",
        "##################\n",
        "\n",
        "# Filter the data to include only rows where 'intraoocular_surg' is equal to 0\n",
        "data = data[data['intraoocular_surg'] != 0]\n",
        "\n",
        "# Count the number of unique IDs\n",
        "unique_id_count = data['ID'].nunique()\n",
        "\n",
        "# Get the total number of rows\n",
        "total_rows = len(data)\n",
        "print(f\"Number of unique IDs: {unique_id_count}\")\n",
        "print(f\"Total number of rows: {total_rows}\")"
      ],
      "metadata": {
        "colab": {
          "base_uri": "https://localhost:8080/"
        },
        "id": "8uxhtfvYTrld",
        "outputId": "750334ce-4254-487e-eceb-428c25ce3eb0"
      },
      "execution_count": null,
      "outputs": [
        {
          "output_type": "stream",
          "name": "stdout",
          "text": [
            "Number of unique IDs: 79\n",
            "Total number of rows: 129\n"
          ]
        }
      ]
    },
    {
      "cell_type": "code",
      "source": [
        "##################\n",
        "# 外れ値を除外\n",
        "##################\n",
        "\n",
        "def remove_outliers(data, columns):\n",
        "    for column in columns:\n",
        "        q1 = data[column].quantile(0.25)\n",
        "        q3 = data[column].quantile(0.75)\n",
        "        iqr = q3 - q1\n",
        "        lower_bound = q1 - 1.5 * iqr\n",
        "        upper_bound = q3 + 1.5 * iqr\n",
        "        data = data[(data[column] >= lower_bound) & (data[column] <= upper_bound)]\n",
        "    return data\n",
        "\n",
        "# 外れ値を除外する列のリスト\n",
        "columns_to_remove_outliers = [\"asg_0_pre\", \"asg_45_pre\", \"MRD-1 3M\"]\n",
        "\n",
        "# Count the number of unique IDs\n",
        "unique_id_count = data['ID'].nunique()\n",
        "\n",
        "# Get the total number of rows\n",
        "total_rows = len(data)\n",
        "print(f\"Number of unique IDs: {unique_id_count}\")\n",
        "print(f\"Total number of rows: {total_rows}\")"
      ],
      "metadata": {
        "colab": {
          "base_uri": "https://localhost:8080/"
        },
        "id": "NWXMZ2qqHwtR",
        "outputId": "f5512bcf-24f0-4263-9b2e-8357c91c9761"
      },
      "execution_count": null,
      "outputs": [
        {
          "output_type": "stream",
          "name": "stdout",
          "text": [
            "Number of unique IDs: 104\n",
            "Total number of rows: 172\n"
          ]
        }
      ]
    },
    {
      "cell_type": "code",
      "source": [
        "##################\n",
        "# 緑内障手術歴ありを抽出\n",
        "##################\n",
        "\n",
        "# Filter the data to include only rows where 'intraoocular_surg' is equal to 0\n",
        "data = data[data['gla_surg'] == 1]\n",
        "\n",
        "# Display the first few rows of the resulting data to confirm\n",
        "print(len(data))"
      ],
      "metadata": {
        "colab": {
          "base_uri": "https://localhost:8080/"
        },
        "id": "qisi3sTiYrYv",
        "outputId": "85f124e7-5442-4654-c89a-58a930942d09"
      },
      "execution_count": null,
      "outputs": [
        {
          "output_type": "stream",
          "name": "stdout",
          "text": [
            "17\n"
          ]
        }
      ]
    },
    {
      "cell_type": "code",
      "source": [
        "##################\n",
        "# 緑内障手術歴なしを抽出\n",
        "##################\n",
        "\n",
        "# Filter the data to include only rows where 'intraoocular_surg' is equal to 0\n",
        "data = data[data['gla_surg'] == 0]\n",
        "\n",
        "# Display the first few rows of the resulting data to confirm\n",
        "print(len(data))"
      ],
      "metadata": {
        "colab": {
          "base_uri": "https://localhost:8080/"
        },
        "id": "i-6d2sq7YxuI",
        "outputId": "eff557e9-b196-40d0-ff61-ee7acda67ec3"
      },
      "execution_count": null,
      "outputs": [
        {
          "output_type": "stream",
          "name": "stdout",
          "text": [
            "120\n"
          ]
        }
      ]
    },
    {
      "cell_type": "markdown",
      "source": [
        "##**術前の屈折（sideによる有意差）**"
      ],
      "metadata": {
        "id": "tbN_MZ8bz-cA"
      }
    },
    {
      "cell_type": "code",
      "source": [
        "# 必要なライブラリのインポート\n",
        "from scipy.stats import ttest_ind\n",
        "import pandas as pd\n",
        "\n",
        "# 独立t検定のための平均、標準偏差、およびp値を計算する関数\n",
        "def calculate_independent_statistics(side0, side1):\n",
        "    mean_side0 = side0.mean()\n",
        "    std_side0 = side0.std()\n",
        "    mean_side1 = side1.mean()\n",
        "    std_side1 = side1.std()\n",
        "\n",
        "    t_test = ttest_ind(side0.dropna(), side1.dropna(), nan_policy='omit')\n",
        "\n",
        "    return {\n",
        "        'side0_mean_sd': f\"{mean_side0:.3f} ± {std_side0:.3f}\",\n",
        "        'side1_mean_sd': f\"{mean_side1:.3f} ± {std_side1:.3f}\",\n",
        "        'p_value': f\"{t_test.pvalue:.3e}\"\n",
        "    }\n",
        "\n",
        "# サイドごとの統計量を計算し、結果を表示する関数\n",
        "def process_and_print_statistics(data, column_name):\n",
        "    side0 = data[data['side'] == 0][column_name]\n",
        "    side1 = data[data['side'] == 1][column_name]\n",
        "    stats = calculate_independent_statistics(side0, side1)\n",
        "    print(f\"{column_name}: {stats}\")\n",
        "\n",
        "# 統計量を計算する列のリスト\n",
        "columns_to_process = ['asg_0_pre', 'asg_45_pre', 'asg_0_3M', 'asg_45_3M', 'Δasg_0', 'Δasg_45']\n",
        "\n",
        "# 各列に対して統計量を計算し、結果を表示\n",
        "for column in columns_to_process:\n",
        "    process_and_print_statistics(data, column)\n"
      ],
      "metadata": {
        "colab": {
          "base_uri": "https://localhost:8080/"
        },
        "id": "hny5i4F6Dbo0",
        "outputId": "0c8c1af6-8a1b-4f95-d8ac-f1c5bc46d474"
      },
      "execution_count": 61,
      "outputs": [
        {
          "output_type": "stream",
          "name": "stdout",
          "text": [
            "asg_0_pre: {'side0_mean_sd': '-0.146 ± 0.922', 'side1_mean_sd': '-0.075 ± 0.989', 'p_value': '6.442e-01'}\n",
            "asg_45_pre: {'side0_mean_sd': '0.104 ± 0.435', 'side1_mean_sd': '-0.131 ± 0.574', 'p_value': '4.624e-03'}\n",
            "asg_0_3M: {'side0_mean_sd': '0.073 ± 1.066', 'side1_mean_sd': '0.156 ± 1.049', 'p_value': '6.259e-01'}\n",
            "asg_45_3M: {'side0_mean_sd': '0.083 ± 0.624', 'side1_mean_sd': '-0.230 ± 0.702', 'p_value': '3.919e-03'}\n",
            "Δasg_0: {'side0_mean_sd': '0.219 ± 0.600', 'side1_mean_sd': '0.231 ± 0.597', 'p_value': '9.012e-01'}\n",
            "Δasg_45: {'side0_mean_sd': '-0.022 ± 0.539', 'side1_mean_sd': '-0.099 ± 0.681', 'p_value': '4.327e-01'}\n"
          ]
        }
      ]
    },
    {
      "cell_type": "code",
      "source": [
        "import pandas as pd\n",
        "import matplotlib.pyplot as plt\n",
        "from scipy.stats import pearsonr, linregress\n",
        "\n",
        "def calculate_correlation_and_p_value(column1, column2):\n",
        "    column1_clean = column1.dropna()\n",
        "    column2_clean = column2.dropna()\n",
        "    common_index = column1_clean.index.intersection(column2_clean.index)\n",
        "    column1_clean = column1_clean.loc[common_index]\n",
        "    column2_clean = column2_clean.loc[common_index]\n",
        "\n",
        "    correlation, p_value = pearsonr(column1_clean, column2_clean)\n",
        "    return correlation, p_value, column1_clean, column2_clean\n",
        "\n",
        "def analyze_and_plot_correlation_with_MRD1_pre(data, target_column, x_lim, y_lim):\n",
        "    MRD1_pre = data['MRD-1 pre']\n",
        "    correlation, p_value, target_data_clean, MRD1_pre_clean = calculate_correlation_and_p_value(data[target_column], MRD1_pre)\n",
        "\n",
        "    # Calculate regression line\n",
        "    slope, intercept, _, _, _ = linregress(MRD1_pre_clean, target_data_clean)\n",
        "    regression_line = slope * MRD1_pre_clean + intercept\n",
        "\n",
        "    plt.figure(figsize=(12, 9))\n",
        "    plt.scatter(MRD1_pre_clean, target_data_clean, alpha=0.5, color='black', s=200)\n",
        "    plt.plot(MRD1_pre_clean, regression_line, color='red', linewidth=5)\n",
        "    plt.title(f'Correlation between {target_column} and MRD-1 pre\\n'\n",
        "              f'r={correlation:.3f}, p={p_value:.3f}', fontsize=24)  # Reduced font size by half\n",
        "    plt.xlabel('MRD-1 pre', fontsize=44)\n",
        "    plt.ylabel(target_column, fontsize=44)\n",
        "    # Legend removed\n",
        "    plt.xlim(x_lim)\n",
        "    plt.ylim(y_lim)\n",
        "    plt.xticks(fontsize=36)\n",
        "    plt.yticks(fontsize=36)\n",
        "    plt.tight_layout()\n",
        "    plt.show()\n",
        "\n",
        "# 調査する列のリスト\n",
        "columns_to_analyze = ['asg_0_pre', 'asg_45_pre', 'asg_0_3M', 'asg_45_3M', 'Δasg_0', 'Δasg_45']\n",
        "\n",
        "# グラフのスケールを決定\n",
        "x_min = data['MRD-1 pre'].min()\n",
        "x_max = data['MRD-1 pre'].max()\n",
        "y_min = min(data[col].min() for col in columns_to_analyze)\n",
        "y_max = max(data[col].max() for col in columns_to_analyze)\n",
        "\n",
        "# 各列に対して相関を分析してグラフを描画\n",
        "for column in columns_to_analyze:\n",
        "    analyze_and_plot_correlation_with_MRD1_pre(data, column, (x_min, x_max), (y_min, y_max))"
      ],
      "metadata": {
        "id": "VQ5LDk2lGRY8"
      },
      "execution_count": null,
      "outputs": []
    },
    {
      "cell_type": "code",
      "source": [
        "#MRD-1 preとasg45_preとの関係（side別）\n",
        "\n",
        "# MRD-1 pre との関連を調べてグラフを描画するための関数（side別）\n",
        "def analyze_and_plot_correlation_with_MRD1_pre_by_side(data, target_column):\n",
        "    sides = data['side'].unique()\n",
        "\n",
        "    for side in sides:\n",
        "        side_data = data[data['side'] == side]\n",
        "        MRD1_pre = side_data['MRD-1 pre']\n",
        "        correlation, p_value, target_data_clean, MRD1_pre_clean = calculate_correlation_and_p_value(side_data[target_column], MRD1_pre)\n",
        "\n",
        "        # 回帰線の計算\n",
        "        slope, intercept, _, _, _ = linregress(MRD1_pre_clean, target_data_clean)\n",
        "        regression_line = slope * MRD1_pre_clean + intercept\n",
        "\n",
        "        plt.figure(figsize=(8, 6))\n",
        "        plt.scatter(MRD1_pre_clean, target_data_clean, alpha=0.5, color='black', label='Data points')\n",
        "        plt.plot(MRD1_pre_clean, regression_line, color='red', label='Fit line')\n",
        "        plt.title(f'Correlation between {target_column} and MRD-1 pre (side {side})\\n'\n",
        "                  f'r={correlation:.3f}, p={p_value:.3f}')\n",
        "        plt.xlabel('MRD-1 pre')\n",
        "        plt.ylabel(target_column)\n",
        "        plt.legend()\n",
        "        plt.show()\n",
        "\n",
        "# グラフ化したい列の指定\n",
        "target_column = 'asg_45_pre'\n",
        "\n",
        "# 指定した列に対して相関を分析し、side別にグラフを描画\n",
        "analyze_and_plot_correlation_with_MRD1_pre_by_side(data, target_column)\n"
      ],
      "metadata": {
        "id": "JYYMdEFxNHS8"
      },
      "execution_count": null,
      "outputs": []
    },
    {
      "cell_type": "markdown",
      "source": [
        "##**各項目の変化**"
      ],
      "metadata": {
        "id": "Ct-sEXI_u8ua"
      }
    },
    {
      "cell_type": "code",
      "source": [
        "#正規分布でないことを確認\n",
        "\n",
        "import matplotlib.pyplot as plt\n",
        "import seaborn as sns\n",
        "import scipy.stats as stats\n",
        "from scipy.stats import shapiro\n",
        "import seaborn as sns\n",
        "\n",
        "\n",
        "# Extract relevant columns\n",
        "asg_0_pre = data['asg_0_pre']\n",
        "asg_0_3M = data['asg_0_3M']\n",
        "asg_45_pre = data['asg_45_pre']\n",
        "asg_45_3M = data['asg_45_3M']\n",
        "\n",
        "# Define a function to check normality\n",
        "def check_normality(data):\n",
        "    stat, p = shapiro(data.dropna())\n",
        "    return stat, p\n",
        "\n",
        "# Check normality for each group\n",
        "asg_0_pre_normality = check_normality(asg_0_pre)\n",
        "asg_0_3M_normality = check_normality(asg_0_3M)\n",
        "asg_45_pre_normality = check_normality(asg_45_pre)\n",
        "asg_45_3M_normality = check_normality(asg_45_3M)\n",
        "# Define a function to plot Q-Q plots\n",
        "def plot_qq(data, ax, title):\n",
        "    stats.probplot(data.dropna(), dist=\"norm\", plot=ax)\n",
        "    ax.set_title(title)\n",
        "\n",
        "# Create histograms and Q-Q plots for visual inspection\n",
        "fig, axes = plt.subplots(2, 4, figsize=(20, 10))\n",
        "\n",
        "# Histograms\n",
        "sns.histplot(asg_0_pre.dropna(), kde=True, ax=axes[0, 0]).set(title='asg_0_pre Histogram')\n",
        "sns.histplot(asg_0_3M.dropna(), kde=True, ax=axes[0, 1]).set(title='asg_0_3M Histogram')\n",
        "sns.histplot(asg_45_pre.dropna(), kde=True, ax=axes[0, 2]).set(title='asg_45_pre Histogram')\n",
        "sns.histplot(asg_45_3M.dropna(), kde=True, ax=axes[0, 3]).set(title='asg_45_3M Histogram')\n",
        "\n",
        "# Q-Q plots\n",
        "plot_qq(asg_0_pre, axes[1, 0], 'asg_0_pre Q-Q Plot')\n",
        "plot_qq(asg_0_3M, axes[1, 1], 'asg_0_3M Q-Q Plot')\n",
        "plot_qq(asg_45_pre, axes[1, 2], 'asg_45_pre Q-Q Plot')\n",
        "plot_qq(asg_45_3M, axes[1, 3], 'asg_45_3M Q-Q Plot')\n",
        "\n",
        "plt.tight_layout()\n",
        "plt.show()\n",
        "\n",
        "asg_0_pre_normality, asg_0_3M_normality, asg_45_pre_normality, asg_45_3M_normality\n"
      ],
      "metadata": {
        "id": "qoAh9sFvvCND"
      },
      "execution_count": null,
      "outputs": []
    },
    {
      "cell_type": "code",
      "source": [
        "# Perform Wilcoxon signed-rank test to compare pre and 3M values\n",
        "asg_0_wilcoxon = stats.wilcoxon(asg_0_pre.dropna(), asg_0_3M.dropna())\n",
        "asg_45_wilcoxon = stats.wilcoxon(asg_45_pre.dropna(), asg_45_3M.dropna())\n",
        "\n",
        "asg_0_wilcoxon, asg_45_wilcoxon\n"
      ],
      "metadata": {
        "colab": {
          "base_uri": "https://localhost:8080/"
        },
        "id": "W8c7NWGNv27q",
        "outputId": "a7d665ab-3f30-478f-8cb5-e679755b485a"
      },
      "execution_count": null,
      "outputs": [
        {
          "output_type": "execute_result",
          "data": {
            "text/plain": [
              "(WilcoxonResult(statistic=4269.0, pvalue=1.9673109497202122e-06),\n",
              " WilcoxonResult(statistic=6715.0, pvalue=0.3250911574386459))"
            ]
          },
          "metadata": {},
          "execution_count": 40
        }
      ]
    },
    {
      "cell_type": "code",
      "source": [
        "# Importing necessary libraries\n",
        "from scipy.stats import ttest_rel\n",
        "import pandas as pd\n",
        "\n",
        "# Define a function to remove outliers based on IQR\n",
        "def remove_outliers_iqr(data):\n",
        "    Q1 = data.quantile(0.25)\n",
        "    Q3 = data.quantile(0.75)\n",
        "    IQR = Q3 - Q1\n",
        "    lower_bound = Q1 - 1.5 * IQR\n",
        "    upper_bound = Q3 + 1.5 * IQR\n",
        "    return data[(data >= lower_bound) & (data <= upper_bound)]\n",
        "\n",
        "# Define a function to calculate mean, SD, and p-value for paired t-test\n",
        "def calculate_statistics(pre, post):\n",
        "    pre_no_outliers = remove_outliers_iqr(pre)\n",
        "    post_no_outliers = remove_outliers_iqr(post)\n",
        "\n",
        "    matched_data = pd.DataFrame({'pre': pre_no_outliers, 'post': post}).dropna()\n",
        "\n",
        "    mean_pre = pre_no_outliers.mean()\n",
        "    std_pre = pre_no_outliers.std()\n",
        "    mean_post = matched_data['post'].mean()\n",
        "    std_post = matched_data['post'].std()\n",
        "\n",
        "    t_test = ttest_rel(matched_data['pre'], matched_data['post'], nan_policy='omit')\n",
        "\n",
        "    return {\n",
        "        'pre_mean_sd': f\"{mean_pre:.3f} ± {std_pre:.3f}\",\n",
        "        'post_mean_sd': f\"{mean_post:.3f} ± {std_post:.3f}\",\n",
        "        'p_value': f\"{t_test.pvalue:.3e}\"\n",
        "    }\n",
        "\n",
        "# Applying the function to evaluate pre and post-surgery changes in asg_0 and asg_45\n",
        "asg_0_stats = calculate_statistics(data['asg_0_pre'], data['asg_0_3M'])\n",
        "asg_45_stats = calculate_statistics(data['asg_45_pre'], data['asg_45_3M'])\n",
        "\n",
        "print(f\"change in asg_0: {asg_0_stats}\")\n",
        "print(f\"change in asg_45: {asg_45_stats}\")"
      ],
      "metadata": {
        "colab": {
          "base_uri": "https://localhost:8080/"
        },
        "id": "FLVcSTL6y71Y",
        "outputId": "cedb584c-f53f-4ac5-925c-9f7b024703b8"
      },
      "execution_count": null,
      "outputs": [
        {
          "output_type": "stream",
          "name": "stdout",
          "text": [
            "change in asg_0: {'pre_mean_sd': '-0.088 ± 0.981', 'post_mean_sd': '0.160 ± 1.100', 'p_value': '2.195e-07'}\n",
            "change in asg_45: {'pre_mean_sd': '-0.016 ± 0.547', 'post_mean_sd': '-0.076 ± 0.671', 'p_value': '2.058e-01'}\n"
          ]
        }
      ]
    },
    {
      "cell_type": "markdown",
      "source": [
        "##**Linear regression analysis**\n",
        "\n",
        "線形回帰モデルのAIC（赤池情報量基準）を用いた多変量解析も併用\n",
        "\n"
      ],
      "metadata": {
        "id": "tpw9-FE4e8JT"
      }
    },
    {
      "cell_type": "code",
      "source": [
        "# import pandas as pd\n",
        "\n",
        "# xlsx_path = \"/content/drive/MyDrive/研究/進行中の研究/眼瞼下垂手術による屈折変化/眼瞼下垂_proprocessed.xlsx\"\n",
        "\n",
        "# data = pd.read_excel(xlsx_path, header=0)"
      ],
      "metadata": {
        "id": "AJQS1L8Y1iv2"
      },
      "execution_count": null,
      "outputs": []
    },
    {
      "cell_type": "code",
      "source": [
        "import pandas as pd\n",
        "\n",
        "# 必要な列を選択し、欠損値を削除\n",
        "columns = ['ID', 'Δasg_0', 'Δasg_45', 'age', 'sex', 'side', 'asg_0_pre', 'asg_45_pre', 'MRD-1 pre', 'MRD-1 3M', 'levator_function']\n",
        "regression_data = data[columns].dropna()\n",
        "\n",
        "# 各項目の統計量を表示\n",
        "statistics = regression_data.describe(include='all')\n",
        "\n",
        "# age, sex, sideの内訳を表示\n",
        "sex_counts = regression_data['sex'].value_counts()\n",
        "side_counts = regression_data['side'].value_counts()\n",
        "\n",
        "# idが同じものは1例に数える\n",
        "unique_sex_counts = regression_data.drop_duplicates(subset='ID')['sex'].value_counts()\n",
        "\n",
        "print(statistics)\n",
        "print(\"Sex counts:\\n\", sex_counts)\n",
        "print(\"Side counts:\\n\", side_counts)\n",
        "print(\"Unique Sex counts:\\n\", unique_sex_counts)\n"
      ],
      "metadata": {
        "colab": {
          "base_uri": "https://localhost:8080/"
        },
        "id": "lSmcXd1ha2tv",
        "outputId": "ab7f1c39-7a97-4a7b-bdea-72a0678b55d2"
      },
      "execution_count": null,
      "outputs": [
        {
          "output_type": "stream",
          "name": "stdout",
          "text": [
            "                 ID      Δasg_0     Δasg_45         age         sex  \\\n",
            "count  1.590000e+02  159.000000  159.000000  159.000000  159.000000   \n",
            "mean   9.769960e+06    0.239417   -0.060887   75.238994    0.383648   \n",
            "std    2.584827e+06    0.595255    0.607129    8.471441    0.487810   \n",
            "min    1.655521e+06   -1.240938   -3.737805   46.000000    0.000000   \n",
            "25%    8.015189e+06   -0.134036   -0.334063   70.000000    0.000000   \n",
            "50%    1.094354e+07    0.212004   -0.029969   75.000000    0.000000   \n",
            "75%    1.174812e+07    0.600475    0.262545   81.000000    1.000000   \n",
            "max    1.242201e+07    2.000000    1.758522   92.000000    1.000000   \n",
            "\n",
            "             side   asg_0_pre    asg_45_pre   MRD-1 pre    MRD-1 3M  \\\n",
            "count  159.000000  159.000000  1.590000e+02  159.000000  159.000000   \n",
            "mean     0.496855   -0.085095 -1.409588e-02    0.481132    3.459119   \n",
            "std      0.501570    0.962218  5.246503e-01    1.169072    0.878665   \n",
            "min      0.000000   -2.425739 -1.114717e+00   -3.000000    1.500000   \n",
            "25%      0.000000   -0.725106 -3.555357e-01    0.000000    3.000000   \n",
            "50%      0.000000   -0.083165  1.102182e-16    0.500000    3.500000   \n",
            "75%      1.000000    0.508379  2.865471e-01    1.000000    4.000000   \n",
            "max      1.000000    2.377641  1.385641e+00    3.000000    5.500000   \n",
            "\n",
            "       levator_function  \n",
            "count        159.000000  \n",
            "mean           9.355346  \n",
            "std            2.304609  \n",
            "min            4.000000  \n",
            "25%            8.000000  \n",
            "50%            9.000000  \n",
            "75%           11.000000  \n",
            "max           16.000000  \n",
            "Sex counts:\n",
            " sex\n",
            "0    98\n",
            "1    61\n",
            "Name: count, dtype: int64\n",
            "Side counts:\n",
            " side\n",
            "0    80\n",
            "1    79\n",
            "Name: count, dtype: int64\n",
            "Unique Sex counts:\n",
            " sex\n",
            "0    61\n",
            "1    37\n",
            "Name: count, dtype: int64\n"
          ]
        }
      ]
    },
    {
      "cell_type": "code",
      "source": [
        "import pandas as pd\n",
        "import matplotlib.pyplot as plt\n",
        "\n",
        "# 必要な列を選択し、欠損値を削除\n",
        "columns = ['Δasg_0', 'Δasg_45', 'asg_0_pre', 'asg_45_pre', 'MRD-1 pre', 'MRD-1 3M', 'levator_function']\n",
        "regression_data = data[columns].dropna()\n",
        "\n",
        "# 各項目の統計量を表示\n",
        "statistics = regression_data.describe(include='all')\n",
        "print(statistics)\n",
        "\n",
        "# Δasg_0とΔasg_45の箱ひげ図をまとめて作成\n",
        "plt.figure(figsize=(8, 6))\n",
        "regression_data[['Δasg_0', 'Δasg_45']].boxplot()\n",
        "plt.title('Boxplot of Δasg_0 and Δasg_45')\n",
        "plt.ylabel('Values')\n",
        "plt.show()\n",
        "\n",
        "# asg_0_preとasg_45_preの箱ひげ図をまとめて作成\n",
        "plt.figure(figsize=(8, 6))\n",
        "regression_data[['asg_0_pre', 'asg_45_pre']].boxplot()\n",
        "plt.title('Boxplot of asg_0_pre and asg_45_pre')\n",
        "plt.ylabel('Values')\n",
        "plt.show()\n",
        "\n",
        "# MRD-1 preとMRD-1 3Mの箱ひげ図をまとめて作成\n",
        "plt.figure(figsize=(8, 6))\n",
        "regression_data[['MRD-1 pre', 'MRD-1 3M']].boxplot()\n",
        "plt.title('Boxplot of MRD-1 pre and MRD-1 3M')\n",
        "plt.ylabel('Values')\n",
        "plt.show()\n",
        "\n",
        "# levator_functionの箱ひげ図を作成\n",
        "plt.figure(figsize=(8, 6))\n",
        "regression_data.boxplot(column=['levator_function'])\n",
        "plt.title('Boxplot of levator_function')\n",
        "plt.ylabel('Values')\n",
        "plt.show()\n"
      ],
      "metadata": {
        "id": "jBZ3zioDinsF"
      },
      "execution_count": null,
      "outputs": []
    },
    {
      "cell_type": "code",
      "source": [
        "import pandas as pd\n",
        "import numpy as np\n",
        "from sklearn.linear_model import LinearRegression\n",
        "from sklearn.model_selection import train_test_split\n",
        "from sklearn.metrics import mean_squared_error, r2_score\n",
        "import statsmodels.api as sm\n",
        "\n",
        "# 必要な列を選択し、欠損値を削除\n",
        "columns = ['Δasg_0','Δasg_45', 'age', 'sex', 'side', 'asg_0_pre', 'asg_45_pre', 'MRD-1 pre', 'MRD-1 3M', 'levator_function']\n",
        "regression_data = data[columns].dropna()\n",
        "\n",
        "# 説明変数と目的変数の設定\n",
        "def set_variables(target):\n",
        "    X = regression_data[['age', 'sex', 'side', 'asg_0_pre', 'asg_45_pre', 'MRD-1 pre', 'MRD-1 3M', 'levator_function']]\n",
        "    y = regression_data[target]\n",
        "    return X, y\n",
        "\n",
        "# 太字表示のための関数\n",
        "def print_bold(text):\n",
        "    print(f\"\\033[1m{text}\\033[0m\")\n",
        "\n",
        "# 線形回帰モデルを作成・評価\n",
        "def linear_regression_analysis(X, y, target, test_size=0.2, random_state=0):\n",
        "    print_bold(f\"\\n--- Linear Regression Analysis for {target} ---\")\n",
        "    X_train, X_test, y_train, y_test = train_test_split(X, y, test_size=test_size, random_state=random_state)\n",
        "\n",
        "    model = LinearRegression()\n",
        "    model.fit(X_train, y_train)\n",
        "\n",
        "    y_pred = model.predict(X_test)\n",
        "\n",
        "    mse = mean_squared_error(y_test, y_pred)\n",
        "    r2 = r2_score(y_test, y_pred)\n",
        "\n",
        "    print(f\"MSE: {mse}, R2: {r2}\")\n",
        "\n",
        "    X_train_sm = sm.add_constant(X_train)\n",
        "    model_sm = sm.OLS(y_train, X_train_sm).fit()\n",
        "    print(model_sm.summary())\n",
        "\n",
        "    return model, X_train, X_test, y_train, y_test\n",
        "\n",
        "# ステップワイズ回帰関数\n",
        "def stepwise_selection(X, y, initial_list=[], threshold_in=0.05, threshold_out=0.10, verbose=True):\n",
        "    included = list(initial_list)\n",
        "    while True:\n",
        "        changed = False\n",
        "        excluded = list(set(X.columns) - set(included))\n",
        "        new_pval = pd.Series(index=excluded)\n",
        "        for new_column in excluded:\n",
        "            model = sm.OLS(y, sm.add_constant(pd.DataFrame(X[included + [new_column]]))).fit()\n",
        "            new_pval[new_column] = model.pvalues[new_column]\n",
        "        best_pval = new_pval.min()\n",
        "        if best_pval < threshold_in:\n",
        "            best_feature = new_pval.idxmin()\n",
        "            included.append(best_feature)\n",
        "            changed = True\n",
        "            if verbose:\n",
        "                print(f'Add  {best_feature} with p-value {best_pval}')\n",
        "\n",
        "        model = sm.OLS(y, sm.add_constant(pd.DataFrame(X[included]))).fit()\n",
        "        pvalues = model.pvalues.iloc[1:]\n",
        "        worst_pval = pvalues.max()\n",
        "        if worst_pval > threshold_out:\n",
        "            changed = True\n",
        "            worst_feature = pvalues.idxmax()\n",
        "            included.remove(worst_feature)\n",
        "            if verbose:\n",
        "                print(f'Drop {worst_feature} with p-value {worst_pval}')\n",
        "        if not changed:\n",
        "            break\n",
        "\n",
        "    return included\n",
        "\n",
        "# ステップワイズ回帰を実行し、選択された変数で線形回帰を行う\n",
        "def stepwise_regression_analysis(X, y, target, test_size=0.2, random_state=0, threshold_in=0.01, threshold_out=0.05):\n",
        "    print_bold(f\"\\n--- Stepwise Regression Analysis for {target} ---\")\n",
        "    X_with_constant = sm.add_constant(X)\n",
        "    selected_features = stepwise_selection(X_with_constant, y, threshold_in=threshold_in, threshold_out=threshold_out)\n",
        "\n",
        "    if 'const' in selected_features:\n",
        "        selected_features.remove('const')\n",
        "\n",
        "    if not selected_features:\n",
        "        print(f\"No features were selected for {target}.\")\n",
        "        return\n",
        "\n",
        "    print(f'Selected features: {selected_features}')\n",
        "\n",
        "    X_selected = X[selected_features]\n",
        "    X_train_selected, X_test_selected, y_train, y_test = train_test_split(X_selected, y, test_size=test_size, random_state=random_state)\n",
        "\n",
        "    model_selected = LinearRegression()\n",
        "    model_selected.fit(X_train_selected, y_train)\n",
        "\n",
        "    y_pred_selected = model_selected.predict(X_test_selected)\n",
        "\n",
        "    mse_selected = mean_squared_error(y_test, y_pred_selected)\n",
        "    r2_selected = r2_score(y_test, y_pred_selected)\n",
        "\n",
        "    print(f\"Selected model MSE: {mse_selected}, R2: {r2_selected}\")\n",
        "\n",
        "    X_train_selected_sm = sm.add_constant(X_train_selected)\n",
        "    model_selected_sm = sm.OLS(y_train, X_train_selected_sm).fit()\n",
        "    print(model_selected_sm.summary())\n",
        "\n",
        "# 線形回帰とステップワイズ回帰を実行するメイン関数\n",
        "def main_analysis(target):\n",
        "    X, y = set_variables(target)\n",
        "    linear_regression_analysis(X, y, target)\n",
        "    stepwise_regression_analysis(X, y, target)\n",
        "\n",
        "# Δasg_0とΔasg_45についての解析\n",
        "main_analysis('Δasg_0')\n",
        "main_analysis('Δasg_45')\n"
      ],
      "metadata": {
        "colab": {
          "base_uri": "https://localhost:8080/"
        },
        "id": "Dhz6tBzJhm_G",
        "outputId": "3318e2de-b672-45d2-c745-d42b46df55d7"
      },
      "execution_count": null,
      "outputs": [
        {
          "output_type": "stream",
          "name": "stdout",
          "text": [
            "\u001b[1m\n",
            "--- Linear Regression Analysis for Δasg_0 ---\u001b[0m\n",
            "MSE: 0.35397267509002883, R2: 0.05033939293557743\n",
            "                            OLS Regression Results                            \n",
            "==============================================================================\n",
            "Dep. Variable:                 Δasg_0   R-squared:                       0.081\n",
            "Model:                            OLS   Adj. R-squared:                  0.019\n",
            "Method:                 Least Squares   F-statistic:                     1.299\n",
            "Date:                Sun, 19 May 2024   Prob (F-statistic):              0.251\n",
            "Time:                        16:54:09   Log-Likelihood:                -107.54\n",
            "No. Observations:                 127   AIC:                             233.1\n",
            "Df Residuals:                     118   BIC:                             258.7\n",
            "Df Model:                           8                                         \n",
            "Covariance Type:            nonrobust                                         \n",
            "====================================================================================\n",
            "                       coef    std err          t      P>|t|      [0.025      0.975]\n",
            "------------------------------------------------------------------------------------\n",
            "const                0.9498      0.607      1.565      0.120      -0.252       2.152\n",
            "age                 -0.0018      0.007     -0.267      0.790      -0.015       0.011\n",
            "sex                 -0.2946      0.113     -2.609      0.010      -0.518      -0.071\n",
            "side                -0.0387      0.107     -0.363      0.717      -0.250       0.173\n",
            "asg_0_pre           -0.0768      0.062     -1.246      0.215      -0.199       0.045\n",
            "asg_45_pre           0.1023      0.105      0.971      0.333      -0.106       0.311\n",
            "MRD-1 pre           -0.0147      0.048     -0.306      0.760      -0.110       0.081\n",
            "MRD-1 3M            -0.0955      0.064     -1.486      0.140      -0.223       0.032\n",
            "levator_function    -0.0127      0.024     -0.529      0.598      -0.060       0.035\n",
            "==============================================================================\n",
            "Omnibus:                        1.160   Durbin-Watson:                   1.971\n",
            "Prob(Omnibus):                  0.560   Jarque-Bera (JB):                0.723\n",
            "Skew:                           0.013   Prob(JB):                        0.697\n",
            "Kurtosis:                       3.369   Cond. No.                         895.\n",
            "==============================================================================\n",
            "\n",
            "Notes:\n",
            "[1] Standard Errors assume that the covariance matrix of the errors is correctly specified.\n",
            "\u001b[1m\n",
            "--- Stepwise Regression Analysis for Δasg_0 ---\u001b[0m\n",
            "Add  const with p-value 1.0932763899082988e-06\n",
            "No features were selected for Δasg_0.\n",
            "\u001b[1m\n",
            "--- Linear Regression Analysis for Δasg_45 ---\u001b[0m\n",
            "MSE: 0.13684100493688772, R2: -0.4254442944549661\n",
            "                            OLS Regression Results                            \n",
            "==============================================================================\n",
            "Dep. Variable:                Δasg_45   R-squared:                       0.145\n",
            "Model:                            OLS   Adj. R-squared:                  0.088\n",
            "Method:                 Least Squares   F-statistic:                     2.512\n",
            "Date:                Sun, 19 May 2024   Prob (F-statistic):             0.0148\n",
            "Time:                        16:54:10   Log-Likelihood:                -116.90\n",
            "No. Observations:                 127   AIC:                             251.8\n",
            "Df Residuals:                     118   BIC:                             277.4\n",
            "Df Model:                           8                                         \n",
            "Covariance Type:            nonrobust                                         \n",
            "====================================================================================\n",
            "                       coef    std err          t      P>|t|      [0.025      0.975]\n",
            "------------------------------------------------------------------------------------\n",
            "const                0.7189      0.653      1.100      0.274      -0.575       2.013\n",
            "age                 -0.0028      0.007     -0.387      0.699      -0.017       0.011\n",
            "sex                  0.0954      0.122      0.785      0.434      -0.145       0.336\n",
            "side                -0.2098      0.115     -1.827      0.070      -0.437       0.018\n",
            "asg_0_pre           -0.0223      0.066     -0.336      0.737      -0.154       0.109\n",
            "asg_45_pre          -0.4533      0.113     -3.999      0.000      -0.678      -0.229\n",
            "MRD-1 pre           -0.0269      0.052     -0.519      0.605      -0.130       0.076\n",
            "MRD-1 3M            -0.0774      0.069     -1.119      0.265      -0.214       0.060\n",
            "levator_function    -0.0245      0.026     -0.944      0.347      -0.076       0.027\n",
            "==============================================================================\n",
            "Omnibus:                       48.432   Durbin-Watson:                   1.585\n",
            "Prob(Omnibus):                  0.000   Jarque-Bera (JB):              257.654\n",
            "Skew:                          -1.167   Prob(JB):                     1.13e-56\n",
            "Kurtosis:                       9.576   Cond. No.                         895.\n",
            "==============================================================================\n",
            "\n",
            "Notes:\n",
            "[1] Standard Errors assume that the covariance matrix of the errors is correctly specified.\n",
            "\u001b[1m\n",
            "--- Stepwise Regression Analysis for Δasg_45 ---\u001b[0m\n",
            "Add  asg_45_pre with p-value 0.00017000593527882643\n",
            "Selected features: ['asg_45_pre']\n",
            "Selected model MSE: 0.09421525222454527, R2: 0.01857930818285569\n",
            "                            OLS Regression Results                            \n",
            "==============================================================================\n",
            "Dep. Variable:                Δasg_45   R-squared:                       0.084\n",
            "Model:                            OLS   Adj. R-squared:                  0.077\n",
            "Method:                 Least Squares   F-statistic:                     11.45\n",
            "Date:                Sun, 19 May 2024   Prob (F-statistic):           0.000957\n",
            "Time:                        16:54:10   Log-Likelihood:                -121.32\n",
            "No. Observations:                 127   AIC:                             246.6\n",
            "Df Residuals:                     125   BIC:                             252.3\n",
            "Df Model:                           1                                         \n",
            "Covariance Type:            nonrobust                                         \n",
            "==============================================================================\n",
            "                 coef    std err          t      P>|t|      [0.025      0.975]\n",
            "------------------------------------------------------------------------------\n",
            "const         -0.0586      0.057     -1.035      0.302      -0.171       0.053\n",
            "asg_45_pre    -0.3692      0.109     -3.383      0.001      -0.585      -0.153\n",
            "==============================================================================\n",
            "Omnibus:                       59.174   Durbin-Watson:                   1.596\n",
            "Prob(Omnibus):                  0.000   Jarque-Bera (JB):              396.667\n",
            "Skew:                          -1.406   Prob(JB):                     7.32e-87\n",
            "Kurtosis:                      11.189   Cond. No.                         1.95\n",
            "==============================================================================\n",
            "\n",
            "Notes:\n",
            "[1] Standard Errors assume that the covariance matrix of the errors is correctly specified.\n"
          ]
        }
      ]
    },
    {
      "cell_type": "code",
      "source": [],
      "metadata": {
        "id": "rpXLRB9ehnD5"
      },
      "execution_count": null,
      "outputs": []
    },
    {
      "cell_type": "code",
      "source": [
        "import pandas as pd\n",
        "import numpy as np\n",
        "from sklearn.svm import SVR\n",
        "from sklearn.model_selection import train_test_split\n",
        "from sklearn.metrics import mean_squared_error, r2_score\n",
        "\n",
        "# 必要な列を選択し、欠損値を削除\n",
        "columns = ['Δasg_0','Δasg_45', 'age', 'sex', 'side', 'asg_0_pre', 'asg_45_pre', 'MRD-1 pre', 'MRD-1 3M', 'levator_function']\n",
        "regression_data = data[columns].dropna()\n",
        "\n",
        "# 外れ値を除外する関数\n",
        "def remove_outliers(df, outlier_columns):\n",
        "    filtered_df = df.copy()\n",
        "    for column in outlier_columns:\n",
        "        Q1 = df[column].quantile(0.25)\n",
        "        Q3 = df[column].quantile(0.75)\n",
        "        IQR = Q3 - Q1\n",
        "        lower_bound = Q1 - 1.5 * IQR\n",
        "        upper_bound = Q3 + 1.5 * IQR\n",
        "        filtered_df = filtered_df[(df[column] >= lower_bound) & (df[column] <= upper_bound)]\n",
        "    return filtered_df\n",
        "\n",
        "# 説明変数と目的変数の設定\n",
        "def set_variables(target, outliers_excluded=False, outlier_columns=[]):\n",
        "    if outliers_excluded:\n",
        "        filtered_data = remove_outliers(regression_data, outlier_columns)\n",
        "        X = filtered_data[['age', 'sex', 'side', 'asg_0_pre', 'asg_45_pre', 'MRD-1 pre', 'MRD-1 3M', 'levator_function']]\n",
        "        y = filtered_data[target]\n",
        "    else:\n",
        "        X = regression_data[['age', 'sex', 'side', 'asg_0_pre', 'asg_45_pre', 'MRD-1 pre', 'MRD-1 3M', 'levator_function']]\n",
        "        y = regression_data[target]\n",
        "    return X, y\n",
        "\n",
        "# 太字表示のための関数\n",
        "def print_bold(text):\n",
        "    print(f\"\\033[1m{text}\\033[0m\")\n",
        "\n",
        "# データを訓練セットとテストセットに分割し、SVRモデルを作成・評価\n",
        "def svr_regression_analysis(X, y, target, kernel='rbf', test_size=0.2, random_state=0):\n",
        "    print_bold(f\"\\n--- SVR Regression Analysis for {target} ---\")\n",
        "    X_train, X_test, y_train, y_test = train_test_split(X, y, test_size=test_size, random_state=random_state)\n",
        "\n",
        "    model = SVR(kernel=kernel)\n",
        "    model.fit(X_train, y_train)\n",
        "\n",
        "    y_pred = model.predict(X_test)\n",
        "\n",
        "    mse = mean_squared_error(y_test, y_pred)\n",
        "    r2 = r2_score(y_test, y_pred)\n",
        "\n",
        "    print(f\"MSE: {mse}, R2: {r2}\")\n",
        "\n",
        "    return model, X_train, X_test, y_train, y_test\n",
        "\n",
        "# Δasg_0についての解析\n",
        "X, y = set_variables('Δasg_0', outliers_excluded=False)\n",
        "svr_regression_analysis(X, y, 'Δasg_0')\n",
        "\n",
        "X, y = set_variables('Δasg_0', outliers_excluded=True, outlier_columns=['asg_0_pre', 'asg_45_pre'])\n",
        "svr_regression_analysis(X, y, 'Δasg_0 (Outliers Excluded)')\n",
        "\n",
        "# Δasg_45についての解析\n",
        "X, y = set_variables('Δasg_45', outliers_excluded=False)\n",
        "svr_regression_analysis(X, y, 'Δasg_45')\n",
        "\n",
        "X, y = set_variables('Δasg_45', outliers_excluded=True, outlier_columns=['asg_0_pre', 'asg_45_pre'])\n",
        "svr_regression_analysis(X, y, 'Δasg_45 (Outliers Excluded)')\n"
      ],
      "metadata": {
        "id": "bZYqs7KghnGS"
      },
      "execution_count": null,
      "outputs": []
    },
    {
      "cell_type": "code",
      "source": [],
      "metadata": {
        "id": "ytjJ1S4-Zz0P"
      },
      "execution_count": null,
      "outputs": []
    },
    {
      "cell_type": "code",
      "source": [],
      "metadata": {
        "id": "kG2v9FPIZz2o"
      },
      "execution_count": null,
      "outputs": []
    },
    {
      "cell_type": "markdown",
      "source": [
        "##**Random forest analysis**"
      ],
      "metadata": {
        "id": "gqdt-ZxZgOp4"
      }
    },
    {
      "cell_type": "code",
      "source": [
        "from sklearn.ensemble import RandomForestRegressor\n",
        "from sklearn.model_selection import train_test_split\n",
        "from sklearn.metrics import mean_squared_error, r2_score\n",
        "\n",
        "# Selecting the relevant columns\n",
        "analysis_data = data[['Δasg_0', 'asg_0_pre', 'MRD-1 pre', 'MRD-1 3M']].dropna()\n",
        "\n",
        "# Define features and target\n",
        "X = analysis_data[['asg_0_pre', 'MRD-1 pre', 'MRD-1 3M']]\n",
        "y = analysis_data['Δasg_0']\n",
        "\n",
        "# Split the data into training and testing sets\n",
        "X_train, X_test, y_train, y_test = train_test_split(X, y, test_size=0.3, random_state=42)\n",
        "\n",
        "# Initialize and train the RandomForestRegressor\n",
        "rf_model = RandomForestRegressor(n_estimators=100, random_state=42)\n",
        "rf_model.fit(X_train, y_train)\n",
        "\n",
        "# Make predictions on the test set\n",
        "predictions = rf_model.predict(X_test)\n",
        "\n",
        "# Evaluate the model\n",
        "mse = mean_squared_error(y_test, predictions)\n",
        "r2 = r2_score(y_test, predictions)\n",
        "\n",
        "mse, r2\n"
      ],
      "metadata": {
        "colab": {
          "base_uri": "https://localhost:8080/"
        },
        "id": "nC4xXQa6gWDc",
        "outputId": "ddd72da3-db01-456d-ad21-c756b66e2265"
      },
      "execution_count": null,
      "outputs": [
        {
          "output_type": "execute_result",
          "data": {
            "text/plain": [
              "(0.4928290860567575, -0.25533069874429226)"
            ]
          },
          "metadata": {},
          "execution_count": 109
        }
      ]
    },
    {
      "cell_type": "code",
      "source": [
        "import pandas as pd\n",
        "from sklearn.ensemble import RandomForestRegressor\n",
        "from sklearn.model_selection import train_test_split\n",
        "from sklearn.metrics import mean_squared_error, r2_score\n",
        "\n",
        "# 解析データの準備\n",
        "analysis_data = data[['Δasg_0', 'asg_0_pre', 'Δasg_45', 'asg_45_pre', 'MRD-1 pre', 'MRD-1 3M']].dropna()\n",
        "\n",
        "# Δasg_0 の解析\n",
        "# 特徴量と目的変数の定義\n",
        "X_0 = analysis_data[['asg_0_pre', 'asg_45_pre', 'MRD-1 pre', 'MRD-1 3M']]\n",
        "y_0 = analysis_data['Δasg_0']\n",
        "\n",
        "# データを訓練セットとテストセットに分割\n",
        "X_train_0, X_test_0, y_train_0, y_test_0 = train_test_split(X_0, y_0, test_size=0.3, random_state=42)\n",
        "\n",
        "# ランダムフォレスト回帰モデルの初期化と訓練\n",
        "rf_model_0 = RandomForestRegressor(n_estimators=100, random_state=42)\n",
        "rf_model_0.fit(X_train_0, y_train_0)\n",
        "\n",
        "# テストセットでの予測\n",
        "predictions_0 = rf_model_0.predict(X_test_0)\n",
        "\n",
        "# モデルの評価\n",
        "mse_0 = mean_squared_error(y_test_0, predictions_0)\n",
        "r2_0 = r2_score(y_test_0, predictions_0)\n",
        "\n",
        "# Δasg_45 の解析\n",
        "# 特徴量と目的変数の定義\n",
        "X_45 = analysis_data[['asg_0_pre', 'asg_45_pre', 'MRD-1 pre', 'MRD-1 3M']]\n",
        "y_45 = analysis_data['Δasg_45']\n",
        "\n",
        "# データを訓練セットとテストセットに分割\n",
        "X_train_45, X_test_45, y_train_45, y_test_45 = train_test_split(X_45, y_45, test_size=0.3, random_state=42)\n",
        "\n",
        "# ランダムフォレスト回帰モデルの初期化と訓練\n",
        "rf_model_45 = RandomForestRegressor(n_estimators=100, random_state=42)\n",
        "rf_model_45.fit(X_train_45, y_train_45)\n",
        "\n",
        "# テストセットでの予測\n",
        "predictions_45 = rf_model_45.predict(X_test_45)\n",
        "\n",
        "# モデルの評価\n",
        "mse_45 = mean_squared_error(y_test_45, predictions_45)\n",
        "r2_45 = r2_score(y_test_45, predictions_45)\n",
        "\n",
        "mse_0, r2_0, mse_45, r2_45\n"
      ],
      "metadata": {
        "id": "JaXJz0vN9cB0"
      },
      "execution_count": null,
      "outputs": []
    },
    {
      "cell_type": "code",
      "source": [
        "import pandas as pd\n",
        "from sklearn.ensemble import RandomForestRegressor\n",
        "from sklearn.model_selection import train_test_split\n",
        "from sklearn.metrics import mean_squared_error, r2_score\n",
        "\n",
        "# 解析データの準備\n",
        "analysis_data = data[['Δasg_0', 'asg_0_pre', 'Δasg_45', 'asg_45_pre', 'MRD-1 pre', 'MRD-1 3M']].dropna()\n",
        "\n",
        "def train_and_evaluate_model(X, y):\n",
        "    # データを訓練セットとテストセットに分割\n",
        "    X_train, X_test, y_train, y_test = train_test_split(X, y, test_size=0.3, random_state=42)\n",
        "\n",
        "    # ランダムフォレスト回帰モデルの初期化と訓練\n",
        "    rf_model = RandomForestRegressor(n_estimators=100, random_state=42)\n",
        "    rf_model.fit(X_train, y_train)\n",
        "\n",
        "    # テストセットでの予測\n",
        "    predictions = rf_model.predict(X_test)\n",
        "\n",
        "    # モデルの評価\n",
        "    mse = mean_squared_error(y_test, predictions)\n",
        "    r2 = r2_score(y_test, predictions)\n",
        "\n",
        "    # 特徴量の重要度を取得\n",
        "    feature_importances = rf_model.feature_importances_\n",
        "\n",
        "    return mse, r2, feature_importances\n",
        "\n",
        "# Δasg_0 の解析\n",
        "X_0 = analysis_data[['asg_0_pre', 'MRD-1 pre', 'MRD-1 3M']]\n",
        "y_0 = analysis_data['Δasg_0']\n",
        "mse_0, r2_0, feature_importances_0 = train_and_evaluate_model(X_0, y_0)\n",
        "\n",
        "# Δasg_0 の特徴量重要度をデータフレームに変換\n",
        "feature_importance_df_0 = pd.DataFrame({\n",
        "    'Feature': X_0.columns,\n",
        "    'Importance': feature_importances_0\n",
        "}).sort_values(by='Importance', ascending=False)\n",
        "\n",
        "# Δasg_45 の解析\n",
        "X_45 = analysis_data[['asg_45_pre', 'MRD-1 pre', 'MRD-1 3M']]\n",
        "y_45 = analysis_data['Δasg_45']\n",
        "mse_45, r2_45, feature_importances_45 = train_and_evaluate_model(X_45, y_45)\n",
        "\n",
        "# Δasg_45 の特徴量重要度をデータフレームに変換\n",
        "feature_importance_df_45 = pd.DataFrame({\n",
        "    'Feature': X_45.columns,\n",
        "    'Importance': feature_importances_45\n",
        "}).sort_values(by='Importance', ascending=False)\n",
        "\n",
        "# 結果の表示\n",
        "print(\"Δasg_0 Model Evaluation\")\n",
        "print(f\"MSE: {mse_0}\")\n",
        "print(f\"R²: {r2_0}\")\n",
        "print(feature_importance_df_0)\n",
        "\n",
        "print(\"\\nΔasg_45 Model Evaluation\")\n",
        "print(f\"MSE: {mse_45}\")\n",
        "print(f\"R²: {r2_45}\")\n",
        "print(feature_importance_df_45)\n"
      ],
      "metadata": {
        "colab": {
          "base_uri": "https://localhost:8080/"
        },
        "id": "py-8urgEwTHE",
        "outputId": "17fa1899-5cd4-44ad-ae47-3f11e2b5174b"
      },
      "execution_count": null,
      "outputs": [
        {
          "output_type": "stream",
          "name": "stdout",
          "text": [
            "Δasg_0 Model Evaluation\n",
            "MSE: 0.4928290860567575\n",
            "R²: -0.25533069874429226\n",
            "     Feature  Importance\n",
            "0  asg_0_pre    0.618630\n",
            "1  MRD-1 pre    0.217431\n",
            "2   MRD-1 3M    0.163939\n",
            "\n",
            "Δasg_45 Model Evaluation\n",
            "MSE: 0.40930488761670164\n",
            "R²: -0.30633992043812697\n",
            "      Feature  Importance\n",
            "0  asg_45_pre    0.680591\n",
            "1   MRD-1 pre    0.175465\n",
            "2    MRD-1 3M    0.143944\n"
          ]
        }
      ]
    },
    {
      "cell_type": "code",
      "source": [
        "import pandas as pd\n",
        "from sklearn.ensemble import RandomForestRegressor\n",
        "from sklearn.model_selection import train_test_split\n",
        "from sklearn.metrics import mean_squared_error, r2_score\n",
        "from sklearn.tree import export_graphviz\n",
        "import graphviz\n",
        "\n",
        "# 解析データの準備\n",
        "analysis_data = data[['Δasg_0', 'asg_0_pre', 'Δasg_45', 'asg_45_pre', 'MRD-1 pre', 'MRD-1 3M']].dropna()\n",
        "\n",
        "def train_and_evaluate_model(X, y):\n",
        "    # データを訓練セットとテストセットに分割\n",
        "    X_train, X_test, y_train, y_test = train_test_split(X, y, test_size=0.3, random_state=42)\n",
        "\n",
        "    # ランダムフォレスト回帰モデルの初期化と訓練\n",
        "    rf_model = RandomForestRegressor(n_estimators=100, random_state=42)\n",
        "    rf_model.fit(X_train, y_train)\n",
        "\n",
        "    # テストセットでの予測\n",
        "    predictions = rf_model.predict(X_test)\n",
        "\n",
        "    # モデルの評価\n",
        "    mse = mean_squared_error(y_test, predictions)\n",
        "    r2 = r2_score(y_test, predictions)\n",
        "\n",
        "    # 特徴量の重要度を取得\n",
        "    feature_importances = rf_model.feature_importances_\n",
        "\n",
        "    return rf_model, mse, r2, feature_importances\n",
        "\n",
        "def analyze_variable(target_var, feature_vars):\n",
        "    X = analysis_data[feature_vars]\n",
        "    y = analysis_data[target_var]\n",
        "    rf_model, mse, r2, feature_importances = train_and_evaluate_model(X, y)\n",
        "\n",
        "    feature_importance_df = pd.DataFrame({\n",
        "        'Feature': X.columns,\n",
        "        'Importance': feature_importances\n",
        "    }).sort_values(by='Importance', ascending=False)\n",
        "\n",
        "    # モデルから一つのツリーを抽出して可視化\n",
        "    tree_example = rf_model.estimators_[0]\n",
        "    dot_data = export_graphviz(tree_example, out_file=None,\n",
        "                               feature_names=X.columns,\n",
        "                               filled=True, rounded=True,\n",
        "                               special_characters=True)\n",
        "    graph = graphviz.Source(dot_data)\n",
        "    graph.render(f\"{target_var}_tree\")  # 画像として保存\n",
        "\n",
        "    return mse, r2, feature_importance_df, graph\n",
        "\n",
        "# Δasg_0 の解析\n",
        "mse_0, r2_0, feature_importance_df_0, graph_0 = analyze_variable('Δasg_0', ['MRD-1 3M'])\n",
        "\n",
        "# Δasg_45 の解析\n",
        "mse_45, r2_45, feature_importance_df_45, graph_45 = analyze_variable('Δasg_45', ['MRD-1 3M'])\n",
        "\n",
        "# 結果の表示\n",
        "print(\"Δasg_0 Model Evaluation\")\n",
        "print(f\"MSE: {mse_0}\")\n",
        "print(f\"R²: {r2_0}\")\n",
        "print(feature_importance_df_0)\n",
        "\n",
        "print(\"\\nΔasg_45 Model Evaluation\")\n",
        "print(f\"MSE: {mse_45}\")\n",
        "print(f\"R²: {r2_45}\")\n",
        "print(feature_importance_df_45)\n",
        "\n",
        "# 表示\n",
        "graph_0\n",
        "# graph_45\n"
      ],
      "metadata": {
        "id": "MaRhgHorhugH"
      },
      "execution_count": null,
      "outputs": []
    },
    {
      "cell_type": "code",
      "source": [
        "# Save the graph to a file\n",
        "graph_path = '/content/graph.dot'\n",
        "graph_0.render(graph_path)\n",
        "\n",
        "# Provide the path to the saved graph file\n",
        "graph_path + '.pdf'"
      ],
      "metadata": {
        "colab": {
          "base_uri": "https://localhost:8080/",
          "height": 35
        },
        "id": "CDS9c11jkJ3X",
        "outputId": "d7fd3ba9-95f6-4804-e1bb-33f0066334a2"
      },
      "execution_count": null,
      "outputs": [
        {
          "output_type": "execute_result",
          "data": {
            "text/plain": [
              "'/content/graph.dot.pdf'"
            ],
            "application/vnd.google.colaboratory.intrinsic+json": {
              "type": "string"
            }
          },
          "metadata": {},
          "execution_count": 74
        }
      ]
    },
    {
      "cell_type": "markdown",
      "source": [
        "###**Decision tree analysis**"
      ],
      "metadata": {
        "id": "Dp12aNSRFw4D"
      }
    },
    {
      "cell_type": "code",
      "source": [
        "import pandas as pd\n",
        "from sklearn.tree import DecisionTreeRegressor\n",
        "from sklearn.model_selection import train_test_split\n",
        "from sklearn.metrics import mean_squared_error, r2_score\n",
        "from sklearn.tree import export_graphviz\n",
        "import graphviz\n",
        "\n",
        "# データの準備\n",
        "analysis_data = data[['Δasg_0', 'MRD-1 pre', 'MRD-1 3M']].dropna()\n",
        "\n",
        "# 特徴量と目的変数の定義\n",
        "X = analysis_data[['MRD-1 3M']]\n",
        "y = analysis_data['Δasg_0']\n",
        "\n",
        "# データを訓練セットとテストセットに分割\n",
        "X_train, X_test, y_train, y_test = train_test_split(X, y, test_size=0.3, random_state=42)\n",
        "\n",
        "# 決定木回帰モデルの初期化と訓練\n",
        "dt_model = DecisionTreeRegressor(random_state=42)\n",
        "dt_model.fit(X_train, y_train)\n",
        "\n",
        "# テストセットでの予測\n",
        "predictions = dt_model.predict(X_test)\n",
        "\n",
        "# モデルの評価\n",
        "mse = mean_squared_error(y_test, predictions)\n",
        "r2 = r2_score(y_test, predictions)\n",
        "\n",
        "print(f\"MSE: {mse}\")\n",
        "print(f\"R²: {r2}\")\n",
        "\n",
        "# 決定木の可視化\n",
        "dot_data = export_graphviz(dt_model, out_file=None,\n",
        "                           feature_names=X.columns,\n",
        "                           filled=True, rounded=True,\n",
        "                           special_characters=True)\n",
        "graph = graphviz.Source(dot_data)\n",
        "graph.render(\"decision_tree_Δasg_0\")  # 画像として保存\n",
        "\n",
        "# グラフを表示\n",
        "graph\n"
      ],
      "metadata": {
        "id": "Gt7dUKb5hRAg"
      },
      "execution_count": null,
      "outputs": []
    },
    {
      "cell_type": "code",
      "source": [
        "import pandas as pd\n",
        "from sklearn.tree import DecisionTreeClassifier, export_graphviz\n",
        "from sklearn.model_selection import train_test_split\n",
        "from sklearn.metrics import accuracy_score\n",
        "import graphviz\n",
        "\n",
        "# データの準備\n",
        "analysis_data = data[['Δasg_0', 'MRD-1 pre', 'MRD-1 3M']].dropna()\n",
        "\n",
        "# 特徴量と目的変数の定義\n",
        "X = analysis_data[['MRD-1 pre']]\n",
        "y = (analysis_data['Δasg_0'] > analysis_data['Δasg_0'].mean()).astype(int)\n",
        "\n",
        "# データを訓練セットとテストセットに分割\n",
        "X_train, X_test, y_train, y_test = train_test_split(X, y, test_size=0.3, random_state=42)\n",
        "\n",
        "# 決定木分類モデルの初期化と訓練\n",
        "dt_model = DecisionTreeClassifier(random_state=42)\n",
        "dt_model.fit(X_train, y_train)\n",
        "\n",
        "# テストセットでの予測\n",
        "predictions = dt_model.predict(X_test)\n",
        "\n",
        "# モデルの評価\n",
        "accuracy = accuracy_score(y_test, predictions)\n",
        "print(f\"Accuracy: {accuracy}\")\n",
        "\n",
        "# 決定木の可視化\n",
        "dot_data = export_graphviz(dt_model, out_file=None,\n",
        "                           feature_names=X.columns,\n",
        "                           class_names=['Below Average', 'Above Average'],\n",
        "                           filled=True, rounded=True,\n",
        "                           special_characters=True)\n",
        "graph = graphviz.Source(dot_data)\n",
        "graph.render(\"decision_tree_Δasg_0_classification\")  # 画像として保存\n",
        "\n",
        "# グラフを表示\n",
        "graph\n"
      ],
      "metadata": {
        "id": "Hb4Z526QYWoU"
      },
      "execution_count": null,
      "outputs": []
    },
    {
      "cell_type": "code",
      "source": [
        "max(data[\"MRD-1 3M\"])"
      ],
      "metadata": {
        "colab": {
          "base_uri": "https://localhost:8080/"
        },
        "id": "3ly8eqZfF1_C",
        "outputId": "36468272-5f9c-4593-dbe4-eb5a24bdd93f"
      },
      "execution_count": null,
      "outputs": [
        {
          "output_type": "execute_result",
          "data": {
            "text/plain": [
              "7.0"
            ]
          },
          "metadata": {},
          "execution_count": 97
        }
      ]
    },
    {
      "cell_type": "code",
      "source": [
        "# MRD-1 preとMRD-1 3Mのプロット（Δasg-0で色分けあり）\n",
        "import matplotlib.pyplot as plt\n",
        "\n",
        "# Create a scatter plot\n",
        "plt.figure(figsize=(10, 6))\n",
        "scatter = plt.scatter(data['MRD-1 3M'], data['MRD-1 pre'], c=data['Δasg_0'], cmap='viridis')\n",
        "plt.colorbar(scatter, label='Δasg_0')\n",
        "\n",
        "plt.title('Scatter Plot of MRD-1 pre vs MRD-1 3M with Δasg_0 Color Coding')\n",
        "plt.xlabel('MRD-1 3M')\n",
        "plt.ylabel('MRD-1 pre')\n",
        "plt.grid(True)\n",
        "plt.show()\n"
      ],
      "metadata": {
        "id": "GegUf6ipx6NG"
      },
      "execution_count": null,
      "outputs": []
    },
    {
      "cell_type": "code",
      "source": [],
      "metadata": {
        "id": "0UiBlgzRFJmN"
      },
      "execution_count": null,
      "outputs": []
    },
    {
      "cell_type": "code",
      "source": [],
      "metadata": {
        "id": "JoV-iGS4voZD"
      },
      "execution_count": null,
      "outputs": []
    },
    {
      "cell_type": "code",
      "source": [],
      "metadata": {
        "id": "qNCvp01zvoav"
      },
      "execution_count": null,
      "outputs": []
    },
    {
      "cell_type": "code",
      "source": [],
      "metadata": {
        "id": "yKqnpF1jvoc4"
      },
      "execution_count": null,
      "outputs": []
    },
    {
      "cell_type": "markdown",
      "source": [
        "#**一括して解析**"
      ],
      "metadata": {
        "id": "mbmP8y-kvopJ"
      }
    },
    {
      "cell_type": "code",
      "source": [
        "import pandas as pd\n",
        "from google.colab import drive\n",
        "drive.mount(\"/content/drive\")\n",
        "\n",
        "pd.set_option('display.max_columns', 300)\n",
        "pd.set_option('display.max_rows', 300)\n",
        "\n",
        "xlsx_path = \"/content/drive/MyDrive/研究/進行中の研究/眼瞼下垂手術による屈折変化/眼瞼下垂_proprocessed.xlsx\"\n",
        "data = pd.read_excel(xlsx_path, header=0)\n",
        "\n",
        "def print_stats(data, step_name):\n",
        "    unique_id_count = data['ID'].nunique()\n",
        "    total_rows = len(data)\n",
        "    print(f\"\\n{step_name}\")\n",
        "    print(f\"Number of unique IDs: {unique_id_count}\")\n",
        "    print(f\"Total number of rows: {total_rows}\")\n",
        "\n",
        "print_stats(data, \"Initial data\")\n",
        "\n",
        "##################\n",
        "# 眼瞼手術歴を除外\n",
        "##################\n",
        "excluded_data = data[data['eyelid_surg'] == 1]\n",
        "excluded_count = excluded_data['ID'].nunique()\n",
        "data = data[data['eyelid_surg'] != 1]\n",
        "print_stats(data, \"眼瞼手術歴を除外\")\n",
        "print(f\"Number of unique IDs excluded: {excluded_count}\")\n",
        "\n",
        "########################\n",
        "# 角膜混濁/HCL症例を除外\n",
        "########################\n",
        "excluded_data = data[data['corneal_matter'] == 1]\n",
        "excluded_count = excluded_data['ID'].nunique()\n",
        "data = data[data['corneal_matter'] != 1]\n",
        "print_stats(data, \"角膜混濁を除外\")\n",
        "print(f\"Number of unique IDs excluded: {excluded_count}\")\n",
        "\n",
        "##################\n",
        "# 外れ値を除外\n",
        "##################\n",
        "def remove_outliers(data, columns):\n",
        "    excluded_ids = set()\n",
        "    for column in columns:\n",
        "        q1 = data[column].quantile(0.25)\n",
        "        q3 = data[column].quantile(0.75)\n",
        "        iqr = q3 - q1\n",
        "        lower_bound = q1 - 1.5 * iqr\n",
        "        upper_bound = q3 + 1.5 * iqr\n",
        "        outliers = data[(data[column] < lower_bound) | (data[column] > upper_bound)]\n",
        "        excluded_ids.update(outliers['ID'])\n",
        "        data = data[(data[column] >= lower_bound) & (data[column] <= upper_bound)]\n",
        "    return data, len(excluded_ids)\n",
        "\n",
        "# 外れ値を除外する列のリスト\n",
        "columns_to_remove_outliers = [\"asg_0_pre\", \"asg_45_pre\", \"MRD-1 3M\"]\n",
        "\n",
        "# 外れ値を除外\n",
        "data, excluded_count = remove_outliers(data, columns_to_remove_outliers)\n",
        "print_stats(data, \"外れ値を除外\")\n",
        "print(f\"Number of unique IDs excluded: {excluded_count}\")\n",
        "\n",
        "print(\"\\nFinal dataset:\")\n",
        "print_stats(data, \"After all exclusions\")"
      ],
      "metadata": {
        "colab": {
          "base_uri": "https://localhost:8080/"
        },
        "id": "HeV2wSpRvtO4",
        "outputId": "e42b001f-29d5-414d-fc80-e3abecc00f82"
      },
      "execution_count": 53,
      "outputs": [
        {
          "output_type": "stream",
          "name": "stdout",
          "text": [
            "Drive already mounted at /content/drive; to attempt to forcibly remount, call drive.mount(\"/content/drive\", force_remount=True).\n",
            "\n",
            "Initial data\n",
            "Number of unique IDs: 112\n",
            "Total number of rows: 189\n",
            "\n",
            "眼瞼手術歴を除外\n",
            "Number of unique IDs: 107\n",
            "Total number of rows: 179\n",
            "Number of unique IDs excluded: 6\n",
            "\n",
            "角膜混濁を除外\n",
            "Number of unique IDs: 101\n",
            "Total number of rows: 167\n",
            "Number of unique IDs excluded: 8\n",
            "\n",
            "外れ値を除外\n",
            "Number of unique IDs: 95\n",
            "Total number of rows: 154\n",
            "Number of unique IDs excluded: 12\n",
            "\n",
            "Final dataset:\n",
            "\n",
            "After all exclusions\n",
            "Number of unique IDs: 95\n",
            "Total number of rows: 154\n"
          ]
        }
      ]
    },
    {
      "cell_type": "code",
      "source": [
        "# このスクリプトは処理済みのDataFrameをExcelファイルとして保存します。\n",
        "# 保存先は /content/ ディレクトリで、ファイル名には現在の日時が含まれます。\n",
        "\n",
        "import pandas as pd\n",
        "from datetime import datetime\n",
        "\n",
        "# 現在の日時を取得\n",
        "timestamp = datetime.now().strftime(\"%Y%m%d_%H%M%S\")\n",
        "\n",
        "# タイムスタンプを含むファイル名を作成\n",
        "file_name = f\"processed_data_{timestamp}.xlsx\"\n",
        "\n",
        "# 新しいExcelファイルの完全なパスを設定\n",
        "output_path = f\"/content/{file_name}\"\n",
        "\n",
        "# DataFrameをExcelファイルとして保存\n",
        "# index=Falseを指定して、インデックスを除外\n",
        "data.to_excel(output_path, index=False)\n",
        "\n",
        "print(f\"DataFrameを次の場所に保存しました: {output_path}\")"
      ],
      "metadata": {
        "id": "i-rZQztsI-Bv"
      },
      "execution_count": null,
      "outputs": []
    },
    {
      "cell_type": "code",
      "source": [
        "# Extract relevant columns\n",
        "columns_of_interest = ['ID', 'MRD-1 pre', 'MRD-1 3M', 'asg_0_pre', 'asg_45_pre', 'asg_0_3M', 'asg_45_3M', 'Δasg_0', 'Δasg_45', 'age', 'sex', 'side', 'levator_function']\n",
        "data_relevant = data[columns_of_interest]\n",
        "\n",
        "# 各項目の統計量を表示\n",
        "statistics = data_relevant.describe(include='all')\n",
        "\n",
        "# age, sex, sideの内訳を表示\n",
        "sex_counts = data_relevant['sex'].value_counts()\n",
        "side_counts = data_relevant['side'].value_counts()\n",
        "\n",
        "# idが同じものは1例に数える\n",
        "unique_sex_counts = data_relevant.drop_duplicates(subset='ID')['sex'].value_counts()\n",
        "\n",
        "print(statistics)\n",
        "print(\"Sex counts:\\n\", sex_counts)\n",
        "print(\"Side counts:\\n\", side_counts)\n",
        "print(\"Unique Sex counts:\\n\", unique_sex_counts)\n"
      ],
      "metadata": {
        "colab": {
          "base_uri": "https://localhost:8080/"
        },
        "id": "h5Lg_VxCwCvB",
        "outputId": "86525b3a-5274-489c-dbca-6503159f706b"
      },
      "execution_count": 12,
      "outputs": [
        {
          "output_type": "stream",
          "name": "stdout",
          "text": [
            "                 ID   MRD-1 pre    MRD-1 3M   asg_0_pre    asg_45_pre  \\\n",
            "count  1.540000e+02  154.000000  154.000000  154.000000  1.540000e+02   \n",
            "mean   9.739313e+06    0.477273    3.451299   -0.111228 -1.183933e-02   \n",
            "std    2.612365e+06    1.180369    0.888874    0.953240  5.204141e-01   \n",
            "min    1.655521e+06   -3.000000    1.500000   -2.425739 -1.114717e+00   \n",
            "25%    7.779561e+06    0.000000    3.000000   -0.762543 -3.447873e-01   \n",
            "50%    1.094606e+07    0.500000    3.500000   -0.115269  1.959435e-16   \n",
            "75%    1.175111e+07    1.000000    4.000000    0.486807  2.874628e-01   \n",
            "max    1.242201e+07    3.000000    5.500000    2.377641  1.385641e+00   \n",
            "\n",
            "         asg_0_3M   asg_45_3M      Δasg_0     Δasg_45         age         sex  \\\n",
            "count  154.000000  154.000000  154.000000  154.000000  154.000000  154.000000   \n",
            "mean     0.113619   -0.071715    0.224847   -0.059876   75.480519    0.396104   \n",
            "std      1.054822    0.679851    0.596592    0.612243    8.414290    0.490682   \n",
            "min     -2.166577   -3.654182   -1.240938   -3.737805   46.000000    0.000000   \n",
            "25%     -0.614102   -0.411259   -0.146152   -0.332439   70.250000    0.000000   \n",
            "50%      0.070915   -0.073110    0.178128   -0.031831   76.000000    0.000000   \n",
            "75%      0.752191    0.346664    0.586301    0.266702   81.000000    1.000000   \n",
            "max      2.713754    1.695742    2.000000    1.758522   92.000000    1.000000   \n",
            "\n",
            "             side  levator_function  \n",
            "count  154.000000        154.000000  \n",
            "mean     0.493506          9.373377  \n",
            "std      0.501589          2.316156  \n",
            "min      0.000000          4.000000  \n",
            "25%      0.000000          8.000000  \n",
            "50%      0.000000          9.000000  \n",
            "75%      1.000000         11.000000  \n",
            "max      1.000000         16.000000  \n",
            "Sex counts:\n",
            " sex\n",
            "0    93\n",
            "1    61\n",
            "Name: count, dtype: int64\n",
            "Side counts:\n",
            " side\n",
            "0    78\n",
            "1    76\n",
            "Name: count, dtype: int64\n",
            "Unique Sex counts:\n",
            " sex\n",
            "0    58\n",
            "1    37\n",
            "Name: count, dtype: int64\n"
          ]
        }
      ]
    },
    {
      "cell_type": "code",
      "source": [
        "import pandas as pd\n",
        "import matplotlib.pyplot as plt\n",
        "\n",
        "# 必要な列を選択し、欠損値を削除\n",
        "columns = ['Δasg_0', 'Δasg_45', 'asg_0_pre', 'asg_45_pre', 'asg_0_3M', 'asg_45_3M', 'MRD-1 pre', 'MRD-1 3M', 'levator_function']\n",
        "regression_data = data_relevant[columns].dropna()\n",
        "\n",
        "# 各項目の統計量を表示\n",
        "statistics = regression_data.describe(include='all')\n",
        "print(statistics)\n",
        "\n",
        "# Δasg_0とΔasg_45の箱ひげ図をまとめて作成\n",
        "plt.figure(figsize=(8, 6))\n",
        "regression_data[['Δasg_0', 'Δasg_45']].boxplot()\n",
        "plt.title('Boxplot of Δasg_0 and Δasg_45')\n",
        "plt.ylabel('Values')\n",
        "plt.show()\n",
        "\n",
        "# asg_0_preとasg_45_preの箱ひげ図をまとめて作成\n",
        "plt.figure(figsize=(8, 6))\n",
        "regression_data[['asg_0_pre', 'asg_45_pre']].boxplot()\n",
        "plt.title('Boxplot of asg_0_pre and asg_45_pre')\n",
        "plt.ylabel('Values')\n",
        "plt.show()\n",
        "\n",
        "# asg_0_preとasg_0_3Mの箱ひげ図をまとめて作成\n",
        "plt.figure(figsize=(8, 6))\n",
        "regression_data[['asg_0_pre', 'asg_0_3M']].boxplot()\n",
        "plt.title('Boxplot of asg_0_pre and asg_0_3M')\n",
        "plt.ylabel('Values')\n",
        "plt.show()\n",
        "\n",
        "# asg_45_preとasg_45_3Mの箱ひげ図をまとめて作成\n",
        "plt.figure(figsize=(8, 6))\n",
        "regression_data[['asg_45_pre', 'asg_45_3M']].boxplot()\n",
        "plt.title('Boxplot of asg_45_pre and asg_45_3M')\n",
        "plt.ylabel('Values')\n",
        "plt.show()\n",
        "\n",
        "# MRD-1 preとMRD-1 3Mの箱ひげ図をまとめて作成\n",
        "plt.figure(figsize=(8, 6))\n",
        "regression_data[['MRD-1 pre', 'MRD-1 3M']].boxplot()\n",
        "plt.title('Boxplot of MRD-1 pre and MRD-1 3M')\n",
        "plt.ylabel('Values')\n",
        "plt.show()\n",
        "\n",
        "# levator_functionの箱ひげ図を作成\n",
        "plt.figure(figsize=(8, 6))\n",
        "regression_data.boxplot(column=['levator_function'])\n",
        "plt.title('Boxplot of levator_function')\n",
        "plt.ylabel('Values')\n",
        "plt.show()\n"
      ],
      "metadata": {
        "id": "mf99GdYc4CbL"
      },
      "execution_count": null,
      "outputs": []
    },
    {
      "cell_type": "code",
      "source": [
        "# Importing necessary libraries\n",
        "from scipy.stats import ttest_rel\n",
        "import pandas as pd\n",
        "\n",
        "# Define a function to remove outliers based on IQR\n",
        "def remove_outliers_iqr(data):\n",
        "    Q1 = data.quantile(0.25)\n",
        "    Q3 = data.quantile(0.75)\n",
        "    IQR = Q3 - Q1\n",
        "    lower_bound = Q1 - 1.5 * IQR\n",
        "    upper_bound = Q3 + 1.5 * IQR\n",
        "    return data[(data >= lower_bound) & (data <= upper_bound)]\n",
        "\n",
        "# Define a function to calculate mean, SD, and p-value for paired t-test\n",
        "def calculate_statistics(pre, post):\n",
        "    pre_no_outliers = remove_outliers_iqr(pre)\n",
        "    post_no_outliers = remove_outliers_iqr(post)\n",
        "    # pre_no_outliers = pre\n",
        "    # post_no_outliers = post\n",
        "\n",
        "\n",
        "    matched_data = pd.DataFrame({'pre': pre_no_outliers, 'post': post}).dropna()\n",
        "\n",
        "    mean_pre = pre_no_outliers.mean()\n",
        "    std_pre = pre_no_outliers.std()\n",
        "    mean_post = matched_data['post'].mean()\n",
        "    std_post = matched_data['post'].std()\n",
        "\n",
        "    t_test = ttest_rel(matched_data['pre'], matched_data['post'], nan_policy='omit')\n",
        "\n",
        "    return {\n",
        "        'pre_mean_sd': f\"{mean_pre:.3f} ± {std_pre:.3f}\",\n",
        "        'post_mean_sd': f\"{mean_post:.3f} ± {std_post:.3f}\",\n",
        "        'p_value': f\"{t_test.pvalue:.3e}\"\n",
        "    }\n",
        "\n",
        "# Applying the function to evaluate pre and post-surgery changes in asg_0 and asg_45\n",
        "asg_0_stats = calculate_statistics(data_relevant['asg_0_pre'], data_relevant['asg_0_3M'])\n",
        "asg_45_stats = calculate_statistics(data_relevant['asg_45_pre'], data_relevant['asg_45_3M'])\n",
        "\n",
        "print(f\"change in asg_0: {asg_0_stats}\")\n",
        "print(f\"change in asg_45: {asg_45_stats}\")"
      ],
      "metadata": {
        "colab": {
          "base_uri": "https://localhost:8080/"
        },
        "id": "6-QkjO233Pez",
        "outputId": "1a61f7e3-3ff0-49c3-ceef-3ac3bc2ac0fa"
      },
      "execution_count": 82,
      "outputs": [
        {
          "output_type": "stream",
          "name": "stdout",
          "text": [
            "change in asg_0: {'pre_mean_sd': '-0.127 ± 0.935', 'post_mean_sd': '0.101 ± 1.046', 'p_value': '5.192e-06'}\n",
            "change in asg_45: {'pre_mean_sd': '-0.056 ± 0.467', 'post_mean_sd': '-0.100 ± 0.666', 'p_value': '3.808e-01'}\n"
          ]
        }
      ]
    },
    {
      "cell_type": "code",
      "source": [
        "import pandas as pd\n",
        "import statsmodels.api as sm\n",
        "\n",
        "# Prepare the data for regression analysis for asg_0_pre and asg_45_pre\n",
        "X_asg_pre = data_relevant[['age', 'sex', 'side', 'MRD-1 pre', 'levator_function']]\n",
        "y_asg_0_pre = data_relevant['asg_0_pre']\n",
        "y_asg_45_pre = data_relevant['asg_45_pre']\n",
        "\n",
        "# Perform regression analysis for asg_0_pre\n",
        "model_asg_0_pre = sm.OLS(y_asg_0_pre, sm.add_constant(X_asg_pre)).fit()\n",
        "\n",
        "# Perform regression analysis for asg_45_pre\n",
        "model_asg_45_pre = sm.OLS(y_asg_45_pre, sm.add_constant(X_asg_pre)).fit()\n",
        "\n",
        "# Get the summary of the regression analysis\n",
        "summary_asg_0_pre = model_asg_0_pre.summary()\n",
        "summary_asg_45_pre = model_asg_45_pre.summary()\n",
        "\n",
        "summary_asg_0_pre, summary_asg_45_pre\n"
      ],
      "metadata": {
        "colab": {
          "base_uri": "https://localhost:8080/"
        },
        "id": "AjuWua991cq9",
        "outputId": "42ea45eb-eb79-41f1-8495-60c444331801"
      },
      "execution_count": 83,
      "outputs": [
        {
          "output_type": "execute_result",
          "data": {
            "text/plain": [
              "(<class 'statsmodels.iolib.summary.Summary'>\n",
              " \"\"\"\n",
              "                             OLS Regression Results                            \n",
              " ==============================================================================\n",
              " Dep. Variable:              asg_0_pre   R-squared:                       0.124\n",
              " Model:                            OLS   Adj. R-squared:                  0.095\n",
              " Method:                 Least Squares   F-statistic:                     4.207\n",
              " Date:                Mon, 05 Aug 2024   Prob (F-statistic):            0.00133\n",
              " Time:                        12:23:43   Log-Likelihood:                -200.41\n",
              " No. Observations:                 154   AIC:                             412.8\n",
              " Df Residuals:                     148   BIC:                             431.0\n",
              " Df Model:                           5                                         \n",
              " Covariance Type:            nonrobust                                         \n",
              " ====================================================================================\n",
              "                        coef    std err          t      P>|t|      [0.025      0.975]\n",
              " ------------------------------------------------------------------------------------\n",
              " const                2.3236      0.830      2.799      0.006       0.683       3.964\n",
              " age                 -0.0330      0.009     -3.632      0.000      -0.051      -0.015\n",
              " sex                 -0.1681      0.151     -1.114      0.267      -0.466       0.130\n",
              " side                 0.1039      0.147      0.708      0.480      -0.186       0.394\n",
              " MRD-1 pre            0.1076      0.067      1.610      0.109      -0.024       0.240\n",
              " levator_function     0.0024      0.035      0.069      0.945      -0.067       0.072\n",
              " ==============================================================================\n",
              " Omnibus:                        0.238   Durbin-Watson:                   1.239\n",
              " Prob(Omnibus):                  0.888   Jarque-Bera (JB):                0.234\n",
              " Skew:                           0.090   Prob(JB):                        0.890\n",
              " Kurtosis:                       2.939   Cond. No.                         870.\n",
              " ==============================================================================\n",
              " \n",
              " Notes:\n",
              " [1] Standard Errors assume that the covariance matrix of the errors is correctly specified.\n",
              " \"\"\",\n",
              " <class 'statsmodels.iolib.summary.Summary'>\n",
              " \"\"\"\n",
              "                             OLS Regression Results                            \n",
              " ==============================================================================\n",
              " Dep. Variable:             asg_45_pre   R-squared:                       0.091\n",
              " Model:                            OLS   Adj. R-squared:                  0.060\n",
              " Method:                 Least Squares   F-statistic:                     2.962\n",
              " Date:                Mon, 05 Aug 2024   Prob (F-statistic):             0.0141\n",
              " Time:                        12:23:43   Log-Likelihood:                -110.09\n",
              " No. Observations:                 154   AIC:                             232.2\n",
              " Df Residuals:                     148   BIC:                             250.4\n",
              " Df Model:                           5                                         \n",
              " Covariance Type:            nonrobust                                         \n",
              " ====================================================================================\n",
              "                        coef    std err          t      P>|t|      [0.025      0.975]\n",
              " ------------------------------------------------------------------------------------\n",
              " const                0.0959      0.462      0.208      0.836      -0.817       1.008\n",
              " age                 -0.0021      0.005     -0.416      0.678      -0.012       0.008\n",
              " sex                  0.2075      0.084      2.472      0.015       0.042       0.373\n",
              " side                -0.2263      0.082     -2.773      0.006      -0.388      -0.065\n",
              " MRD-1 pre           -0.0101      0.037     -0.272      0.786      -0.084       0.063\n",
              " levator_function     0.0091      0.020      0.465      0.643      -0.030       0.048\n",
              " ==============================================================================\n",
              " Omnibus:                        5.620   Durbin-Watson:                   2.108\n",
              " Prob(Omnibus):                  0.060   Jarque-Bera (JB):                5.170\n",
              " Skew:                           0.395   Prob(JB):                       0.0754\n",
              " Kurtosis:                       3.427   Cond. No.                         870.\n",
              " ==============================================================================\n",
              " \n",
              " Notes:\n",
              " [1] Standard Errors assume that the covariance matrix of the errors is correctly specified.\n",
              " \"\"\")"
            ]
          },
          "metadata": {},
          "execution_count": 83
        }
      ]
    },
    {
      "cell_type": "code",
      "source": [
        "import statsmodels.api as sm\n",
        "\n",
        "# Ordinary Least Squares (最小二乗法)を用いた解析\n",
        "\n",
        "# Prepare the data for regression analysis for Δasg_0 and Δasg_45\n",
        "X = data_relevant[['age', 'sex', 'side', 'asg_0_pre', 'asg_45_pre', 'MRD-1 pre', 'MRD-1 3M']]\n",
        "X = sm.add_constant(X)  # Adding a constant term for the intercept\n",
        "\n",
        "# Dependent variables\n",
        "y_asg_0 = data_relevant['Δasg_0']\n",
        "y_asg_45 = data_relevant['Δasg_45']\n",
        "\n",
        "# Perform regression analysis for Δasg_0\n",
        "model_asg_0 = sm.OLS(y_asg_0, X).fit()\n",
        "\n",
        "# Perform regression analysis for Δasg_45\n",
        "model_asg_45 = sm.OLS(y_asg_45, X).fit()\n",
        "\n",
        "# Get the summary of the regression analysis\n",
        "summary_asg_0 = model_asg_0.summary()\n",
        "summary_asg_45 = model_asg_45.summary()\n",
        "\n",
        "summary_asg_0, summary_asg_45\n"
      ],
      "metadata": {
        "colab": {
          "base_uri": "https://localhost:8080/"
        },
        "id": "DN7K_dBYwMp6",
        "outputId": "a19fd5a0-aa0f-47c7-d490-64104b3c6c1b"
      },
      "execution_count": 84,
      "outputs": [
        {
          "output_type": "execute_result",
          "data": {
            "text/plain": [
              "(<class 'statsmodels.iolib.summary.Summary'>\n",
              " \"\"\"\n",
              "                             OLS Regression Results                            \n",
              " ==============================================================================\n",
              " Dep. Variable:                 Δasg_0   R-squared:                       0.082\n",
              " Model:                            OLS   Adj. R-squared:                  0.038\n",
              " Method:                 Least Squares   F-statistic:                     1.854\n",
              " Date:                Mon, 05 Aug 2024   Prob (F-statistic):             0.0812\n",
              " Time:                        12:23:51   Log-Likelihood:                -131.91\n",
              " No. Observations:                 154   AIC:                             279.8\n",
              " Df Residuals:                     146   BIC:                             304.1\n",
              " Df Model:                           7                                         \n",
              " Covariance Type:            nonrobust                                         \n",
              " ==============================================================================\n",
              "                  coef    std err          t      P>|t|      [0.025      0.975]\n",
              " ------------------------------------------------------------------------------\n",
              " const          0.5686      0.483      1.178      0.241      -0.386       1.523\n",
              " age         6.015e-05      0.006      0.010      0.992      -0.012       0.012\n",
              " sex           -0.2932      0.102     -2.882      0.005      -0.494      -0.092\n",
              " side           0.0255      0.097      0.263      0.793      -0.166       0.217\n",
              " asg_0_pre     -0.1058      0.055     -1.936      0.055      -0.214       0.002\n",
              " asg_45_pre     0.0636      0.096      0.661      0.510      -0.127       0.254\n",
              " MRD-1 pre     -0.0365      0.042     -0.874      0.384      -0.119       0.046\n",
              " MRD-1 3M      -0.0691      0.058     -1.198      0.233      -0.183       0.045\n",
              " ==============================================================================\n",
              " Omnibus:                        5.856   Durbin-Watson:                   1.734\n",
              " Prob(Omnibus):                  0.054   Jarque-Bera (JB):                6.456\n",
              " Skew:                           0.285   Prob(JB):                       0.0396\n",
              " Kurtosis:                       3.825   Cond. No.                         780.\n",
              " ==============================================================================\n",
              " \n",
              " Notes:\n",
              " [1] Standard Errors assume that the covariance matrix of the errors is correctly specified.\n",
              " \"\"\",\n",
              " <class 'statsmodels.iolib.summary.Summary'>\n",
              " \"\"\"\n",
              "                             OLS Regression Results                            \n",
              " ==============================================================================\n",
              " Dep. Variable:                Δasg_45   R-squared:                       0.128\n",
              " Model:                            OLS   Adj. R-squared:                  0.086\n",
              " Method:                 Least Squares   F-statistic:                     3.066\n",
              " Date:                Mon, 05 Aug 2024   Prob (F-statistic):            0.00485\n",
              " Time:                        12:23:51   Log-Likelihood:                -131.90\n",
              " No. Observations:                 154   AIC:                             279.8\n",
              " Df Residuals:                     146   BIC:                             304.1\n",
              " Df Model:                           7                                         \n",
              " Covariance Type:            nonrobust                                         \n",
              " ==============================================================================\n",
              "                  coef    std err          t      P>|t|      [0.025      0.975]\n",
              " ------------------------------------------------------------------------------\n",
              " const          0.4829      0.483      1.000      0.319      -0.471       1.437\n",
              " age           -0.0045      0.006     -0.762      0.447      -0.016       0.007\n",
              " sex            0.1095      0.102      1.077      0.283      -0.092       0.311\n",
              " side          -0.1692      0.097     -1.742      0.084      -0.361       0.023\n",
              " asg_0_pre     -0.0273      0.055     -0.500      0.618      -0.135       0.081\n",
              " asg_45_pre    -0.4133      0.096     -4.297      0.000      -0.603      -0.223\n",
              " MRD-1 pre     -0.0469      0.042     -1.122      0.264      -0.129       0.036\n",
              " MRD-1 3M      -0.0420      0.058     -0.729      0.467      -0.156       0.072\n",
              " ==============================================================================\n",
              " Omnibus:                       55.375   Durbin-Watson:                   1.916\n",
              " Prob(Omnibus):                  0.000   Jarque-Bera (JB):              359.312\n",
              " Skew:                          -1.089   Prob(JB):                     9.47e-79\n",
              " Kurtosis:                      10.159   Cond. No.                         780.\n",
              " ==============================================================================\n",
              " \n",
              " Notes:\n",
              " [1] Standard Errors assume that the covariance matrix of the errors is correctly specified.\n",
              " \"\"\")"
            ]
          },
          "metadata": {},
          "execution_count": 84
        }
      ]
    },
    {
      "cell_type": "code",
      "source": [],
      "metadata": {
        "id": "fdmoeTlbMP-X"
      },
      "execution_count": null,
      "outputs": []
    },
    {
      "cell_type": "code",
      "source": [
        "import numpy as np\n",
        "import pandas as pd\n",
        "from sklearn.linear_model import LinearRegression\n",
        "import statsmodels.api as sm\n",
        "from scipy import stats\n",
        "\n",
        "def print_bold(text):\n",
        "    print('\\033[1m' + text + '\\033[0m')\n",
        "\n",
        "def multivariate_regression_analysis(X, y, target):\n",
        "    print_bold(f\"\\n--- Multivariate Linear Regression Analysis for {target} ---\")\n",
        "    X_sm = sm.add_constant(X)\n",
        "    model = sm.OLS(y, X_sm).fit()\n",
        "    print(model.summary())\n",
        "\n",
        "def univariate_regression_analysis(X, y, target):\n",
        "    print_bold(f\"\\n--- Univariate Linear Regression Analysis for {target} ---\")\n",
        "    results = []\n",
        "    for column in X.columns:\n",
        "        X_uni = X[[column]]\n",
        "\n",
        "        # statsmodelsを使用して回帰分析を実行\n",
        "        X_sm = sm.add_constant(X_uni)\n",
        "        model_sm = sm.OLS(y, X_sm).fit()\n",
        "\n",
        "        # 結果を取得\n",
        "        coef = model_sm.params[column]  # 変数名を使用して係数を取得\n",
        "        std_err = model_sm.bse[column]\n",
        "        t_value = model_sm.tvalues[column]\n",
        "        p_value = model_sm.pvalues[column]\n",
        "        ci = model_sm.conf_int().loc[column]\n",
        "        r_squared = model_sm.rsquared\n",
        "\n",
        "        results.append({\n",
        "            'Variable': column,\n",
        "            'Coefficient': coef,\n",
        "            'Std Error': std_err,\n",
        "            't-value': t_value,\n",
        "            'P-value': p_value,\n",
        "            'CI Lower': ci[0],\n",
        "            'CI Upper': ci[1],\n",
        "            'R-squared': r_squared\n",
        "        })\n",
        "\n",
        "    results_df = pd.DataFrame(results)\n",
        "    pd.set_option('display.float_format', '{:.4f}'.format)\n",
        "    print(results_df.to_string(index=False))\n",
        "\n",
        "# Perform multivariate regression analysis\n",
        "multivariate_regression_analysis(X, y_asg_0, 'Δasg_0')\n",
        "multivariate_regression_analysis(X, y_asg_45, 'Δasg_45')\n",
        "\n",
        "# Perform univariate regression analysis\n",
        "univariate_regression_analysis(X, y_asg_0, 'Δasg_0')\n",
        "univariate_regression_analysis(X, y_asg_45, 'Δasg_45')"
      ],
      "metadata": {
        "colab": {
          "base_uri": "https://localhost:8080/"
        },
        "id": "Hl46UPL_MQAM",
        "outputId": "6038f5a9-e1cc-4d37-f3a3-61297aedb4bb"
      },
      "execution_count": 85,
      "outputs": [
        {
          "output_type": "stream",
          "name": "stdout",
          "text": [
            "\u001b[1m\n",
            "--- Multivariate Linear Regression Analysis for Δasg_0 ---\u001b[0m\n",
            "                            OLS Regression Results                            \n",
            "==============================================================================\n",
            "Dep. Variable:                 Δasg_0   R-squared:                       0.082\n",
            "Model:                            OLS   Adj. R-squared:                  0.038\n",
            "Method:                 Least Squares   F-statistic:                     1.854\n",
            "Date:                Mon, 05 Aug 2024   Prob (F-statistic):             0.0812\n",
            "Time:                        12:23:58   Log-Likelihood:                -131.91\n",
            "No. Observations:                 154   AIC:                             279.8\n",
            "Df Residuals:                     146   BIC:                             304.1\n",
            "Df Model:                           7                                         \n",
            "Covariance Type:            nonrobust                                         \n",
            "==============================================================================\n",
            "                 coef    std err          t      P>|t|      [0.025      0.975]\n",
            "------------------------------------------------------------------------------\n",
            "const          0.5686      0.483      1.178      0.241      -0.386       1.523\n",
            "age         6.015e-05      0.006      0.010      0.992      -0.012       0.012\n",
            "sex           -0.2932      0.102     -2.882      0.005      -0.494      -0.092\n",
            "side           0.0255      0.097      0.263      0.793      -0.166       0.217\n",
            "asg_0_pre     -0.1058      0.055     -1.936      0.055      -0.214       0.002\n",
            "asg_45_pre     0.0636      0.096      0.661      0.510      -0.127       0.254\n",
            "MRD-1 pre     -0.0365      0.042     -0.874      0.384      -0.119       0.046\n",
            "MRD-1 3M      -0.0691      0.058     -1.198      0.233      -0.183       0.045\n",
            "==============================================================================\n",
            "Omnibus:                        5.856   Durbin-Watson:                   1.734\n",
            "Prob(Omnibus):                  0.054   Jarque-Bera (JB):                6.456\n",
            "Skew:                           0.285   Prob(JB):                       0.0396\n",
            "Kurtosis:                       3.825   Cond. No.                         780.\n",
            "==============================================================================\n",
            "\n",
            "Notes:\n",
            "[1] Standard Errors assume that the covariance matrix of the errors is correctly specified.\n",
            "\u001b[1m\n",
            "--- Multivariate Linear Regression Analysis for Δasg_45 ---\u001b[0m\n",
            "                            OLS Regression Results                            \n",
            "==============================================================================\n",
            "Dep. Variable:                Δasg_45   R-squared:                       0.128\n",
            "Model:                            OLS   Adj. R-squared:                  0.086\n",
            "Method:                 Least Squares   F-statistic:                     3.066\n",
            "Date:                Mon, 05 Aug 2024   Prob (F-statistic):            0.00485\n",
            "Time:                        12:23:58   Log-Likelihood:                -131.90\n",
            "No. Observations:                 154   AIC:                             279.8\n",
            "Df Residuals:                     146   BIC:                             304.1\n",
            "Df Model:                           7                                         \n",
            "Covariance Type:            nonrobust                                         \n",
            "==============================================================================\n",
            "                 coef    std err          t      P>|t|      [0.025      0.975]\n",
            "------------------------------------------------------------------------------\n",
            "const          0.4829      0.483      1.000      0.319      -0.471       1.437\n",
            "age           -0.0045      0.006     -0.762      0.447      -0.016       0.007\n",
            "sex            0.1095      0.102      1.077      0.283      -0.092       0.311\n",
            "side          -0.1692      0.097     -1.742      0.084      -0.361       0.023\n",
            "asg_0_pre     -0.0273      0.055     -0.500      0.618      -0.135       0.081\n",
            "asg_45_pre    -0.4133      0.096     -4.297      0.000      -0.603      -0.223\n",
            "MRD-1 pre     -0.0469      0.042     -1.122      0.264      -0.129       0.036\n",
            "MRD-1 3M      -0.0420      0.058     -0.729      0.467      -0.156       0.072\n",
            "==============================================================================\n",
            "Omnibus:                       55.375   Durbin-Watson:                   1.916\n",
            "Prob(Omnibus):                  0.000   Jarque-Bera (JB):              359.312\n",
            "Skew:                          -1.089   Prob(JB):                     9.47e-79\n",
            "Kurtosis:                      10.159   Cond. No.                         780.\n",
            "==============================================================================\n",
            "\n",
            "Notes:\n",
            "[1] Standard Errors assume that the covariance matrix of the errors is correctly specified.\n",
            "\u001b[1m\n",
            "--- Univariate Linear Regression Analysis for Δasg_0 ---\u001b[0m\n",
            "  Variable  Coefficient  Std Error  t-value  P-value  CI Lower  CI Upper  R-squared\n",
            "     const       0.2248     0.0481   4.6770   0.0000    0.1299    0.3198     0.0000\n",
            "       age       0.0012     0.0058   0.2065   0.8367   -0.0102    0.0125     0.0003\n",
            "       sex      -0.2245     0.0969  -2.3162   0.0219   -0.4160   -0.0330     0.0341\n",
            "      side       0.0120     0.0965   0.1243   0.9012   -0.1786    0.2026     0.0001\n",
            " asg_0_pre      -0.0836     0.0503  -1.6619   0.0986   -0.1830    0.0158     0.0178\n",
            "asg_45_pre       0.0368     0.0929   0.3962   0.6925   -0.1468    0.2204     0.0010\n",
            " MRD-1 pre      -0.0541     0.0408  -1.3282   0.1861   -0.1347    0.0264     0.0115\n",
            "  MRD-1 3M      -0.0312     0.0544  -0.5745   0.5665   -0.1387    0.0762     0.0022\n",
            "\u001b[1m\n",
            "--- Univariate Linear Regression Analysis for Δasg_45 ---\u001b[0m\n",
            "  Variable  Coefficient  Std Error  t-value  P-value  CI Lower  CI Upper  R-squared\n",
            "     const      -0.0599     0.0493  -1.2136   0.2268   -0.1573    0.0376     0.0000\n",
            "       age      -0.0026     0.0059  -0.4389   0.6614   -0.0142    0.0091     0.0013\n",
            "       sex       0.0464     0.1011   0.4585   0.6472   -0.1534    0.2462     0.0014\n",
            "      side      -0.0777     0.0988  -0.7867   0.4327   -0.2729    0.1175     0.0041\n",
            " asg_0_pre      -0.0091     0.0521  -0.1743   0.8619   -0.1120    0.0938     0.0002\n",
            "asg_45_pre      -0.3387     0.0914  -3.7067   0.0003   -0.5193   -0.1582     0.0829\n",
            " MRD-1 pre      -0.0528     0.0419  -1.2613   0.2091   -0.1355    0.0299     0.0104\n",
            "  MRD-1 3M      -0.0324     0.0558  -0.5815   0.5618   -0.1427    0.0778     0.0022\n"
          ]
        }
      ]
    },
    {
      "cell_type": "code",
      "source": [
        "# Δasg_0について、sexとasg_0_preを使用した多変量線形回帰分析\n",
        "X_reduced = X[['sex', 'asg_0_pre']]\n",
        "multivariate_regression_analysis(X_reduced, y_asg_0, 'Δasg_0 (age and asg_0_pre only)')"
      ],
      "metadata": {
        "id": "u9tbBrgVepNA",
        "outputId": "3b53dd8b-d3a0-439c-aaa4-5d0af2ece0f4",
        "colab": {
          "base_uri": "https://localhost:8080/"
        }
      },
      "execution_count": 86,
      "outputs": [
        {
          "output_type": "stream",
          "name": "stdout",
          "text": [
            "\u001b[1m\n",
            "--- Multivariate Linear Regression Analysis for Δasg_0 (age and asg_0_pre only) ---\u001b[0m\n",
            "                            OLS Regression Results                            \n",
            "==============================================================================\n",
            "Dep. Variable:                 Δasg_0   R-squared:                       0.059\n",
            "Model:                            OLS   Adj. R-squared:                  0.047\n",
            "Method:                 Least Squares   F-statistic:                     4.774\n",
            "Date:                Mon, 05 Aug 2024   Prob (F-statistic):            0.00977\n",
            "Time:                        12:24:04   Log-Likelihood:                -133.75\n",
            "No. Observations:                 154   AIC:                             273.5\n",
            "Df Residuals:                     151   BIC:                             282.6\n",
            "Df Model:                           2                                         \n",
            "Covariance Type:            nonrobust                                         \n",
            "==============================================================================\n",
            "                 coef    std err          t      P>|t|      [0.025      0.975]\n",
            "------------------------------------------------------------------------------\n",
            "const          0.3128      0.060      5.179      0.000       0.193       0.432\n",
            "sex           -0.2502      0.097     -2.585      0.011      -0.441      -0.059\n",
            "asg_0_pre     -0.1006      0.050     -2.018      0.045      -0.199      -0.002\n",
            "==============================================================================\n",
            "Omnibus:                        5.610   Durbin-Watson:                   1.733\n",
            "Prob(Omnibus):                  0.061   Jarque-Bera (JB):                6.278\n",
            "Skew:                           0.263   Prob(JB):                       0.0433\n",
            "Kurtosis:                       3.838   Cond. No.                         2.53\n",
            "==============================================================================\n",
            "\n",
            "Notes:\n",
            "[1] Standard Errors assume that the covariance matrix of the errors is correctly specified.\n"
          ]
        }
      ]
    },
    {
      "cell_type": "code",
      "source": [
        "import numpy as np\n",
        "import pandas as pd\n",
        "from sklearn.model_selection import train_test_split\n",
        "from sklearn.linear_model import LinearRegression\n",
        "from sklearn.metrics import mean_squared_error, r2_score\n",
        "import statsmodels.api as sm\n",
        "from statsmodels.tools import add_constant\n",
        "\n",
        "def print_bold(text):\n",
        "    print(f\"\\033[1m{text}\\033[0m\")\n",
        "\n",
        "def stepwise_selection(X, y, initial_list=[], threshold_in=0.01, threshold_out=0.05, verbose=True):\n",
        "    \"\"\" Perform a forward-backward feature selection\n",
        "    based on p-value from statsmodels.api.OLS\n",
        "    Arguments:\n",
        "        X - pandas.DataFrame with candidate features\n",
        "        y - list-like with the target\n",
        "        initial_list - list of features to start with (keep fixed)\n",
        "        threshold_in - include a feature if its p-value < threshold_in\n",
        "        threshold_out - exclude a feature if its p-value > threshold_out\n",
        "        verbose - whether to print the sequence of inclusions and exclusions\n",
        "    Returns: list of selected features\n",
        "    \"\"\"\n",
        "    included = list(initial_list)\n",
        "    while True:\n",
        "        changed = False\n",
        "        # forward step\n",
        "        excluded = list(set(X.columns) - set(included))\n",
        "        new_pval = pd.Series(index=excluded, dtype=float)\n",
        "        for new_column in excluded:\n",
        "            model = sm.OLS(y, sm.add_constant(pd.DataFrame(X[included + [new_column]]))).fit()\n",
        "            new_pval[new_column] = model.pvalues[new_column]\n",
        "        best_pval = new_pval.min()\n",
        "        if best_pval < threshold_in:\n",
        "            best_feature = new_pval.idxmin()\n",
        "            included.append(best_feature)\n",
        "            changed = True\n",
        "            if verbose:\n",
        "                print(f'Add  {best_feature} with p-value {best_pval}')\n",
        "        # backward step\n",
        "        model = sm.OLS(y, sm.add_constant(pd.DataFrame(X[included]))).fit()\n",
        "        # use all coefs except intercept\n",
        "        pvalues = model.pvalues.iloc[1:]\n",
        "        worst_pval = pvalues.max()\n",
        "        if worst_pval > threshold_out:\n",
        "            changed = True\n",
        "            worst_feature = pvalues.idxmax()\n",
        "            included.remove(worst_feature)\n",
        "            if verbose:\n",
        "                print(f'Drop {worst_feature} with p-value {worst_pval}')\n",
        "        if not changed:\n",
        "            break\n",
        "    return included\n",
        "\n",
        "def linear_regression_analysis(X, y, target, test_size=0.2, random_state=0):\n",
        "    print_bold(f\"\\n--- Linear Regression Analysis for {target} ---\")\n",
        "    X_train, X_test, y_train, y_test = train_test_split(X, y, test_size=test_size, random_state=random_state)\n",
        "\n",
        "    selected_features = stepwise_selection(X_train, y_train)\n",
        "    if not selected_features:\n",
        "        print(\"No features were selected using stepwise selection.\")\n",
        "        return None, None, None, None, None, None\n",
        "\n",
        "    print(f\"Selected features: {selected_features}\")\n",
        "\n",
        "    X_train_selected = X_train[selected_features]\n",
        "    X_test_selected = X_test[selected_features]\n",
        "\n",
        "    model = LinearRegression()\n",
        "    model.fit(X_train_selected, y_train)\n",
        "\n",
        "    y_pred = model.predict(X_test_selected)\n",
        "    mse = mean_squared_error(y_test, y_pred)\n",
        "    r2 = r2_score(y_test, y_pred)\n",
        "    print(f\"MSE: {mse:.4f}, R2: {r2:.4f}\")\n",
        "\n",
        "    X_train_sm = sm.add_constant(X_train_selected)\n",
        "    model_sm = sm.OLS(y_train, X_train_sm).fit()\n",
        "    print(model_sm.summary())\n",
        "\n",
        "    # Calculate AIC\n",
        "    aic = model_sm.aic\n",
        "    print(f\"AIC: {aic:.4f}\")\n",
        "\n",
        "    return model, X_train_selected, X_test_selected, y_train, y_test, aic\n",
        "\n",
        "# Perform regression analysis for Δasg_0\n",
        "model_asg_0, X_train_asg_0, X_test_asg_0, y_train_asg_0, y_test_asg_0, aic_asg_0 = linear_regression_analysis(X, y_asg_0, 'Δasg_0')\n",
        "\n",
        "# Perform regression analysis for Δasg_45\n",
        "model_asg_45, X_train_asg_45, X_test_asg_45, y_train_asg_45, y_test_asg_45, aic_asg_45 = linear_regression_analysis(X, y_asg_45, 'Δasg_45')\n"
      ],
      "metadata": {
        "id": "sZIPxQap_b4v",
        "outputId": "93080957-ab5b-4784-8708-a8efa4608102",
        "colab": {
          "base_uri": "https://localhost:8080/"
        }
      },
      "execution_count": 87,
      "outputs": [
        {
          "output_type": "stream",
          "name": "stdout",
          "text": [
            "\u001b[1m\n",
            "--- Linear Regression Analysis for Δasg_0 ---\u001b[0m\n",
            "Add  const with p-value 0.00019599009597075516\n",
            "Selected features: ['const']\n",
            "MSE: 0.3674, R2: -0.0247\n",
            "                            OLS Regression Results                            \n",
            "==============================================================================\n",
            "Dep. Variable:                 Δasg_0   R-squared:                       0.000\n",
            "Model:                            OLS   Adj. R-squared:                  0.000\n",
            "Method:                 Least Squares   F-statistic:                       nan\n",
            "Date:                Mon, 05 Aug 2024   Prob (F-statistic):                nan\n",
            "Time:                        12:27:30   Log-Likelihood:                -110.07\n",
            "No. Observations:                 123   AIC:                             222.1\n",
            "Df Residuals:                     122   BIC:                             225.0\n",
            "Df Model:                           0                                         \n",
            "Covariance Type:            nonrobust                                         \n",
            "==============================================================================\n",
            "                 coef    std err          t      P>|t|      [0.025      0.975]\n",
            "------------------------------------------------------------------------------\n",
            "const          0.2059      0.054      3.841      0.000       0.100       0.312\n",
            "==============================================================================\n",
            "Omnibus:                        1.641   Durbin-Watson:                   2.094\n",
            "Prob(Omnibus):                  0.440   Jarque-Bera (JB):                1.149\n",
            "Skew:                           0.174   Prob(JB):                        0.563\n",
            "Kurtosis:                       3.321   Cond. No.                         1.00\n",
            "==============================================================================\n",
            "\n",
            "Notes:\n",
            "[1] Standard Errors assume that the covariance matrix of the errors is correctly specified.\n",
            "AIC: 222.1381\n",
            "\u001b[1m\n",
            "--- Linear Regression Analysis for Δasg_45 ---\u001b[0m\n",
            "Add  asg_45_pre with p-value 0.003876613342014524\n",
            "Selected features: ['asg_45_pre']\n",
            "MSE: 0.2321, R2: 0.1618\n",
            "                            OLS Regression Results                            \n",
            "==============================================================================\n",
            "Dep. Variable:                Δasg_45   R-squared:                       0.067\n",
            "Model:                            OLS   Adj. R-squared:                  0.059\n",
            "Method:                 Least Squares   F-statistic:                     8.672\n",
            "Date:                Mon, 05 Aug 2024   Prob (F-statistic):            0.00388\n",
            "Time:                        12:27:30   Log-Likelihood:                -113.32\n",
            "No. Observations:                 123   AIC:                             230.6\n",
            "Df Residuals:                     121   BIC:                             236.3\n",
            "Df Model:                           1                                         \n",
            "Covariance Type:            nonrobust                                         \n",
            "==============================================================================\n",
            "                 coef    std err          t      P>|t|      [0.025      0.975]\n",
            "------------------------------------------------------------------------------\n",
            "const         -0.0793      0.055     -1.432      0.155      -0.189       0.030\n",
            "asg_45_pre    -0.3143      0.107     -2.945      0.004      -0.526      -0.103\n",
            "==============================================================================\n",
            "Omnibus:                       64.613   Durbin-Watson:                   1.761\n",
            "Prob(Omnibus):                  0.000   Jarque-Bera (JB):              545.021\n",
            "Skew:                          -1.528   Prob(JB):                    4.47e-119\n",
            "Kurtosis:                      12.849   Cond. No.                         1.93\n",
            "==============================================================================\n",
            "\n",
            "Notes:\n",
            "[1] Standard Errors assume that the covariance matrix of the errors is correctly specified.\n",
            "AIC: 230.6438\n"
          ]
        }
      ]
    },
    {
      "cell_type": "code",
      "source": [
        "# Random forest\n",
        "\n",
        "from sklearn.ensemble import RandomForestRegressor\n",
        "from sklearn.metrics import mean_squared_error, r2_score\n",
        "from sklearn.model_selection import train_test_split\n",
        "\n",
        "# Prepare the data\n",
        "X = data_relevant[['MRD-1 pre', 'MRD-1 3M']]\n",
        "y_asg_0 = data_relevant['Δasg_0']\n",
        "y_asg_45 = data_relevant['Δasg_45']\n",
        "\n",
        "# Split the data into training and testing sets\n",
        "X_train, X_test, y_asg_0_train, y_asg_0_test = train_test_split(X, y_asg_0, test_size=0.2, random_state=42)\n",
        "X_train, X_test, y_asg_45_train, y_asg_45_test = train_test_split(X, y_asg_45, test_size=0.2, random_state=42)\n",
        "\n",
        "# Initialize and train the RandomForestRegressor for Δasg_0\n",
        "rf_asg_0 = RandomForestRegressor(random_state=42)\n",
        "rf_asg_0.fit(X_train, y_asg_0_train)\n",
        "\n",
        "# Predict and evaluate the model for Δasg_0\n",
        "y_asg_0_pred = rf_asg_0.predict(X_test)\n",
        "mse_asg_0 = mean_squared_error(y_asg_0_test, y_asg_0_pred)\n",
        "r2_asg_0 = r2_score(y_asg_0_test, y_asg_0_pred)\n",
        "\n",
        "# Initialize and train the RandomForestRegressor for Δasg_45\n",
        "rf_asg_45 = RandomForestRegressor(random_state=42)\n",
        "rf_asg_45.fit(X_train, y_asg_45_train)\n",
        "\n",
        "# Predict and evaluate the model for Δasg_45\n",
        "y_asg_45_pred = rf_asg_45.predict(X_test)\n",
        "mse_asg_45 = mean_squared_error(y_asg_45_test, y_asg_45_pred)\n",
        "r2_asg_45 = r2_score(y_asg_45_test, y_asg_45_pred)\n",
        "\n",
        "mse_asg_0, r2_asg_0, mse_asg_45, r2_asg_45\n"
      ],
      "metadata": {
        "colab": {
          "base_uri": "https://localhost:8080/"
        },
        "id": "mc8tqdWn01Oz",
        "outputId": "fddb34ac-7381-4575-c338-42e53d9384b3"
      },
      "execution_count": 43,
      "outputs": [
        {
          "output_type": "execute_result",
          "data": {
            "text/plain": [
              "(0.5765675381791086,\n",
              " -0.1965101693218616,\n",
              " 0.40982556596090586,\n",
              " -0.4522520543841908)"
            ]
          },
          "metadata": {},
          "execution_count": 43
        }
      ]
    },
    {
      "cell_type": "code",
      "source": [
        "from sklearn.preprocessing import PolynomialFeatures\n",
        "from sklearn.linear_model import LinearRegression\n",
        "\n",
        "# Prepare the polynomial features\n",
        "poly = PolynomialFeatures(degree=2)\n",
        "X_poly = poly.fit_transform(X)\n",
        "\n",
        "# Split the data into training and testing sets\n",
        "X_poly_train, X_poly_test, y_asg_0_train, y_asg_0_test = train_test_split(X_poly, y_asg_0, test_size=0.2, random_state=42)\n",
        "X_poly_train, X_poly_test, y_asg_45_train, y_asg_45_test = train_test_split(X_poly, y_asg_45, test_size=0.2, random_state=42)\n",
        "\n",
        "# Initialize and train the LinearRegression model for Δasg_0\n",
        "poly_model_asg_0 = LinearRegression()\n",
        "poly_model_asg_0.fit(X_poly_train, y_asg_0_train)\n",
        "\n",
        "# Predict and evaluate the model for Δasg_0\n",
        "y_asg_0_poly_pred = poly_model_asg_0.predict(X_poly_test)\n",
        "mse_poly_asg_0 = mean_squared_error(y_asg_0_test, y_asg_0_poly_pred)\n",
        "r2_poly_asg_0 = r2_score(y_asg_0_test, y_asg_0_poly_pred)\n",
        "\n",
        "# Initialize and train the LinearRegression model for Δasg_45\n",
        "poly_model_asg_45 = LinearRegression()\n",
        "poly_model_asg_45.fit(X_poly_train, y_asg_45_train)\n",
        "\n",
        "# Predict and evaluate the model for Δasg_45\n",
        "y_asg_45_poly_pred = poly_model_asg_45.predict(X_poly_test)\n",
        "mse_poly_asg_45 = mean_squared_error(y_asg_45_test, y_asg_45_poly_pred)\n",
        "r2_poly_asg_45 = r2_score(y_asg_45_test, y_asg_45_poly_pred)\n",
        "\n",
        "mse_poly_asg_0, r2_poly_asg_0, mse_poly_asg_45, r2_poly_asg_45\n"
      ],
      "metadata": {
        "colab": {
          "base_uri": "https://localhost:8080/"
        },
        "id": "wSf-xsvb2XTk",
        "outputId": "aea75556-6df0-4ccd-b5d2-d7849906abf5"
      },
      "execution_count": 44,
      "outputs": [
        {
          "output_type": "execute_result",
          "data": {
            "text/plain": [
              "(0.46981055961299084,\n",
              " 0.025035099951961515,\n",
              " 0.31813981274054604,\n",
              " -0.12735572157529274)"
            ]
          },
          "metadata": {},
          "execution_count": 44
        }
      ]
    }
  ]
}