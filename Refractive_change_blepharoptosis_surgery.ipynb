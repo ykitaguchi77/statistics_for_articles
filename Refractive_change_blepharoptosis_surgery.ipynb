{
  "nbformat": 4,
  "nbformat_minor": 0,
  "metadata": {
    "colab": {
      "provenance": [],
      "authorship_tag": "ABX9TyMJFqHrHaETY1FbjcxiDaos",
      "include_colab_link": true
    },
    "kernelspec": {
      "name": "python3",
      "display_name": "Python 3"
    },
    "language_info": {
      "name": "python"
    }
  },
  "cells": [
    {
      "cell_type": "markdown",
      "metadata": {
        "id": "view-in-github",
        "colab_type": "text"
      },
      "source": [
        "<a href=\"https://colab.research.google.com/github/ykitaguchi77/statistics_for_articles/blob/main/Refractive_change_blepharoptosis_surgery.ipynb\" target=\"_parent\"><img src=\"https://colab.research.google.com/assets/colab-badge.svg\" alt=\"Open In Colab\"/></a>"
      ]
    },
    {
      "cell_type": "markdown",
      "source": [
        "#**Refractive change in blepharoptosis surgery**"
      ],
      "metadata": {
        "id": "OqObWQc1_T1U"
      }
    },
    {
      "cell_type": "code",
      "execution_count": 3,
      "metadata": {
        "colab": {
          "base_uri": "https://localhost:8080/"
        },
        "id": "Yup3T2Lay4gD",
        "outputId": "75bc4e44-0f5a-4288-c2b3-ec2694116961"
      },
      "outputs": [
        {
          "output_type": "stream",
          "name": "stdout",
          "text": [
            "Mounted at /content/drive\n"
          ]
        }
      ],
      "source": [
        "from google.colab import drive\n",
        "drive.mount(\"/content/drive\")"
      ]
    },
    {
      "cell_type": "code",
      "source": [
        "import pandas as pd\n",
        "pd.set_option('display.max_columns', 300)\n",
        "pd.set_option('display.max_rows', 300)"
      ],
      "metadata": {
        "id": "9nC8Dlyz7RBz"
      },
      "execution_count": 1,
      "outputs": []
    },
    {
      "cell_type": "code",
      "source": [
        "import pandas as pd\n",
        "\n",
        "xlsx_path = \"/content/drive/MyDrive/研究/進行中の研究/眼瞼下垂手術による屈折変化/眼瞼下垂.xlsx\"\n",
        "\n",
        "data = pd.read_excel(xlsx_path, header=1)\n",
        "\n",
        "# Display the first few rows of the dataframe and its columns to understand its structure\n",
        "data"
      ],
      "metadata": {
        "id": "nVb210bozJ73",
        "collapsed": true
      },
      "execution_count": null,
      "outputs": []
    },
    {
      "cell_type": "code",
      "source": [
        "# Step 1: Filter rows where surgery is bilateral (手術側 == 'B')\n",
        "bilateral_cases = data[data['手術側'] == 'B'].copy()\n",
        "unilateral_cases = data[data['手術側'] != 'B'].copy()\n",
        "unilateral_right_cases = data[data['手術側'] == 'R'].copy()\n",
        "unilateral_left_cases = data[data['手術側'] == 'L'].copy()\n",
        "print(f\"Number of bilateral cases: {len(bilateral_cases)}\")\n",
        "print(f\"Number of unilateral cases: {len(unilateral_cases)}\")\n",
        "\n",
        "# Step 2: Duplicate these rows for 'R' and 'L'\n",
        "bilateral_right_cases = bilateral_cases.copy()\n",
        "bilateral_left_cases = bilateral_cases.copy()\n",
        "\n",
        "# Assign 'R' and 'L' to the new surgery side columns\n",
        "bilateral_right_cases.loc[:, '手術側'] = 'R'\n",
        "bilateral_left_cases.loc[:, '手術側'] = 'L'\n",
        "\n",
        "# Step 3: Concatenate the modified bilateral and unilateral cases\n",
        "right_cases = pd.concat([bilateral_right_cases, unilateral_right_cases])\n",
        "left_cases = pd.concat([bilateral_left_cases, unilateral_left_cases])\n",
        "\n",
        "# Step 3: Rename and reallocate columns containing 'R' or 'L' for bilateral cases\n",
        "for column in right_cases.columns:\n",
        "    if ' R' in column:\n",
        "        # Extract the base column name without ' R'\n",
        "        new_column_name = column.replace(' R', '')\n",
        "        # Copy data to a new column without side specification\n",
        "        right_cases.loc[:, new_column_name] = right_cases[column]\n",
        "        # Drop the original ' R' column\n",
        "        right_cases.drop(column, axis=1, inplace=True)\n",
        "    elif ' L' in column:\n",
        "        # # Extract the base column name without ' L'\n",
        "        # new_column_name = column.replace(' L', '')\n",
        "        # # Copy data to a new column without side specification\n",
        "        # right_cases.loc[:, new_column_name] = right_cases[column]\n",
        "        # Drop the original ' L' column\n",
        "        right_cases.drop(column, axis=1, inplace=True)\n",
        "\n",
        "for column in left_cases.columns:\n",
        "    if ' R' in column:\n",
        "        # # Extract the base column name without ' R'\n",
        "        # new_column_name = column.replace(' R', '')\n",
        "        # # Copy data to a new column without side specification\n",
        "        # left_cases.loc[:, new_column_name] = left_cases[column]\n",
        "        # # Drop the original ' R' column\n",
        "        left_cases.drop(column, axis=1, inplace=True)\n",
        "    elif ' L' in column:\n",
        "        # Extract the base column name without ' L'\n",
        "        new_column_name = column.replace(' L', '')\n",
        "        # Copy data to a new column without side specification\n",
        "        left_cases.loc[:, new_column_name] = left_cases[column]\n",
        "        # Drop the original ' L' column\n",
        "        left_cases.drop(column, axis=1, inplace=True)\n",
        "\n",
        "# Combine the duplicated rows back into a single dataframe\n",
        "final_df = pd.concat([right_cases, left_cases])\n",
        "final_df = final_df.sort_values(by='ID').reset_index(drop=True)\n",
        "# ソート後のデータフレームを表示して確認\n",
        "#final_df\n",
        "\n",
        "#final_df.to_excel('output.xlsx', index=False)\n"
      ],
      "metadata": {
        "id": "knMc1iJR6Ciu",
        "colab": {
          "base_uri": "https://localhost:8080/"
        },
        "outputId": "0cca00b8-59c3-4402-f7f8-8f820bb80c94"
      },
      "execution_count": 5,
      "outputs": [
        {
          "output_type": "stream",
          "name": "stdout",
          "text": [
            "Number of bilateral cases: 94\n",
            "Number of unilateral cases: 37\n"
          ]
        }
      ]
    },
    {
      "cell_type": "code",
      "source": [
        "try:\n",
        "    # Copy values from '波面4M' and '波面post' to '波面3M'\n",
        "    final_df['波面3M'] = final_df[['波面3M', '波面4M', '波面post']].bfill(axis=1).iloc[:, 0]\n",
        "\n",
        "    # Drop the columns '波面4M' and '波面post'\n",
        "    final_df.drop(columns=['波面4M', '波面post'], inplace=True)\n",
        "    print(\"波面3M updated!\")\n",
        "except:\n",
        "    pass\n",
        "\n",
        "try:\n",
        "    # Copy values from '波面4M' and '波面post' to '波面3M'\n",
        "    final_df['AveK 3M'] = final_df[['AveK 3M', 'AveK post']].bfill(axis=1).iloc[:, 0]\n",
        "\n",
        "    # Drop the columns '波面4M' and '波面post'\n",
        "    final_df.drop(columns=['AveK post'], inplace=True)\n",
        "    print(\"AveK 3M updated!\")\n",
        "except:\n",
        "    pass\n",
        "\n",
        "try:\n",
        "    # Copy values from '波面4M' and '波面post' to '波面3M'\n",
        "    final_df['CYL 3M'] = final_df[['CYL 3M', 'CYL post']].bfill(axis=1).iloc[:, 0]\n",
        "\n",
        "    # Drop the columns '波面4M' and '波面post'\n",
        "    final_df.drop(columns=['CYL post'], inplace=True)\n",
        "    print(\"CYL 3M updated!\")\n",
        "except:\n",
        "    pass\n",
        "\n",
        "try:\n",
        "    # Copy values from '波面4M' and '波面post' to '波面3M'\n",
        "    final_df['angle 3M'] = final_df[['angle 3M', 'angle post']].bfill(axis=1).iloc[:, 0]\n",
        "\n",
        "    # Drop the columns '波面4M' and '波面post'\n",
        "    final_df.drop(columns=['angle post'], inplace=True)\n",
        "    print(\"angle 3M updated!\")\n",
        "except:\n",
        "    pass\n",
        "\n",
        "try:\n",
        "    # Copy values from '波面4M' and '波面post' to '波面3M'\n",
        "    final_df['angle 3M'] = final_df[['angle 3M', 'angle post']].bfill(axis=1).iloc[:, 0]\n",
        "\n",
        "    # Drop the columns '波面4M' and '波面post'\n",
        "    final_df.drop(columns=['angle post'], inplace=True)\n",
        "    print(\"angle 3M updated!\")\n",
        "except:\n",
        "    pass\n",
        "\n",
        "try:\n",
        "    # Copy values from '波面4M' and '波面post' to '波面3M'\n",
        "    final_df['angle 3M'] = final_df[['angle 3M', 'angle post']].bfill(axis=1).iloc[:, 0]\n",
        "\n",
        "    # Drop the columns '波面4M' and '波面post'\n",
        "    final_df.drop(columns=['angle post'], inplace=True)\n",
        "    print(\"angle 3M updated!\")\n",
        "except:\n",
        "    pass\n",
        "\n",
        "try:\n",
        "    # Copy values from '波面4M' and '波面post' to '波面3M'\n",
        "    final_df['angle 3M'] = final_df[['angle 3M', 'angle post']].bfill(axis=1).iloc[:, 0]\n",
        "\n",
        "    # Drop the columns '波面4M' and '波面post'\n",
        "    final_df.drop(columns=['angle post'], inplace=True)\n",
        "    print(\"angle 3M updated!\")\n",
        "except:\n",
        "    pass\n"
      ],
      "metadata": {
        "id": "lgJLhag6ELZw",
        "colab": {
          "base_uri": "https://localhost:8080/"
        },
        "outputId": "e443227c-a630-460e-af8f-71b03c597fb9"
      },
      "execution_count": 6,
      "outputs": [
        {
          "output_type": "stream",
          "name": "stdout",
          "text": [
            "波面3M updated!\n",
            "AveK 3M updated!\n",
            "CYL 3M updated!\n",
            "angle 3M updated!\n"
          ]
        }
      ]
    },
    {
      "cell_type": "code",
      "source": [
        "# レフケラの欠損値を削除：Drop rows with missing values only in specified columns\n",
        "specified_columns = ['AveK pre', 'AveK 3M', 'CYL pre', 'CYL 3M', 'angle pre', 'angle 3M', 'MRD-1 pre', 'MRD-1 3M']\n",
        "final_df = final_df.dropna(subset=specified_columns).reset_index(drop=True)\n",
        "\n",
        "# SPKの有無を数字に置換\n",
        "final_df[\"SPK pre\"] = final_df[\"SPK pre\"].replace({\"あり\": 1, \"なし\": 0})\n",
        "final_df[\"SPK post\"] = final_df[\"SPK post\"].replace({\"あり\": 1, \"なし\": 0})\n",
        "# 57行目の\"MRD-1 pre\"列の値を0.5に置換\n",
        "final_df.at[57, \"MRD-1 pre\"] = 0.5\n",
        "\n",
        "# 挙筋機能\"good\"のカラムを10に置換\n",
        "final_df[\"挙筋機能 pre\"] = final_df[\"挙筋機能 pre\"].replace(\"good\", 10)\n",
        "\n",
        "# \"MRD-1 3M\"列と\"挙筋機能 pre\"列をfloat型に変換\n",
        "final_df[\"MRD-1 pre\"] = final_df[\"MRD-1 pre\"].astype(float)\n",
        "final_df[\"MRD-1 3M\"] = final_df[\"MRD-1 3M\"].astype(float)\n",
        "final_df[\"挙筋機能 pre\"] = final_df[\"挙筋機能 pre\"].astype(float)\n",
        "\n",
        "final_df[\"sex\"] = final_df[\"sex\"].replace({\"M\": 1, \"F\": 0})\n",
        "final_df[\"手術側\"] = final_df[\"手術側\"].replace({\"L\": 1, \"R\": 0})\n",
        "\n",
        "final_df"
      ],
      "metadata": {
        "id": "Fb8lFR0bz-vy"
      },
      "execution_count": null,
      "outputs": []
    },
    {
      "cell_type": "code",
      "source": [
        "final_df.to_excel('output.xlsx', index=False)\n"
      ],
      "metadata": {
        "id": "qc9S9nxE3N49"
      },
      "execution_count": 8,
      "outputs": []
    },
    {
      "cell_type": "code",
      "source": [],
      "metadata": {
        "id": "8qITWJ6y4Ox8"
      },
      "execution_count": null,
      "outputs": []
    },
    {
      "cell_type": "markdown",
      "source": [
        "# **Preprocessed_dataを用いて解析**"
      ],
      "metadata": {
        "id": "lns4IjGOVq77"
      }
    },
    {
      "cell_type": "code",
      "source": [
        "from google.colab import drive\n",
        "drive.mount(\"/content/drive\")"
      ],
      "metadata": {
        "colab": {
          "base_uri": "https://localhost:8080/"
        },
        "id": "9J5sUBakWORy",
        "outputId": "60b4e04c-4b60-4eae-bbb3-08c6754f6daf"
      },
      "execution_count": 109,
      "outputs": [
        {
          "output_type": "stream",
          "name": "stdout",
          "text": [
            "Drive already mounted at /content/drive; to attempt to forcibly remount, call drive.mount(\"/content/drive\", force_remount=True).\n"
          ]
        }
      ]
    },
    {
      "cell_type": "code",
      "source": [
        "import pandas as pd\n",
        "pd.set_option('display.max_columns', 300)\n",
        "pd.set_option('display.max_rows', 300)"
      ],
      "metadata": {
        "id": "C-JwDuMtWLWr"
      },
      "execution_count": 106,
      "outputs": []
    },
    {
      "cell_type": "code",
      "source": [
        "import pandas as pd\n",
        "\n",
        "xlsx_path = \"/content/drive/MyDrive/研究/進行中の研究/眼瞼下垂手術による屈折変化/眼瞼下垂_proprocessed.xlsx\"\n",
        "\n",
        "data = pd.read_excel(xlsx_path, header=0)\n",
        "\n",
        "# Display the first few rows of the dataframe and its columns to understand its structure\n",
        "data.head()"
      ],
      "metadata": {
        "id": "12LgQoOAWQqi"
      },
      "execution_count": null,
      "outputs": []
    },
    {
      "cell_type": "markdown",
      "source": [
        "##**各項目の変化**"
      ],
      "metadata": {
        "id": "Ct-sEXI_u8ua"
      }
    },
    {
      "cell_type": "code",
      "source": [
        "import matplotlib.pyplot as plt\n",
        "import seaborn as sns\n",
        "from scipy.stats import shapiro\n",
        "import seaborn as sns\n",
        "\n",
        "# Extract relevant columns\n",
        "asg_0_pre = data['asg_0_pre']\n",
        "asg_0_3M = data['asg_0_3M']\n",
        "asg_45_pre = data['asg_45_pre']\n",
        "asg_45_3M = data['asg_45_3M']\n",
        "\n",
        "# Define a function to check normality\n",
        "def check_normality(data):\n",
        "    stat, p = shapiro(data.dropna())\n",
        "    return stat, p\n",
        "\n",
        "# Check normality for each group\n",
        "asg_0_pre_normality = check_normality(asg_0_pre)\n",
        "asg_0_3M_normality = check_normality(asg_0_3M)\n",
        "asg_45_pre_normality = check_normality(asg_45_pre)\n",
        "asg_45_3M_normality = check_normality(asg_45_3M)\n",
        "# Define a function to plot Q-Q plots\n",
        "def plot_qq(data, ax, title):\n",
        "    stats.probplot(data.dropna(), dist=\"norm\", plot=ax)\n",
        "    ax.set_title(title)\n",
        "\n",
        "# Create histograms and Q-Q plots for visual inspection\n",
        "fig, axes = plt.subplots(2, 4, figsize=(20, 10))\n",
        "\n",
        "# Histograms\n",
        "sns.histplot(asg_0_pre.dropna(), kde=True, ax=axes[0, 0]).set(title='asg_0_pre Histogram')\n",
        "sns.histplot(asg_0_3M.dropna(), kde=True, ax=axes[0, 1]).set(title='asg_0_3M Histogram')\n",
        "sns.histplot(asg_45_pre.dropna(), kde=True, ax=axes[0, 2]).set(title='asg_45_pre Histogram')\n",
        "sns.histplot(asg_45_3M.dropna(), kde=True, ax=axes[0, 3]).set(title='asg_45_3M Histogram')\n",
        "\n",
        "# Q-Q plots\n",
        "plot_qq(asg_0_pre, axes[1, 0], 'asg_0_pre Q-Q Plot')\n",
        "plot_qq(asg_0_3M, axes[1, 1], 'asg_0_3M Q-Q Plot')\n",
        "plot_qq(asg_45_pre, axes[1, 2], 'asg_45_pre Q-Q Plot')\n",
        "plot_qq(asg_45_3M, axes[1, 3], 'asg_45_3M Q-Q Plot')\n",
        "\n",
        "plt.tight_layout()\n",
        "plt.show()\n",
        "\n",
        "asg_0_pre_normality, asg_0_3M_normality, asg_45_pre_normality, asg_45_3M_normality\n"
      ],
      "metadata": {
        "id": "qoAh9sFvvCND"
      },
      "execution_count": null,
      "outputs": []
    },
    {
      "cell_type": "markdown",
      "source": [
        "##**Linear regression analysis**\n",
        "\n",
        "線形回帰モデルのAIC（赤池情報量基準）を用いた多変量解析も併用\n",
        "\n"
      ],
      "metadata": {
        "id": "tpw9-FE4e8JT"
      }
    },
    {
      "cell_type": "code",
      "source": [
        "import pandas as pd\n",
        "\n",
        "# 必要な列を選択し、欠損値を削除\n",
        "columns = ['Δasg_0', 'Δasg_45', 'age', 'sex', 'side', 'asg_0_pre', 'asg_45_pre', 'MRD-1 pre', 'MRD-1 3M', 'levator_function']\n",
        "regression_data = data[columns].dropna()\n",
        "\n",
        "# 各項目の統計量を表示\n",
        "statistics = regression_data.describe(include='all')\n",
        "print(statistics)\n"
      ],
      "metadata": {
        "colab": {
          "base_uri": "https://localhost:8080/"
        },
        "id": "lSmcXd1ha2tv",
        "outputId": "10a8afc7-11d1-429a-f1d3-59f42322ecdb"
      },
      "execution_count": 116,
      "outputs": [
        {
          "output_type": "stream",
          "name": "stdout",
          "text": [
            "        Δasg_0  Δasg_45      age      sex     side  asg_0_pre  asg_45_pre  \\\n",
            "count 189.0000 189.0000 189.0000 189.0000 189.0000   189.0000    189.0000   \n",
            "mean    0.1842  -0.0393  74.5397   0.3862   0.4815     0.0524     -0.0048   \n",
            "std     0.7274   0.6778   9.7629   0.4882   0.5010     1.3269      0.7495   \n",
            "min    -4.1673  -3.7378  34.0000   0.0000   0.0000    -2.5256     -2.6841   \n",
            "25%    -0.1484  -0.3457  69.0000   0.0000   0.0000    -0.6932     -0.3830   \n",
            "50%     0.2120  -0.0327  75.0000   0.0000   0.0000    -0.0827      0.0000   \n",
            "75%     0.5990   0.2742  81.0000   1.0000   1.0000     0.5945      0.3629   \n",
            "max     2.0000   2.7525  92.0000   1.0000   1.0000     9.7354      3.9334   \n",
            "\n",
            "       MRD-1 pre  MRD-1 3M  levator_function  \n",
            "count   189.0000  189.0000          189.0000  \n",
            "mean      0.4259    3.4444            9.2619  \n",
            "std       1.1872    1.0344            2.2916  \n",
            "min      -3.0000    1.0000            4.0000  \n",
            "25%       0.0000    3.0000            8.0000  \n",
            "50%       0.5000    3.5000            9.0000  \n",
            "75%       1.0000    4.0000           11.0000  \n",
            "max       3.5000    7.0000           16.0000  \n"
          ]
        }
      ]
    },
    {
      "cell_type": "code",
      "source": [
        "import pandas as pd\n",
        "import matplotlib.pyplot as plt\n",
        "\n",
        "# 必要な列を選択し、欠損値を削除\n",
        "columns = ['Δasg_0', 'Δasg_45', 'asg_0_pre', 'asg_45_pre', 'MRD-1 pre', 'MRD-1 3M', 'levator_function']\n",
        "regression_data = data[columns].dropna()\n",
        "\n",
        "# 各項目の統計量を表示\n",
        "statistics = regression_data.describe(include='all')\n",
        "print(statistics)\n",
        "\n",
        "# Δasg_0とΔasg_45の箱ひげ図をまとめて作成\n",
        "plt.figure(figsize=(8, 6))\n",
        "regression_data[['Δasg_0', 'Δasg_45']].boxplot()\n",
        "plt.title('Boxplot of Δasg_0 and Δasg_45')\n",
        "plt.ylabel('Values')\n",
        "plt.show()\n",
        "\n",
        "# asg_0_preとasg_45_preの箱ひげ図をまとめて作成\n",
        "plt.figure(figsize=(8, 6))\n",
        "regression_data[['asg_0_pre', 'asg_45_pre']].boxplot()\n",
        "plt.title('Boxplot of asg_0_pre and asg_45_pre')\n",
        "plt.ylabel('Values')\n",
        "plt.show()\n",
        "\n",
        "# MRD-1 preとMRD-1 3Mの箱ひげ図をまとめて作成\n",
        "plt.figure(figsize=(8, 6))\n",
        "regression_data[['MRD-1 pre', 'MRD-1 3M']].boxplot()\n",
        "plt.title('Boxplot of MRD-1 pre and MRD-1 3M')\n",
        "plt.ylabel('Values')\n",
        "plt.show()\n",
        "\n",
        "# levator_functionの箱ひげ図を作成\n",
        "plt.figure(figsize=(8, 6))\n",
        "regression_data.boxplot(column=['levator_function'])\n",
        "plt.title('Boxplot of levator_function')\n",
        "plt.ylabel('Values')\n",
        "plt.show()\n"
      ],
      "metadata": {
        "id": "jBZ3zioDinsF"
      },
      "execution_count": null,
      "outputs": []
    },
    {
      "cell_type": "code",
      "source": [
        "import pandas as pd\n",
        "import numpy as np\n",
        "from sklearn.linear_model import LinearRegression\n",
        "from sklearn.model_selection import train_test_split\n",
        "from sklearn.metrics import mean_squared_error, r2_score\n",
        "import statsmodels.api as sm\n",
        "\n",
        "# 必要な列を選択し、欠損値を削除\n",
        "columns = ['Δasg_0','Δasg_45', 'age', 'sex', 'side', 'asg_0_pre', 'asg_45_pre', 'MRD-1 pre', 'MRD-1 3M', 'levator_function']\n",
        "regression_data = data[columns].dropna()\n",
        "\n",
        "# 外れ値を除外する関数\n",
        "def remove_outliers(df, outlier_columns):\n",
        "    filtered_df = df.copy()\n",
        "    for column in outlier_columns:\n",
        "        Q1 = df[column].quantile(0.25)\n",
        "        Q3 = df[column].quantile(0.75)\n",
        "        IQR = Q3 - Q1\n",
        "        lower_bound = Q1 - 1.5 * IQR\n",
        "        upper_bound = Q3 + 1.5 * IQR\n",
        "        filtered_df = filtered_df[(df[column] >= lower_bound) & (df[column] <= upper_bound)]\n",
        "    return filtered_df\n",
        "\n",
        "# 説明変数と目的変数の設定\n",
        "def set_variables(target, outliers_excluded=False, outlier_columns=[]):\n",
        "    if outliers_excluded:\n",
        "        filtered_data = remove_outliers(regression_data, outlier_columns)\n",
        "        X = filtered_data[['age', 'sex', 'side', 'asg_0_pre', 'asg_45_pre', 'MRD-1 pre', 'MRD-1 3M', 'levator_function']]\n",
        "        y = filtered_data[target]\n",
        "    else:\n",
        "        X = regression_data[['age', 'sex', 'side', 'asg_0_pre', 'asg_45_pre', 'MRD-1 pre', 'MRD-1 3M', 'levator_function']]\n",
        "        y = regression_data[target]\n",
        "    return X, y\n",
        "\n",
        "# 太字表示のための関数\n",
        "def print_bold(text):\n",
        "    print(f\"\\033[1m{text}\\033[0m\")\n",
        "\n",
        "# データを訓練セットとテストセットに分割し、線形回帰モデルを作成・評価\n",
        "def linear_regression_analysis(X, y, target, test_size=0.2, random_state=0):\n",
        "    print_bold(f\"\\n--- Linear Regression Analysis for {target} ---\")\n",
        "    X_train, X_test, y_train, y_test = train_test_split(X, y, test_size=test_size, random_state=random_state)\n",
        "\n",
        "    model = LinearRegression()\n",
        "    model.fit(X_train, y_train)\n",
        "\n",
        "    y_pred = model.predict(X_test)\n",
        "\n",
        "    mse = mean_squared_error(y_test, y_pred)\n",
        "    r2 = r2_score(y_test, y_pred)\n",
        "\n",
        "    print(f\"MSE: {mse}, R2: {r2}\")\n",
        "\n",
        "    X_train_sm = sm.add_constant(X_train)\n",
        "    model_sm = sm.OLS(y_train, X_train_sm).fit()\n",
        "    print(model_sm.summary())\n",
        "\n",
        "    return model, X_train, X_test, y_train, y_test\n",
        "\n",
        "# ステップワイズ回帰関数\n",
        "def stepwise_selection(X, y, initial_list=[], threshold_in=0.05, threshold_out=0.10, verbose=True):\n",
        "    included = list(initial_list)\n",
        "    while True:\n",
        "        changed = False\n",
        "        excluded = list(set(X.columns) - set(included))\n",
        "        new_pval = pd.Series(index=excluded)\n",
        "        for new_column in excluded:\n",
        "            model = sm.OLS(y, sm.add_constant(pd.DataFrame(X[included + [new_column]]))).fit()\n",
        "            new_pval[new_column] = model.pvalues[new_column]\n",
        "        best_pval = new_pval.min()\n",
        "        if best_pval < threshold_in:\n",
        "            best_feature = new_pval.idxmin()\n",
        "            included.append(best_feature)\n",
        "            changed = True\n",
        "            if verbose:\n",
        "                print(f'Add  {best_feature} with p-value {best_pval}')\n",
        "\n",
        "        model = sm.OLS(y, sm.add_constant(pd.DataFrame(X[included]))).fit()\n",
        "        pvalues = model.pvalues.iloc[1:]\n",
        "        worst_pval = pvalues.max()\n",
        "        if worst_pval > threshold_out:\n",
        "            changed = True\n",
        "            worst_feature = pvalues.idxmax()\n",
        "            included.remove(worst_feature)\n",
        "            if verbose:\n",
        "                print(f'Drop {worst_feature} with p-value {worst_pval}')\n",
        "        if not changed:\n",
        "            break\n",
        "\n",
        "    return included\n",
        "\n",
        "# ステップワイズ回帰を実行し、選択された変数で線形回帰を行う\n",
        "def stepwise_regression_analysis(X, y, target, test_size=0.2, random_state=0, threshold_in=0.01, threshold_out=0.05):\n",
        "    print_bold(f\"\\n--- Stepwise Regression Analysis for {target} ---\")\n",
        "    X_with_constant = sm.add_constant(X)\n",
        "    selected_features = stepwise_selection(X_with_constant, y, threshold_in=threshold_in, threshold_out=threshold_out)\n",
        "\n",
        "    if 'const' in selected_features:\n",
        "        selected_features.remove('const')\n",
        "\n",
        "    if not selected_features:\n",
        "        print(f\"No features were selected for {target}.\")\n",
        "        return\n",
        "\n",
        "    print(f'Selected features: {selected_features}')\n",
        "\n",
        "    X_selected = X[selected_features]\n",
        "    X_train_selected, X_test_selected, y_train, y_test = train_test_split(X_selected, y, test_size=test_size, random_state=random_state)\n",
        "\n",
        "    model_selected = LinearRegression()\n",
        "    model_selected.fit(X_train_selected, y_train)\n",
        "\n",
        "    y_pred_selected = model_selected.predict(X_test_selected)\n",
        "\n",
        "    mse_selected = mean_squared_error(y_test, y_pred_selected)\n",
        "    r2_selected = r2_score(y_test, y_pred_selected)\n",
        "\n",
        "    print(f\"Selected model MSE: {mse_selected}, R2: {r2_selected}\")\n",
        "\n",
        "    X_train_selected_sm = sm.add_constant(X_train_selected)\n",
        "    model_selected_sm = sm.OLS(y_train, X_train_selected_sm).fit()\n",
        "    print(model_selected_sm.summary())\n",
        "\n",
        "# 閾値を調整してステップワイズ回帰を実行する\n",
        "# Δasg_0についての解析\n",
        "X, y = set_variables('Δasg_0', outliers_excluded=False)\n",
        "stepwise_regression_analysis(X, y, 'Δasg_0',)\n",
        "\n",
        "X, y = set_variables('Δasg_0', outliers_excluded=True, outlier_columns=['asg_0_pre'])\n",
        "stepwise_regression_analysis(X, y, 'Δasg_0 (Outliers Excluded)',)\n",
        "\n",
        "# Δasg_45についての解析\n",
        "X, y = set_variables('Δasg_45', outliers_excluded=False)\n",
        "stepwise_regression_analysis(X, y, 'Δasg_45')\n",
        "\n",
        "X, y = set_variables('Δasg_45', outliers_excluded=True, outlier_columns=['asg_45_pre'])\n",
        "stepwise_regression_analysis(X, y, 'Δasg_45 (Outliers Excluded)',)\n",
        "\n",
        "# Δasg_0についての解析\n",
        "X, y = set_variables('Δasg_0', outliers_excluded=False)\n",
        "linear_regression_analysis(X, y, 'Δasg_0')\n",
        "stepwise_regression_analysis(X, y, 'Δasg_0')\n",
        "\n",
        "X, y = set_variables('Δasg_0', outliers_excluded=True, outlier_columns=['asg_0_pre'])\n",
        "linear_regression_analysis(X, y, 'Δasg_0 (Outliers Excluded)')\n",
        "stepwise_regression_analysis(X, y, 'Δasg_0 (Outliers Excluded)')\n",
        "\n",
        "# Δasg_45についての解析\n",
        "X, y = set_variables('Δasg_45', outliers_excluded=False)\n",
        "linear_regression_analysis(X, y, 'Δasg_45')\n",
        "stepwise_regression_analysis(X, y, 'Δasg_45')\n",
        "\n",
        "X, y = set_variables('Δasg_45', outliers_excluded=True, outlier_columns=['asg_45_pre'])\n",
        "linear_regression_analysis(X, y, 'Δasg_45 (Outliers Excluded)')\n",
        "stepwise_regression_analysis(X, y, 'Δasg_45 (Outliers Excluded)')\n"
      ],
      "metadata": {
        "colab": {
          "base_uri": "https://localhost:8080/"
        },
        "id": "Dhz6tBzJhm_G",
        "outputId": "980bbbdd-4770-4c90-aadf-9ca032387795"
      },
      "execution_count": 129,
      "outputs": [
        {
          "output_type": "stream",
          "name": "stdout",
          "text": [
            "\u001b[1m\n",
            "--- Stepwise Regression Analysis for Δasg_0 ---\u001b[0m\n",
            "Add  asg_0_pre with p-value 5.8380483815698534e-08\n",
            "Add  const with p-value 9.97146032212296e-05\n",
            "Selected features: ['asg_0_pre']\n",
            "Selected model MSE: 0.4590137379417815, R2: 0.06879859940258992\n",
            "                            OLS Regression Results                            \n",
            "==============================================================================\n",
            "Dep. Variable:                 Δasg_0   R-squared:                       0.160\n",
            "Model:                            OLS   Adj. R-squared:                  0.154\n",
            "Method:                 Least Squares   F-statistic:                     28.33\n",
            "Date:                Sat, 18 May 2024   Prob (F-statistic):           3.69e-07\n",
            "Time:                        03:21:24   Log-Likelihood:                -153.65\n",
            "No. Observations:                 151   AIC:                             311.3\n",
            "Df Residuals:                     149   BIC:                             317.3\n",
            "Df Model:                           1                                         \n",
            "Covariance Type:            nonrobust                                         \n",
            "==============================================================================\n",
            "                 coef    std err          t      P>|t|      [0.025      0.975]\n",
            "------------------------------------------------------------------------------\n",
            "const          0.1712      0.055      3.121      0.002       0.063       0.280\n",
            "asg_0_pre     -0.2177      0.041     -5.322      0.000      -0.299      -0.137\n",
            "==============================================================================\n",
            "Omnibus:                       34.358   Durbin-Watson:                   2.009\n",
            "Prob(Omnibus):                  0.000   Jarque-Bera (JB):              124.785\n",
            "Skew:                          -0.769   Prob(JB):                     8.00e-28\n",
            "Kurtosis:                       7.180   Cond. No.                         1.34\n",
            "==============================================================================\n",
            "\n",
            "Notes:\n",
            "[1] Standard Errors assume that the covariance matrix of the errors is correctly specified.\n",
            "\u001b[1m\n",
            "--- Stepwise Regression Analysis for Δasg_0 (Outliers Excluded) ---\u001b[0m\n",
            "Add  const with p-value 2.927785826149719e-07\n",
            "No features were selected for Δasg_0 (Outliers Excluded).\n",
            "\u001b[1m\n",
            "--- Stepwise Regression Analysis for Δasg_45 ---\u001b[0m\n",
            "Add  asg_45_pre with p-value 1.4889374059168672e-12\n",
            "Selected features: ['asg_45_pre']\n",
            "Selected model MSE: 0.13938892147908843, R2: 0.1593722681753993\n",
            "                            OLS Regression Results                            \n",
            "==============================================================================\n",
            "Dep. Variable:                Δasg_45   R-squared:                       0.233\n",
            "Model:                            OLS   Adj. R-squared:                  0.228\n",
            "Method:                 Least Squares   F-statistic:                     45.34\n",
            "Date:                Sat, 18 May 2024   Prob (F-statistic):           3.35e-10\n",
            "Time:                        03:21:24   Log-Likelihood:                -145.59\n",
            "No. Observations:                 151   AIC:                             295.2\n",
            "Df Residuals:                     149   BIC:                             301.2\n",
            "Df Model:                           1                                         \n",
            "Covariance Type:            nonrobust                                         \n",
            "==============================================================================\n",
            "                 coef    std err          t      P>|t|      [0.025      0.975]\n",
            "------------------------------------------------------------------------------\n",
            "const         -0.0232      0.052     -0.445      0.657      -0.126       0.080\n",
            "asg_45_pre    -0.4420      0.066     -6.734      0.000      -0.572      -0.312\n",
            "==============================================================================\n",
            "Omnibus:                       50.551   Durbin-Watson:                   2.167\n",
            "Prob(Omnibus):                  0.000   Jarque-Bera (JB):              344.780\n",
            "Skew:                          -0.962   Prob(JB):                     1.36e-75\n",
            "Kurtosis:                      10.148   Cond. No.                         1.27\n",
            "==============================================================================\n",
            "\n",
            "Notes:\n",
            "[1] Standard Errors assume that the covariance matrix of the errors is correctly specified.\n",
            "\u001b[1m\n",
            "--- Stepwise Regression Analysis for Δasg_45 (Outliers Excluded) ---\u001b[0m\n",
            "Add  asg_45_pre with p-value 1.0756323868304987e-06\n",
            "Selected features: ['asg_45_pre']\n",
            "Selected model MSE: 0.20246785882503904, R2: 0.15176453548612778\n",
            "                            OLS Regression Results                            \n",
            "==============================================================================\n",
            "Dep. Variable:                Δasg_45   R-squared:                       0.117\n",
            "Model:                            OLS   Adj. R-squared:                  0.111\n",
            "Method:                 Least Squares   F-statistic:                     18.91\n",
            "Date:                Sat, 18 May 2024   Prob (F-statistic):           2.58e-05\n",
            "Time:                        03:21:25   Log-Likelihood:                -126.89\n",
            "No. Observations:                 145   AIC:                             257.8\n",
            "Df Residuals:                     143   BIC:                             263.7\n",
            "Df Model:                           1                                         \n",
            "Covariance Type:            nonrobust                                         \n",
            "==============================================================================\n",
            "                 coef    std err          t      P>|t|      [0.025      0.975]\n",
            "------------------------------------------------------------------------------\n",
            "const         -0.0676      0.049     -1.388      0.167      -0.164       0.029\n",
            "asg_45_pre    -0.3949      0.091     -4.349      0.000      -0.574      -0.215\n",
            "==============================================================================\n",
            "Omnibus:                       73.503   Durbin-Watson:                   2.011\n",
            "Prob(Omnibus):                  0.000   Jarque-Bera (JB):              681.767\n",
            "Skew:                          -1.517   Prob(JB):                    9.04e-149\n",
            "Kurtosis:                      13.181   Cond. No.                         1.88\n",
            "==============================================================================\n",
            "\n",
            "Notes:\n",
            "[1] Standard Errors assume that the covariance matrix of the errors is correctly specified.\n",
            "\u001b[1m\n",
            "--- Linear Regression Analysis for Δasg_0 ---\u001b[0m\n",
            "MSE: 0.5377163584042883, R2: -0.09086544624013149\n",
            "                            OLS Regression Results                            \n",
            "==============================================================================\n",
            "Dep. Variable:                 Δasg_0   R-squared:                       0.242\n",
            "Model:                            OLS   Adj. R-squared:                  0.199\n",
            "Method:                 Least Squares   F-statistic:                     5.665\n",
            "Date:                Sat, 18 May 2024   Prob (F-statistic):           3.02e-06\n",
            "Time:                        03:21:25   Log-Likelihood:                -145.88\n",
            "No. Observations:                 151   AIC:                             309.8\n",
            "Df Residuals:                     142   BIC:                             336.9\n",
            "Df Model:                           8                                         \n",
            "Covariance Type:            nonrobust                                         \n",
            "====================================================================================\n",
            "                       coef    std err          t      P>|t|      [0.025      0.975]\n",
            "------------------------------------------------------------------------------------\n",
            "const                1.3152      0.619      2.125      0.035       0.092       2.539\n",
            "age                 -0.0136      0.007     -2.081      0.039      -0.027      -0.001\n",
            "sex                 -0.2214      0.112     -1.971      0.051      -0.444       0.001\n",
            "side                 0.1824      0.111      1.644      0.102      -0.037       0.402\n",
            "asg_0_pre           -0.2878      0.048     -6.055      0.000      -0.382      -0.194\n",
            "asg_45_pre           0.1663      0.072      2.313      0.022       0.024       0.308\n",
            "MRD-1 pre            0.0157      0.051      0.307      0.759      -0.085       0.117\n",
            "MRD-1 3M            -0.0196      0.054     -0.363      0.717      -0.126       0.087\n",
            "levator_function    -0.0066      0.027     -0.249      0.804      -0.059       0.046\n",
            "==============================================================================\n",
            "Omnibus:                       17.114   Durbin-Watson:                   2.012\n",
            "Prob(Omnibus):                  0.000   Jarque-Bera (JB):               40.243\n",
            "Skew:                          -0.422   Prob(JB):                     1.83e-09\n",
            "Kurtosis:                       5.384   Cond. No.                         882.\n",
            "==============================================================================\n",
            "\n",
            "Notes:\n",
            "[1] Standard Errors assume that the covariance matrix of the errors is correctly specified.\n",
            "\u001b[1m\n",
            "--- Stepwise Regression Analysis for Δasg_0 ---\u001b[0m\n",
            "Add  asg_0_pre with p-value 5.8380483815698534e-08\n",
            "Add  const with p-value 9.97146032212296e-05\n",
            "Selected features: ['asg_0_pre']\n",
            "Selected model MSE: 0.4590137379417815, R2: 0.06879859940258992\n",
            "                            OLS Regression Results                            \n",
            "==============================================================================\n",
            "Dep. Variable:                 Δasg_0   R-squared:                       0.160\n",
            "Model:                            OLS   Adj. R-squared:                  0.154\n",
            "Method:                 Least Squares   F-statistic:                     28.33\n",
            "Date:                Sat, 18 May 2024   Prob (F-statistic):           3.69e-07\n",
            "Time:                        03:21:25   Log-Likelihood:                -153.65\n",
            "No. Observations:                 151   AIC:                             311.3\n",
            "Df Residuals:                     149   BIC:                             317.3\n",
            "Df Model:                           1                                         \n",
            "Covariance Type:            nonrobust                                         \n",
            "==============================================================================\n",
            "                 coef    std err          t      P>|t|      [0.025      0.975]\n",
            "------------------------------------------------------------------------------\n",
            "const          0.1712      0.055      3.121      0.002       0.063       0.280\n",
            "asg_0_pre     -0.2177      0.041     -5.322      0.000      -0.299      -0.137\n",
            "==============================================================================\n",
            "Omnibus:                       34.358   Durbin-Watson:                   2.009\n",
            "Prob(Omnibus):                  0.000   Jarque-Bera (JB):              124.785\n",
            "Skew:                          -0.769   Prob(JB):                     8.00e-28\n",
            "Kurtosis:                       7.180   Cond. No.                         1.34\n",
            "==============================================================================\n",
            "\n",
            "Notes:\n",
            "[1] Standard Errors assume that the covariance matrix of the errors is correctly specified.\n",
            "\u001b[1m\n",
            "--- Linear Regression Analysis for Δasg_0 (Outliers Excluded) ---\u001b[0m\n",
            "MSE: 0.48131875816147324, R2: -0.06319920763090914\n",
            "                            OLS Regression Results                            \n",
            "==============================================================================\n",
            "Dep. Variable:                 Δasg_0   R-squared:                       0.099\n",
            "Model:                            OLS   Adj. R-squared:                  0.047\n",
            "Method:                 Least Squares   F-statistic:                     1.900\n",
            "Date:                Sat, 18 May 2024   Prob (F-statistic):             0.0646\n",
            "Time:                        03:21:25   Log-Likelihood:                -123.26\n",
            "No. Observations:                 147   AIC:                             264.5\n",
            "Df Residuals:                     138   BIC:                             291.4\n",
            "Df Model:                           8                                         \n",
            "Covariance Type:            nonrobust                                         \n",
            "====================================================================================\n",
            "                       coef    std err          t      P>|t|      [0.025      0.975]\n",
            "------------------------------------------------------------------------------------\n",
            "const                0.8445      0.585      1.444      0.151      -0.311       2.000\n",
            "age                 -0.0049      0.006     -0.808      0.420      -0.017       0.007\n",
            "sex                 -0.2359      0.104     -2.278      0.024      -0.441      -0.031\n",
            "side                 0.2188      0.098      2.241      0.027       0.026       0.412\n",
            "asg_0_pre           -0.1206      0.055     -2.196      0.030      -0.229      -0.012\n",
            "asg_45_pre           0.0911      0.078      1.173      0.243      -0.062       0.245\n",
            "MRD-1 pre            0.0155      0.047      0.331      0.741      -0.077       0.108\n",
            "MRD-1 3M            -0.0526      0.053     -0.997      0.321      -0.157       0.052\n",
            "levator_function    -0.0121      0.024     -0.497      0.620      -0.060       0.036\n",
            "==============================================================================\n",
            "Omnibus:                        9.789   Durbin-Watson:                   2.298\n",
            "Prob(Omnibus):                  0.007   Jarque-Bera (JB):               18.726\n",
            "Skew:                          -0.218   Prob(JB):                     8.58e-05\n",
            "Kurtosis:                       4.693   Cond. No.                         936.\n",
            "==============================================================================\n",
            "\n",
            "Notes:\n",
            "[1] Standard Errors assume that the covariance matrix of the errors is correctly specified.\n",
            "\u001b[1m\n",
            "--- Stepwise Regression Analysis for Δasg_0 (Outliers Excluded) ---\u001b[0m\n",
            "Add  const with p-value 2.927785826149719e-07\n",
            "No features were selected for Δasg_0 (Outliers Excluded).\n",
            "\u001b[1m\n",
            "--- Linear Regression Analysis for Δasg_45 ---\u001b[0m\n",
            "MSE: 0.1650372603662917, R2: 0.00469207756173573\n",
            "                            OLS Regression Results                            \n",
            "==============================================================================\n",
            "Dep. Variable:                Δasg_45   R-squared:                       0.283\n",
            "Model:                            OLS   Adj. R-squared:                  0.243\n",
            "Method:                 Least Squares   F-statistic:                     7.019\n",
            "Date:                Sat, 18 May 2024   Prob (F-statistic):           8.73e-08\n",
            "Time:                        03:21:26   Log-Likelihood:                -140.50\n",
            "No. Observations:                 151   AIC:                             299.0\n",
            "Df Residuals:                     142   BIC:                             326.1\n",
            "Df Model:                           8                                         \n",
            "Covariance Type:            nonrobust                                         \n",
            "====================================================================================\n",
            "                       coef    std err          t      P>|t|      [0.025      0.975]\n",
            "------------------------------------------------------------------------------------\n",
            "const                0.4604      0.597      0.771      0.442      -0.720       1.641\n",
            "age                 -0.0039      0.006     -0.613      0.541      -0.016       0.009\n",
            "sex                  0.1374      0.108      1.267      0.207      -0.077       0.352\n",
            "side                -0.1783      0.107     -1.665      0.098      -0.390       0.033\n",
            "asg_0_pre            0.0696      0.046      1.517      0.131      -0.021       0.160\n",
            "asg_45_pre          -0.5073      0.069     -7.312      0.000      -0.644      -0.370\n",
            "MRD-1 pre           -0.0555      0.049     -1.125      0.263      -0.153       0.042\n",
            "MRD-1 3M             0.0102      0.052      0.196      0.845      -0.093       0.113\n",
            "levator_function    -0.0190      0.026     -0.744      0.458      -0.070       0.032\n",
            "==============================================================================\n",
            "Omnibus:                       46.772   Durbin-Watson:                   2.153\n",
            "Prob(Omnibus):                  0.000   Jarque-Bera (JB):              233.646\n",
            "Skew:                          -0.981   Prob(JB):                     1.84e-51\n",
            "Kurtosis:                       8.769   Cond. No.                         882.\n",
            "==============================================================================\n",
            "\n",
            "Notes:\n",
            "[1] Standard Errors assume that the covariance matrix of the errors is correctly specified.\n",
            "\u001b[1m\n",
            "--- Stepwise Regression Analysis for Δasg_45 ---\u001b[0m\n",
            "Add  asg_45_pre with p-value 1.4889374059168672e-12\n",
            "Selected features: ['asg_45_pre']\n",
            "Selected model MSE: 0.13938892147908843, R2: 0.1593722681753993\n",
            "                            OLS Regression Results                            \n",
            "==============================================================================\n",
            "Dep. Variable:                Δasg_45   R-squared:                       0.233\n",
            "Model:                            OLS   Adj. R-squared:                  0.228\n",
            "Method:                 Least Squares   F-statistic:                     45.34\n",
            "Date:                Sat, 18 May 2024   Prob (F-statistic):           3.35e-10\n",
            "Time:                        03:21:26   Log-Likelihood:                -145.59\n",
            "No. Observations:                 151   AIC:                             295.2\n",
            "Df Residuals:                     149   BIC:                             301.2\n",
            "Df Model:                           1                                         \n",
            "Covariance Type:            nonrobust                                         \n",
            "==============================================================================\n",
            "                 coef    std err          t      P>|t|      [0.025      0.975]\n",
            "------------------------------------------------------------------------------\n",
            "const         -0.0232      0.052     -0.445      0.657      -0.126       0.080\n",
            "asg_45_pre    -0.4420      0.066     -6.734      0.000      -0.572      -0.312\n",
            "==============================================================================\n",
            "Omnibus:                       50.551   Durbin-Watson:                   2.167\n",
            "Prob(Omnibus):                  0.000   Jarque-Bera (JB):              344.780\n",
            "Skew:                          -0.962   Prob(JB):                     1.36e-75\n",
            "Kurtosis:                      10.148   Cond. No.                         1.27\n",
            "==============================================================================\n",
            "\n",
            "Notes:\n",
            "[1] Standard Errors assume that the covariance matrix of the errors is correctly specified.\n",
            "\u001b[1m\n",
            "--- Linear Regression Analysis for Δasg_45 (Outliers Excluded) ---\u001b[0m\n",
            "MSE: 0.22364596007209817, R2: 0.06303926001243154\n",
            "                            OLS Regression Results                            \n",
            "==============================================================================\n",
            "Dep. Variable:                Δasg_45   R-squared:                       0.162\n",
            "Model:                            OLS   Adj. R-squared:                  0.113\n",
            "Method:                 Least Squares   F-statistic:                     3.289\n",
            "Date:                Sat, 18 May 2024   Prob (F-statistic):            0.00183\n",
            "Time:                        03:21:26   Log-Likelihood:                -123.07\n",
            "No. Observations:                 145   AIC:                             264.1\n",
            "Df Residuals:                     136   BIC:                             290.9\n",
            "Df Model:                           8                                         \n",
            "Covariance Type:            nonrobust                                         \n",
            "====================================================================================\n",
            "                       coef    std err          t      P>|t|      [0.025      0.975]\n",
            "------------------------------------------------------------------------------------\n",
            "const                0.3077      0.566      0.543      0.588      -0.812       1.428\n",
            "age                 -0.0037      0.006     -0.617      0.539      -0.015       0.008\n",
            "sex                  0.1317      0.106      1.243      0.216      -0.078       0.341\n",
            "side                -0.1855      0.101     -1.839      0.068      -0.385       0.014\n",
            "asg_0_pre           -0.0589      0.050     -1.170      0.244      -0.158       0.041\n",
            "asg_45_pre          -0.4496      0.096     -4.706      0.000      -0.639      -0.261\n",
            "MRD-1 pre           -0.0339      0.048     -0.710      0.479      -0.128       0.060\n",
            "MRD-1 3M            -0.0207      0.051     -0.409      0.683      -0.121       0.079\n",
            "levator_function     0.0021      0.026      0.080      0.937      -0.049       0.053\n",
            "==============================================================================\n",
            "Omnibus:                       55.341   Durbin-Watson:                   2.021\n",
            "Prob(Omnibus):                  0.000   Jarque-Bera (JB):              395.569\n",
            "Skew:                          -1.113   Prob(JB):                     1.27e-86\n",
            "Kurtosis:                      10.779   Cond. No.                         888.\n",
            "==============================================================================\n",
            "\n",
            "Notes:\n",
            "[1] Standard Errors assume that the covariance matrix of the errors is correctly specified.\n",
            "\u001b[1m\n",
            "--- Stepwise Regression Analysis for Δasg_45 (Outliers Excluded) ---\u001b[0m\n",
            "Add  asg_45_pre with p-value 1.0756323868304987e-06\n",
            "Selected features: ['asg_45_pre']\n",
            "Selected model MSE: 0.20246785882503904, R2: 0.15176453548612778\n",
            "                            OLS Regression Results                            \n",
            "==============================================================================\n",
            "Dep. Variable:                Δasg_45   R-squared:                       0.117\n",
            "Model:                            OLS   Adj. R-squared:                  0.111\n",
            "Method:                 Least Squares   F-statistic:                     18.91\n",
            "Date:                Sat, 18 May 2024   Prob (F-statistic):           2.58e-05\n",
            "Time:                        03:21:27   Log-Likelihood:                -126.89\n",
            "No. Observations:                 145   AIC:                             257.8\n",
            "Df Residuals:                     143   BIC:                             263.7\n",
            "Df Model:                           1                                         \n",
            "Covariance Type:            nonrobust                                         \n",
            "==============================================================================\n",
            "                 coef    std err          t      P>|t|      [0.025      0.975]\n",
            "------------------------------------------------------------------------------\n",
            "const         -0.0676      0.049     -1.388      0.167      -0.164       0.029\n",
            "asg_45_pre    -0.3949      0.091     -4.349      0.000      -0.574      -0.215\n",
            "==============================================================================\n",
            "Omnibus:                       73.503   Durbin-Watson:                   2.011\n",
            "Prob(Omnibus):                  0.000   Jarque-Bera (JB):              681.767\n",
            "Skew:                          -1.517   Prob(JB):                    9.04e-149\n",
            "Kurtosis:                      13.181   Cond. No.                         1.88\n",
            "==============================================================================\n",
            "\n",
            "Notes:\n",
            "[1] Standard Errors assume that the covariance matrix of the errors is correctly specified.\n"
          ]
        }
      ]
    },
    {
      "cell_type": "code",
      "source": [
        "def stepwise_selection(X, y, initial_list=[], threshold_in=0.05, threshold_out=0.10, verbose=True):\n",
        "    included = list(initial_list)\n",
        "    while True:\n",
        "        changed = False\n",
        "        excluded = list(set(X.columns) - set(included))\n",
        "        new_pval = pd.Series(index=excluded)\n",
        "        for new_column in excluded:\n",
        "            model = sm.OLS(y, sm.add_constant(pd.DataFrame(X[included + [new_column]]))).fit()\n",
        "            new_pval[new_column] = model.pvalues[new_column]\n",
        "        best_pval = new_pval.min()\n",
        "        if best_pval < threshold_in:\n",
        "            best_feature = new_pval.idxmin()\n",
        "            included.append(best_feature)\n",
        "            changed = True\n",
        "            if verbose:\n",
        "                print(f'Add  {best_feature} with p-value {best_pval}')\n",
        "\n",
        "        model = sm.OLS(y, sm.add_constant(pd.DataFrame(X[included]))).fit()\n",
        "        pvalues = model.pvalues.iloc[1:]\n",
        "        worst_pval = pvalues.max()\n",
        "        if worst_pval > threshold_out:\n",
        "            changed = True\n",
        "            worst_feature = pvalues.idxmax()\n",
        "            included.remove(worst_feature)\n",
        "            if verbose:\n",
        "                print(f'Drop {worst_feature} with p-value {worst_pval}')\n",
        "        if not changed:\n",
        "            break\n",
        "\n",
        "    return included\n",
        "\n",
        "# 閾値を緩和したステップワイズ回帰を実行\n",
        "stepwise_regression_analysis(X, y, 'Δasg_0 (Adjusted Threshold)')\n"
      ],
      "metadata": {
        "colab": {
          "base_uri": "https://localhost:8080/"
        },
        "id": "24E-sWWyhnBf",
        "outputId": "88ec01d9-abd6-4a0c-e9ba-8b021aa20a07"
      },
      "execution_count": 121,
      "outputs": [
        {
          "output_type": "stream",
          "name": "stdout",
          "text": [
            "\u001b[1m\n",
            "--- Stepwise Regression Analysis for Δasg_0 (Adjusted Threshold) ---\u001b[0m\n",
            "Add  asg_45_pre with p-value 1.0756323868304987e-06\n",
            "Selected features: ['asg_45_pre']\n",
            "Selected model MSE: 0.20246785882503904, R2: 0.15176453548612778\n",
            "                            OLS Regression Results                            \n",
            "==============================================================================\n",
            "Dep. Variable:                Δasg_45   R-squared:                       0.117\n",
            "Model:                            OLS   Adj. R-squared:                  0.111\n",
            "Method:                 Least Squares   F-statistic:                     18.91\n",
            "Date:                Sat, 18 May 2024   Prob (F-statistic):           2.58e-05\n",
            "Time:                        03:13:07   Log-Likelihood:                -126.89\n",
            "No. Observations:                 145   AIC:                             257.8\n",
            "Df Residuals:                     143   BIC:                             263.7\n",
            "Df Model:                           1                                         \n",
            "Covariance Type:            nonrobust                                         \n",
            "==============================================================================\n",
            "                 coef    std err          t      P>|t|      [0.025      0.975]\n",
            "------------------------------------------------------------------------------\n",
            "const         -0.0676      0.049     -1.388      0.167      -0.164       0.029\n",
            "asg_45_pre    -0.3949      0.091     -4.349      0.000      -0.574      -0.215\n",
            "==============================================================================\n",
            "Omnibus:                       73.503   Durbin-Watson:                   2.011\n",
            "Prob(Omnibus):                  0.000   Jarque-Bera (JB):              681.767\n",
            "Skew:                          -1.517   Prob(JB):                    9.04e-149\n",
            "Kurtosis:                      13.181   Cond. No.                         1.88\n",
            "==============================================================================\n",
            "\n",
            "Notes:\n",
            "[1] Standard Errors assume that the covariance matrix of the errors is correctly specified.\n"
          ]
        }
      ]
    },
    {
      "cell_type": "code",
      "source": [],
      "metadata": {
        "id": "rpXLRB9ehnD5"
      },
      "execution_count": null,
      "outputs": []
    },
    {
      "cell_type": "code",
      "source": [],
      "metadata": {
        "id": "bZYqs7KghnGS"
      },
      "execution_count": null,
      "outputs": []
    },
    {
      "cell_type": "code",
      "source": [],
      "metadata": {
        "id": "ytjJ1S4-Zz0P"
      },
      "execution_count": null,
      "outputs": []
    },
    {
      "cell_type": "code",
      "source": [],
      "metadata": {
        "id": "kG2v9FPIZz2o"
      },
      "execution_count": null,
      "outputs": []
    },
    {
      "cell_type": "markdown",
      "source": [
        "##**Random forest analysis**"
      ],
      "metadata": {
        "id": "gqdt-ZxZgOp4"
      }
    },
    {
      "cell_type": "code",
      "source": [
        "from sklearn.ensemble import RandomForestRegressor\n",
        "from sklearn.model_selection import train_test_split\n",
        "from sklearn.metrics import mean_squared_error, r2_score\n",
        "\n",
        "# Selecting the relevant columns\n",
        "analysis_data = data[['Δasg_0', 'asg_0_pre', 'MRD-1 pre', 'MRD-1 3M']].dropna()\n",
        "\n",
        "# Define features and target\n",
        "X = analysis_data[['asg_0_pre', 'MRD-1 pre', 'MRD-1 3M']]\n",
        "y = analysis_data['Δasg_0']\n",
        "\n",
        "# Split the data into training and testing sets\n",
        "X_train, X_test, y_train, y_test = train_test_split(X, y, test_size=0.3, random_state=42)\n",
        "\n",
        "# Initialize and train the RandomForestRegressor\n",
        "rf_model = RandomForestRegressor(n_estimators=100, random_state=42)\n",
        "rf_model.fit(X_train, y_train)\n",
        "\n",
        "# Make predictions on the test set\n",
        "predictions = rf_model.predict(X_test)\n",
        "\n",
        "# Evaluate the model\n",
        "mse = mean_squared_error(y_test, predictions)\n",
        "r2 = r2_score(y_test, predictions)\n",
        "\n",
        "mse, r2\n"
      ],
      "metadata": {
        "colab": {
          "base_uri": "https://localhost:8080/"
        },
        "id": "nC4xXQa6gWDc",
        "outputId": "f14b2214-25c1-4975-9ec7-7cef46fbb975"
      },
      "execution_count": null,
      "outputs": [
        {
          "output_type": "execute_result",
          "data": {
            "text/plain": [
              "(0.6279494880255121, 0.15832447779819414)"
            ]
          },
          "metadata": {},
          "execution_count": 68
        }
      ]
    },
    {
      "cell_type": "code",
      "source": [
        "# Extract feature importances from the random forest model\n",
        "feature_importances = rf_model.feature_importances_\n",
        "\n",
        "# Create a dataframe to view feature importances\n",
        "feature_importance_df = pd.DataFrame({\n",
        "    'Feature': X.columns,\n",
        "    'Importance': feature_importances\n",
        "}).sort_values(by='Importance', ascending=False)\n",
        "\n",
        "feature_importance_df\n"
      ],
      "metadata": {
        "colab": {
          "base_uri": "https://localhost:8080/",
          "height": 143
        },
        "id": "py-8urgEwTHE",
        "outputId": "0e8f6b15-1d96-4d22-b813-639b1adadf87"
      },
      "execution_count": null,
      "outputs": [
        {
          "output_type": "execute_result",
          "data": {
            "text/plain": [
              "     Feature  Importance\n",
              "0  asg_0_pre      0.6395\n",
              "2   MRD-1 3M      0.1836\n",
              "1  MRD-1 pre      0.1770"
            ],
            "text/html": [
              "\n",
              "  <div id=\"df-a16cd882-5f47-44c0-8687-67190ca3f04c\" class=\"colab-df-container\">\n",
              "    <div>\n",
              "<style scoped>\n",
              "    .dataframe tbody tr th:only-of-type {\n",
              "        vertical-align: middle;\n",
              "    }\n",
              "\n",
              "    .dataframe tbody tr th {\n",
              "        vertical-align: top;\n",
              "    }\n",
              "\n",
              "    .dataframe thead th {\n",
              "        text-align: right;\n",
              "    }\n",
              "</style>\n",
              "<table border=\"1\" class=\"dataframe\">\n",
              "  <thead>\n",
              "    <tr style=\"text-align: right;\">\n",
              "      <th></th>\n",
              "      <th>Feature</th>\n",
              "      <th>Importance</th>\n",
              "    </tr>\n",
              "  </thead>\n",
              "  <tbody>\n",
              "    <tr>\n",
              "      <th>0</th>\n",
              "      <td>asg_0_pre</td>\n",
              "      <td>0.6395</td>\n",
              "    </tr>\n",
              "    <tr>\n",
              "      <th>2</th>\n",
              "      <td>MRD-1 3M</td>\n",
              "      <td>0.1836</td>\n",
              "    </tr>\n",
              "    <tr>\n",
              "      <th>1</th>\n",
              "      <td>MRD-1 pre</td>\n",
              "      <td>0.1770</td>\n",
              "    </tr>\n",
              "  </tbody>\n",
              "</table>\n",
              "</div>\n",
              "    <div class=\"colab-df-buttons\">\n",
              "\n",
              "  <div class=\"colab-df-container\">\n",
              "    <button class=\"colab-df-convert\" onclick=\"convertToInteractive('df-a16cd882-5f47-44c0-8687-67190ca3f04c')\"\n",
              "            title=\"Convert this dataframe to an interactive table.\"\n",
              "            style=\"display:none;\">\n",
              "\n",
              "  <svg xmlns=\"http://www.w3.org/2000/svg\" height=\"24px\" viewBox=\"0 -960 960 960\">\n",
              "    <path d=\"M120-120v-720h720v720H120Zm60-500h600v-160H180v160Zm220 220h160v-160H400v160Zm0 220h160v-160H400v160ZM180-400h160v-160H180v160Zm440 0h160v-160H620v160ZM180-180h160v-160H180v160Zm440 0h160v-160H620v160Z\"/>\n",
              "  </svg>\n",
              "    </button>\n",
              "\n",
              "  <style>\n",
              "    .colab-df-container {\n",
              "      display:flex;\n",
              "      gap: 12px;\n",
              "    }\n",
              "\n",
              "    .colab-df-convert {\n",
              "      background-color: #E8F0FE;\n",
              "      border: none;\n",
              "      border-radius: 50%;\n",
              "      cursor: pointer;\n",
              "      display: none;\n",
              "      fill: #1967D2;\n",
              "      height: 32px;\n",
              "      padding: 0 0 0 0;\n",
              "      width: 32px;\n",
              "    }\n",
              "\n",
              "    .colab-df-convert:hover {\n",
              "      background-color: #E2EBFA;\n",
              "      box-shadow: 0px 1px 2px rgba(60, 64, 67, 0.3), 0px 1px 3px 1px rgba(60, 64, 67, 0.15);\n",
              "      fill: #174EA6;\n",
              "    }\n",
              "\n",
              "    .colab-df-buttons div {\n",
              "      margin-bottom: 4px;\n",
              "    }\n",
              "\n",
              "    [theme=dark] .colab-df-convert {\n",
              "      background-color: #3B4455;\n",
              "      fill: #D2E3FC;\n",
              "    }\n",
              "\n",
              "    [theme=dark] .colab-df-convert:hover {\n",
              "      background-color: #434B5C;\n",
              "      box-shadow: 0px 1px 3px 1px rgba(0, 0, 0, 0.15);\n",
              "      filter: drop-shadow(0px 1px 2px rgba(0, 0, 0, 0.3));\n",
              "      fill: #FFFFFF;\n",
              "    }\n",
              "  </style>\n",
              "\n",
              "    <script>\n",
              "      const buttonEl =\n",
              "        document.querySelector('#df-a16cd882-5f47-44c0-8687-67190ca3f04c button.colab-df-convert');\n",
              "      buttonEl.style.display =\n",
              "        google.colab.kernel.accessAllowed ? 'block' : 'none';\n",
              "\n",
              "      async function convertToInteractive(key) {\n",
              "        const element = document.querySelector('#df-a16cd882-5f47-44c0-8687-67190ca3f04c');\n",
              "        const dataTable =\n",
              "          await google.colab.kernel.invokeFunction('convertToInteractive',\n",
              "                                                    [key], {});\n",
              "        if (!dataTable) return;\n",
              "\n",
              "        const docLinkHtml = 'Like what you see? Visit the ' +\n",
              "          '<a target=\"_blank\" href=https://colab.research.google.com/notebooks/data_table.ipynb>data table notebook</a>'\n",
              "          + ' to learn more about interactive tables.';\n",
              "        element.innerHTML = '';\n",
              "        dataTable['output_type'] = 'display_data';\n",
              "        await google.colab.output.renderOutput(dataTable, element);\n",
              "        const docLink = document.createElement('div');\n",
              "        docLink.innerHTML = docLinkHtml;\n",
              "        element.appendChild(docLink);\n",
              "      }\n",
              "    </script>\n",
              "  </div>\n",
              "\n",
              "\n",
              "<div id=\"df-c46390c8-9115-49c3-9b2b-ad51069a3bea\">\n",
              "  <button class=\"colab-df-quickchart\" onclick=\"quickchart('df-c46390c8-9115-49c3-9b2b-ad51069a3bea')\"\n",
              "            title=\"Suggest charts\"\n",
              "            style=\"display:none;\">\n",
              "\n",
              "<svg xmlns=\"http://www.w3.org/2000/svg\" height=\"24px\"viewBox=\"0 0 24 24\"\n",
              "     width=\"24px\">\n",
              "    <g>\n",
              "        <path d=\"M19 3H5c-1.1 0-2 .9-2 2v14c0 1.1.9 2 2 2h14c1.1 0 2-.9 2-2V5c0-1.1-.9-2-2-2zM9 17H7v-7h2v7zm4 0h-2V7h2v10zm4 0h-2v-4h2v4z\"/>\n",
              "    </g>\n",
              "</svg>\n",
              "  </button>\n",
              "\n",
              "<style>\n",
              "  .colab-df-quickchart {\n",
              "      --bg-color: #E8F0FE;\n",
              "      --fill-color: #1967D2;\n",
              "      --hover-bg-color: #E2EBFA;\n",
              "      --hover-fill-color: #174EA6;\n",
              "      --disabled-fill-color: #AAA;\n",
              "      --disabled-bg-color: #DDD;\n",
              "  }\n",
              "\n",
              "  [theme=dark] .colab-df-quickchart {\n",
              "      --bg-color: #3B4455;\n",
              "      --fill-color: #D2E3FC;\n",
              "      --hover-bg-color: #434B5C;\n",
              "      --hover-fill-color: #FFFFFF;\n",
              "      --disabled-bg-color: #3B4455;\n",
              "      --disabled-fill-color: #666;\n",
              "  }\n",
              "\n",
              "  .colab-df-quickchart {\n",
              "    background-color: var(--bg-color);\n",
              "    border: none;\n",
              "    border-radius: 50%;\n",
              "    cursor: pointer;\n",
              "    display: none;\n",
              "    fill: var(--fill-color);\n",
              "    height: 32px;\n",
              "    padding: 0;\n",
              "    width: 32px;\n",
              "  }\n",
              "\n",
              "  .colab-df-quickchart:hover {\n",
              "    background-color: var(--hover-bg-color);\n",
              "    box-shadow: 0 1px 2px rgba(60, 64, 67, 0.3), 0 1px 3px 1px rgba(60, 64, 67, 0.15);\n",
              "    fill: var(--button-hover-fill-color);\n",
              "  }\n",
              "\n",
              "  .colab-df-quickchart-complete:disabled,\n",
              "  .colab-df-quickchart-complete:disabled:hover {\n",
              "    background-color: var(--disabled-bg-color);\n",
              "    fill: var(--disabled-fill-color);\n",
              "    box-shadow: none;\n",
              "  }\n",
              "\n",
              "  .colab-df-spinner {\n",
              "    border: 2px solid var(--fill-color);\n",
              "    border-color: transparent;\n",
              "    border-bottom-color: var(--fill-color);\n",
              "    animation:\n",
              "      spin 1s steps(1) infinite;\n",
              "  }\n",
              "\n",
              "  @keyframes spin {\n",
              "    0% {\n",
              "      border-color: transparent;\n",
              "      border-bottom-color: var(--fill-color);\n",
              "      border-left-color: var(--fill-color);\n",
              "    }\n",
              "    20% {\n",
              "      border-color: transparent;\n",
              "      border-left-color: var(--fill-color);\n",
              "      border-top-color: var(--fill-color);\n",
              "    }\n",
              "    30% {\n",
              "      border-color: transparent;\n",
              "      border-left-color: var(--fill-color);\n",
              "      border-top-color: var(--fill-color);\n",
              "      border-right-color: var(--fill-color);\n",
              "    }\n",
              "    40% {\n",
              "      border-color: transparent;\n",
              "      border-right-color: var(--fill-color);\n",
              "      border-top-color: var(--fill-color);\n",
              "    }\n",
              "    60% {\n",
              "      border-color: transparent;\n",
              "      border-right-color: var(--fill-color);\n",
              "    }\n",
              "    80% {\n",
              "      border-color: transparent;\n",
              "      border-right-color: var(--fill-color);\n",
              "      border-bottom-color: var(--fill-color);\n",
              "    }\n",
              "    90% {\n",
              "      border-color: transparent;\n",
              "      border-bottom-color: var(--fill-color);\n",
              "    }\n",
              "  }\n",
              "</style>\n",
              "\n",
              "  <script>\n",
              "    async function quickchart(key) {\n",
              "      const quickchartButtonEl =\n",
              "        document.querySelector('#' + key + ' button');\n",
              "      quickchartButtonEl.disabled = true;  // To prevent multiple clicks.\n",
              "      quickchartButtonEl.classList.add('colab-df-spinner');\n",
              "      try {\n",
              "        const charts = await google.colab.kernel.invokeFunction(\n",
              "            'suggestCharts', [key], {});\n",
              "      } catch (error) {\n",
              "        console.error('Error during call to suggestCharts:', error);\n",
              "      }\n",
              "      quickchartButtonEl.classList.remove('colab-df-spinner');\n",
              "      quickchartButtonEl.classList.add('colab-df-quickchart-complete');\n",
              "    }\n",
              "    (() => {\n",
              "      let quickchartButtonEl =\n",
              "        document.querySelector('#df-c46390c8-9115-49c3-9b2b-ad51069a3bea button');\n",
              "      quickchartButtonEl.style.display =\n",
              "        google.colab.kernel.accessAllowed ? 'block' : 'none';\n",
              "    })();\n",
              "  </script>\n",
              "</div>\n",
              "    </div>\n",
              "  </div>\n"
            ],
            "application/vnd.google.colaboratory.intrinsic+json": {
              "type": "dataframe",
              "variable_name": "feature_importance_df",
              "summary": "{\n  \"name\": \"feature_importance_df\",\n  \"rows\": 3,\n  \"fields\": [\n    {\n      \"column\": \"Feature\",\n      \"properties\": {\n        \"dtype\": \"string\",\n        \"num_unique_values\": 3,\n        \"samples\": [\n          \"asg_0_pre\",\n          \"MRD-1 3M\",\n          \"MRD-1 pre\"\n        ],\n        \"semantic_type\": \"\",\n        \"description\": \"\"\n      }\n    },\n    {\n      \"column\": \"Importance\",\n      \"properties\": {\n        \"dtype\": \"number\",\n        \"std\": 0.2651516262947966,\n        \"min\": 0.17696502760679164,\n        \"max\": 0.6394804210126255,\n        \"num_unique_values\": 3,\n        \"samples\": [\n          0.6394804210126255,\n          0.18355455138058285,\n          0.17696502760679164\n        ],\n        \"semantic_type\": \"\",\n        \"description\": \"\"\n      }\n    }\n  ]\n}"
            }
          },
          "metadata": {},
          "execution_count": 70
        }
      ]
    },
    {
      "cell_type": "code",
      "source": [
        "import pandas as pd\n",
        "\n",
        "print(\"Missing values in X:\", pd.isnull(X).sum().sum())\n",
        "print(\"Missing values in y_delta_asg_0:\", pd.isnull(y_delta_asg_0).sum())\n",
        "print(\"Missing values in y_delta_asg_45:\", pd.isnull(y_delta_asg_45).sum())"
      ],
      "metadata": {
        "colab": {
          "base_uri": "https://localhost:8080/"
        },
        "id": "0zODE7PhwX1Z",
        "outputId": "cf1b3c92-9bb6-4bc1-9183-09e18e889f7d"
      },
      "execution_count": null,
      "outputs": [
        {
          "output_type": "stream",
          "name": "stdout",
          "text": [
            "Missing values in X: 0\n",
            "Missing values in y_delta_asg_0: 0\n",
            "Missing values in y_delta_asg_45: 0\n"
          ]
        }
      ]
    },
    {
      "cell_type": "code",
      "source": [
        "# Feature importance from the Random Forest models\n",
        "importances_delta_asg_0 = rf_model_delta_asg_0.feature_importances_\n",
        "importances_delta_asg_45 = rf_model_delta_asg_45.feature_importances_\n",
        "\n",
        "# Create a DataFrame to display feature importance\n",
        "feature_importance_delta_asg_0 = pd.Series(importances_delta_asg_0, index=X.columns).sort_values(ascending=False)\n",
        "feature_importance_delta_asg_45 = pd.Series(importances_delta_asg_45, index=X.columns).sort_values(ascending=False)\n",
        "\n",
        "print(feature_importance_delta_asg_0)\n",
        "print(\"\")\n",
        "print(feature_importance_delta_asg_45)\n"
      ],
      "metadata": {
        "id": "oheoSDwQgpYN"
      },
      "execution_count": null,
      "outputs": []
    },
    {
      "cell_type": "code",
      "source": [
        "from sklearn.tree import export_graphviz\n",
        "import graphviz\n",
        "\n",
        "# Extract one tree from the Random Forest model for Δasg_45\n",
        "tree_example = rf_model_delta_asg_0.estimators_[0]\n",
        "\n",
        "# Export the tree in DOT format\n",
        "dot_data = export_graphviz(tree_example, out_file=None,\n",
        "                           feature_names=X.columns,\n",
        "                           filled=True, rounded=True,\n",
        "                           special_characters=True)\n",
        "\n",
        "# Generate a graph from DOT data\n",
        "graph = graphviz.Source(dot_data)\n",
        "graph"
      ],
      "metadata": {
        "id": "MaRhgHorhugH"
      },
      "execution_count": null,
      "outputs": []
    },
    {
      "cell_type": "code",
      "source": [
        "# Save the graph to a file\n",
        "graph_path = '/content/graph.dot'\n",
        "graph.render(graph_path)\n",
        "\n",
        "# Provide the path to the saved graph file\n",
        "graph_path + '.pdf'"
      ],
      "metadata": {
        "colab": {
          "base_uri": "https://localhost:8080/",
          "height": 35
        },
        "id": "CDS9c11jkJ3X",
        "outputId": "fcdf57f4-54c3-4127-ce2e-f381738f8454"
      },
      "execution_count": null,
      "outputs": [
        {
          "output_type": "execute_result",
          "data": {
            "text/plain": [
              "'/content/graph.dot.pdf'"
            ],
            "application/vnd.google.colaboratory.intrinsic+json": {
              "type": "string"
            }
          },
          "metadata": {},
          "execution_count": 212
        }
      ]
    },
    {
      "cell_type": "code",
      "source": [
        "from sklearn.tree import export_graphviz\n",
        "import graphviz\n",
        "\n",
        "# Extract one tree from the Random Forest model for Δasg_45\n",
        "tree_example = rf_model_delta_asg_45.estimators_[0]\n",
        "\n",
        "# Export the tree in DOT format\n",
        "dot_data = export_graphviz(tree_example, out_file=None,\n",
        "                           feature_names=X.columns,\n",
        "                           filled=True, rounded=True,\n",
        "                           special_characters=True)\n",
        "\n",
        "# Generate a graph from DOT data\n",
        "graph = graphviz.Source(dot_data)\n",
        "graph\n"
      ],
      "metadata": {
        "id": "Gt7dUKb5hRAg"
      },
      "execution_count": null,
      "outputs": []
    },
    {
      "cell_type": "code",
      "source": [
        "# MRD-1 preとMRD-1 3Mのプロット（Δasg-0で色分けあり）\n",
        "import matplotlib.pyplot as plt\n",
        "\n",
        "# Create a scatter plot\n",
        "plt.figure(figsize=(10, 6))\n",
        "scatter = plt.scatter(data['MRD-1 3M'], data['MRD-1 pre'], c=data['Δasg_0'], cmap='viridis')\n",
        "plt.colorbar(scatter, label='Δasg_0')\n",
        "\n",
        "plt.title('Scatter Plot of MRD-1 pre vs MRD-1 3M with Δasg_0 Color Coding')\n",
        "plt.xlabel('MRD-1 3M')\n",
        "plt.ylabel('MRD-1 pre')\n",
        "plt.grid(True)\n",
        "plt.show()\n"
      ],
      "metadata": {
        "id": "GegUf6ipx6NG"
      },
      "execution_count": null,
      "outputs": []
    },
    {
      "cell_type": "markdown",
      "source": [
        "##**Support vector machine**"
      ],
      "metadata": {
        "id": "e81wiqPiKbzQ"
      }
    },
    {
      "cell_type": "code",
      "source": [
        "import pandas as pd\n",
        "\n",
        "xlsx_path = \"/content/drive/MyDrive/研究/進行中の研究/眼瞼下垂手術による屈折変化/眼瞼下垂_proprocessed.xlsx\"\n",
        "\n",
        "data = pd.read_excel(xlsx_path, header=0)\n",
        "\n",
        "# Display the first few rows of the dataframe and its columns to understand its structure\n",
        "# data.head()"
      ],
      "metadata": {
        "id": "mn6axQj5mdAe"
      },
      "execution_count": null,
      "outputs": []
    },
    {
      "cell_type": "code",
      "source": [
        "# from sklearn.svm import SVC\n",
        "# from sklearn.model_selection import train_test_split\n",
        "# from sklearn.metrics import classification_report, accuracy_score\n",
        "# from sklearn.preprocessing import StandardScaler\n",
        "\n",
        "# # Checking the presence of 'asg_0_pre' column or determining it\n",
        "# if 'asg_0_pre' not in data.columns:\n",
        "#     # Assuming 'asg_0_pre' could be related to Δasg_0 initial state; if not, user should clarify\n",
        "#     data['asg_0_pre'] = data['Δasg_0'] - data[['Δasg_45', 'SIA_D', 'SIA_ax']].mean(axis=1)\n",
        "\n",
        "# # 4分位で1分位〜3分位を削除\n",
        "# # Define quartiles\n",
        "# quartiles = data['asg_0_pre'].quantile([0.25, 0.75])\n",
        "\n",
        "# # Categorizing data based on the 1st and 3rd quartiles\n",
        "# data['target'] = (data['asg_0_pre'] > quartiles[0.75]).astype(int) | (data['asg_0_pre'] < quartiles[0.25]).astype(int)\n",
        "\n",
        "# # Selecting the features and target\n",
        "# features = data[['MRD-1 pre', 'MRD-1 3M']]\n",
        "# target = data['target']\n",
        "\n",
        "# # Splitting the dataset into training and testing sets\n",
        "# X_train, X_test, y_train, y_test = train_test_split(features, target, test_size=0.2, random_state=42)\n",
        "\n",
        "# # Scaling features\n",
        "# scaler = StandardScaler()\n",
        "# X_train_scaled = scaler.fit_transform(X_train)\n",
        "# X_test_scaled = scaler.transform(X_test)\n",
        "\n",
        "# # Training the SVM model\n",
        "# svm_model = SVC(kernel='rbf', random_state=42)\n",
        "# svm_model.fit(X_train_scaled, y_train)\n",
        "\n",
        "# # Making predictions\n",
        "# y_pred = svm_model.predict(X_test_scaled)\n",
        "\n",
        "# # Evaluating the model\n",
        "# accuracy = accuracy_score(y_test, y_pred)\n",
        "# classification_rep = classification_report(y_test, y_pred)\n",
        "\n",
        "# print(f\"accuracy: {accuracy}\")\n",
        "# classification_rep\n"
      ],
      "metadata": {
        "colab": {
          "base_uri": "https://localhost:8080/",
          "height": 90
        },
        "id": "ispDvAFTKglm",
        "outputId": "bc92f9ce-8494-45b8-d946-df0268d0976b"
      },
      "execution_count": null,
      "outputs": [
        {
          "output_type": "stream",
          "name": "stdout",
          "text": [
            "accuracy: 0.6052631578947368\n"
          ]
        },
        {
          "output_type": "execute_result",
          "data": {
            "text/plain": [
              "'              precision    recall  f1-score   support\\n\\n           0       0.61      0.58      0.59        19\\n           1       0.60      0.63      0.62        19\\n\\n    accuracy                           0.61        38\\n   macro avg       0.61      0.61      0.60        38\\nweighted avg       0.61      0.61      0.60        38\\n'"
            ],
            "application/vnd.google.colaboratory.intrinsic+json": {
              "type": "string"
            }
          },
          "metadata": {},
          "execution_count": 79
        }
      ]
    },
    {
      "cell_type": "code",
      "source": [
        "# from sklearn.svm import SVC\n",
        "# from sklearn.model_selection import train_test_split\n",
        "# from sklearn.metrics import classification_report, accuracy_score\n",
        "# from sklearn.preprocessing import StandardScaler\n",
        "# import numpy as np\n",
        "# import matplotlib.pyplot as plt\n",
        "# import seaborn as sns\n",
        "# from scipy.stats import gaussian_kde\n",
        "\n",
        "# # Data preprocessing and setting up the target variable\n",
        "# if 'asg_0_pre' not in data.columns:\n",
        "#     data['asg_0_pre'] = data['Δasg_0'] - data[['Δasg_45', 'SIA_D', 'SIA_ax']].mean(axis=1)\n",
        "# quartiles = data['asg_0_pre'].quantile([0.25, 0.75])\n",
        "# data['target'] = (data['asg_0_pre'] > quartiles[0.75]).astype(int) | (data['asg_0_pre'] < quartiles[0.25]).astype(int)\n",
        "\n",
        "# # Feature selection and data splitting\n",
        "# features = data[['MRD-1 pre', 'MRD-1 3M']]\n",
        "# target = data['target']\n",
        "# X_train, X_test, y_train, y_test = train_test_split(features, target, test_size=0.2, random_state=42)\n",
        "\n",
        "# # Feature scaling\n",
        "# scaler = StandardScaler()\n",
        "# X_train_scaled = scaler.fit_transform(X_train)\n",
        "# X_test_scaled = scaler.transform(X_test)\n",
        "\n",
        "# # SVM model training\n",
        "# svm_model = SVC(kernel='rbf', random_state=42)\n",
        "# svm_model.fit(X_train_scaled, y_train)\n",
        "\n",
        "# # Prediction and evaluation\n",
        "# y_pred = svm_model.predict(X_test_scaled)\n",
        "# accuracy = accuracy_score(y_test, y_pred)\n",
        "# classification_rep = classification_report(y_test, y_pred)\n",
        "\n",
        "# # Plotting\n",
        "# data_array = np.vstack([X_train['MRD-1 pre'], X_train['MRD-1 3M']])\n",
        "# density = gaussian_kde(data_array)(data_array)\n",
        "# sizes = (density / density.max()) * 80 + 20\n",
        "# xx, yy = np.meshgrid(np.linspace(X_train['MRD-1 pre'].min(), X_train['MRD-1 pre'].max(), 500),\n",
        "#                      np.linspace(0, 7, 500))  # Fixed range for MRD-1 3M\n",
        "# Z = svm_model.predict(scaler.transform(np.c_[xx.ravel(), yy.ravel()])).reshape(xx.shape)\n",
        "# plt.figure(figsize=(10, 8))\n",
        "# plt.contourf(xx, yy, Z, alpha=0.4, cmap=plt.cm.coolwarm)\n",
        "# scatter = sns.scatterplot(x=X_train['MRD-1 pre'], y=X_train['MRD-1 3M'], hue=y_train,\n",
        "#                           style=y_train, markers=['o', 'X'], size=sizes, sizes=(20, 100),\n",
        "#                           alpha=0.9, edgecolor='k', palette={0: 'blue', 1: 'red'})\n",
        "# plt.xlabel('MRD-1 Pre')\n",
        "# plt.ylabel('MRD-1 3M')\n",
        "# plt.title('SVM Decision Boundary with Original MRD-1 Pre vs MRD-1 3M')\n",
        "# plt.legend(title='Class', labels=['0 (Circle)', '1 (Cross)'])\n",
        "# plt.ylim(0, 7)  # Setting the y-axis limit\n",
        "# plt.show()\n"
      ],
      "metadata": {
        "id": "JcBSGMGHK1Ya"
      },
      "execution_count": null,
      "outputs": []
    },
    {
      "cell_type": "code",
      "source": [],
      "metadata": {
        "id": "Ry7LFc2I82MB"
      },
      "execution_count": null,
      "outputs": []
    },
    {
      "cell_type": "code",
      "source": [
        "# Attempt to assign labels without using None in pd.cut by only using post-processing to remove unwanted rows\n",
        "\n",
        "quantiles = data['Δasg_0'].quantile([0.25, 0.75])\n",
        "\n",
        "# Create initial labels\n",
        "data['label'] = pd.cut(data['Δasg_0'], bins=[-float('inf'), quantiles[0.25], quantiles[0.75], float('inf')], labels=[0, 1, 2], right=False)\n",
        "\n",
        "# Drop rows where 'label' is 1 (values between 1st and 3rd quartile)\n",
        "filtered_data = data[data['label'] != 1]\n",
        "\n",
        "# Convert labels 2 to 1 for clarity (since label 1 was temporarily used for the middle range)\n",
        "filtered_data['label'].replace({2: 1}, inplace=True)\n",
        "\n",
        "# Show the resulting dataset head and the count of each label\n",
        "filtered_data.head(), filtered_data['label'].value_counts()\n",
        "\n",
        "filtered_data"
      ],
      "metadata": {
        "id": "lxtQNuZB82N9"
      },
      "execution_count": null,
      "outputs": []
    },
    {
      "cell_type": "code",
      "source": [
        "# class0とclass1のΔasg_0の範囲を計算\n",
        "delta_asg0_range_class0 = (filtered_data[filtered_data['label'] == 0]['Δasg_0'].min(),\n",
        "                           filtered_data[filtered_data['label'] == 0]['Δasg_0'].max())\n",
        "delta_asg0_range_class1 = (filtered_data[filtered_data['label'] == 1]['Δasg_0'].min(),\n",
        "                           filtered_data[filtered_data['label'] == 1]['Δasg_0'].max())\n",
        "\n",
        "delta_asg0_range_class0, delta_asg0_range_class1\n"
      ],
      "metadata": {
        "id": "G4Dt0V6ZGNBx",
        "outputId": "80daf3b7-21c5-4bb5-fc63-53435b9cfdba",
        "colab": {
          "base_uri": "https://localhost:8080/"
        }
      },
      "execution_count": null,
      "outputs": [
        {
          "output_type": "execute_result",
          "data": {
            "text/plain": [
              "((-4.167318872421379, -0.1565233388878936), (0.598977306342508, 2.0))"
            ]
          },
          "metadata": {},
          "execution_count": 111
        }
      ]
    },
    {
      "cell_type": "code",
      "source": [
        "from sklearn.model_selection import train_test_split\n",
        "from sklearn.svm import SVC\n",
        "from sklearn.metrics import classification_report, accuracy_score\n",
        "\n",
        "# Preparing the data for SVM analysis\n",
        "X = filtered_data[['MRD-1 pre', 'MRD-1 3M']]  # Predictor variables\n",
        "y = filtered_data['label'].astype(int)  # Target variable, converted to integer\n",
        "\n",
        "# Splitting data into training and testing sets\n",
        "X_train, X_test, y_train, y_test = train_test_split(X, y, test_size=0.2, random_state=42)\n",
        "\n",
        "# Initializing the Support Vector Machine classifier\n",
        "svm_model = SVC(kernel='linear')\n",
        "\n",
        "# Fitting the model\n",
        "svm_model.fit(X_train, y_train)\n",
        "\n",
        "# Predicting the test set results\n",
        "y_pred = svm_model.predict(X_test)\n",
        "\n",
        "# Evaluating the model\n",
        "accuracy = accuracy_score(y_test, y_pred)\n",
        "report = classification_report(y_test, y_pred)\n",
        "\n",
        "accuracy, report\n"
      ],
      "metadata": {
        "colab": {
          "base_uri": "https://localhost:8080/"
        },
        "id": "gyj8HZ_i9B6k",
        "outputId": "7bb0f259-2ce8-4092-b94a-2e412c0fc1c7"
      },
      "execution_count": null,
      "outputs": [
        {
          "output_type": "execute_result",
          "data": {
            "text/plain": [
              "(0.47368421052631576,\n",
              " '              precision    recall  f1-score   support\\n\\n           0       0.33      0.67      0.44         6\\n           1       0.71      0.38      0.50        13\\n\\n    accuracy                           0.47        19\\n   macro avg       0.52      0.53      0.47        19\\nweighted avg       0.59      0.47      0.48        19\\n')"
            ]
          },
          "metadata": {},
          "execution_count": 112
        }
      ]
    },
    {
      "cell_type": "code",
      "source": [
        "import pandas as pd\n",
        "import numpy as np\n",
        "import matplotlib.pyplot as plt\n",
        "from sklearn.model_selection import train_test_split\n",
        "from sklearn.svm import SVC\n",
        "from sklearn.metrics import classification_report, accuracy_score\n",
        "\n",
        "# 前処理\n",
        "quantiles = data['Δasg_0'].quantile([0.25, 0.75])\n",
        "data['label'] = pd.cut(data['Δasg_0'], bins=[-float('inf'), quantiles[0.25], quantiles[0.75], float('inf')],\n",
        "                       labels=[0, 1, 2], right=False)\n",
        "filtered_data = data[data['label'] != 1]\n",
        "filtered_data['label'].replace({2: 1}, inplace=True)\n",
        "\n",
        "# データポイントの密度を計算\n",
        "point_sizes = filtered_data.groupby(['MRD-1 pre', 'MRD-1 3M']).size().reset_index(name='count')\n",
        "filtered_data = filtered_data.merge(point_sizes, on=['MRD-1 pre', 'MRD-1 3M'])\n",
        "\n",
        "# SVMの設定\n",
        "X = filtered_data[['MRD-1 pre', 'MRD-1 3M']]\n",
        "y = filtered_data['label'].astype(int)\n",
        "X_train, X_test, y_train, y_test = train_test_split(X, y, test_size=0.2, random_state=42)\n",
        "svm_model = SVC(kernel='linear')\n",
        "svm_model.fit(X_train, y_train)\n",
        "\n",
        "# メッシュグリッドの生成と決定境界の予測\n",
        "x_min, x_max = X['MRD-1 pre'].min() - 1, X['MRD-1 pre'].max() + 1\n",
        "y_min, y_max = X['MRD-1 3M'].min() - 1, X['MRD-1 3M'].max() + 1\n",
        "xx, yy = np.meshgrid(np.arange(x_min, x_max, 0.02), np.arange(y_min, y_max, 0.02))\n",
        "Z = svm_model.predict(np.c_[xx.ravel(), yy.ravel()])\n",
        "Z = Z.reshape(xx.shape)\n",
        "\n",
        "# プロット\n",
        "plt.figure(figsize=(8, 6))\n",
        "plt.contourf(xx, yy, Z, cmap=plt.cm.coolwarm, alpha=0.3)  # 決定境界\n",
        "class0 = filtered_data[filtered_data['label'] == 0]\n",
        "class1 = filtered_data[filtered_data['label'] == 1]\n",
        "plt.scatter(class0['MRD-1 pre'], class0['MRD-1 3M'], s=class0['count']*10, c='blue', marker='o', edgecolors='k', label='Class 0')\n",
        "plt.scatter(class1['MRD-1 pre'], class1['MRD-1 3M'], s=class1['count']*10, c='red', marker='x', edgecolors='k', label='Class 1')\n",
        "plt.xlabel('MRD-1 pre')\n",
        "plt.ylabel('MRD-1 3M')\n",
        "plt.title('SVM Decision Boundary with Markers Indicating Class and Density')\n",
        "plt.legend()\n",
        "plt.show()\n"
      ],
      "metadata": {
        "colab": {
          "base_uri": "https://localhost:8080/",
          "height": 749
        },
        "id": "5r4knRqk9_iL",
        "outputId": "eee5c7c1-d162-4c37-c965-5871d89421b8"
      },
      "execution_count": null,
      "outputs": [
        {
          "output_type": "stream",
          "name": "stderr",
          "text": [
            "<ipython-input-115-44d06fcaacd6>:13: SettingWithCopyWarning: \n",
            "A value is trying to be set on a copy of a slice from a DataFrame\n",
            "\n",
            "See the caveats in the documentation: https://pandas.pydata.org/pandas-docs/stable/user_guide/indexing.html#returning-a-view-versus-a-copy\n",
            "  filtered_data['label'].replace({2: 1}, inplace=True)\n",
            "/usr/local/lib/python3.10/dist-packages/sklearn/base.py:439: UserWarning: X does not have valid feature names, but SVC was fitted with feature names\n",
            "  warnings.warn(\n",
            "<ipython-input-115-44d06fcaacd6>:39: UserWarning: You passed a edgecolor/edgecolors ('k') for an unfilled marker ('x').  Matplotlib is ignoring the edgecolor in favor of the facecolor.  This behavior may change in the future.\n",
            "  plt.scatter(class1['MRD-1 pre'], class1['MRD-1 3M'], s=class1['count']*10, c='red', marker='x', edgecolors='k', label='Class 1')\n"
          ]
        },
        {
          "output_type": "display_data",
          "data": {
            "text/plain": [
              "<Figure size 800x600 with 1 Axes>"
            ],
            "image/png": "[encoded data removed]"
          },
          "metadata": {}
        }
      ]
    },
    {
      "cell_type": "code",
      "source": [
        "from sklearn.linear_model import LinearRegression\n",
        "from sklearn.model_selection import train_test_split\n",
        "import statsmodels.api as sm\n",
        "\n",
        "# 目的変数と説明変数を設定（asg_0_preを含む全変数を使用）\n",
        "X_full = filtered_data[['MRD-1 pre', 'MRD-1 3M']]\n",
        "y_full = filtered_data['Δasg_0']\n",
        "\n",
        "# データを訓練用とテスト用に分割\n",
        "X_train_full, X_test_full, y_train_full, y_test_full = train_test_split(X_full, y_full, test_size=0.2, random_state=42)\n",
        "\n",
        "# 統計モデル用に定数項を追加\n",
        "X_train_full_const = sm.add_constant(X_train_full)\n",
        "X_test_full_const = sm.add_constant(X_test_full)\n",
        "\n",
        "# OLSモデルの初期化と訓練\n",
        "ols_model = sm.OLS(y_train_full, X_train_full_const)\n",
        "results = ols_model.fit()\n",
        "\n",
        "# 結果の出力\n",
        "aic = results.aic\n",
        "summary = results.summary()\n",
        "\n",
        "aic, summary\n"
      ],
      "metadata": {
        "colab": {
          "base_uri": "https://localhost:8080/"
        },
        "id": "H7VxdSSPAbep",
        "outputId": "4a3e5d47-e1b9-41a4-ff9b-be57475d1c82"
      },
      "execution_count": null,
      "outputs": [
        {
          "output_type": "execute_result",
          "data": {
            "text/plain": [
              "(227.3605720472765,\n",
              " <class 'statsmodels.iolib.summary.Summary'>\n",
              " \"\"\"\n",
              "                             OLS Regression Results                            \n",
              " ==============================================================================\n",
              " Dep. Variable:                 Δasg_0   R-squared:                       0.001\n",
              " Model:                            OLS   Adj. R-squared:                 -0.026\n",
              " Method:                 Least Squares   F-statistic:                   0.05020\n",
              " Date:                Mon, 13 May 2024   Prob (F-statistic):              0.951\n",
              " Time:                        18:01:16   Log-Likelihood:                -110.68\n",
              " No. Observations:                  76   AIC:                             227.4\n",
              " Df Residuals:                      73   BIC:                             234.4\n",
              " Df Model:                           2                                         \n",
              " Covariance Type:            nonrobust                                         \n",
              " ==============================================================================\n",
              "                  coef    std err          t      P>|t|      [0.025      0.975]\n",
              " ------------------------------------------------------------------------------\n",
              " const          0.0041      0.406      0.010      0.992      -0.804       0.813\n",
              " MRD-1 pre     -0.0160      0.099     -0.160      0.873      -0.214       0.182\n",
              " MRD-1 3M       0.0323      0.112      0.289      0.774      -0.191       0.255\n",
              " ==============================================================================\n",
              " Omnibus:                       18.353   Durbin-Watson:                   2.098\n",
              " Prob(Omnibus):                  0.000   Jarque-Bera (JB):               28.246\n",
              " Skew:                          -0.949   Prob(JB):                     7.35e-07\n",
              " Kurtosis:                       5.306   Cond. No.                         13.1\n",
              " ==============================================================================\n",
              " \n",
              " Notes:\n",
              " [1] Standard Errors assume that the covariance matrix of the errors is correctly specified.\n",
              " \"\"\")"
            ]
          },
          "metadata": {},
          "execution_count": 116
        }
      ]
    },
    {
      "cell_type": "code",
      "source": [
        "from sklearn.ensemble import RandomForestRegressor\n",
        "from sklearn.metrics import mean_squared_error, r2_score\n",
        "\n",
        "# ランダムフォレストモデルの初期化\n",
        "rf_model = RandomForestRegressor(n_estimators=100, random_state=42)\n",
        "\n",
        "# 目的変数と説明変数を設定（asg_0_preを含む全変数を使用）\n",
        "X_full = filtered_data[['MRD-1 pre', 'MRD-1 3M']]\n",
        "y_full = filtered_data['Δasg_0']\n",
        "\n",
        "# データを訓練用とテスト用に分割\n",
        "X_rf_train, X_rf_test, y_rf_train, y_rf_test = train_test_split(X_full, y_full, test_size=0.2, random_state=42)\n",
        "\n",
        "# モデルの訓練\n",
        "rf_model.fit(X_rf_train, y_rf_train)\n",
        "\n",
        "# テストデータに対する予測\n",
        "y_rf_pred = rf_model.predict(X_rf_test)\n",
        "\n",
        "# モデルの評価\n",
        "mse_rf = mean_squared_error(y_rf_test, y_rf_pred)\n",
        "r2_rf = r2_score(y_rf_test, y_rf_pred)\n",
        "\n",
        "mse_rf, r2_rf\n"
      ],
      "metadata": {
        "id": "o5dJVuGzE1hr",
        "outputId": "af33ef30-a1ed-4a75-a230-06219b99eb07",
        "colab": {
          "base_uri": "https://localhost:8080/"
        }
      },
      "execution_count": null,
      "outputs": [
        {
          "output_type": "execute_result",
          "data": {
            "text/plain": [
              "(1.1830105956687689, -0.8681448348145282)"
            ]
          },
          "metadata": {},
          "execution_count": 117
        }
      ]
    },
    {
      "cell_type": "code",
      "source": [],
      "metadata": {
        "id": "0UiBlgzRFJmN"
      },
      "execution_count": null,
      "outputs": []
    }
  ]
}