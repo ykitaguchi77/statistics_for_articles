{
  "nbformat": 4,
  "nbformat_minor": 0,
  "metadata": {
    "colab": {
      "provenance": [],
      "authorship_tag": "ABX9TyNwQ7+aNPW8iz55iSY61Tgd",
      "include_colab_link": true
    },
    "kernelspec": {
      "name": "python3",
      "display_name": "Python 3"
    },
    "language_info": {
      "name": "python"
    }
  },
  "cells": [
    {
      "cell_type": "markdown",
      "metadata": {
        "id": "view-in-github",
        "colab_type": "text"
      },
      "source": [
        "<a href=\"https://colab.research.google.com/github/ykitaguchi77/statistics_for_articles/blob/main/Refractive_change_blepharoptosis_surgery.ipynb\" target=\"_parent\"><img src=\"https://colab.research.google.com/assets/colab-badge.svg\" alt=\"Open In Colab\"/></a>"
      ]
    },
    {
      "cell_type": "markdown",
      "source": [
        "#**Refractive change in blepharoptosis surgery**"
      ],
      "metadata": {
        "id": "OqObWQc1_T1U"
      }
    },
    {
      "cell_type": "markdown",
      "source": [
        "Todo:\n",
        "\n",
        "データがあるはずなのに欠損してしまっている行があるので原因究明要"
      ],
      "metadata": {
        "id": "Mi2zMhQ__rMp"
      }
    },
    {
      "cell_type": "code",
      "source": [],
      "metadata": {
        "id": "ys6u6O8g_p3y"
      },
      "execution_count": null,
      "outputs": []
    },
    {
      "cell_type": "code",
      "execution_count": 1,
      "metadata": {
        "colab": {
          "base_uri": "https://localhost:8080/"
        },
        "id": "Yup3T2Lay4gD",
        "outputId": "2561ad1b-0ffe-4c6c-d6f5-f4f357e48025"
      },
      "outputs": [
        {
          "output_type": "stream",
          "name": "stdout",
          "text": [
            "Mounted at /content/drive\n"
          ]
        }
      ],
      "source": [
        "from google.colab import drive\n",
        "drive.mount(\"/content/drive\")"
      ]
    },
    {
      "cell_type": "code",
      "source": [
        "pd.set_option('display.max_columns', 300)\n",
        "pd.set_option('display.max_rows', 300)"
      ],
      "metadata": {
        "id": "9nC8Dlyz7RBz"
      },
      "execution_count": 30,
      "outputs": []
    },
    {
      "cell_type": "code",
      "source": [
        "import pandas as pd\n",
        "\n",
        "xlsx_path = \"/content/drive/Shareddrives/岩崎Dr_IgG4 deulk/眼瞼下垂/眼瞼下垂.xlsx\"\n",
        "\n",
        "data = pd.read_excel(xlsx_path, header=1)\n",
        "\n",
        "# Display the first few rows of the dataframe and its columns to understand its structure\n",
        "data"
      ],
      "metadata": {
        "id": "nVb210bozJ73"
      },
      "execution_count": null,
      "outputs": []
    },
    {
      "cell_type": "code",
      "source": [
        "# Step 1: Filter rows where surgery is bilateral (手術側 == 'B')\n",
        "bilateral_cases = data[data['手術側'] == 'B'].copy()\n",
        "print(f\"Number of bilateral cases: {len(bilateral_cases)}\")\n",
        "\n",
        "# Step 2: Duplicate these rows for 'R' and 'L'\n",
        "right_cases = bilateral_cases.copy()\n",
        "left_cases = bilateral_cases.copy()\n",
        "\n",
        "# Assign 'R' and 'L' to the new surgery side columns\n",
        "right_cases.loc[:, '手術側'] = 'R'\n",
        "left_cases.loc[:, '手術側'] = 'L'\n",
        "\n",
        "# Combine the duplicated rows back into a single dataframe\n",
        "modified_bilateral_cases = pd.concat([right_cases, left_cases])\n",
        "\n",
        "# Step 3: Rename and reallocate columns containing 'R' or 'L' for bilateral cases\n",
        "for column in modified_bilateral_cases.columns:\n",
        "    if ' R' in column:\n",
        "        # Extract the base column name without ' R'\n",
        "        new_column_name = column.replace(' R', '')\n",
        "        # Copy data to a new column without side specification\n",
        "        modified_bilateral_cases.loc[:, new_column_name] = modified_bilateral_cases[column]\n",
        "        # Drop the original ' R' column\n",
        "        modified_bilateral_cases.drop(column, axis=1, inplace=True)\n",
        "    elif ' L' in column:\n",
        "        # Extract the base column name without ' L'\n",
        "        new_column_name = column.replace(' L', '')\n",
        "        # Copy data to a new column without side specification\n",
        "        modified_bilateral_cases.loc[:, new_column_name] = modified_bilateral_cases[column]\n",
        "        # Drop the original ' L' column\n",
        "        modified_bilateral_cases.drop(column, axis=1, inplace=True)\n",
        "\n",
        "# Step 4: Filter rows where surgery is unilateral (手術側 == 'R' or 'L')\n",
        "unilateral_cases = data[(data['手術側'] == 'R') | (data['手術側'] == 'L')].copy()\n",
        "print(f\"Number of unilateral cases: {len(unilateral_cases)}\")\n",
        "\n",
        "# Step 5: Rename and reallocate columns containing 'R' or 'L' for unilateral cases\n",
        "for column in unilateral_cases.columns:\n",
        "    if ' R' in column:\n",
        "        # Extract the base column name without ' R'\n",
        "        new_column_name = column.replace(' R', '')\n",
        "        # Copy data to a new column without side specification\n",
        "        unilateral_cases.loc[:, new_column_name] = unilateral_cases[column]\n",
        "        # Drop the original ' R' column\n",
        "        unilateral_cases.drop(column, axis=1, inplace=True)\n",
        "    elif ' L' in column:\n",
        "        # Extract the base column name without ' L'\n",
        "        new_column_name = column.replace(' L', '')\n",
        "        # Copy data to a new column without side specification\n",
        "        unilateral_cases.loc[:, new_column_name] = unilateral_cases[column]\n",
        "        # Drop the original ' L' column\n",
        "        unilateral_cases.drop(column, axis=1, inplace=True)\n",
        "\n",
        "# Step 6: Concatenate the modified bilateral and unilateral cases\n",
        "final_df = pd.concat([modified_bilateral_cases, unilateral_cases])\n",
        "\n",
        "# Display the first few rows to verify changes\n",
        "# final_df"
      ],
      "metadata": {
        "id": "1G_f1U18zRw8"
      },
      "execution_count": null,
      "outputs": []
    },
    {
      "cell_type": "code",
      "source": [
        "# Copy non-missing values from '波面post' to '波面4M'\n",
        "final_df.loc[final_df['波面post'].notna(), '波面4M'] = final_df.loc[final_df['波面post'].notna(), '波面post']\n",
        "\n",
        "# Copy non-missing values from 'AveK post' to 'AveK 3M'\n",
        "final_df.loc[final_df['AveK post'].notna(), 'AveK 3M'] = final_df.loc[final_df['AveK post'].notna(), 'AveK post']\n",
        "\n",
        "# Copy non-missing values from 'CYL post' to 'CYL 3M'\n",
        "final_df.loc[final_df['CYL post'].notna(), 'CYL 3M'] = final_df.loc[final_df['CYL post'].notna(), 'CYL post']\n",
        "\n",
        "# Copy non-missing values from 'angle post' to 'angle 3M'\n",
        "final_df.loc[final_df['angle post'].notna(), 'angle 3M'] = final_df.loc[final_df['angle post'].notna(), 'angle post']\n",
        "\n",
        "# Copy non-missing values from 'レフケラAVE post' to 'レフケラAVE 3～12M'\n",
        "final_df.loc[final_df['レフケラAVE post'].notna(), 'レフケラAVE 3～12M'] = final_df.loc[final_df['レフケラAVE post'].notna(), 'レフケラAVE post']\n",
        "\n",
        "# Copy non-missing values from 'レフケラCYL post' to 'レフケラCYL 3～12M'\n",
        "final_df.loc[final_df['レフケラCYL post'].notna(), 'レフケラCYL 3～12M'] = final_df.loc[final_df['レフケラCYL post'].notna(), 'レフケラCYL post']\n",
        "\n",
        "# Copy non-missing values from 'レフケラangle post' to 'レフケラangle 3～12M'\n",
        "final_df.loc[final_df['レフケラangle post'].notna(), 'レフケラangle 3～12M'] = final_df.loc[final_df['レフケラangle post'].notna(), 'レフケラangle post']\n",
        "\n",
        "# Drop the original 'post' columns\n",
        "columns_to_drop = [col for col in final_df.columns if 'post' in col]\n",
        "final_df.drop(columns=columns_to_drop, axis=1, inplace=True)\n",
        "\n",
        "# Display the first few rows to verify changes\n",
        "final_df"
      ],
      "metadata": {
        "id": "jXNzaNGX9zDk"
      },
      "execution_count": null,
      "outputs": []
    },
    {
      "cell_type": "code",
      "source": [
        "final_df.to_excel('output.xlsx', index=False)\n"
      ],
      "metadata": {
        "id": "Fb8lFR0bz-vy"
      },
      "execution_count": 48,
      "outputs": []
    },
    {
      "cell_type": "code",
      "source": [],
      "metadata": {
        "id": "qc9S9nxE3N49"
      },
      "execution_count": null,
      "outputs": []
    }
  ]
}