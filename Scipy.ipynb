{
  "nbformat": 4,
  "nbformat_minor": 0,
  "metadata": {
    "colab": {
      "name": "Untitled117.ipynb",
      "provenance": [],
      "authorship_tag": "ABX9TyPVQl4c/YSwK5yHCNksUpwM",
      "include_colab_link": true
    },
    "kernelspec": {
      "name": "python3",
      "display_name": "Python 3"
    },
    "language_info": {
      "name": "python"
    }
  },
  "cells": [
    {
      "cell_type": "markdown",
      "metadata": {
        "id": "view-in-github",
        "colab_type": "text"
      },
      "source": [
        "<a href=\"https://colab.research.google.com/github/ykitaguchi77/statistics_for_articles/blob/main/Scipy.ipynb\" target=\"_parent\"><img src=\"https://colab.research.google.com/assets/colab-badge.svg\" alt=\"Open In Colab\"/></a>"
      ]
    },
    {
      "cell_type": "markdown",
      "source": [
        "#**Calcurate confidence interval**"
      ],
      "metadata": {
        "id": "LbFl4MoTx9pS"
      }
    },
    {
      "cell_type": "code",
      "execution_count": 3,
      "metadata": {
        "id": "B83As61IxnxF"
      },
      "outputs": [],
      "source": [
        "import pandas as pd\n",
        "from scipy import stats\n",
        "import numpy as np"
      ]
    },
    {
      "cell_type": "code",
      "source": [
        "#数値のリスト\n",
        "data = [0.92, 0.93, 0.96, 0.8, 0.87]\n",
        "arr_1d = np.array(data)\n",
        "\n",
        "a = 0.95 #信頼水準。ここでは 95%。\n",
        "d = len(arr_1d)-1 #自由度 (= サンプルサイズ-1)\n",
        "m = arr_1d.mean() #標本平均\n",
        "s = stats.sem(arr_1d) #標準誤差。不偏分散から計算。\n",
        "\n",
        "#平均値の信頼区間を推定\n",
        "interval = stats.t.interval(alpha = a, df = d, loc = m, scale =s)\n",
        "\n",
        "print('average:{:.3g}'.format(m))\n",
        "print('confindence interval: {:.3g} to {:.3g}'.format(interval[0], interval[1]))"
      ],
      "metadata": {
        "colab": {
          "base_uri": "https://localhost:8080/"
        },
        "id": "txRGMs7pyHjx",
        "outputId": "442d1dad-8ec4-41fe-eb61-02ccc4570f4c"
      },
      "execution_count": 13,
      "outputs": [
        {
          "output_type": "stream",
          "name": "stdout",
          "text": [
            "average:0.896\n",
            "confindence interval: 0.818 to 0.974\n"
          ]
        }
      ]
    },
    {
      "cell_type": "code",
      "source": [
        ""
      ],
      "metadata": {
        "id": "-PrZSVS80ird"
      },
      "execution_count": null,
      "outputs": []
    }
  ]
}